{
 "cells": [
  {
   "cell_type": "markdown",
   "metadata": {},
   "source": [
    "# Datascience with Ericsson"
   ]
  },
  {
   "cell_type": "code",
   "execution_count": 1,
   "metadata": {},
   "outputs": [],
   "source": [
    "# help notebook find src module\n",
    "import sys\n",
    "\n",
    "sys.path.append(\".\")"
   ]
  },
  {
   "cell_type": "markdown",
   "metadata": {},
   "source": [
    "### Dokonaj konwersji dostępnych danych z drivetestów na DataFrame"
   ]
  },
  {
   "cell_type": "code",
   "execution_count": 2,
   "metadata": {},
   "outputs": [
    {
     "name": "stdout",
     "output_type": "stream",
     "text": [
      "<class 'pandas.core.frame.DataFrame'>\n",
      "Int64Index: 182 entries, 0 to 194\n",
      "Data columns (total 7 columns):\n",
      " #   Column       Non-Null Count  Dtype         \n",
      "---  ------       --------------  -----         \n",
      " 0   time         182 non-null    datetime64[ns]\n",
      " 1   latitude     182 non-null    float64       \n",
      " 2   longitude    182 non-null    float64       \n",
      " 3   accuracy     182 non-null    float64       \n",
      " 4   pci          182 non-null    object        \n",
      " 5   bts_cell_id  182 non-null    object        \n",
      " 6   lte          182 non-null    object        \n",
      "dtypes: datetime64[ns](1), float64(3), object(3)\n",
      "memory usage: 11.4+ KB\n"
     ]
    },
    {
     "data": {
      "text/html": [
       "<div>\n",
       "<style scoped>\n",
       "    .dataframe tbody tr th:only-of-type {\n",
       "        vertical-align: middle;\n",
       "    }\n",
       "\n",
       "    .dataframe tbody tr th {\n",
       "        vertical-align: top;\n",
       "    }\n",
       "\n",
       "    .dataframe thead th {\n",
       "        text-align: right;\n",
       "    }\n",
       "</style>\n",
       "<table border=\"1\" class=\"dataframe\">\n",
       "  <thead>\n",
       "    <tr style=\"text-align: right;\">\n",
       "      <th></th>\n",
       "      <th>time</th>\n",
       "      <th>latitude</th>\n",
       "      <th>longitude</th>\n",
       "      <th>accuracy</th>\n",
       "      <th>pci</th>\n",
       "      <th>bts_cell_id</th>\n",
       "      <th>lte</th>\n",
       "    </tr>\n",
       "  </thead>\n",
       "  <tbody>\n",
       "    <tr>\n",
       "      <th>0</th>\n",
       "      <td>2024-01-07 21:55:48</td>\n",
       "      <td>50.043976</td>\n",
       "      <td>19.955297</td>\n",
       "      <td>9.971</td>\n",
       "      <td>[19]</td>\n",
       "      <td>{260-06}</td>\n",
       "      <td>[{'signal': {'rssi': -65, 'rsrp': -103, 'rsrq'...</td>\n",
       "    </tr>\n",
       "    <tr>\n",
       "      <th>1</th>\n",
       "      <td>2024-01-07 21:55:58</td>\n",
       "      <td>50.043966</td>\n",
       "      <td>19.955407</td>\n",
       "      <td>17.131</td>\n",
       "      <td>[19]</td>\n",
       "      <td>{260-06}</td>\n",
       "      <td>[{'signal': {'rssi': -69, 'rsrp': -105, 'rsrq'...</td>\n",
       "    </tr>\n",
       "    <tr>\n",
       "      <th>2</th>\n",
       "      <td>2024-01-07 21:56:07</td>\n",
       "      <td>50.043881</td>\n",
       "      <td>19.955436</td>\n",
       "      <td>19.444</td>\n",
       "      <td>[19]</td>\n",
       "      <td>{260-06}</td>\n",
       "      <td>[{'signal': {'rssi': -59, 'rsrp': -93, 'rsrq':...</td>\n",
       "    </tr>\n",
       "    <tr>\n",
       "      <th>3</th>\n",
       "      <td>2024-01-07 21:56:18</td>\n",
       "      <td>50.043876</td>\n",
       "      <td>19.955529</td>\n",
       "      <td>21.244</td>\n",
       "      <td>[19]</td>\n",
       "      <td>{260-06}</td>\n",
       "      <td>[{'signal': {'rssi': -59, 'rsrp': -95, 'rsrq':...</td>\n",
       "    </tr>\n",
       "    <tr>\n",
       "      <th>4</th>\n",
       "      <td>2024-01-07 21:56:27</td>\n",
       "      <td>50.044069</td>\n",
       "      <td>19.956576</td>\n",
       "      <td>22.205</td>\n",
       "      <td>[214]</td>\n",
       "      <td>{260-06}</td>\n",
       "      <td>[{'signal': {'rssi': -55, 'rsrp': -88, 'rsrq':...</td>\n",
       "    </tr>\n",
       "    <tr>\n",
       "      <th>...</th>\n",
       "      <td>...</td>\n",
       "      <td>...</td>\n",
       "      <td>...</td>\n",
       "      <td>...</td>\n",
       "      <td>...</td>\n",
       "      <td>...</td>\n",
       "      <td>...</td>\n",
       "    </tr>\n",
       "    <tr>\n",
       "      <th>190</th>\n",
       "      <td>2024-01-07 22:35:47</td>\n",
       "      <td>50.043679</td>\n",
       "      <td>19.951091</td>\n",
       "      <td>8.644</td>\n",
       "      <td>[19]</td>\n",
       "      <td>{260-06}</td>\n",
       "      <td>[{'signal': {'rssi': -51, 'rsrp': -82, 'rsrq':...</td>\n",
       "    </tr>\n",
       "    <tr>\n",
       "      <th>191</th>\n",
       "      <td>2024-01-07 22:35:59</td>\n",
       "      <td>50.043561</td>\n",
       "      <td>19.951416</td>\n",
       "      <td>82.576</td>\n",
       "      <td>[19]</td>\n",
       "      <td>{260-06}</td>\n",
       "      <td>[{'signal': {'rssi': -63, 'rsrp': -100, 'rsrq'...</td>\n",
       "    </tr>\n",
       "    <tr>\n",
       "      <th>192</th>\n",
       "      <td>2024-01-07 22:36:07</td>\n",
       "      <td>50.043615</td>\n",
       "      <td>19.952135</td>\n",
       "      <td>12.576</td>\n",
       "      <td>[19]</td>\n",
       "      <td>{260-06}</td>\n",
       "      <td>[{'signal': {'rssi': -65, 'rsrp': -102, 'rsrq'...</td>\n",
       "    </tr>\n",
       "    <tr>\n",
       "      <th>193</th>\n",
       "      <td>2024-01-07 22:36:25</td>\n",
       "      <td>50.043734</td>\n",
       "      <td>19.953803</td>\n",
       "      <td>71.759</td>\n",
       "      <td>[19]</td>\n",
       "      <td>{260-06}</td>\n",
       "      <td>[{'signal': {'rssi': -57, 'rsrp': -93, 'rsrq':...</td>\n",
       "    </tr>\n",
       "    <tr>\n",
       "      <th>194</th>\n",
       "      <td>2024-01-07 22:36:48</td>\n",
       "      <td>50.043863</td>\n",
       "      <td>19.955056</td>\n",
       "      <td>26.422</td>\n",
       "      <td>[19]</td>\n",
       "      <td>{260-06}</td>\n",
       "      <td>[{'signal': {'rssi': -67, 'rsrp': -104, 'rsrq'...</td>\n",
       "    </tr>\n",
       "  </tbody>\n",
       "</table>\n",
       "<p>182 rows × 7 columns</p>\n",
       "</div>"
      ],
      "text/plain": [
       "                   time   latitude  longitude  accuracy    pci bts_cell_id  \\\n",
       "0   2024-01-07 21:55:48  50.043976  19.955297     9.971   [19]    {260-06}   \n",
       "1   2024-01-07 21:55:58  50.043966  19.955407    17.131   [19]    {260-06}   \n",
       "2   2024-01-07 21:56:07  50.043881  19.955436    19.444   [19]    {260-06}   \n",
       "3   2024-01-07 21:56:18  50.043876  19.955529    21.244   [19]    {260-06}   \n",
       "4   2024-01-07 21:56:27  50.044069  19.956576    22.205  [214]    {260-06}   \n",
       "..                  ...        ...        ...       ...    ...         ...   \n",
       "190 2024-01-07 22:35:47  50.043679  19.951091     8.644   [19]    {260-06}   \n",
       "191 2024-01-07 22:35:59  50.043561  19.951416    82.576   [19]    {260-06}   \n",
       "192 2024-01-07 22:36:07  50.043615  19.952135    12.576   [19]    {260-06}   \n",
       "193 2024-01-07 22:36:25  50.043734  19.953803    71.759   [19]    {260-06}   \n",
       "194 2024-01-07 22:36:48  50.043863  19.955056    26.422   [19]    {260-06}   \n",
       "\n",
       "                                                   lte  \n",
       "0    [{'signal': {'rssi': -65, 'rsrp': -103, 'rsrq'...  \n",
       "1    [{'signal': {'rssi': -69, 'rsrp': -105, 'rsrq'...  \n",
       "2    [{'signal': {'rssi': -59, 'rsrp': -93, 'rsrq':...  \n",
       "3    [{'signal': {'rssi': -59, 'rsrp': -95, 'rsrq':...  \n",
       "4    [{'signal': {'rssi': -55, 'rsrp': -88, 'rsrq':...  \n",
       "..                                                 ...  \n",
       "190  [{'signal': {'rssi': -51, 'rsrp': -82, 'rsrq':...  \n",
       "191  [{'signal': {'rssi': -63, 'rsrp': -100, 'rsrq'...  \n",
       "192  [{'signal': {'rssi': -65, 'rsrp': -102, 'rsrq'...  \n",
       "193  [{'signal': {'rssi': -57, 'rsrp': -93, 'rsrq':...  \n",
       "194  [{'signal': {'rssi': -67, 'rsrp': -104, 'rsrq'...  \n",
       "\n",
       "[182 rows x 7 columns]"
      ]
     },
     "execution_count": 2,
     "metadata": {},
     "output_type": "execute_result"
    }
   ],
   "source": [
    "from src.cell_pooler import CellPooler\n",
    "from src.helper import read_all_data\n",
    "\n",
    "raw_data = read_all_data(\"./data/new/with_pci\")\n",
    "# raw_data = read_all_data(\"./data/krakow\")\n",
    "extr = CellPooler(raw_data)\n",
    "\n",
    "data = extr.points\n",
    "data.info()\n",
    "data"
   ]
  },
  {
   "cell_type": "markdown",
   "metadata": {},
   "source": [
    "### Zwizualizuj punkty pomiarowe na interaktywnej mapie"
   ]
  },
  {
   "cell_type": "code",
   "execution_count": 3,
   "metadata": {},
   "outputs": [
    {
     "data": {
      "application/vnd.plotly.v1+json": {
       "config": {
        "plotlyServerURL": "https://plot.ly"
       },
       "data": [
        {
         "hovertemplate": "latitude=%{lat}<br>longitude=%{lon}<extra></extra>",
         "lat": [
          50.0439756,
          50.0439658,
          50.043881,
          50.0438764,
          50.044069,
          50.0438588,
          50.0438061,
          50.0436816,
          50.0435971,
          50.0421791,
          50.0418007,
          50.0423506,
          50.0424699,
          50.0426539,
          50.0423635,
          50.0433273,
          50.0442152,
          50.0449612,
          50.04487,
          50.0446543,
          50.0446952,
          50.0448849,
          50.0445756,
          50.0439235,
          50.0438055,
          50.0437732,
          50.0436412,
          50.0435203,
          50.0433589,
          50.0432567,
          50.0436194,
          50.0439087,
          50.0440777,
          50.0443209,
          50.0444139,
          50.044571,
          50.0447841,
          50.0447945,
          50.0449784,
          50.0450376,
          50.0450607,
          50.0452455,
          50.044267,
          50.0443409,
          50.0448242,
          50.0450921,
          50.0451001,
          50.04528,
          50.045946,
          50.0469147,
          50.0470795,
          50.0473473,
          50.0473378,
          50.0473393,
          50.0470486,
          50.0465491,
          50.0461799,
          50.0459317,
          50.0459123,
          50.046435,
          50.0466263,
          50.0470735,
          50.0473061,
          50.0473144,
          50.0472931,
          50.0471157,
          50.0467281,
          50.0463486,
          50.0459292,
          50.0455916,
          50.045435,
          50.0451006,
          50.0448292,
          50.0445052,
          50.0442764,
          50.0444969,
          50.0450498,
          50.0452101,
          50.0451379,
          50.0451097,
          50.0449852,
          50.044394,
          50.0434267,
          50.0425345,
          50.0418475,
          50.0421735,
          50.0425242,
          50.042881,
          50.0432599,
          50.0439236,
          50.0441504,
          50.0440468,
          50.0436041,
          50.0433375,
          50.043165,
          50.0430665,
          50.0429553,
          50.0431456,
          50.0439442,
          50.0441666,
          50.0444907,
          50.0447623,
          50.044707,
          50.0447066,
          50.044702,
          50.0445644,
          50.0442888,
          50.0437851,
          50.0439563,
          50.0443156,
          50.0438077,
          50.0441173,
          50.0448271,
          50.0448998,
          50.0447133,
          50.0451365,
          50.0453443,
          50.0453934,
          50.0450589,
          50.0448946,
          50.0448785,
          50.044735,
          50.044439,
          50.0439012,
          50.0435834,
          50.0434433,
          50.043664,
          50.0440133,
          50.0441923,
          50.0440001,
          50.0439727,
          50.0440242,
          50.0446493,
          50.0451678,
          50.0459479,
          50.0461599,
          50.046168,
          50.046342,
          50.0465704,
          50.0467767,
          50.0470189,
          50.0472805,
          50.0476201,
          50.0471907,
          50.0468147,
          50.0463109,
          50.0460361,
          50.0455022,
          50.0455206,
          50.0455189,
          50.0455259,
          50.0455226,
          50.0455162,
          50.045518,
          50.0455155,
          50.0455234,
          50.0455249,
          50.0455322,
          50.0453692,
          50.0451611,
          50.0450178,
          50.0457554,
          50.0457747,
          50.0456242,
          50.0470848,
          50.0469892,
          50.0468415,
          50.046698,
          50.0465479,
          50.0463672,
          50.0459365,
          50.0459438,
          50.0459402,
          50.0455168,
          50.0452925,
          50.0450095,
          50.0446932,
          50.0436792,
          50.0435607,
          50.0436148,
          50.0437342,
          50.0438627
         ],
         "legendgroup": "",
         "lon": [
          19.9552971,
          19.955407,
          19.9554362,
          19.9555291,
          19.9565761,
          19.9576786,
          19.9580451,
          19.9588542,
          19.9593014,
          19.9609912,
          19.9628379,
          19.9646071,
          19.9643192,
          19.9639957,
          19.9611108,
          19.9599164,
          19.9582089,
          19.9574153,
          19.9586771,
          19.9598041,
          19.9614937,
          19.9621964,
          19.9609392,
          19.9614751,
          19.9614804,
          19.9613428,
          19.9609091,
          19.9605888,
          19.9601662,
          19.9598751,
          19.9595133,
          19.959915,
          19.9603239,
          19.9609223,
          19.9612321,
          19.9611991,
          19.9606298,
          19.9595939,
          19.958227,
          19.9579305,
          19.9571518,
          19.9569724,
          19.9578677,
          19.9572921,
          19.9562091,
          19.9559137,
          19.9559169,
          19.9557433,
          19.955392,
          19.9551673,
          19.9551112,
          19.9553623,
          19.956333,
          19.957592,
          19.9578008,
          19.9577583,
          19.9576821,
          19.9572933,
          19.9568124,
          19.9566905,
          19.9566189,
          19.9566439,
          19.956633,
          19.9571688,
          19.9576396,
          19.9578534,
          19.9578005,
          19.9577382,
          19.9577801,
          19.9578088,
          19.957776,
          19.9577941,
          19.9574917,
          19.9577754,
          19.957904,
          19.9571302,
          19.9559543,
          19.9542266,
          19.9525952,
          19.9508881,
          19.9495293,
          19.9481694,
          19.9462349,
          19.944548,
          19.9432492,
          19.9429001,
          19.942478,
          19.9420322,
          19.9414344,
          19.9414921,
          19.9429862,
          19.9440192,
          19.9445168,
          19.9448311,
          19.944119,
          19.9433193,
          19.9425382,
          19.9415962,
          19.941523,
          19.9430528,
          19.9446608,
          19.9455492,
          19.9453606,
          19.9453673,
          19.9453711,
          19.9458321,
          19.9462527,
          19.9470109,
          19.94795,
          19.9486241,
          19.9492811,
          19.9497305,
          19.9496567,
          19.9496404,
          19.9488735,
          19.9478505,
          19.9473141,
          19.9469416,
          19.9460873,
          19.9458103,
          19.9458117,
          19.9455778,
          19.9445056,
          19.9441782,
          19.9445516,
          19.944872,
          19.94535,
          19.945975,
          19.9463876,
          19.9467891,
          19.9468273,
          19.9473934,
          19.9486155,
          19.9481076,
          19.9481708,
          19.9488924,
          19.9490433,
          19.949473,
          19.9499699,
          19.9504418,
          19.9510331,
          19.9519524,
          19.9532717,
          19.953957,
          19.9540694,
          19.9548899,
          19.9552007,
          19.9553938,
          19.9553881,
          19.9553983,
          19.9554035,
          19.9553921,
          19.9553982,
          19.9553921,
          19.9553886,
          19.9553757,
          19.9553758,
          19.9553779,
          19.9552241,
          19.9541911,
          19.9524927,
          19.9524956,
          19.9530084,
          19.9537649,
          19.9538225,
          19.9531405,
          19.9523408,
          19.9516901,
          19.951052,
          19.9503848,
          19.9493751,
          19.9503859,
          19.9506742,
          19.9509373,
          19.9509675,
          19.9509618,
          19.951012,
          19.9510907,
          19.9514161,
          19.9521351,
          19.9538031,
          19.9550561
         ],
         "marker": {
          "color": "#636efa"
         },
         "mode": "markers",
         "name": "",
         "showlegend": false,
         "subplot": "mapbox",
         "type": "scattermapbox"
        }
       ],
       "layout": {
        "geo": {
         "fitbounds": "locations"
        },
        "legend": {
         "tracegroupgap": 0
        },
        "mapbox": {
         "center": {
          "lat": 50.0448672945055,
          "lon": 19.953038426923076
         },
         "domain": {
          "x": [
           0,
           1
          ],
          "y": [
           0,
           1
          ]
         },
         "style": "open-street-map",
         "zoom": 8
        },
        "margin": {
         "b": 0,
         "l": 0,
         "r": 0,
         "t": 0
        },
        "template": {
         "data": {
          "bar": [
           {
            "error_x": {
             "color": "#2a3f5f"
            },
            "error_y": {
             "color": "#2a3f5f"
            },
            "marker": {
             "line": {
              "color": "#E5ECF6",
              "width": 0.5
             },
             "pattern": {
              "fillmode": "overlay",
              "size": 10,
              "solidity": 0.2
             }
            },
            "type": "bar"
           }
          ],
          "barpolar": [
           {
            "marker": {
             "line": {
              "color": "#E5ECF6",
              "width": 0.5
             },
             "pattern": {
              "fillmode": "overlay",
              "size": 10,
              "solidity": 0.2
             }
            },
            "type": "barpolar"
           }
          ],
          "carpet": [
           {
            "aaxis": {
             "endlinecolor": "#2a3f5f",
             "gridcolor": "white",
             "linecolor": "white",
             "minorgridcolor": "white",
             "startlinecolor": "#2a3f5f"
            },
            "baxis": {
             "endlinecolor": "#2a3f5f",
             "gridcolor": "white",
             "linecolor": "white",
             "minorgridcolor": "white",
             "startlinecolor": "#2a3f5f"
            },
            "type": "carpet"
           }
          ],
          "choropleth": [
           {
            "colorbar": {
             "outlinewidth": 0,
             "ticks": ""
            },
            "type": "choropleth"
           }
          ],
          "contour": [
           {
            "colorbar": {
             "outlinewidth": 0,
             "ticks": ""
            },
            "colorscale": [
             [
              0,
              "#0d0887"
             ],
             [
              0.1111111111111111,
              "#46039f"
             ],
             [
              0.2222222222222222,
              "#7201a8"
             ],
             [
              0.3333333333333333,
              "#9c179e"
             ],
             [
              0.4444444444444444,
              "#bd3786"
             ],
             [
              0.5555555555555556,
              "#d8576b"
             ],
             [
              0.6666666666666666,
              "#ed7953"
             ],
             [
              0.7777777777777778,
              "#fb9f3a"
             ],
             [
              0.8888888888888888,
              "#fdca26"
             ],
             [
              1,
              "#f0f921"
             ]
            ],
            "type": "contour"
           }
          ],
          "contourcarpet": [
           {
            "colorbar": {
             "outlinewidth": 0,
             "ticks": ""
            },
            "type": "contourcarpet"
           }
          ],
          "heatmap": [
           {
            "colorbar": {
             "outlinewidth": 0,
             "ticks": ""
            },
            "colorscale": [
             [
              0,
              "#0d0887"
             ],
             [
              0.1111111111111111,
              "#46039f"
             ],
             [
              0.2222222222222222,
              "#7201a8"
             ],
             [
              0.3333333333333333,
              "#9c179e"
             ],
             [
              0.4444444444444444,
              "#bd3786"
             ],
             [
              0.5555555555555556,
              "#d8576b"
             ],
             [
              0.6666666666666666,
              "#ed7953"
             ],
             [
              0.7777777777777778,
              "#fb9f3a"
             ],
             [
              0.8888888888888888,
              "#fdca26"
             ],
             [
              1,
              "#f0f921"
             ]
            ],
            "type": "heatmap"
           }
          ],
          "heatmapgl": [
           {
            "colorbar": {
             "outlinewidth": 0,
             "ticks": ""
            },
            "colorscale": [
             [
              0,
              "#0d0887"
             ],
             [
              0.1111111111111111,
              "#46039f"
             ],
             [
              0.2222222222222222,
              "#7201a8"
             ],
             [
              0.3333333333333333,
              "#9c179e"
             ],
             [
              0.4444444444444444,
              "#bd3786"
             ],
             [
              0.5555555555555556,
              "#d8576b"
             ],
             [
              0.6666666666666666,
              "#ed7953"
             ],
             [
              0.7777777777777778,
              "#fb9f3a"
             ],
             [
              0.8888888888888888,
              "#fdca26"
             ],
             [
              1,
              "#f0f921"
             ]
            ],
            "type": "heatmapgl"
           }
          ],
          "histogram": [
           {
            "marker": {
             "pattern": {
              "fillmode": "overlay",
              "size": 10,
              "solidity": 0.2
             }
            },
            "type": "histogram"
           }
          ],
          "histogram2d": [
           {
            "colorbar": {
             "outlinewidth": 0,
             "ticks": ""
            },
            "colorscale": [
             [
              0,
              "#0d0887"
             ],
             [
              0.1111111111111111,
              "#46039f"
             ],
             [
              0.2222222222222222,
              "#7201a8"
             ],
             [
              0.3333333333333333,
              "#9c179e"
             ],
             [
              0.4444444444444444,
              "#bd3786"
             ],
             [
              0.5555555555555556,
              "#d8576b"
             ],
             [
              0.6666666666666666,
              "#ed7953"
             ],
             [
              0.7777777777777778,
              "#fb9f3a"
             ],
             [
              0.8888888888888888,
              "#fdca26"
             ],
             [
              1,
              "#f0f921"
             ]
            ],
            "type": "histogram2d"
           }
          ],
          "histogram2dcontour": [
           {
            "colorbar": {
             "outlinewidth": 0,
             "ticks": ""
            },
            "colorscale": [
             [
              0,
              "#0d0887"
             ],
             [
              0.1111111111111111,
              "#46039f"
             ],
             [
              0.2222222222222222,
              "#7201a8"
             ],
             [
              0.3333333333333333,
              "#9c179e"
             ],
             [
              0.4444444444444444,
              "#bd3786"
             ],
             [
              0.5555555555555556,
              "#d8576b"
             ],
             [
              0.6666666666666666,
              "#ed7953"
             ],
             [
              0.7777777777777778,
              "#fb9f3a"
             ],
             [
              0.8888888888888888,
              "#fdca26"
             ],
             [
              1,
              "#f0f921"
             ]
            ],
            "type": "histogram2dcontour"
           }
          ],
          "mesh3d": [
           {
            "colorbar": {
             "outlinewidth": 0,
             "ticks": ""
            },
            "type": "mesh3d"
           }
          ],
          "parcoords": [
           {
            "line": {
             "colorbar": {
              "outlinewidth": 0,
              "ticks": ""
             }
            },
            "type": "parcoords"
           }
          ],
          "pie": [
           {
            "automargin": true,
            "type": "pie"
           }
          ],
          "scatter": [
           {
            "fillpattern": {
             "fillmode": "overlay",
             "size": 10,
             "solidity": 0.2
            },
            "type": "scatter"
           }
          ],
          "scatter3d": [
           {
            "line": {
             "colorbar": {
              "outlinewidth": 0,
              "ticks": ""
             }
            },
            "marker": {
             "colorbar": {
              "outlinewidth": 0,
              "ticks": ""
             }
            },
            "type": "scatter3d"
           }
          ],
          "scattercarpet": [
           {
            "marker": {
             "colorbar": {
              "outlinewidth": 0,
              "ticks": ""
             }
            },
            "type": "scattercarpet"
           }
          ],
          "scattergeo": [
           {
            "marker": {
             "colorbar": {
              "outlinewidth": 0,
              "ticks": ""
             }
            },
            "type": "scattergeo"
           }
          ],
          "scattergl": [
           {
            "marker": {
             "colorbar": {
              "outlinewidth": 0,
              "ticks": ""
             }
            },
            "type": "scattergl"
           }
          ],
          "scattermapbox": [
           {
            "marker": {
             "colorbar": {
              "outlinewidth": 0,
              "ticks": ""
             }
            },
            "type": "scattermapbox"
           }
          ],
          "scatterpolar": [
           {
            "marker": {
             "colorbar": {
              "outlinewidth": 0,
              "ticks": ""
             }
            },
            "type": "scatterpolar"
           }
          ],
          "scatterpolargl": [
           {
            "marker": {
             "colorbar": {
              "outlinewidth": 0,
              "ticks": ""
             }
            },
            "type": "scatterpolargl"
           }
          ],
          "scatterternary": [
           {
            "marker": {
             "colorbar": {
              "outlinewidth": 0,
              "ticks": ""
             }
            },
            "type": "scatterternary"
           }
          ],
          "surface": [
           {
            "colorbar": {
             "outlinewidth": 0,
             "ticks": ""
            },
            "colorscale": [
             [
              0,
              "#0d0887"
             ],
             [
              0.1111111111111111,
              "#46039f"
             ],
             [
              0.2222222222222222,
              "#7201a8"
             ],
             [
              0.3333333333333333,
              "#9c179e"
             ],
             [
              0.4444444444444444,
              "#bd3786"
             ],
             [
              0.5555555555555556,
              "#d8576b"
             ],
             [
              0.6666666666666666,
              "#ed7953"
             ],
             [
              0.7777777777777778,
              "#fb9f3a"
             ],
             [
              0.8888888888888888,
              "#fdca26"
             ],
             [
              1,
              "#f0f921"
             ]
            ],
            "type": "surface"
           }
          ],
          "table": [
           {
            "cells": {
             "fill": {
              "color": "#EBF0F8"
             },
             "line": {
              "color": "white"
             }
            },
            "header": {
             "fill": {
              "color": "#C8D4E3"
             },
             "line": {
              "color": "white"
             }
            },
            "type": "table"
           }
          ]
         },
         "layout": {
          "annotationdefaults": {
           "arrowcolor": "#2a3f5f",
           "arrowhead": 0,
           "arrowwidth": 1
          },
          "autotypenumbers": "strict",
          "coloraxis": {
           "colorbar": {
            "outlinewidth": 0,
            "ticks": ""
           }
          },
          "colorscale": {
           "diverging": [
            [
             0,
             "#8e0152"
            ],
            [
             0.1,
             "#c51b7d"
            ],
            [
             0.2,
             "#de77ae"
            ],
            [
             0.3,
             "#f1b6da"
            ],
            [
             0.4,
             "#fde0ef"
            ],
            [
             0.5,
             "#f7f7f7"
            ],
            [
             0.6,
             "#e6f5d0"
            ],
            [
             0.7,
             "#b8e186"
            ],
            [
             0.8,
             "#7fbc41"
            ],
            [
             0.9,
             "#4d9221"
            ],
            [
             1,
             "#276419"
            ]
           ],
           "sequential": [
            [
             0,
             "#0d0887"
            ],
            [
             0.1111111111111111,
             "#46039f"
            ],
            [
             0.2222222222222222,
             "#7201a8"
            ],
            [
             0.3333333333333333,
             "#9c179e"
            ],
            [
             0.4444444444444444,
             "#bd3786"
            ],
            [
             0.5555555555555556,
             "#d8576b"
            ],
            [
             0.6666666666666666,
             "#ed7953"
            ],
            [
             0.7777777777777778,
             "#fb9f3a"
            ],
            [
             0.8888888888888888,
             "#fdca26"
            ],
            [
             1,
             "#f0f921"
            ]
           ],
           "sequentialminus": [
            [
             0,
             "#0d0887"
            ],
            [
             0.1111111111111111,
             "#46039f"
            ],
            [
             0.2222222222222222,
             "#7201a8"
            ],
            [
             0.3333333333333333,
             "#9c179e"
            ],
            [
             0.4444444444444444,
             "#bd3786"
            ],
            [
             0.5555555555555556,
             "#d8576b"
            ],
            [
             0.6666666666666666,
             "#ed7953"
            ],
            [
             0.7777777777777778,
             "#fb9f3a"
            ],
            [
             0.8888888888888888,
             "#fdca26"
            ],
            [
             1,
             "#f0f921"
            ]
           ]
          },
          "colorway": [
           "#636efa",
           "#EF553B",
           "#00cc96",
           "#ab63fa",
           "#FFA15A",
           "#19d3f3",
           "#FF6692",
           "#B6E880",
           "#FF97FF",
           "#FECB52"
          ],
          "font": {
           "color": "#2a3f5f"
          },
          "geo": {
           "bgcolor": "white",
           "lakecolor": "white",
           "landcolor": "#E5ECF6",
           "showlakes": true,
           "showland": true,
           "subunitcolor": "white"
          },
          "hoverlabel": {
           "align": "left"
          },
          "hovermode": "closest",
          "mapbox": {
           "style": "light"
          },
          "paper_bgcolor": "white",
          "plot_bgcolor": "#E5ECF6",
          "polar": {
           "angularaxis": {
            "gridcolor": "white",
            "linecolor": "white",
            "ticks": ""
           },
           "bgcolor": "#E5ECF6",
           "radialaxis": {
            "gridcolor": "white",
            "linecolor": "white",
            "ticks": ""
           }
          },
          "scene": {
           "xaxis": {
            "backgroundcolor": "#E5ECF6",
            "gridcolor": "white",
            "gridwidth": 2,
            "linecolor": "white",
            "showbackground": true,
            "ticks": "",
            "zerolinecolor": "white"
           },
           "yaxis": {
            "backgroundcolor": "#E5ECF6",
            "gridcolor": "white",
            "gridwidth": 2,
            "linecolor": "white",
            "showbackground": true,
            "ticks": "",
            "zerolinecolor": "white"
           },
           "zaxis": {
            "backgroundcolor": "#E5ECF6",
            "gridcolor": "white",
            "gridwidth": 2,
            "linecolor": "white",
            "showbackground": true,
            "ticks": "",
            "zerolinecolor": "white"
           }
          },
          "shapedefaults": {
           "line": {
            "color": "#2a3f5f"
           }
          },
          "ternary": {
           "aaxis": {
            "gridcolor": "white",
            "linecolor": "white",
            "ticks": ""
           },
           "baxis": {
            "gridcolor": "white",
            "linecolor": "white",
            "ticks": ""
           },
           "bgcolor": "#E5ECF6",
           "caxis": {
            "gridcolor": "white",
            "linecolor": "white",
            "ticks": ""
           }
          },
          "title": {
           "x": 0.05
          },
          "xaxis": {
           "automargin": true,
           "gridcolor": "white",
           "linecolor": "white",
           "ticks": "",
           "title": {
            "standoff": 15
           },
           "zerolinecolor": "white",
           "zerolinewidth": 2
          },
          "yaxis": {
           "automargin": true,
           "gridcolor": "white",
           "linecolor": "white",
           "ticks": "",
           "title": {
            "standoff": 15
           },
           "zerolinecolor": "white",
           "zerolinewidth": 2
          }
         }
        }
       }
      }
     },
     "metadata": {},
     "output_type": "display_data"
    }
   ],
   "source": [
    "import plotly.express as px\n",
    "\n",
    "# mapbox_token: str = os.environ.get(\"MAPBOX_TOKEN\")\n",
    "\n",
    "fig = px.scatter_mapbox(\n",
    "    data,\n",
    "    lat=\"latitude\",\n",
    "    lon=\"longitude\",\n",
    ")\n",
    "fig.update_geos(fitbounds=\"locations\")\n",
    "fig.update_layout(\n",
    "    margin={\"r\": 0, \"t\": 0, \"l\": 0, \"b\": 0},\n",
    "    mapbox={\n",
    "        \"style\": \"open-street-map\",\n",
    "        # \"accesstoken\": mapbox_token, # open-street-map does not require a token\n",
    "    },\n",
    ")\n",
    "fig.show()"
   ]
  },
  {
   "cell_type": "markdown",
   "metadata": {},
   "source": [
    "### Kryteria doboru danych\n",
    "\n",
    "Przyklady:\n",
    "- Wyświetl wszystkie punkty dla PCI X\n",
    "- Wyświetl wszystkie punkty dla MNC Y\n",
    "- Wyświetl wszystkie punkty dla PCI X, pokolorowane wg RSRP/RSRQ/RSSI/TA\n",
    "- Wyświetl wszystkie punkty dla EARFCN Z"
   ]
  },
  {
   "cell_type": "code",
   "execution_count": 4,
   "metadata": {},
   "outputs": [],
   "source": [
    "# TODO: add filters in filters.py\n"
   ]
  },
  {
   "cell_type": "markdown",
   "metadata": {},
   "source": [
    "### Mimika eventów measurementowych\n",
    "\n",
    "- Zaimplementuj funkcjonalność, która wygeneruje DataFrame zawierającą potencjalne eventy measurementowe i zwizualizuje ją\n",
    "- Zaimplementuj sterowalne parametry eventów\n",
    "- Ogranicz się do eventów A1-A5"
   ]
  },
  {
   "cell_type": "code",
   "execution_count": 19,
   "metadata": {},
   "outputs": [
    {
     "data": {
      "text/html": [
       "<div>\n",
       "<style scoped>\n",
       "    .dataframe tbody tr th:only-of-type {\n",
       "        vertical-align: middle;\n",
       "    }\n",
       "\n",
       "    .dataframe tbody tr th {\n",
       "        vertical-align: top;\n",
       "    }\n",
       "\n",
       "    .dataframe thead th {\n",
       "        text-align: right;\n",
       "    }\n",
       "</style>\n",
       "<table border=\"1\" class=\"dataframe\">\n",
       "  <thead>\n",
       "    <tr style=\"text-align: right;\">\n",
       "      <th></th>\n",
       "      <th>longitude</th>\n",
       "      <th>latitude</th>\n",
       "      <th>event</th>\n",
       "      <th>rsrp</th>\n",
       "      <th>rsrq</th>\n",
       "      <th>pci</th>\n",
       "      <th>mnc</th>\n",
       "      <th>ta</th>\n",
       "      <th>rssi</th>\n",
       "    </tr>\n",
       "  </thead>\n",
       "  <tbody>\n",
       "    <tr>\n",
       "      <th>0</th>\n",
       "      <td>19.955436</td>\n",
       "      <td>50.043881</td>\n",
       "      <td>A4</td>\n",
       "      <td>-93</td>\n",
       "      <td>-14</td>\n",
       "      <td>19</td>\n",
       "      <td>6</td>\n",
       "      <td>2147483647</td>\n",
       "      <td>-59</td>\n",
       "    </tr>\n",
       "    <tr>\n",
       "      <th>1</th>\n",
       "      <td>19.955529</td>\n",
       "      <td>50.043876</td>\n",
       "      <td>A3</td>\n",
       "      <td>-95</td>\n",
       "      <td>-15</td>\n",
       "      <td>19</td>\n",
       "      <td>6</td>\n",
       "      <td>2</td>\n",
       "      <td>-59</td>\n",
       "    </tr>\n",
       "    <tr>\n",
       "      <th>2</th>\n",
       "      <td>19.955529</td>\n",
       "      <td>50.043876</td>\n",
       "      <td>A4</td>\n",
       "      <td>-95</td>\n",
       "      <td>-15</td>\n",
       "      <td>19</td>\n",
       "      <td>6</td>\n",
       "      <td>2</td>\n",
       "      <td>-59</td>\n",
       "    </tr>\n",
       "    <tr>\n",
       "      <th>3</th>\n",
       "      <td>19.956576</td>\n",
       "      <td>50.044069</td>\n",
       "      <td>A4</td>\n",
       "      <td>-88</td>\n",
       "      <td>-14</td>\n",
       "      <td>214</td>\n",
       "      <td>6</td>\n",
       "      <td>2147483647</td>\n",
       "      <td>-55</td>\n",
       "    </tr>\n",
       "    <tr>\n",
       "      <th>4</th>\n",
       "      <td>19.957679</td>\n",
       "      <td>50.043859</td>\n",
       "      <td>A4</td>\n",
       "      <td>-90</td>\n",
       "      <td>-9</td>\n",
       "      <td>214</td>\n",
       "      <td>6</td>\n",
       "      <td>2</td>\n",
       "      <td>-61</td>\n",
       "    </tr>\n",
       "    <tr>\n",
       "      <th>...</th>\n",
       "      <td>...</td>\n",
       "      <td>...</td>\n",
       "      <td>...</td>\n",
       "      <td>...</td>\n",
       "      <td>...</td>\n",
       "      <td>...</td>\n",
       "      <td>...</td>\n",
       "      <td>...</td>\n",
       "      <td>...</td>\n",
       "    </tr>\n",
       "    <tr>\n",
       "      <th>188</th>\n",
       "      <td>19.953765</td>\n",
       "      <td>50.045624</td>\n",
       "      <td>A4</td>\n",
       "      <td>-99</td>\n",
       "      <td>-17</td>\n",
       "      <td>18</td>\n",
       "      <td>6</td>\n",
       "      <td>2147483647</td>\n",
       "      <td>-61</td>\n",
       "    </tr>\n",
       "    <tr>\n",
       "      <th>189</th>\n",
       "      <td>19.953823</td>\n",
       "      <td>50.047085</td>\n",
       "      <td>A4</td>\n",
       "      <td>-99</td>\n",
       "      <td>-14</td>\n",
       "      <td>18</td>\n",
       "      <td>6</td>\n",
       "      <td>3</td>\n",
       "      <td>-63</td>\n",
       "    </tr>\n",
       "    <tr>\n",
       "      <th>190</th>\n",
       "      <td>19.953140</td>\n",
       "      <td>50.046989</td>\n",
       "      <td>A4</td>\n",
       "      <td>-100</td>\n",
       "      <td>-14</td>\n",
       "      <td>18</td>\n",
       "      <td>6</td>\n",
       "      <td>2147483647</td>\n",
       "      <td>-65</td>\n",
       "    </tr>\n",
       "    <tr>\n",
       "      <th>191</th>\n",
       "      <td>19.952341</td>\n",
       "      <td>50.046841</td>\n",
       "      <td>A4</td>\n",
       "      <td>-95</td>\n",
       "      <td>-12</td>\n",
       "      <td>18</td>\n",
       "      <td>6</td>\n",
       "      <td>2</td>\n",
       "      <td>-61</td>\n",
       "    </tr>\n",
       "    <tr>\n",
       "      <th>192</th>\n",
       "      <td>19.951052</td>\n",
       "      <td>50.046548</td>\n",
       "      <td>A4</td>\n",
       "      <td>-92</td>\n",
       "      <td>-11</td>\n",
       "      <td>18</td>\n",
       "      <td>6</td>\n",
       "      <td>2</td>\n",
       "      <td>-59</td>\n",
       "    </tr>\n",
       "  </tbody>\n",
       "</table>\n",
       "<p>193 rows × 9 columns</p>\n",
       "</div>"
      ],
      "text/plain": [
       "     longitude   latitude event  rsrp  rsrq  pci  mnc          ta  rssi\n",
       "0    19.955436  50.043881    A4   -93   -14   19    6  2147483647   -59\n",
       "1    19.955529  50.043876    A3   -95   -15   19    6           2   -59\n",
       "2    19.955529  50.043876    A4   -95   -15   19    6           2   -59\n",
       "3    19.956576  50.044069    A4   -88   -14  214    6  2147483647   -55\n",
       "4    19.957679  50.043859    A4   -90    -9  214    6           2   -61\n",
       "..         ...        ...   ...   ...   ...  ...  ...         ...   ...\n",
       "188  19.953765  50.045624    A4   -99   -17   18    6  2147483647   -61\n",
       "189  19.953823  50.047085    A4   -99   -14   18    6           3   -63\n",
       "190  19.953140  50.046989    A4  -100   -14   18    6  2147483647   -65\n",
       "191  19.952341  50.046841    A4   -95   -12   18    6           2   -61\n",
       "192  19.951052  50.046548    A4   -92   -11   18    6           2   -59\n",
       "\n",
       "[193 rows x 9 columns]"
      ]
     },
     "execution_count": 19,
     "metadata": {},
     "output_type": "execute_result"
    }
   ],
   "source": [
    "import pandas as pd\n",
    "\n",
    "# params to detect events\n",
    "rsrp_th = [-140, -44]\n",
    "rsrq_th = [-19.5, -3]\n",
    "offset = [-15, 15]\n",
    "\n",
    "events_data = []\n",
    "size = data.shape[0]\n",
    "for i, row in data.iterrows():\n",
    "    cells = row[\"lte\"]\n",
    "    if cells and 0 < i < size:\n",
    "        # present cells - ta should be close to 0, ex. 0-10, mcc and mnc should exist\n",
    "        scell = None\n",
    "        for scell_index, cell_info in enumerate(cells):\n",
    "            if cell_info[\"identity\"][\"mMnc\"] is not None:\n",
    "                scell = cell_info\n",
    "                break\n",
    "\n",
    "        # previous cells\n",
    "        prev_scell = None\n",
    "        prev_cells = data.iloc[i - 1][\"lte\"]\n",
    "        for cell_info in prev_cells:\n",
    "            if cell_info[\"identity\"][\"mMnc\"] is not None:\n",
    "                prev_scell = cell_info\n",
    "                break\n",
    "\n",
    "        assert scell is not None\n",
    "        assert prev_scell is not None\n",
    "\n",
    "        scell_rsrp = scell[\"signal\"][\"rsrp\"]\n",
    "        scell_rsrq = scell[\"signal\"][\"rsrq\"]\n",
    "        pscell_rsrp = prev_scell[\"signal\"][\"rsrp\"]\n",
    "        pscell_rsrq = prev_scell[\"signal\"][\"rsrq\"]\n",
    "\n",
    "        def is_a1_event():\n",
    "            return ((scell_rsrp > rsrp_th[0]) and (pscell_rsrp < rsrp_th[0])) or (\n",
    "                (scell_rsrq > rsrq_th[0]) and (pscell_rsrq < rsrq_th[0])\n",
    "            )\n",
    "\n",
    "        def is_a2_event():\n",
    "            return ((scell_rsrp < rsrp_th[0]) and (pscell_rsrp > rsrp_th[0])) or (\n",
    "                (scell_rsrq < rsrq_th[0]) and (pscell_rsrq > rsrq_th[0])\n",
    "            )\n",
    "\n",
    "        events_detected: list[str] = []\n",
    "        if is_a1_event():\n",
    "            events_detected.append(\"A1\")\n",
    "\n",
    "        if is_a2_event():\n",
    "            events_detected.append(\"A2\")\n",
    "\n",
    "        for j, ncell in enumerate(cells):\n",
    "            if j == scell_index:  # shouldn't check serving cell against itself\n",
    "                continue\n",
    "\n",
    "            ncell_rsrp = ncell[\"signal\"][\"rsrp\"]\n",
    "            ncell_rsrq = ncell[\"signal\"][\"rsrq\"]\n",
    "\n",
    "            def is_a3_event():\n",
    "                return (ncell_rsrp >= (scell_rsrp + offset[1])) or (\n",
    "                    ncell_rsrq >= (scell_rsrq + offset[1])\n",
    "                )\n",
    "\n",
    "            def is_a4_event():\n",
    "                return (ncell_rsrp >= rsrp_th[0]) or (ncell_rsrq >= rsrq_th[0])\n",
    "\n",
    "            def is_a5_event():\n",
    "                return ((scell_rsrp < rsrp_th[0]) and (ncell_rsrp > rsrp_th[0])) or (\n",
    "                    (scell_rsrq < rsrq_th[0]) and (ncell_rsrq > rsrq_th[0])\n",
    "                )\n",
    "\n",
    "            if is_a3_event():\n",
    "                events_detected.append(\"A3\")\n",
    "\n",
    "            if is_a4_event():\n",
    "                events_detected.append(\"A4\")\n",
    "\n",
    "            if is_a5_event():\n",
    "                events_detected.append(\"A5\")\n",
    "\n",
    "        for ev in set(events_detected):\n",
    "            events_data.append(\n",
    "                [\n",
    "                    row[\"longitude\"],\n",
    "                    row[\"latitude\"],\n",
    "                    ev,\n",
    "                    row[\"lte\"][scell_index][\"signal\"][\"rsrp\"],\n",
    "                    row[\"lte\"][scell_index][\"signal\"][\"rsrq\"],\n",
    "                    row[\"lte\"][scell_index][\"identity\"][\"pci\"],\n",
    "                    row[\"lte\"][scell_index][\"identity\"][\"mMnc\"],\n",
    "                    row[\"lte\"][scell_index][\"signal\"][\"ta\"],\n",
    "                    row[\"lte\"][scell_index][\"signal\"][\"rssi\"],\n",
    "                ]\n",
    "            )\n",
    "\n",
    "events_data = pd.DataFrame(\n",
    "    events_data,\n",
    "    columns=[\n",
    "        \"longitude\",\n",
    "        \"latitude\",\n",
    "        \"event\",\n",
    "        \"rsrp\",\n",
    "        \"rsrq\",\n",
    "        \"pci\",\n",
    "        \"mnc\",\n",
    "        \"ta\",\n",
    "        \"rssi\",\n",
    "    ],\n",
    ")\n",
    "events_data"
   ]
  },
  {
   "cell_type": "code",
   "execution_count": 20,
   "metadata": {},
   "outputs": [
    {
     "data": {
      "application/vnd.plotly.v1+json": {
       "config": {
        "plotlyServerURL": "https://plot.ly"
       },
       "data": [
        {
         "customdata": [
          [
           19.9559137,
           50.0450921,
           -84,
           -14,
           "A1"
          ],
          [
           19.9551673,
           50.0469147,
           -87,
           -16,
           "A1"
          ],
          [
           19.9553623,
           50.0473473,
           -101,
           -17,
           "A1"
          ],
          [
           19.956333,
           50.0473378,
           -92,
           -17,
           "A1"
          ],
          [
           19.949473,
           50.046342,
           -87,
           -14,
           "A1"
          ],
          [
           19.9519524,
           50.0472805,
           -99,
           -17,
           "A1"
          ]
         ],
         "hovertemplate": "<b>%{hovertext}</b><br><br>latitude=%{customdata[1]}<br>longitude=%{customdata[0]}<br>rsrp=%{customdata[2]}<br>rsrq=%{customdata[3]}<extra></extra>",
         "hovertext": [
          "A1",
          "A1",
          "A1",
          "A1",
          "A1",
          "A1"
         ],
         "lat": [
          50.0450921,
          50.0469147,
          50.0473473,
          50.0473378,
          50.046342,
          50.0472805
         ],
         "legendgroup": "A1",
         "lon": [
          19.9559137,
          19.9551673,
          19.9553623,
          19.956333,
          19.949473,
          19.9519524
         ],
         "marker": {
          "color": "black"
         },
         "mode": "markers",
         "name": "A1",
         "showlegend": true,
         "subplot": "mapbox",
         "type": "scattermapbox"
        },
        {
         "customdata": [
          [
           19.9578008,
           50.0470486,
           -101,
           -20,
           "A2"
          ],
          [
           19.9568124,
           50.0459123,
           -107,
           -20,
           "A2"
          ],
          [
           19.9566189,
           50.0466263,
           -107,
           -20,
           "A2"
          ],
          [
           19.957776,
           50.045435,
           -106,
           -20,
           "A2"
          ],
          [
           19.9553938,
           50.0455022,
           -102,
           -20,
           "A2"
          ],
          [
           19.9553921,
           50.0455226,
           -104,
           -20,
           "A2"
          ]
         ],
         "hovertemplate": "<b>%{hovertext}</b><br><br>latitude=%{customdata[1]}<br>longitude=%{customdata[0]}<br>rsrp=%{customdata[2]}<br>rsrq=%{customdata[3]}<extra></extra>",
         "hovertext": [
          "A2",
          "A2",
          "A2",
          "A2",
          "A2",
          "A2"
         ],
         "lat": [
          50.0470486,
          50.0459123,
          50.0466263,
          50.045435,
          50.0455022,
          50.0455226
         ],
         "legendgroup": "A2",
         "lon": [
          19.9578008,
          19.9568124,
          19.9566189,
          19.957776,
          19.9553938,
          19.9553921
         ],
         "marker": {
          "color": "blue"
         },
         "mode": "markers",
         "name": "A2",
         "showlegend": true,
         "subplot": "mapbox",
         "type": "scattermapbox"
        },
        {
         "customdata": [
          [
           19.9555291,
           50.0438764,
           -95,
           -15,
           "A3"
          ],
          [
           19.9566189,
           50.0466263,
           -107,
           -20,
           "A3"
          ],
          [
           19.9566439,
           50.0470735,
           -109,
           -20,
           "A3"
          ],
          [
           19.9508881,
           50.0451097,
           -100,
           -11,
           "A3"
          ],
          [
           19.9462349,
           50.0434267,
           -85,
           -13,
           "A3"
          ],
          [
           19.941523,
           50.0439442,
           -83,
           -11,
           "A3"
          ],
          [
           19.9453711,
           50.044702,
           -84,
           -19,
           "A3"
          ],
          [
           19.9496567,
           50.0448271,
           -87,
           -12,
           "A3"
          ],
          [
           19.9496404,
           50.0448998,
           -92,
           -13,
           "A3"
          ],
          [
           19.9481708,
           50.0459479,
           -87,
           -12,
           "A3"
          ],
          [
           19.949473,
           50.046342,
           -87,
           -14,
           "A3"
          ],
          [
           19.9553921,
           50.0455226,
           -104,
           -20,
           "A3"
          ]
         ],
         "hovertemplate": "<b>%{hovertext}</b><br><br>latitude=%{customdata[1]}<br>longitude=%{customdata[0]}<br>rsrp=%{customdata[2]}<br>rsrq=%{customdata[3]}<extra></extra>",
         "hovertext": [
          "A3",
          "A3",
          "A3",
          "A3",
          "A3",
          "A3",
          "A3",
          "A3",
          "A3",
          "A3",
          "A3",
          "A3"
         ],
         "lat": [
          50.0438764,
          50.0466263,
          50.0470735,
          50.0451097,
          50.0434267,
          50.0439442,
          50.044702,
          50.0448271,
          50.0448998,
          50.0459479,
          50.046342,
          50.0455226
         ],
         "legendgroup": "A3",
         "lon": [
          19.9555291,
          19.9566189,
          19.9566439,
          19.9508881,
          19.9462349,
          19.941523,
          19.9453711,
          19.9496567,
          19.9496404,
          19.9481708,
          19.949473,
          19.9553921
         ],
         "marker": {
          "color": "forestgreen"
         },
         "mode": "markers",
         "name": "A3",
         "showlegend": true,
         "subplot": "mapbox",
         "type": "scattermapbox"
        },
        {
         "customdata": [
          [
           19.9554362,
           50.043881,
           -93,
           -14,
           "A4"
          ],
          [
           19.9555291,
           50.0438764,
           -95,
           -15,
           "A4"
          ],
          [
           19.9565761,
           50.044069,
           -88,
           -14,
           "A4"
          ],
          [
           19.9576786,
           50.0438588,
           -90,
           -9,
           "A4"
          ],
          [
           19.9580451,
           50.0438061,
           -89,
           -9,
           "A4"
          ],
          [
           19.9588542,
           50.0436816,
           -85,
           -8,
           "A4"
          ],
          [
           19.9593014,
           50.0435971,
           -81,
           -7,
           "A4"
          ],
          [
           19.9609912,
           50.0421791,
           -72,
           -9,
           "A4"
          ],
          [
           19.9628379,
           50.0418007,
           -70,
           -12,
           "A4"
          ],
          [
           19.9646071,
           50.0423506,
           -73,
           -12,
           "A4"
          ],
          [
           19.9643192,
           50.0424699,
           -74,
           -12,
           "A4"
          ],
          [
           19.9639957,
           50.0426539,
           -72,
           -9,
           "A4"
          ],
          [
           19.9611108,
           50.0423635,
           -73,
           -10,
           "A4"
          ],
          [
           19.9599164,
           50.0433273,
           -88,
           -13,
           "A4"
          ],
          [
           19.9582089,
           50.0442152,
           -101,
           -15,
           "A4"
          ],
          [
           19.9574153,
           50.0449612,
           -103,
           -18,
           "A4"
          ],
          [
           19.9586771,
           50.04487,
           -97,
           -15,
           "A4"
          ],
          [
           19.9598041,
           50.0446543,
           -95,
           -13,
           "A4"
          ],
          [
           19.9614937,
           50.0446952,
           -72,
           -7,
           "A4"
          ],
          [
           19.9621964,
           50.0448849,
           -83,
           -9,
           "A4"
          ],
          [
           19.9609392,
           50.0445756,
           -84,
           -10,
           "A4"
          ],
          [
           19.9614751,
           50.0439235,
           -85,
           -11,
           "A4"
          ],
          [
           19.9614804,
           50.0438055,
           -89,
           -10,
           "A4"
          ],
          [
           19.9613428,
           50.0437732,
           -89,
           -10,
           "A4"
          ],
          [
           19.9609091,
           50.0436412,
           -99,
           -13,
           "A4"
          ],
          [
           19.9605888,
           50.0435203,
           -90,
           -7,
           "A4"
          ],
          [
           19.9601662,
           50.0433589,
           -88,
           -8,
           "A4"
          ],
          [
           19.9598751,
           50.0432567,
           -89,
           -8,
           "A4"
          ],
          [
           19.9595133,
           50.0436194,
           -94,
           -9,
           "A4"
          ],
          [
           19.959915,
           50.0439087,
           -96,
           -12,
           "A4"
          ],
          [
           19.9603239,
           50.0440777,
           -88,
           -9,
           "A4"
          ],
          [
           19.9609223,
           50.0443209,
           -89,
           -9,
           "A4"
          ],
          [
           19.9612321,
           50.0444139,
           -82,
           -8,
           "A4"
          ],
          [
           19.9611991,
           50.044571,
           -78,
           -8,
           "A4"
          ],
          [
           19.9606298,
           50.0447841,
           -101,
           -13,
           "A4"
          ],
          [
           19.9595939,
           50.0447945,
           -108,
           -17,
           "A4"
          ],
          [
           19.958227,
           50.0449784,
           -106,
           -16,
           "A4"
          ],
          [
           19.9579305,
           50.0450376,
           -106,
           -17,
           "A4"
          ],
          [
           19.9571518,
           50.0450607,
           -92,
           -16,
           "A4"
          ],
          [
           19.9569724,
           50.0452455,
           -90,
           -15,
           "A4"
          ],
          [
           19.9578677,
           50.044267,
           -100,
           -14,
           "A4"
          ],
          [
           19.9562091,
           50.0448242,
           -105,
           -17,
           "A4"
          ],
          [
           19.9559137,
           50.0450921,
           -84,
           -14,
           "A4"
          ],
          [
           19.9559169,
           50.0451001,
           -90,
           -17,
           "A4"
          ],
          [
           19.9557433,
           50.04528,
           -89,
           -15,
           "A4"
          ],
          [
           19.955392,
           50.045946,
           -89,
           -18,
           "A4"
          ],
          [
           19.9551673,
           50.0469147,
           -87,
           -16,
           "A4"
          ],
          [
           19.9551112,
           50.0470795,
           -96,
           -14,
           "A4"
          ],
          [
           19.9553623,
           50.0473473,
           -101,
           -17,
           "A4"
          ],
          [
           19.956333,
           50.0473378,
           -92,
           -17,
           "A4"
          ],
          [
           19.957592,
           50.0473393,
           -96,
           -19,
           "A4"
          ],
          [
           19.9578008,
           50.0470486,
           -101,
           -20,
           "A4"
          ],
          [
           19.9577583,
           50.0465491,
           -100,
           -16,
           "A4"
          ],
          [
           19.9576821,
           50.0461799,
           -100,
           -16,
           "A4"
          ],
          [
           19.9572933,
           50.0459317,
           -109,
           -18,
           "A4"
          ],
          [
           19.9568124,
           50.0459123,
           -107,
           -20,
           "A4"
          ],
          [
           19.9566905,
           50.046435,
           -102,
           -18,
           "A4"
          ],
          [
           19.9566189,
           50.0466263,
           -107,
           -20,
           "A4"
          ],
          [
           19.9566439,
           50.0470735,
           -109,
           -20,
           "A4"
          ],
          [
           19.956633,
           50.0473061,
           -89,
           -14,
           "A4"
          ],
          [
           19.9571688,
           50.0473144,
           -87,
           -15,
           "A4"
          ],
          [
           19.9576396,
           50.0472931,
           -95,
           -17,
           "A4"
          ],
          [
           19.9578534,
           50.0471157,
           -96,
           -15,
           "A4"
          ],
          [
           19.9578005,
           50.0467281,
           -99,
           -15,
           "A4"
          ],
          [
           19.9577382,
           50.0463486,
           -100,
           -16,
           "A4"
          ],
          [
           19.9577801,
           50.0459292,
           -108,
           -17,
           "A4"
          ],
          [
           19.9578088,
           50.0455916,
           -105,
           -16,
           "A4"
          ],
          [
           19.957776,
           50.045435,
           -106,
           -20,
           "A4"
          ],
          [
           19.9577941,
           50.0451006,
           -92,
           -15,
           "A4"
          ],
          [
           19.9574917,
           50.0448292,
           -91,
           -16,
           "A4"
          ],
          [
           19.9577754,
           50.0445052,
           -98,
           -14,
           "A4"
          ],
          [
           19.957904,
           50.0442764,
           -98,
           -13,
           "A4"
          ],
          [
           19.9571302,
           50.0444969,
           -90,
           -14,
           "A4"
          ],
          [
           19.9559543,
           50.0450498,
           -103,
           -17,
           "A4"
          ],
          [
           19.9542266,
           50.0452101,
           -82,
           -13,
           "A4"
          ],
          [
           19.9525952,
           50.0451379,
           -99,
           -12,
           "A4"
          ],
          [
           19.9508881,
           50.0451097,
           -100,
           -11,
           "A4"
          ],
          [
           19.9495293,
           50.0449852,
           -94,
           -14,
           "A4"
          ],
          [
           19.9481694,
           50.044394,
           -61,
           -11,
           "A4"
          ],
          [
           19.9462349,
           50.0434267,
           -85,
           -13,
           "A4"
          ],
          [
           19.944548,
           50.0425345,
           -72,
           -10,
           "A4"
          ],
          [
           19.9432492,
           50.0418475,
           -79,
           -13,
           "A4"
          ],
          [
           19.9429001,
           50.0421735,
           -88,
           -12,
           "A4"
          ],
          [
           19.942478,
           50.0425242,
           -84,
           -13,
           "A4"
          ],
          [
           19.9420322,
           50.042881,
           -85,
           -14,
           "A4"
          ],
          [
           19.9414344,
           50.0432599,
           -77,
           -8,
           "A4"
          ],
          [
           19.9414921,
           50.0439236,
           -76,
           -9,
           "A4"
          ],
          [
           19.9429862,
           50.0441504,
           -85,
           -15,
           "A4"
          ],
          [
           19.9440192,
           50.0440468,
           -76,
           -13,
           "A4"
          ],
          [
           19.9445168,
           50.0436041,
           -81,
           -13,
           "A4"
          ],
          [
           19.9448311,
           50.0433375,
           -86,
           -12,
           "A4"
          ],
          [
           19.944119,
           50.043165,
           -83,
           -13,
           "A4"
          ],
          [
           19.9433193,
           50.0430665,
           -83,
           -14,
           "A4"
          ],
          [
           19.9425382,
           50.0429553,
           -79,
           -10,
           "A4"
          ],
          [
           19.9415962,
           50.0431456,
           -78,
           -11,
           "A4"
          ],
          [
           19.941523,
           50.0439442,
           -83,
           -11,
           "A4"
          ],
          [
           19.9430528,
           50.0441666,
           -84,
           -15,
           "A4"
          ],
          [
           19.9446608,
           50.0444907,
           -83,
           -12,
           "A4"
          ],
          [
           19.9455492,
           50.0447623,
           -71,
           -11,
           "A4"
          ],
          [
           19.9453606,
           50.044707,
           -72,
           -11,
           "A4"
          ],
          [
           19.9453673,
           50.0447066,
           -73,
           -12,
           "A4"
          ],
          [
           19.9453711,
           50.044702,
           -84,
           -19,
           "A4"
          ],
          [
           19.9458321,
           50.0445644,
           -78,
           -13,
           "A4"
          ],
          [
           19.9462527,
           50.0442888,
           -77,
           -15,
           "A4"
          ],
          [
           19.9470109,
           50.0437851,
           -86,
           -17,
           "A4"
          ],
          [
           19.94795,
           50.0439563,
           -70,
           -10,
           "A4"
          ],
          [
           19.9486241,
           50.0443156,
           -77,
           -17,
           "A4"
          ],
          [
           19.9492811,
           50.0438077,
           -83,
           -13,
           "A4"
          ],
          [
           19.9496567,
           50.0448271,
           -87,
           -12,
           "A4"
          ],
          [
           19.9496404,
           50.0448998,
           -92,
           -13,
           "A4"
          ],
          [
           19.9488735,
           50.0447133,
           -93,
           -17,
           "A4"
          ],
          [
           19.9478505,
           50.0451365,
           -80,
           -16,
           "A4"
          ],
          [
           19.9473141,
           50.0453443,
           -90,
           -18,
           "A4"
          ],
          [
           19.9469416,
           50.0453934,
           -79,
           -11,
           "A4"
          ],
          [
           19.9460873,
           50.0450589,
           -82,
           -14,
           "A4"
          ],
          [
           19.9458103,
           50.0448946,
           -80,
           -12,
           "A4"
          ],
          [
           19.9458117,
           50.0448785,
           -75,
           -12,
           "A4"
          ],
          [
           19.9455778,
           50.044735,
           -78,
           -15,
           "A4"
          ],
          [
           19.9445056,
           50.044439,
           -76,
           -13,
           "A4"
          ],
          [
           19.9441782,
           50.0439012,
           -77,
           -13,
           "A4"
          ],
          [
           19.9445516,
           50.0435834,
           -77,
           -12,
           "A4"
          ],
          [
           19.944872,
           50.0434433,
           -88,
           -15,
           "A4"
          ],
          [
           19.94535,
           50.043664,
           -88,
           -15,
           "A4"
          ],
          [
           19.945975,
           50.0440133,
           -82,
           -14,
           "A4"
          ],
          [
           19.9463876,
           50.0441923,
           -81,
           -15,
           "A4"
          ],
          [
           19.9467891,
           50.0440001,
           -84,
           -17,
           "A4"
          ],
          [
           19.9468273,
           50.0439727,
           -84,
           -16,
           "A4"
          ],
          [
           19.9486155,
           50.0446493,
           -84,
           -17,
           "A4"
          ],
          [
           19.9481076,
           50.0451678,
           -87,
           -19,
           "A4"
          ],
          [
           19.9481708,
           50.0459479,
           -87,
           -12,
           "A4"
          ],
          [
           19.9488924,
           50.0461599,
           -81,
           -10,
           "A4"
          ],
          [
           19.9490433,
           50.046168,
           -85,
           -15,
           "A4"
          ],
          [
           19.949473,
           50.046342,
           -87,
           -14,
           "A4"
          ],
          [
           19.9499699,
           50.0465704,
           -87,
           -16,
           "A4"
          ],
          [
           19.9504418,
           50.0467767,
           -86,
           -15,
           "A4"
          ],
          [
           19.9510331,
           50.0470189,
           -99,
           -18,
           "A4"
          ],
          [
           19.9519524,
           50.0472805,
           -99,
           -17,
           "A4"
          ],
          [
           19.9532717,
           50.0476201,
           -96,
           -15,
           "A4"
          ],
          [
           19.953957,
           50.0471907,
           -97,
           -14,
           "A4"
          ],
          [
           19.9540694,
           50.0468147,
           -94,
           -15,
           "A4"
          ],
          [
           19.9548899,
           50.0463109,
           -97,
           -16,
           "A4"
          ],
          [
           19.9552007,
           50.0460361,
           -102,
           -17,
           "A4"
          ],
          [
           19.9553938,
           50.0455022,
           -102,
           -20,
           "A4"
          ],
          [
           19.9553881,
           50.0455206,
           -88,
           -14,
           "A4"
          ],
          [
           19.9553983,
           50.0455189,
           -89,
           -15,
           "A4"
          ],
          [
           19.9554035,
           50.0455259,
           -89,
           -15,
           "A4"
          ],
          [
           19.9553921,
           50.0455226,
           -104,
           -20,
           "A4"
          ],
          [
           19.9553982,
           50.0455162,
           -89,
           -15,
           "A4"
          ],
          [
           19.9553921,
           50.045518,
           -89,
           -15,
           "A4"
          ],
          [
           19.9553886,
           50.0455155,
           -88,
           -15,
           "A4"
          ],
          [
           19.9553757,
           50.0455234,
           -88,
           -14,
           "A4"
          ],
          [
           19.9553758,
           50.0455249,
           -88,
           -14,
           "A4"
          ],
          [
           19.9553779,
           50.0455322,
           -89,
           -14,
           "A4"
          ],
          [
           19.9552241,
           50.0453692,
           -89,
           -16,
           "A4"
          ],
          [
           19.9541911,
           50.0451611,
           -96,
           -15,
           "A4"
          ],
          [
           19.9524927,
           50.0450178,
           -93,
           -16,
           "A4"
          ],
          [
           19.9530084,
           50.0457747,
           -101,
           -16,
           "A4"
          ],
          [
           19.9537649,
           50.0456242,
           -99,
           -17,
           "A4"
          ],
          [
           19.9538225,
           50.0470848,
           -99,
           -14,
           "A4"
          ],
          [
           19.9531405,
           50.0469892,
           -100,
           -14,
           "A4"
          ],
          [
           19.9523408,
           50.0468415,
           -95,
           -12,
           "A4"
          ],
          [
           19.951052,
           50.0465479,
           -92,
           -11,
           "A4"
          ]
         ],
         "hovertemplate": "<b>%{hovertext}</b><br><br>latitude=%{customdata[1]}<br>longitude=%{customdata[0]}<br>rsrp=%{customdata[2]}<br>rsrq=%{customdata[3]}<extra></extra>",
         "hovertext": [
          "A4",
          "A4",
          "A4",
          "A4",
          "A4",
          "A4",
          "A4",
          "A4",
          "A4",
          "A4",
          "A4",
          "A4",
          "A4",
          "A4",
          "A4",
          "A4",
          "A4",
          "A4",
          "A4",
          "A4",
          "A4",
          "A4",
          "A4",
          "A4",
          "A4",
          "A4",
          "A4",
          "A4",
          "A4",
          "A4",
          "A4",
          "A4",
          "A4",
          "A4",
          "A4",
          "A4",
          "A4",
          "A4",
          "A4",
          "A4",
          "A4",
          "A4",
          "A4",
          "A4",
          "A4",
          "A4",
          "A4",
          "A4",
          "A4",
          "A4",
          "A4",
          "A4",
          "A4",
          "A4",
          "A4",
          "A4",
          "A4",
          "A4",
          "A4",
          "A4",
          "A4",
          "A4",
          "A4",
          "A4",
          "A4",
          "A4",
          "A4",
          "A4",
          "A4",
          "A4",
          "A4",
          "A4",
          "A4",
          "A4",
          "A4",
          "A4",
          "A4",
          "A4",
          "A4",
          "A4",
          "A4",
          "A4",
          "A4",
          "A4",
          "A4",
          "A4",
          "A4",
          "A4",
          "A4",
          "A4",
          "A4",
          "A4",
          "A4",
          "A4",
          "A4",
          "A4",
          "A4",
          "A4",
          "A4",
          "A4",
          "A4",
          "A4",
          "A4",
          "A4",
          "A4",
          "A4",
          "A4",
          "A4",
          "A4",
          "A4",
          "A4",
          "A4",
          "A4",
          "A4",
          "A4",
          "A4",
          "A4",
          "A4",
          "A4",
          "A4",
          "A4",
          "A4",
          "A4",
          "A4",
          "A4",
          "A4",
          "A4",
          "A4",
          "A4",
          "A4",
          "A4",
          "A4",
          "A4",
          "A4",
          "A4",
          "A4",
          "A4",
          "A4",
          "A4",
          "A4",
          "A4",
          "A4",
          "A4",
          "A4",
          "A4",
          "A4",
          "A4",
          "A4",
          "A4",
          "A4",
          "A4",
          "A4",
          "A4",
          "A4",
          "A4",
          "A4",
          "A4",
          "A4",
          "A4",
          "A4",
          "A4",
          "A4"
         ],
         "lat": [
          50.043881,
          50.0438764,
          50.044069,
          50.0438588,
          50.0438061,
          50.0436816,
          50.0435971,
          50.0421791,
          50.0418007,
          50.0423506,
          50.0424699,
          50.0426539,
          50.0423635,
          50.0433273,
          50.0442152,
          50.0449612,
          50.04487,
          50.0446543,
          50.0446952,
          50.0448849,
          50.0445756,
          50.0439235,
          50.0438055,
          50.0437732,
          50.0436412,
          50.0435203,
          50.0433589,
          50.0432567,
          50.0436194,
          50.0439087,
          50.0440777,
          50.0443209,
          50.0444139,
          50.044571,
          50.0447841,
          50.0447945,
          50.0449784,
          50.0450376,
          50.0450607,
          50.0452455,
          50.044267,
          50.0448242,
          50.0450921,
          50.0451001,
          50.04528,
          50.045946,
          50.0469147,
          50.0470795,
          50.0473473,
          50.0473378,
          50.0473393,
          50.0470486,
          50.0465491,
          50.0461799,
          50.0459317,
          50.0459123,
          50.046435,
          50.0466263,
          50.0470735,
          50.0473061,
          50.0473144,
          50.0472931,
          50.0471157,
          50.0467281,
          50.0463486,
          50.0459292,
          50.0455916,
          50.045435,
          50.0451006,
          50.0448292,
          50.0445052,
          50.0442764,
          50.0444969,
          50.0450498,
          50.0452101,
          50.0451379,
          50.0451097,
          50.0449852,
          50.044394,
          50.0434267,
          50.0425345,
          50.0418475,
          50.0421735,
          50.0425242,
          50.042881,
          50.0432599,
          50.0439236,
          50.0441504,
          50.0440468,
          50.0436041,
          50.0433375,
          50.043165,
          50.0430665,
          50.0429553,
          50.0431456,
          50.0439442,
          50.0441666,
          50.0444907,
          50.0447623,
          50.044707,
          50.0447066,
          50.044702,
          50.0445644,
          50.0442888,
          50.0437851,
          50.0439563,
          50.0443156,
          50.0438077,
          50.0448271,
          50.0448998,
          50.0447133,
          50.0451365,
          50.0453443,
          50.0453934,
          50.0450589,
          50.0448946,
          50.0448785,
          50.044735,
          50.044439,
          50.0439012,
          50.0435834,
          50.0434433,
          50.043664,
          50.0440133,
          50.0441923,
          50.0440001,
          50.0439727,
          50.0446493,
          50.0451678,
          50.0459479,
          50.0461599,
          50.046168,
          50.046342,
          50.0465704,
          50.0467767,
          50.0470189,
          50.0472805,
          50.0476201,
          50.0471907,
          50.0468147,
          50.0463109,
          50.0460361,
          50.0455022,
          50.0455206,
          50.0455189,
          50.0455259,
          50.0455226,
          50.0455162,
          50.045518,
          50.0455155,
          50.0455234,
          50.0455249,
          50.0455322,
          50.0453692,
          50.0451611,
          50.0450178,
          50.0457747,
          50.0456242,
          50.0470848,
          50.0469892,
          50.0468415,
          50.0465479
         ],
         "legendgroup": "A4",
         "lon": [
          19.9554362,
          19.9555291,
          19.9565761,
          19.9576786,
          19.9580451,
          19.9588542,
          19.9593014,
          19.9609912,
          19.9628379,
          19.9646071,
          19.9643192,
          19.9639957,
          19.9611108,
          19.9599164,
          19.9582089,
          19.9574153,
          19.9586771,
          19.9598041,
          19.9614937,
          19.9621964,
          19.9609392,
          19.9614751,
          19.9614804,
          19.9613428,
          19.9609091,
          19.9605888,
          19.9601662,
          19.9598751,
          19.9595133,
          19.959915,
          19.9603239,
          19.9609223,
          19.9612321,
          19.9611991,
          19.9606298,
          19.9595939,
          19.958227,
          19.9579305,
          19.9571518,
          19.9569724,
          19.9578677,
          19.9562091,
          19.9559137,
          19.9559169,
          19.9557433,
          19.955392,
          19.9551673,
          19.9551112,
          19.9553623,
          19.956333,
          19.957592,
          19.9578008,
          19.9577583,
          19.9576821,
          19.9572933,
          19.9568124,
          19.9566905,
          19.9566189,
          19.9566439,
          19.956633,
          19.9571688,
          19.9576396,
          19.9578534,
          19.9578005,
          19.9577382,
          19.9577801,
          19.9578088,
          19.957776,
          19.9577941,
          19.9574917,
          19.9577754,
          19.957904,
          19.9571302,
          19.9559543,
          19.9542266,
          19.9525952,
          19.9508881,
          19.9495293,
          19.9481694,
          19.9462349,
          19.944548,
          19.9432492,
          19.9429001,
          19.942478,
          19.9420322,
          19.9414344,
          19.9414921,
          19.9429862,
          19.9440192,
          19.9445168,
          19.9448311,
          19.944119,
          19.9433193,
          19.9425382,
          19.9415962,
          19.941523,
          19.9430528,
          19.9446608,
          19.9455492,
          19.9453606,
          19.9453673,
          19.9453711,
          19.9458321,
          19.9462527,
          19.9470109,
          19.94795,
          19.9486241,
          19.9492811,
          19.9496567,
          19.9496404,
          19.9488735,
          19.9478505,
          19.9473141,
          19.9469416,
          19.9460873,
          19.9458103,
          19.9458117,
          19.9455778,
          19.9445056,
          19.9441782,
          19.9445516,
          19.944872,
          19.94535,
          19.945975,
          19.9463876,
          19.9467891,
          19.9468273,
          19.9486155,
          19.9481076,
          19.9481708,
          19.9488924,
          19.9490433,
          19.949473,
          19.9499699,
          19.9504418,
          19.9510331,
          19.9519524,
          19.9532717,
          19.953957,
          19.9540694,
          19.9548899,
          19.9552007,
          19.9553938,
          19.9553881,
          19.9553983,
          19.9554035,
          19.9553921,
          19.9553982,
          19.9553921,
          19.9553886,
          19.9553757,
          19.9553758,
          19.9553779,
          19.9552241,
          19.9541911,
          19.9524927,
          19.9530084,
          19.9537649,
          19.9538225,
          19.9531405,
          19.9523408,
          19.951052
         ],
         "marker": {
          "color": "red"
         },
         "mode": "markers",
         "name": "A4",
         "showlegend": true,
         "subplot": "mapbox",
         "type": "scattermapbox"
        },
        {
         "customdata": [
          [
           19.9578008,
           50.0470486,
           -101,
           -20,
           "A5"
          ],
          [
           19.9568124,
           50.0459123,
           -107,
           -20,
           "A5"
          ],
          [
           19.9566189,
           50.0466263,
           -107,
           -20,
           "A5"
          ],
          [
           19.9566439,
           50.0470735,
           -109,
           -20,
           "A5"
          ],
          [
           19.957776,
           50.045435,
           -106,
           -20,
           "A5"
          ],
          [
           19.9553938,
           50.0455022,
           -102,
           -20,
           "A5"
          ],
          [
           19.9553921,
           50.0455226,
           -104,
           -20,
           "A5"
          ]
         ],
         "hovertemplate": "<b>%{hovertext}</b><br><br>latitude=%{customdata[1]}<br>longitude=%{customdata[0]}<br>rsrp=%{customdata[2]}<br>rsrq=%{customdata[3]}<extra></extra>",
         "hovertext": [
          "A5",
          "A5",
          "A5",
          "A5",
          "A5",
          "A5",
          "A5"
         ],
         "lat": [
          50.0470486,
          50.0459123,
          50.0466263,
          50.0470735,
          50.045435,
          50.0455022,
          50.0455226
         ],
         "legendgroup": "A5",
         "lon": [
          19.9578008,
          19.9568124,
          19.9566189,
          19.9566439,
          19.957776,
          19.9553938,
          19.9553921
         ],
         "marker": {
          "color": "magenta"
         },
         "mode": "markers",
         "name": "A5",
         "showlegend": true,
         "subplot": "mapbox",
         "type": "scattermapbox"
        }
       ],
       "layout": {
        "geo": {
         "fitbounds": "locations"
        },
        "height": 600,
        "legend": {
         "title": {
          "text": "event"
         },
         "tracegroupgap": 0
        },
        "mapbox": {
         "center": {
          "lat": 50.04503419274611,
          "lon": 19.95326976062176
         },
         "domain": {
          "x": [
           0,
           1
          ],
          "y": [
           0,
           1
          ]
         },
         "style": "open-street-map",
         "zoom": 8
        },
        "margin": {
         "b": 0,
         "l": 0,
         "r": 30,
         "t": 30
        },
        "template": {
         "data": {
          "bar": [
           {
            "error_x": {
             "color": "#2a3f5f"
            },
            "error_y": {
             "color": "#2a3f5f"
            },
            "marker": {
             "line": {
              "color": "#E5ECF6",
              "width": 0.5
             },
             "pattern": {
              "fillmode": "overlay",
              "size": 10,
              "solidity": 0.2
             }
            },
            "type": "bar"
           }
          ],
          "barpolar": [
           {
            "marker": {
             "line": {
              "color": "#E5ECF6",
              "width": 0.5
             },
             "pattern": {
              "fillmode": "overlay",
              "size": 10,
              "solidity": 0.2
             }
            },
            "type": "barpolar"
           }
          ],
          "carpet": [
           {
            "aaxis": {
             "endlinecolor": "#2a3f5f",
             "gridcolor": "white",
             "linecolor": "white",
             "minorgridcolor": "white",
             "startlinecolor": "#2a3f5f"
            },
            "baxis": {
             "endlinecolor": "#2a3f5f",
             "gridcolor": "white",
             "linecolor": "white",
             "minorgridcolor": "white",
             "startlinecolor": "#2a3f5f"
            },
            "type": "carpet"
           }
          ],
          "choropleth": [
           {
            "colorbar": {
             "outlinewidth": 0,
             "ticks": ""
            },
            "type": "choropleth"
           }
          ],
          "contour": [
           {
            "colorbar": {
             "outlinewidth": 0,
             "ticks": ""
            },
            "colorscale": [
             [
              0,
              "#0d0887"
             ],
             [
              0.1111111111111111,
              "#46039f"
             ],
             [
              0.2222222222222222,
              "#7201a8"
             ],
             [
              0.3333333333333333,
              "#9c179e"
             ],
             [
              0.4444444444444444,
              "#bd3786"
             ],
             [
              0.5555555555555556,
              "#d8576b"
             ],
             [
              0.6666666666666666,
              "#ed7953"
             ],
             [
              0.7777777777777778,
              "#fb9f3a"
             ],
             [
              0.8888888888888888,
              "#fdca26"
             ],
             [
              1,
              "#f0f921"
             ]
            ],
            "type": "contour"
           }
          ],
          "contourcarpet": [
           {
            "colorbar": {
             "outlinewidth": 0,
             "ticks": ""
            },
            "type": "contourcarpet"
           }
          ],
          "heatmap": [
           {
            "colorbar": {
             "outlinewidth": 0,
             "ticks": ""
            },
            "colorscale": [
             [
              0,
              "#0d0887"
             ],
             [
              0.1111111111111111,
              "#46039f"
             ],
             [
              0.2222222222222222,
              "#7201a8"
             ],
             [
              0.3333333333333333,
              "#9c179e"
             ],
             [
              0.4444444444444444,
              "#bd3786"
             ],
             [
              0.5555555555555556,
              "#d8576b"
             ],
             [
              0.6666666666666666,
              "#ed7953"
             ],
             [
              0.7777777777777778,
              "#fb9f3a"
             ],
             [
              0.8888888888888888,
              "#fdca26"
             ],
             [
              1,
              "#f0f921"
             ]
            ],
            "type": "heatmap"
           }
          ],
          "heatmapgl": [
           {
            "colorbar": {
             "outlinewidth": 0,
             "ticks": ""
            },
            "colorscale": [
             [
              0,
              "#0d0887"
             ],
             [
              0.1111111111111111,
              "#46039f"
             ],
             [
              0.2222222222222222,
              "#7201a8"
             ],
             [
              0.3333333333333333,
              "#9c179e"
             ],
             [
              0.4444444444444444,
              "#bd3786"
             ],
             [
              0.5555555555555556,
              "#d8576b"
             ],
             [
              0.6666666666666666,
              "#ed7953"
             ],
             [
              0.7777777777777778,
              "#fb9f3a"
             ],
             [
              0.8888888888888888,
              "#fdca26"
             ],
             [
              1,
              "#f0f921"
             ]
            ],
            "type": "heatmapgl"
           }
          ],
          "histogram": [
           {
            "marker": {
             "pattern": {
              "fillmode": "overlay",
              "size": 10,
              "solidity": 0.2
             }
            },
            "type": "histogram"
           }
          ],
          "histogram2d": [
           {
            "colorbar": {
             "outlinewidth": 0,
             "ticks": ""
            },
            "colorscale": [
             [
              0,
              "#0d0887"
             ],
             [
              0.1111111111111111,
              "#46039f"
             ],
             [
              0.2222222222222222,
              "#7201a8"
             ],
             [
              0.3333333333333333,
              "#9c179e"
             ],
             [
              0.4444444444444444,
              "#bd3786"
             ],
             [
              0.5555555555555556,
              "#d8576b"
             ],
             [
              0.6666666666666666,
              "#ed7953"
             ],
             [
              0.7777777777777778,
              "#fb9f3a"
             ],
             [
              0.8888888888888888,
              "#fdca26"
             ],
             [
              1,
              "#f0f921"
             ]
            ],
            "type": "histogram2d"
           }
          ],
          "histogram2dcontour": [
           {
            "colorbar": {
             "outlinewidth": 0,
             "ticks": ""
            },
            "colorscale": [
             [
              0,
              "#0d0887"
             ],
             [
              0.1111111111111111,
              "#46039f"
             ],
             [
              0.2222222222222222,
              "#7201a8"
             ],
             [
              0.3333333333333333,
              "#9c179e"
             ],
             [
              0.4444444444444444,
              "#bd3786"
             ],
             [
              0.5555555555555556,
              "#d8576b"
             ],
             [
              0.6666666666666666,
              "#ed7953"
             ],
             [
              0.7777777777777778,
              "#fb9f3a"
             ],
             [
              0.8888888888888888,
              "#fdca26"
             ],
             [
              1,
              "#f0f921"
             ]
            ],
            "type": "histogram2dcontour"
           }
          ],
          "mesh3d": [
           {
            "colorbar": {
             "outlinewidth": 0,
             "ticks": ""
            },
            "type": "mesh3d"
           }
          ],
          "parcoords": [
           {
            "line": {
             "colorbar": {
              "outlinewidth": 0,
              "ticks": ""
             }
            },
            "type": "parcoords"
           }
          ],
          "pie": [
           {
            "automargin": true,
            "type": "pie"
           }
          ],
          "scatter": [
           {
            "fillpattern": {
             "fillmode": "overlay",
             "size": 10,
             "solidity": 0.2
            },
            "type": "scatter"
           }
          ],
          "scatter3d": [
           {
            "line": {
             "colorbar": {
              "outlinewidth": 0,
              "ticks": ""
             }
            },
            "marker": {
             "colorbar": {
              "outlinewidth": 0,
              "ticks": ""
             }
            },
            "type": "scatter3d"
           }
          ],
          "scattercarpet": [
           {
            "marker": {
             "colorbar": {
              "outlinewidth": 0,
              "ticks": ""
             }
            },
            "type": "scattercarpet"
           }
          ],
          "scattergeo": [
           {
            "marker": {
             "colorbar": {
              "outlinewidth": 0,
              "ticks": ""
             }
            },
            "type": "scattergeo"
           }
          ],
          "scattergl": [
           {
            "marker": {
             "colorbar": {
              "outlinewidth": 0,
              "ticks": ""
             }
            },
            "type": "scattergl"
           }
          ],
          "scattermapbox": [
           {
            "marker": {
             "colorbar": {
              "outlinewidth": 0,
              "ticks": ""
             }
            },
            "type": "scattermapbox"
           }
          ],
          "scatterpolar": [
           {
            "marker": {
             "colorbar": {
              "outlinewidth": 0,
              "ticks": ""
             }
            },
            "type": "scatterpolar"
           }
          ],
          "scatterpolargl": [
           {
            "marker": {
             "colorbar": {
              "outlinewidth": 0,
              "ticks": ""
             }
            },
            "type": "scatterpolargl"
           }
          ],
          "scatterternary": [
           {
            "marker": {
             "colorbar": {
              "outlinewidth": 0,
              "ticks": ""
             }
            },
            "type": "scatterternary"
           }
          ],
          "surface": [
           {
            "colorbar": {
             "outlinewidth": 0,
             "ticks": ""
            },
            "colorscale": [
             [
              0,
              "#0d0887"
             ],
             [
              0.1111111111111111,
              "#46039f"
             ],
             [
              0.2222222222222222,
              "#7201a8"
             ],
             [
              0.3333333333333333,
              "#9c179e"
             ],
             [
              0.4444444444444444,
              "#bd3786"
             ],
             [
              0.5555555555555556,
              "#d8576b"
             ],
             [
              0.6666666666666666,
              "#ed7953"
             ],
             [
              0.7777777777777778,
              "#fb9f3a"
             ],
             [
              0.8888888888888888,
              "#fdca26"
             ],
             [
              1,
              "#f0f921"
             ]
            ],
            "type": "surface"
           }
          ],
          "table": [
           {
            "cells": {
             "fill": {
              "color": "#EBF0F8"
             },
             "line": {
              "color": "white"
             }
            },
            "header": {
             "fill": {
              "color": "#C8D4E3"
             },
             "line": {
              "color": "white"
             }
            },
            "type": "table"
           }
          ]
         },
         "layout": {
          "annotationdefaults": {
           "arrowcolor": "#2a3f5f",
           "arrowhead": 0,
           "arrowwidth": 1
          },
          "autotypenumbers": "strict",
          "coloraxis": {
           "colorbar": {
            "outlinewidth": 0,
            "ticks": ""
           }
          },
          "colorscale": {
           "diverging": [
            [
             0,
             "#8e0152"
            ],
            [
             0.1,
             "#c51b7d"
            ],
            [
             0.2,
             "#de77ae"
            ],
            [
             0.3,
             "#f1b6da"
            ],
            [
             0.4,
             "#fde0ef"
            ],
            [
             0.5,
             "#f7f7f7"
            ],
            [
             0.6,
             "#e6f5d0"
            ],
            [
             0.7,
             "#b8e186"
            ],
            [
             0.8,
             "#7fbc41"
            ],
            [
             0.9,
             "#4d9221"
            ],
            [
             1,
             "#276419"
            ]
           ],
           "sequential": [
            [
             0,
             "#0d0887"
            ],
            [
             0.1111111111111111,
             "#46039f"
            ],
            [
             0.2222222222222222,
             "#7201a8"
            ],
            [
             0.3333333333333333,
             "#9c179e"
            ],
            [
             0.4444444444444444,
             "#bd3786"
            ],
            [
             0.5555555555555556,
             "#d8576b"
            ],
            [
             0.6666666666666666,
             "#ed7953"
            ],
            [
             0.7777777777777778,
             "#fb9f3a"
            ],
            [
             0.8888888888888888,
             "#fdca26"
            ],
            [
             1,
             "#f0f921"
            ]
           ],
           "sequentialminus": [
            [
             0,
             "#0d0887"
            ],
            [
             0.1111111111111111,
             "#46039f"
            ],
            [
             0.2222222222222222,
             "#7201a8"
            ],
            [
             0.3333333333333333,
             "#9c179e"
            ],
            [
             0.4444444444444444,
             "#bd3786"
            ],
            [
             0.5555555555555556,
             "#d8576b"
            ],
            [
             0.6666666666666666,
             "#ed7953"
            ],
            [
             0.7777777777777778,
             "#fb9f3a"
            ],
            [
             0.8888888888888888,
             "#fdca26"
            ],
            [
             1,
             "#f0f921"
            ]
           ]
          },
          "colorway": [
           "#636efa",
           "#EF553B",
           "#00cc96",
           "#ab63fa",
           "#FFA15A",
           "#19d3f3",
           "#FF6692",
           "#B6E880",
           "#FF97FF",
           "#FECB52"
          ],
          "font": {
           "color": "#2a3f5f"
          },
          "geo": {
           "bgcolor": "white",
           "lakecolor": "white",
           "landcolor": "#E5ECF6",
           "showlakes": true,
           "showland": true,
           "subunitcolor": "white"
          },
          "hoverlabel": {
           "align": "left"
          },
          "hovermode": "closest",
          "mapbox": {
           "style": "light"
          },
          "paper_bgcolor": "white",
          "plot_bgcolor": "#E5ECF6",
          "polar": {
           "angularaxis": {
            "gridcolor": "white",
            "linecolor": "white",
            "ticks": ""
           },
           "bgcolor": "#E5ECF6",
           "radialaxis": {
            "gridcolor": "white",
            "linecolor": "white",
            "ticks": ""
           }
          },
          "scene": {
           "xaxis": {
            "backgroundcolor": "#E5ECF6",
            "gridcolor": "white",
            "gridwidth": 2,
            "linecolor": "white",
            "showbackground": true,
            "ticks": "",
            "zerolinecolor": "white"
           },
           "yaxis": {
            "backgroundcolor": "#E5ECF6",
            "gridcolor": "white",
            "gridwidth": 2,
            "linecolor": "white",
            "showbackground": true,
            "ticks": "",
            "zerolinecolor": "white"
           },
           "zaxis": {
            "backgroundcolor": "#E5ECF6",
            "gridcolor": "white",
            "gridwidth": 2,
            "linecolor": "white",
            "showbackground": true,
            "ticks": "",
            "zerolinecolor": "white"
           }
          },
          "shapedefaults": {
           "line": {
            "color": "#2a3f5f"
           }
          },
          "ternary": {
           "aaxis": {
            "gridcolor": "white",
            "linecolor": "white",
            "ticks": ""
           },
           "baxis": {
            "gridcolor": "white",
            "linecolor": "white",
            "ticks": ""
           },
           "bgcolor": "#E5ECF6",
           "caxis": {
            "gridcolor": "white",
            "linecolor": "white",
            "ticks": ""
           }
          },
          "title": {
           "x": 0.05
          },
          "xaxis": {
           "automargin": true,
           "gridcolor": "white",
           "linecolor": "white",
           "ticks": "",
           "title": {
            "standoff": 15
           },
           "zerolinecolor": "white",
           "zerolinewidth": 2
          },
          "yaxis": {
           "automargin": true,
           "gridcolor": "white",
           "linecolor": "white",
           "ticks": "",
           "title": {
            "standoff": 15
           },
           "zerolinecolor": "white",
           "zerolinewidth": 2
          }
         }
        },
        "title": {
         "text": "A1-A5 Events"
        },
        "width": 1200
       }
      }
     },
     "metadata": {},
     "output_type": "display_data"
    }
   ],
   "source": [
    "event_types = [\"A1\", \"A2\", \"A3\", \"A4\", \"A5\"]\n",
    "colors = [\"black\", \"blue\", \"forestgreen\", \"red\", \"magenta\"]\n",
    "event_colors_mapper = dict(zip(event_types, colors))\n",
    "\n",
    "fig = px.scatter_mapbox(\n",
    "    data_frame=events_data,\n",
    "    lat=\"latitude\",\n",
    "    lon=\"longitude\",\n",
    "    title=\"A1-A5 Events\",\n",
    "    category_orders={\"event\": event_types},  # sort labels in legend\n",
    "    color=\"event\",  # set the color based on string in 'event' column\n",
    "    color_discrete_map=event_colors_mapper,  # because 'event' column does not store colors directly, specify a mapper event->color\n",
    "    hover_name=\"event\",\n",
    "    hover_data={\n",
    "        \"longitude\": True,\n",
    "        \"latitude\": True,\n",
    "        \"rsrp\": True,\n",
    "        \"rsrq\": True,\n",
    "        \"event\": False,\n",
    "    },\n",
    "    width=1200,\n",
    "    height=600,\n",
    ")\n",
    "\n",
    "fig.update_geos(fitbounds=\"locations\")\n",
    "fig.update_layout(\n",
    "    margin={\"r\": 30, \"t\": 30, \"l\": 0, \"b\": 0},\n",
    "    mapbox={\n",
    "        \"style\": \"open-street-map\",\n",
    "    },\n",
    ")\n",
    "fig.show()"
   ]
  },
  {
   "cell_type": "markdown",
   "metadata": {},
   "source": [
    "### Kategoryzacja danych\n",
    "\n",
    "- Grupowanie zarejestrowanych pomiarów przy pomocy współrzędnych geograficznych nie jest ‘wygodne’ - powoduje to utrudnienia implementacyjne podczas aplikowania modeli do analizy danych\n",
    "- Zaimplementuj funkcjonalność, która wygeneruje siatkę kwadratów o zadanej wielkości, w warunkach brzegowych wybranej mapy.\n",
    "- Każdy kwadrat ma być ograniczony współrzędnymi {x1, y1}, {x2, y2}\n",
    "- Każdy kwadrat ma mieć kolejny unikatowy identyfikator\n",
    "- Identyfikator ten ma być kategorią (label) danego punktu pomiarowego leżącego w granicach wygenerowanego kwadratu\n",
    "- Podczas implementacji uwzględnij zarówno kategoryzację danych surowych, jak i mimiki eventów."
   ]
  },
  {
   "cell_type": "code",
   "execution_count": 9,
   "metadata": {},
   "outputs": [],
   "source": [
    "# GRID SETTINGS\n",
    "PADDING: float = 0.01  # space between edges of a grid and the most distant points from the center of the grid, measured in longitude/latitude degrees\n",
    "CHUNKS_COUNT: int = (\n",
    "    10  # number of chunks per axis so total number of chunks is CHUNKS_COUNT^2\n",
    ")"
   ]
  },
  {
   "cell_type": "code",
   "execution_count": 21,
   "metadata": {},
   "outputs": [
    {
     "data": {
      "application/vnd.plotly.v1+json": {
       "config": {
        "plotlyServerURL": "https://plot.ly"
       },
       "data": [
        {
         "customdata": [
          [
           19.9559137,
           50.0450921,
           -84,
           -14,
           "A1"
          ],
          [
           19.9551673,
           50.0469147,
           -87,
           -16,
           "A1"
          ],
          [
           19.9553623,
           50.0473473,
           -101,
           -17,
           "A1"
          ],
          [
           19.956333,
           50.0473378,
           -92,
           -17,
           "A1"
          ],
          [
           19.949473,
           50.046342,
           -87,
           -14,
           "A1"
          ],
          [
           19.9519524,
           50.0472805,
           -99,
           -17,
           "A1"
          ]
         ],
         "hovertemplate": "<b>%{hovertext}</b><br><br>latitude=%{customdata[1]}<br>longitude=%{customdata[0]}<br>rsrp=%{customdata[2]}<br>rsrq=%{customdata[3]}<extra></extra>",
         "hovertext": [
          "A1",
          "A1",
          "A1",
          "A1",
          "A1",
          "A1"
         ],
         "lat": [
          50.0450921,
          50.0469147,
          50.0473473,
          50.0473378,
          50.046342,
          50.0472805
         ],
         "legendgroup": "A1",
         "lon": [
          19.9559137,
          19.9551673,
          19.9553623,
          19.956333,
          19.949473,
          19.9519524
         ],
         "marker": {
          "color": "black"
         },
         "mode": "markers",
         "name": "A1",
         "showlegend": true,
         "subplot": "mapbox",
         "type": "scattermapbox"
        },
        {
         "customdata": [
          [
           19.9578008,
           50.0470486,
           -101,
           -20,
           "A2"
          ],
          [
           19.9568124,
           50.0459123,
           -107,
           -20,
           "A2"
          ],
          [
           19.9566189,
           50.0466263,
           -107,
           -20,
           "A2"
          ],
          [
           19.957776,
           50.045435,
           -106,
           -20,
           "A2"
          ],
          [
           19.9553938,
           50.0455022,
           -102,
           -20,
           "A2"
          ],
          [
           19.9553921,
           50.0455226,
           -104,
           -20,
           "A2"
          ]
         ],
         "hovertemplate": "<b>%{hovertext}</b><br><br>latitude=%{customdata[1]}<br>longitude=%{customdata[0]}<br>rsrp=%{customdata[2]}<br>rsrq=%{customdata[3]}<extra></extra>",
         "hovertext": [
          "A2",
          "A2",
          "A2",
          "A2",
          "A2",
          "A2"
         ],
         "lat": [
          50.0470486,
          50.0459123,
          50.0466263,
          50.045435,
          50.0455022,
          50.0455226
         ],
         "legendgroup": "A2",
         "lon": [
          19.9578008,
          19.9568124,
          19.9566189,
          19.957776,
          19.9553938,
          19.9553921
         ],
         "marker": {
          "color": "blue"
         },
         "mode": "markers",
         "name": "A2",
         "showlegend": true,
         "subplot": "mapbox",
         "type": "scattermapbox"
        },
        {
         "customdata": [
          [
           19.9555291,
           50.0438764,
           -95,
           -15,
           "A3"
          ],
          [
           19.9566189,
           50.0466263,
           -107,
           -20,
           "A3"
          ],
          [
           19.9566439,
           50.0470735,
           -109,
           -20,
           "A3"
          ],
          [
           19.9508881,
           50.0451097,
           -100,
           -11,
           "A3"
          ],
          [
           19.9462349,
           50.0434267,
           -85,
           -13,
           "A3"
          ],
          [
           19.941523,
           50.0439442,
           -83,
           -11,
           "A3"
          ],
          [
           19.9453711,
           50.044702,
           -84,
           -19,
           "A3"
          ],
          [
           19.9496567,
           50.0448271,
           -87,
           -12,
           "A3"
          ],
          [
           19.9496404,
           50.0448998,
           -92,
           -13,
           "A3"
          ],
          [
           19.9481708,
           50.0459479,
           -87,
           -12,
           "A3"
          ],
          [
           19.949473,
           50.046342,
           -87,
           -14,
           "A3"
          ],
          [
           19.9553921,
           50.0455226,
           -104,
           -20,
           "A3"
          ]
         ],
         "hovertemplate": "<b>%{hovertext}</b><br><br>latitude=%{customdata[1]}<br>longitude=%{customdata[0]}<br>rsrp=%{customdata[2]}<br>rsrq=%{customdata[3]}<extra></extra>",
         "hovertext": [
          "A3",
          "A3",
          "A3",
          "A3",
          "A3",
          "A3",
          "A3",
          "A3",
          "A3",
          "A3",
          "A3",
          "A3"
         ],
         "lat": [
          50.0438764,
          50.0466263,
          50.0470735,
          50.0451097,
          50.0434267,
          50.0439442,
          50.044702,
          50.0448271,
          50.0448998,
          50.0459479,
          50.046342,
          50.0455226
         ],
         "legendgroup": "A3",
         "lon": [
          19.9555291,
          19.9566189,
          19.9566439,
          19.9508881,
          19.9462349,
          19.941523,
          19.9453711,
          19.9496567,
          19.9496404,
          19.9481708,
          19.949473,
          19.9553921
         ],
         "marker": {
          "color": "forestgreen"
         },
         "mode": "markers",
         "name": "A3",
         "showlegend": true,
         "subplot": "mapbox",
         "type": "scattermapbox"
        },
        {
         "customdata": [
          [
           19.9554362,
           50.043881,
           -93,
           -14,
           "A4"
          ],
          [
           19.9555291,
           50.0438764,
           -95,
           -15,
           "A4"
          ],
          [
           19.9565761,
           50.044069,
           -88,
           -14,
           "A4"
          ],
          [
           19.9576786,
           50.0438588,
           -90,
           -9,
           "A4"
          ],
          [
           19.9580451,
           50.0438061,
           -89,
           -9,
           "A4"
          ],
          [
           19.9588542,
           50.0436816,
           -85,
           -8,
           "A4"
          ],
          [
           19.9593014,
           50.0435971,
           -81,
           -7,
           "A4"
          ],
          [
           19.9609912,
           50.0421791,
           -72,
           -9,
           "A4"
          ],
          [
           19.9628379,
           50.0418007,
           -70,
           -12,
           "A4"
          ],
          [
           19.9646071,
           50.0423506,
           -73,
           -12,
           "A4"
          ],
          [
           19.9643192,
           50.0424699,
           -74,
           -12,
           "A4"
          ],
          [
           19.9639957,
           50.0426539,
           -72,
           -9,
           "A4"
          ],
          [
           19.9611108,
           50.0423635,
           -73,
           -10,
           "A4"
          ],
          [
           19.9599164,
           50.0433273,
           -88,
           -13,
           "A4"
          ],
          [
           19.9582089,
           50.0442152,
           -101,
           -15,
           "A4"
          ],
          [
           19.9574153,
           50.0449612,
           -103,
           -18,
           "A4"
          ],
          [
           19.9586771,
           50.04487,
           -97,
           -15,
           "A4"
          ],
          [
           19.9598041,
           50.0446543,
           -95,
           -13,
           "A4"
          ],
          [
           19.9614937,
           50.0446952,
           -72,
           -7,
           "A4"
          ],
          [
           19.9621964,
           50.0448849,
           -83,
           -9,
           "A4"
          ],
          [
           19.9609392,
           50.0445756,
           -84,
           -10,
           "A4"
          ],
          [
           19.9614751,
           50.0439235,
           -85,
           -11,
           "A4"
          ],
          [
           19.9614804,
           50.0438055,
           -89,
           -10,
           "A4"
          ],
          [
           19.9613428,
           50.0437732,
           -89,
           -10,
           "A4"
          ],
          [
           19.9609091,
           50.0436412,
           -99,
           -13,
           "A4"
          ],
          [
           19.9605888,
           50.0435203,
           -90,
           -7,
           "A4"
          ],
          [
           19.9601662,
           50.0433589,
           -88,
           -8,
           "A4"
          ],
          [
           19.9598751,
           50.0432567,
           -89,
           -8,
           "A4"
          ],
          [
           19.9595133,
           50.0436194,
           -94,
           -9,
           "A4"
          ],
          [
           19.959915,
           50.0439087,
           -96,
           -12,
           "A4"
          ],
          [
           19.9603239,
           50.0440777,
           -88,
           -9,
           "A4"
          ],
          [
           19.9609223,
           50.0443209,
           -89,
           -9,
           "A4"
          ],
          [
           19.9612321,
           50.0444139,
           -82,
           -8,
           "A4"
          ],
          [
           19.9611991,
           50.044571,
           -78,
           -8,
           "A4"
          ],
          [
           19.9606298,
           50.0447841,
           -101,
           -13,
           "A4"
          ],
          [
           19.9595939,
           50.0447945,
           -108,
           -17,
           "A4"
          ],
          [
           19.958227,
           50.0449784,
           -106,
           -16,
           "A4"
          ],
          [
           19.9579305,
           50.0450376,
           -106,
           -17,
           "A4"
          ],
          [
           19.9571518,
           50.0450607,
           -92,
           -16,
           "A4"
          ],
          [
           19.9569724,
           50.0452455,
           -90,
           -15,
           "A4"
          ],
          [
           19.9578677,
           50.044267,
           -100,
           -14,
           "A4"
          ],
          [
           19.9562091,
           50.0448242,
           -105,
           -17,
           "A4"
          ],
          [
           19.9559137,
           50.0450921,
           -84,
           -14,
           "A4"
          ],
          [
           19.9559169,
           50.0451001,
           -90,
           -17,
           "A4"
          ],
          [
           19.9557433,
           50.04528,
           -89,
           -15,
           "A4"
          ],
          [
           19.955392,
           50.045946,
           -89,
           -18,
           "A4"
          ],
          [
           19.9551673,
           50.0469147,
           -87,
           -16,
           "A4"
          ],
          [
           19.9551112,
           50.0470795,
           -96,
           -14,
           "A4"
          ],
          [
           19.9553623,
           50.0473473,
           -101,
           -17,
           "A4"
          ],
          [
           19.956333,
           50.0473378,
           -92,
           -17,
           "A4"
          ],
          [
           19.957592,
           50.0473393,
           -96,
           -19,
           "A4"
          ],
          [
           19.9578008,
           50.0470486,
           -101,
           -20,
           "A4"
          ],
          [
           19.9577583,
           50.0465491,
           -100,
           -16,
           "A4"
          ],
          [
           19.9576821,
           50.0461799,
           -100,
           -16,
           "A4"
          ],
          [
           19.9572933,
           50.0459317,
           -109,
           -18,
           "A4"
          ],
          [
           19.9568124,
           50.0459123,
           -107,
           -20,
           "A4"
          ],
          [
           19.9566905,
           50.046435,
           -102,
           -18,
           "A4"
          ],
          [
           19.9566189,
           50.0466263,
           -107,
           -20,
           "A4"
          ],
          [
           19.9566439,
           50.0470735,
           -109,
           -20,
           "A4"
          ],
          [
           19.956633,
           50.0473061,
           -89,
           -14,
           "A4"
          ],
          [
           19.9571688,
           50.0473144,
           -87,
           -15,
           "A4"
          ],
          [
           19.9576396,
           50.0472931,
           -95,
           -17,
           "A4"
          ],
          [
           19.9578534,
           50.0471157,
           -96,
           -15,
           "A4"
          ],
          [
           19.9578005,
           50.0467281,
           -99,
           -15,
           "A4"
          ],
          [
           19.9577382,
           50.0463486,
           -100,
           -16,
           "A4"
          ],
          [
           19.9577801,
           50.0459292,
           -108,
           -17,
           "A4"
          ],
          [
           19.9578088,
           50.0455916,
           -105,
           -16,
           "A4"
          ],
          [
           19.957776,
           50.045435,
           -106,
           -20,
           "A4"
          ],
          [
           19.9577941,
           50.0451006,
           -92,
           -15,
           "A4"
          ],
          [
           19.9574917,
           50.0448292,
           -91,
           -16,
           "A4"
          ],
          [
           19.9577754,
           50.0445052,
           -98,
           -14,
           "A4"
          ],
          [
           19.957904,
           50.0442764,
           -98,
           -13,
           "A4"
          ],
          [
           19.9571302,
           50.0444969,
           -90,
           -14,
           "A4"
          ],
          [
           19.9559543,
           50.0450498,
           -103,
           -17,
           "A4"
          ],
          [
           19.9542266,
           50.0452101,
           -82,
           -13,
           "A4"
          ],
          [
           19.9525952,
           50.0451379,
           -99,
           -12,
           "A4"
          ],
          [
           19.9508881,
           50.0451097,
           -100,
           -11,
           "A4"
          ],
          [
           19.9495293,
           50.0449852,
           -94,
           -14,
           "A4"
          ],
          [
           19.9481694,
           50.044394,
           -61,
           -11,
           "A4"
          ],
          [
           19.9462349,
           50.0434267,
           -85,
           -13,
           "A4"
          ],
          [
           19.944548,
           50.0425345,
           -72,
           -10,
           "A4"
          ],
          [
           19.9432492,
           50.0418475,
           -79,
           -13,
           "A4"
          ],
          [
           19.9429001,
           50.0421735,
           -88,
           -12,
           "A4"
          ],
          [
           19.942478,
           50.0425242,
           -84,
           -13,
           "A4"
          ],
          [
           19.9420322,
           50.042881,
           -85,
           -14,
           "A4"
          ],
          [
           19.9414344,
           50.0432599,
           -77,
           -8,
           "A4"
          ],
          [
           19.9414921,
           50.0439236,
           -76,
           -9,
           "A4"
          ],
          [
           19.9429862,
           50.0441504,
           -85,
           -15,
           "A4"
          ],
          [
           19.9440192,
           50.0440468,
           -76,
           -13,
           "A4"
          ],
          [
           19.9445168,
           50.0436041,
           -81,
           -13,
           "A4"
          ],
          [
           19.9448311,
           50.0433375,
           -86,
           -12,
           "A4"
          ],
          [
           19.944119,
           50.043165,
           -83,
           -13,
           "A4"
          ],
          [
           19.9433193,
           50.0430665,
           -83,
           -14,
           "A4"
          ],
          [
           19.9425382,
           50.0429553,
           -79,
           -10,
           "A4"
          ],
          [
           19.9415962,
           50.0431456,
           -78,
           -11,
           "A4"
          ],
          [
           19.941523,
           50.0439442,
           -83,
           -11,
           "A4"
          ],
          [
           19.9430528,
           50.0441666,
           -84,
           -15,
           "A4"
          ],
          [
           19.9446608,
           50.0444907,
           -83,
           -12,
           "A4"
          ],
          [
           19.9455492,
           50.0447623,
           -71,
           -11,
           "A4"
          ],
          [
           19.9453606,
           50.044707,
           -72,
           -11,
           "A4"
          ],
          [
           19.9453673,
           50.0447066,
           -73,
           -12,
           "A4"
          ],
          [
           19.9453711,
           50.044702,
           -84,
           -19,
           "A4"
          ],
          [
           19.9458321,
           50.0445644,
           -78,
           -13,
           "A4"
          ],
          [
           19.9462527,
           50.0442888,
           -77,
           -15,
           "A4"
          ],
          [
           19.9470109,
           50.0437851,
           -86,
           -17,
           "A4"
          ],
          [
           19.94795,
           50.0439563,
           -70,
           -10,
           "A4"
          ],
          [
           19.9486241,
           50.0443156,
           -77,
           -17,
           "A4"
          ],
          [
           19.9492811,
           50.0438077,
           -83,
           -13,
           "A4"
          ],
          [
           19.9496567,
           50.0448271,
           -87,
           -12,
           "A4"
          ],
          [
           19.9496404,
           50.0448998,
           -92,
           -13,
           "A4"
          ],
          [
           19.9488735,
           50.0447133,
           -93,
           -17,
           "A4"
          ],
          [
           19.9478505,
           50.0451365,
           -80,
           -16,
           "A4"
          ],
          [
           19.9473141,
           50.0453443,
           -90,
           -18,
           "A4"
          ],
          [
           19.9469416,
           50.0453934,
           -79,
           -11,
           "A4"
          ],
          [
           19.9460873,
           50.0450589,
           -82,
           -14,
           "A4"
          ],
          [
           19.9458103,
           50.0448946,
           -80,
           -12,
           "A4"
          ],
          [
           19.9458117,
           50.0448785,
           -75,
           -12,
           "A4"
          ],
          [
           19.9455778,
           50.044735,
           -78,
           -15,
           "A4"
          ],
          [
           19.9445056,
           50.044439,
           -76,
           -13,
           "A4"
          ],
          [
           19.9441782,
           50.0439012,
           -77,
           -13,
           "A4"
          ],
          [
           19.9445516,
           50.0435834,
           -77,
           -12,
           "A4"
          ],
          [
           19.944872,
           50.0434433,
           -88,
           -15,
           "A4"
          ],
          [
           19.94535,
           50.043664,
           -88,
           -15,
           "A4"
          ],
          [
           19.945975,
           50.0440133,
           -82,
           -14,
           "A4"
          ],
          [
           19.9463876,
           50.0441923,
           -81,
           -15,
           "A4"
          ],
          [
           19.9467891,
           50.0440001,
           -84,
           -17,
           "A4"
          ],
          [
           19.9468273,
           50.0439727,
           -84,
           -16,
           "A4"
          ],
          [
           19.9486155,
           50.0446493,
           -84,
           -17,
           "A4"
          ],
          [
           19.9481076,
           50.0451678,
           -87,
           -19,
           "A4"
          ],
          [
           19.9481708,
           50.0459479,
           -87,
           -12,
           "A4"
          ],
          [
           19.9488924,
           50.0461599,
           -81,
           -10,
           "A4"
          ],
          [
           19.9490433,
           50.046168,
           -85,
           -15,
           "A4"
          ],
          [
           19.949473,
           50.046342,
           -87,
           -14,
           "A4"
          ],
          [
           19.9499699,
           50.0465704,
           -87,
           -16,
           "A4"
          ],
          [
           19.9504418,
           50.0467767,
           -86,
           -15,
           "A4"
          ],
          [
           19.9510331,
           50.0470189,
           -99,
           -18,
           "A4"
          ],
          [
           19.9519524,
           50.0472805,
           -99,
           -17,
           "A4"
          ],
          [
           19.9532717,
           50.0476201,
           -96,
           -15,
           "A4"
          ],
          [
           19.953957,
           50.0471907,
           -97,
           -14,
           "A4"
          ],
          [
           19.9540694,
           50.0468147,
           -94,
           -15,
           "A4"
          ],
          [
           19.9548899,
           50.0463109,
           -97,
           -16,
           "A4"
          ],
          [
           19.9552007,
           50.0460361,
           -102,
           -17,
           "A4"
          ],
          [
           19.9553938,
           50.0455022,
           -102,
           -20,
           "A4"
          ],
          [
           19.9553881,
           50.0455206,
           -88,
           -14,
           "A4"
          ],
          [
           19.9553983,
           50.0455189,
           -89,
           -15,
           "A4"
          ],
          [
           19.9554035,
           50.0455259,
           -89,
           -15,
           "A4"
          ],
          [
           19.9553921,
           50.0455226,
           -104,
           -20,
           "A4"
          ],
          [
           19.9553982,
           50.0455162,
           -89,
           -15,
           "A4"
          ],
          [
           19.9553921,
           50.045518,
           -89,
           -15,
           "A4"
          ],
          [
           19.9553886,
           50.0455155,
           -88,
           -15,
           "A4"
          ],
          [
           19.9553757,
           50.0455234,
           -88,
           -14,
           "A4"
          ],
          [
           19.9553758,
           50.0455249,
           -88,
           -14,
           "A4"
          ],
          [
           19.9553779,
           50.0455322,
           -89,
           -14,
           "A4"
          ],
          [
           19.9552241,
           50.0453692,
           -89,
           -16,
           "A4"
          ],
          [
           19.9541911,
           50.0451611,
           -96,
           -15,
           "A4"
          ],
          [
           19.9524927,
           50.0450178,
           -93,
           -16,
           "A4"
          ],
          [
           19.9530084,
           50.0457747,
           -101,
           -16,
           "A4"
          ],
          [
           19.9537649,
           50.0456242,
           -99,
           -17,
           "A4"
          ],
          [
           19.9538225,
           50.0470848,
           -99,
           -14,
           "A4"
          ],
          [
           19.9531405,
           50.0469892,
           -100,
           -14,
           "A4"
          ],
          [
           19.9523408,
           50.0468415,
           -95,
           -12,
           "A4"
          ],
          [
           19.951052,
           50.0465479,
           -92,
           -11,
           "A4"
          ]
         ],
         "hovertemplate": "<b>%{hovertext}</b><br><br>latitude=%{customdata[1]}<br>longitude=%{customdata[0]}<br>rsrp=%{customdata[2]}<br>rsrq=%{customdata[3]}<extra></extra>",
         "hovertext": [
          "A4",
          "A4",
          "A4",
          "A4",
          "A4",
          "A4",
          "A4",
          "A4",
          "A4",
          "A4",
          "A4",
          "A4",
          "A4",
          "A4",
          "A4",
          "A4",
          "A4",
          "A4",
          "A4",
          "A4",
          "A4",
          "A4",
          "A4",
          "A4",
          "A4",
          "A4",
          "A4",
          "A4",
          "A4",
          "A4",
          "A4",
          "A4",
          "A4",
          "A4",
          "A4",
          "A4",
          "A4",
          "A4",
          "A4",
          "A4",
          "A4",
          "A4",
          "A4",
          "A4",
          "A4",
          "A4",
          "A4",
          "A4",
          "A4",
          "A4",
          "A4",
          "A4",
          "A4",
          "A4",
          "A4",
          "A4",
          "A4",
          "A4",
          "A4",
          "A4",
          "A4",
          "A4",
          "A4",
          "A4",
          "A4",
          "A4",
          "A4",
          "A4",
          "A4",
          "A4",
          "A4",
          "A4",
          "A4",
          "A4",
          "A4",
          "A4",
          "A4",
          "A4",
          "A4",
          "A4",
          "A4",
          "A4",
          "A4",
          "A4",
          "A4",
          "A4",
          "A4",
          "A4",
          "A4",
          "A4",
          "A4",
          "A4",
          "A4",
          "A4",
          "A4",
          "A4",
          "A4",
          "A4",
          "A4",
          "A4",
          "A4",
          "A4",
          "A4",
          "A4",
          "A4",
          "A4",
          "A4",
          "A4",
          "A4",
          "A4",
          "A4",
          "A4",
          "A4",
          "A4",
          "A4",
          "A4",
          "A4",
          "A4",
          "A4",
          "A4",
          "A4",
          "A4",
          "A4",
          "A4",
          "A4",
          "A4",
          "A4",
          "A4",
          "A4",
          "A4",
          "A4",
          "A4",
          "A4",
          "A4",
          "A4",
          "A4",
          "A4",
          "A4",
          "A4",
          "A4",
          "A4",
          "A4",
          "A4",
          "A4",
          "A4",
          "A4",
          "A4",
          "A4",
          "A4",
          "A4",
          "A4",
          "A4",
          "A4",
          "A4",
          "A4",
          "A4",
          "A4",
          "A4",
          "A4",
          "A4",
          "A4",
          "A4"
         ],
         "lat": [
          50.043881,
          50.0438764,
          50.044069,
          50.0438588,
          50.0438061,
          50.0436816,
          50.0435971,
          50.0421791,
          50.0418007,
          50.0423506,
          50.0424699,
          50.0426539,
          50.0423635,
          50.0433273,
          50.0442152,
          50.0449612,
          50.04487,
          50.0446543,
          50.0446952,
          50.0448849,
          50.0445756,
          50.0439235,
          50.0438055,
          50.0437732,
          50.0436412,
          50.0435203,
          50.0433589,
          50.0432567,
          50.0436194,
          50.0439087,
          50.0440777,
          50.0443209,
          50.0444139,
          50.044571,
          50.0447841,
          50.0447945,
          50.0449784,
          50.0450376,
          50.0450607,
          50.0452455,
          50.044267,
          50.0448242,
          50.0450921,
          50.0451001,
          50.04528,
          50.045946,
          50.0469147,
          50.0470795,
          50.0473473,
          50.0473378,
          50.0473393,
          50.0470486,
          50.0465491,
          50.0461799,
          50.0459317,
          50.0459123,
          50.046435,
          50.0466263,
          50.0470735,
          50.0473061,
          50.0473144,
          50.0472931,
          50.0471157,
          50.0467281,
          50.0463486,
          50.0459292,
          50.0455916,
          50.045435,
          50.0451006,
          50.0448292,
          50.0445052,
          50.0442764,
          50.0444969,
          50.0450498,
          50.0452101,
          50.0451379,
          50.0451097,
          50.0449852,
          50.044394,
          50.0434267,
          50.0425345,
          50.0418475,
          50.0421735,
          50.0425242,
          50.042881,
          50.0432599,
          50.0439236,
          50.0441504,
          50.0440468,
          50.0436041,
          50.0433375,
          50.043165,
          50.0430665,
          50.0429553,
          50.0431456,
          50.0439442,
          50.0441666,
          50.0444907,
          50.0447623,
          50.044707,
          50.0447066,
          50.044702,
          50.0445644,
          50.0442888,
          50.0437851,
          50.0439563,
          50.0443156,
          50.0438077,
          50.0448271,
          50.0448998,
          50.0447133,
          50.0451365,
          50.0453443,
          50.0453934,
          50.0450589,
          50.0448946,
          50.0448785,
          50.044735,
          50.044439,
          50.0439012,
          50.0435834,
          50.0434433,
          50.043664,
          50.0440133,
          50.0441923,
          50.0440001,
          50.0439727,
          50.0446493,
          50.0451678,
          50.0459479,
          50.0461599,
          50.046168,
          50.046342,
          50.0465704,
          50.0467767,
          50.0470189,
          50.0472805,
          50.0476201,
          50.0471907,
          50.0468147,
          50.0463109,
          50.0460361,
          50.0455022,
          50.0455206,
          50.0455189,
          50.0455259,
          50.0455226,
          50.0455162,
          50.045518,
          50.0455155,
          50.0455234,
          50.0455249,
          50.0455322,
          50.0453692,
          50.0451611,
          50.0450178,
          50.0457747,
          50.0456242,
          50.0470848,
          50.0469892,
          50.0468415,
          50.0465479
         ],
         "legendgroup": "A4",
         "lon": [
          19.9554362,
          19.9555291,
          19.9565761,
          19.9576786,
          19.9580451,
          19.9588542,
          19.9593014,
          19.9609912,
          19.9628379,
          19.9646071,
          19.9643192,
          19.9639957,
          19.9611108,
          19.9599164,
          19.9582089,
          19.9574153,
          19.9586771,
          19.9598041,
          19.9614937,
          19.9621964,
          19.9609392,
          19.9614751,
          19.9614804,
          19.9613428,
          19.9609091,
          19.9605888,
          19.9601662,
          19.9598751,
          19.9595133,
          19.959915,
          19.9603239,
          19.9609223,
          19.9612321,
          19.9611991,
          19.9606298,
          19.9595939,
          19.958227,
          19.9579305,
          19.9571518,
          19.9569724,
          19.9578677,
          19.9562091,
          19.9559137,
          19.9559169,
          19.9557433,
          19.955392,
          19.9551673,
          19.9551112,
          19.9553623,
          19.956333,
          19.957592,
          19.9578008,
          19.9577583,
          19.9576821,
          19.9572933,
          19.9568124,
          19.9566905,
          19.9566189,
          19.9566439,
          19.956633,
          19.9571688,
          19.9576396,
          19.9578534,
          19.9578005,
          19.9577382,
          19.9577801,
          19.9578088,
          19.957776,
          19.9577941,
          19.9574917,
          19.9577754,
          19.957904,
          19.9571302,
          19.9559543,
          19.9542266,
          19.9525952,
          19.9508881,
          19.9495293,
          19.9481694,
          19.9462349,
          19.944548,
          19.9432492,
          19.9429001,
          19.942478,
          19.9420322,
          19.9414344,
          19.9414921,
          19.9429862,
          19.9440192,
          19.9445168,
          19.9448311,
          19.944119,
          19.9433193,
          19.9425382,
          19.9415962,
          19.941523,
          19.9430528,
          19.9446608,
          19.9455492,
          19.9453606,
          19.9453673,
          19.9453711,
          19.9458321,
          19.9462527,
          19.9470109,
          19.94795,
          19.9486241,
          19.9492811,
          19.9496567,
          19.9496404,
          19.9488735,
          19.9478505,
          19.9473141,
          19.9469416,
          19.9460873,
          19.9458103,
          19.9458117,
          19.9455778,
          19.9445056,
          19.9441782,
          19.9445516,
          19.944872,
          19.94535,
          19.945975,
          19.9463876,
          19.9467891,
          19.9468273,
          19.9486155,
          19.9481076,
          19.9481708,
          19.9488924,
          19.9490433,
          19.949473,
          19.9499699,
          19.9504418,
          19.9510331,
          19.9519524,
          19.9532717,
          19.953957,
          19.9540694,
          19.9548899,
          19.9552007,
          19.9553938,
          19.9553881,
          19.9553983,
          19.9554035,
          19.9553921,
          19.9553982,
          19.9553921,
          19.9553886,
          19.9553757,
          19.9553758,
          19.9553779,
          19.9552241,
          19.9541911,
          19.9524927,
          19.9530084,
          19.9537649,
          19.9538225,
          19.9531405,
          19.9523408,
          19.951052
         ],
         "marker": {
          "color": "red"
         },
         "mode": "markers",
         "name": "A4",
         "showlegend": true,
         "subplot": "mapbox",
         "type": "scattermapbox"
        },
        {
         "customdata": [
          [
           19.9578008,
           50.0470486,
           -101,
           -20,
           "A5"
          ],
          [
           19.9568124,
           50.0459123,
           -107,
           -20,
           "A5"
          ],
          [
           19.9566189,
           50.0466263,
           -107,
           -20,
           "A5"
          ],
          [
           19.9566439,
           50.0470735,
           -109,
           -20,
           "A5"
          ],
          [
           19.957776,
           50.045435,
           -106,
           -20,
           "A5"
          ],
          [
           19.9553938,
           50.0455022,
           -102,
           -20,
           "A5"
          ],
          [
           19.9553921,
           50.0455226,
           -104,
           -20,
           "A5"
          ]
         ],
         "hovertemplate": "<b>%{hovertext}</b><br><br>latitude=%{customdata[1]}<br>longitude=%{customdata[0]}<br>rsrp=%{customdata[2]}<br>rsrq=%{customdata[3]}<extra></extra>",
         "hovertext": [
          "A5",
          "A5",
          "A5",
          "A5",
          "A5",
          "A5",
          "A5"
         ],
         "lat": [
          50.0470486,
          50.0459123,
          50.0466263,
          50.0470735,
          50.045435,
          50.0455022,
          50.0455226
         ],
         "legendgroup": "A5",
         "lon": [
          19.9578008,
          19.9568124,
          19.9566189,
          19.9566439,
          19.957776,
          19.9553938,
          19.9553921
         ],
         "marker": {
          "color": "magenta"
         },
         "mode": "markers",
         "name": "A5",
         "showlegend": true,
         "subplot": "mapbox",
         "type": "scattermapbox"
        }
       ],
       "layout": {
        "geo": {
         "fitbounds": "locations"
        },
        "height": 600,
        "legend": {
         "title": {
          "text": "event"
         },
         "tracegroupgap": 0
        },
        "mapbox": {
         "center": {
          "lat": 50.04503419274611,
          "lon": 19.95326976062176
         },
         "domain": {
          "x": [
           0,
           1
          ],
          "y": [
           0,
           1
          ]
         },
         "layers": [
          {
           "color": "black",
           "line": {
            "width": 1
           },
           "source": {
            "geometry": {
             "coordinates": [
              [
               [
                19.931434399999997,
                50.031800700000005
               ],
               [
                19.93575167,
                50.031800700000005
               ],
               [
                19.93575167,
                50.0576201
               ],
               [
                19.931434399999997,
                50.0576201
               ],
               [
                19.931434399999997,
                50.031800700000005
               ]
              ],
              [
               [
                19.93575167,
                50.031800700000005
               ],
               [
                19.940068939999996,
                50.031800700000005
               ],
               [
                19.940068939999996,
                50.0576201
               ],
               [
                19.93575167,
                50.0576201
               ],
               [
                19.93575167,
                50.031800700000005
               ]
              ],
              [
               [
                19.940068939999996,
                50.031800700000005
               ],
               [
                19.944386209999998,
                50.031800700000005
               ],
               [
                19.944386209999998,
                50.0576201
               ],
               [
                19.940068939999996,
                50.0576201
               ],
               [
                19.940068939999996,
                50.031800700000005
               ]
              ],
              [
               [
                19.944386209999998,
                50.031800700000005
               ],
               [
                19.94870348,
                50.031800700000005
               ],
               [
                19.94870348,
                50.0576201
               ],
               [
                19.944386209999998,
                50.0576201
               ],
               [
                19.944386209999998,
                50.031800700000005
               ]
              ],
              [
               [
                19.94870348,
                50.031800700000005
               ],
               [
                19.95302075,
                50.031800700000005
               ],
               [
                19.95302075,
                50.0576201
               ],
               [
                19.94870348,
                50.0576201
               ],
               [
                19.94870348,
                50.031800700000005
               ]
              ],
              [
               [
                19.95302075,
                50.031800700000005
               ],
               [
                19.957338019999998,
                50.031800700000005
               ],
               [
                19.957338019999998,
                50.0576201
               ],
               [
                19.95302075,
                50.0576201
               ],
               [
                19.95302075,
                50.031800700000005
               ]
              ],
              [
               [
                19.957338019999998,
                50.031800700000005
               ],
               [
                19.96165529,
                50.031800700000005
               ],
               [
                19.96165529,
                50.0576201
               ],
               [
                19.957338019999998,
                50.0576201
               ],
               [
                19.957338019999998,
                50.031800700000005
               ]
              ],
              [
               [
                19.96165529,
                50.031800700000005
               ],
               [
                19.96597256,
                50.031800700000005
               ],
               [
                19.96597256,
                50.0576201
               ],
               [
                19.96165529,
                50.0576201
               ],
               [
                19.96165529,
                50.031800700000005
               ]
              ],
              [
               [
                19.96597256,
                50.031800700000005
               ],
               [
                19.97028983,
                50.031800700000005
               ],
               [
                19.97028983,
                50.0576201
               ],
               [
                19.96597256,
                50.0576201
               ],
               [
                19.96597256,
                50.031800700000005
               ]
              ],
              [
               [
                19.97028983,
                50.031800700000005
               ],
               [
                19.9746071,
                50.031800700000005
               ],
               [
                19.9746071,
                50.0576201
               ],
               [
                19.97028983,
                50.0576201
               ],
               [
                19.97028983,
                50.031800700000005
               ]
              ],
              [
               [
                19.931434399999997,
                50.031800700000005
               ],
               [
                19.9746071,
                50.031800700000005
               ],
               [
                19.9746071,
                50.034382640000004
               ],
               [
                19.931434399999997,
                50.034382640000004
               ],
               [
                19.931434399999997,
                50.031800700000005
               ]
              ],
              [
               [
                19.931434399999997,
                50.034382640000004
               ],
               [
                19.9746071,
                50.034382640000004
               ],
               [
                19.9746071,
                50.03696458
               ],
               [
                19.931434399999997,
                50.03696458
               ],
               [
                19.931434399999997,
                50.034382640000004
               ]
              ],
              [
               [
                19.931434399999997,
                50.03696458
               ],
               [
                19.9746071,
                50.03696458
               ],
               [
                19.9746071,
                50.03954652
               ],
               [
                19.931434399999997,
                50.03954652
               ],
               [
                19.931434399999997,
                50.03696458
               ]
              ],
              [
               [
                19.931434399999997,
                50.03954652
               ],
               [
                19.9746071,
                50.03954652
               ],
               [
                19.9746071,
                50.04212846
               ],
               [
                19.931434399999997,
                50.04212846
               ],
               [
                19.931434399999997,
                50.03954652
               ]
              ],
              [
               [
                19.931434399999997,
                50.04212846
               ],
               [
                19.9746071,
                50.04212846
               ],
               [
                19.9746071,
                50.0447104
               ],
               [
                19.931434399999997,
                50.0447104
               ],
               [
                19.931434399999997,
                50.04212846
               ]
              ],
              [
               [
                19.931434399999997,
                50.0447104
               ],
               [
                19.9746071,
                50.0447104
               ],
               [
                19.9746071,
                50.047292340000006
               ],
               [
                19.931434399999997,
                50.047292340000006
               ],
               [
                19.931434399999997,
                50.0447104
               ]
              ],
              [
               [
                19.931434399999997,
                50.047292340000006
               ],
               [
                19.9746071,
                50.047292340000006
               ],
               [
                19.9746071,
                50.049874280000004
               ],
               [
                19.931434399999997,
                50.049874280000004
               ],
               [
                19.931434399999997,
                50.047292340000006
               ]
              ],
              [
               [
                19.931434399999997,
                50.049874280000004
               ],
               [
                19.9746071,
                50.049874280000004
               ],
               [
                19.9746071,
                50.05245622
               ],
               [
                19.931434399999997,
                50.05245622
               ],
               [
                19.931434399999997,
                50.049874280000004
               ]
              ],
              [
               [
                19.931434399999997,
                50.05245622
               ],
               [
                19.9746071,
                50.05245622
               ],
               [
                19.9746071,
                50.05503816
               ],
               [
                19.931434399999997,
                50.05503816
               ],
               [
                19.931434399999997,
                50.05245622
               ]
              ],
              [
               [
                19.931434399999997,
                50.05503816
               ],
               [
                19.9746071,
                50.05503816
               ],
               [
                19.9746071,
                50.0576201
               ],
               [
                19.931434399999997,
                50.0576201
               ],
               [
                19.931434399999997,
                50.05503816
               ]
              ]
             ],
             "type": "Polygon"
            },
            "type": "Feature"
           },
           "sourcetype": "geojson",
           "type": "line"
          }
         ],
         "style": "open-street-map",
         "zoom": 8
        },
        "margin": {
         "b": 0,
         "l": 0,
         "r": 30,
         "t": 30
        },
        "template": {
         "data": {
          "bar": [
           {
            "error_x": {
             "color": "#2a3f5f"
            },
            "error_y": {
             "color": "#2a3f5f"
            },
            "marker": {
             "line": {
              "color": "#E5ECF6",
              "width": 0.5
             },
             "pattern": {
              "fillmode": "overlay",
              "size": 10,
              "solidity": 0.2
             }
            },
            "type": "bar"
           }
          ],
          "barpolar": [
           {
            "marker": {
             "line": {
              "color": "#E5ECF6",
              "width": 0.5
             },
             "pattern": {
              "fillmode": "overlay",
              "size": 10,
              "solidity": 0.2
             }
            },
            "type": "barpolar"
           }
          ],
          "carpet": [
           {
            "aaxis": {
             "endlinecolor": "#2a3f5f",
             "gridcolor": "white",
             "linecolor": "white",
             "minorgridcolor": "white",
             "startlinecolor": "#2a3f5f"
            },
            "baxis": {
             "endlinecolor": "#2a3f5f",
             "gridcolor": "white",
             "linecolor": "white",
             "minorgridcolor": "white",
             "startlinecolor": "#2a3f5f"
            },
            "type": "carpet"
           }
          ],
          "choropleth": [
           {
            "colorbar": {
             "outlinewidth": 0,
             "ticks": ""
            },
            "type": "choropleth"
           }
          ],
          "contour": [
           {
            "colorbar": {
             "outlinewidth": 0,
             "ticks": ""
            },
            "colorscale": [
             [
              0,
              "#0d0887"
             ],
             [
              0.1111111111111111,
              "#46039f"
             ],
             [
              0.2222222222222222,
              "#7201a8"
             ],
             [
              0.3333333333333333,
              "#9c179e"
             ],
             [
              0.4444444444444444,
              "#bd3786"
             ],
             [
              0.5555555555555556,
              "#d8576b"
             ],
             [
              0.6666666666666666,
              "#ed7953"
             ],
             [
              0.7777777777777778,
              "#fb9f3a"
             ],
             [
              0.8888888888888888,
              "#fdca26"
             ],
             [
              1,
              "#f0f921"
             ]
            ],
            "type": "contour"
           }
          ],
          "contourcarpet": [
           {
            "colorbar": {
             "outlinewidth": 0,
             "ticks": ""
            },
            "type": "contourcarpet"
           }
          ],
          "heatmap": [
           {
            "colorbar": {
             "outlinewidth": 0,
             "ticks": ""
            },
            "colorscale": [
             [
              0,
              "#0d0887"
             ],
             [
              0.1111111111111111,
              "#46039f"
             ],
             [
              0.2222222222222222,
              "#7201a8"
             ],
             [
              0.3333333333333333,
              "#9c179e"
             ],
             [
              0.4444444444444444,
              "#bd3786"
             ],
             [
              0.5555555555555556,
              "#d8576b"
             ],
             [
              0.6666666666666666,
              "#ed7953"
             ],
             [
              0.7777777777777778,
              "#fb9f3a"
             ],
             [
              0.8888888888888888,
              "#fdca26"
             ],
             [
              1,
              "#f0f921"
             ]
            ],
            "type": "heatmap"
           }
          ],
          "heatmapgl": [
           {
            "colorbar": {
             "outlinewidth": 0,
             "ticks": ""
            },
            "colorscale": [
             [
              0,
              "#0d0887"
             ],
             [
              0.1111111111111111,
              "#46039f"
             ],
             [
              0.2222222222222222,
              "#7201a8"
             ],
             [
              0.3333333333333333,
              "#9c179e"
             ],
             [
              0.4444444444444444,
              "#bd3786"
             ],
             [
              0.5555555555555556,
              "#d8576b"
             ],
             [
              0.6666666666666666,
              "#ed7953"
             ],
             [
              0.7777777777777778,
              "#fb9f3a"
             ],
             [
              0.8888888888888888,
              "#fdca26"
             ],
             [
              1,
              "#f0f921"
             ]
            ],
            "type": "heatmapgl"
           }
          ],
          "histogram": [
           {
            "marker": {
             "pattern": {
              "fillmode": "overlay",
              "size": 10,
              "solidity": 0.2
             }
            },
            "type": "histogram"
           }
          ],
          "histogram2d": [
           {
            "colorbar": {
             "outlinewidth": 0,
             "ticks": ""
            },
            "colorscale": [
             [
              0,
              "#0d0887"
             ],
             [
              0.1111111111111111,
              "#46039f"
             ],
             [
              0.2222222222222222,
              "#7201a8"
             ],
             [
              0.3333333333333333,
              "#9c179e"
             ],
             [
              0.4444444444444444,
              "#bd3786"
             ],
             [
              0.5555555555555556,
              "#d8576b"
             ],
             [
              0.6666666666666666,
              "#ed7953"
             ],
             [
              0.7777777777777778,
              "#fb9f3a"
             ],
             [
              0.8888888888888888,
              "#fdca26"
             ],
             [
              1,
              "#f0f921"
             ]
            ],
            "type": "histogram2d"
           }
          ],
          "histogram2dcontour": [
           {
            "colorbar": {
             "outlinewidth": 0,
             "ticks": ""
            },
            "colorscale": [
             [
              0,
              "#0d0887"
             ],
             [
              0.1111111111111111,
              "#46039f"
             ],
             [
              0.2222222222222222,
              "#7201a8"
             ],
             [
              0.3333333333333333,
              "#9c179e"
             ],
             [
              0.4444444444444444,
              "#bd3786"
             ],
             [
              0.5555555555555556,
              "#d8576b"
             ],
             [
              0.6666666666666666,
              "#ed7953"
             ],
             [
              0.7777777777777778,
              "#fb9f3a"
             ],
             [
              0.8888888888888888,
              "#fdca26"
             ],
             [
              1,
              "#f0f921"
             ]
            ],
            "type": "histogram2dcontour"
           }
          ],
          "mesh3d": [
           {
            "colorbar": {
             "outlinewidth": 0,
             "ticks": ""
            },
            "type": "mesh3d"
           }
          ],
          "parcoords": [
           {
            "line": {
             "colorbar": {
              "outlinewidth": 0,
              "ticks": ""
             }
            },
            "type": "parcoords"
           }
          ],
          "pie": [
           {
            "automargin": true,
            "type": "pie"
           }
          ],
          "scatter": [
           {
            "fillpattern": {
             "fillmode": "overlay",
             "size": 10,
             "solidity": 0.2
            },
            "type": "scatter"
           }
          ],
          "scatter3d": [
           {
            "line": {
             "colorbar": {
              "outlinewidth": 0,
              "ticks": ""
             }
            },
            "marker": {
             "colorbar": {
              "outlinewidth": 0,
              "ticks": ""
             }
            },
            "type": "scatter3d"
           }
          ],
          "scattercarpet": [
           {
            "marker": {
             "colorbar": {
              "outlinewidth": 0,
              "ticks": ""
             }
            },
            "type": "scattercarpet"
           }
          ],
          "scattergeo": [
           {
            "marker": {
             "colorbar": {
              "outlinewidth": 0,
              "ticks": ""
             }
            },
            "type": "scattergeo"
           }
          ],
          "scattergl": [
           {
            "marker": {
             "colorbar": {
              "outlinewidth": 0,
              "ticks": ""
             }
            },
            "type": "scattergl"
           }
          ],
          "scattermapbox": [
           {
            "marker": {
             "colorbar": {
              "outlinewidth": 0,
              "ticks": ""
             }
            },
            "type": "scattermapbox"
           }
          ],
          "scatterpolar": [
           {
            "marker": {
             "colorbar": {
              "outlinewidth": 0,
              "ticks": ""
             }
            },
            "type": "scatterpolar"
           }
          ],
          "scatterpolargl": [
           {
            "marker": {
             "colorbar": {
              "outlinewidth": 0,
              "ticks": ""
             }
            },
            "type": "scatterpolargl"
           }
          ],
          "scatterternary": [
           {
            "marker": {
             "colorbar": {
              "outlinewidth": 0,
              "ticks": ""
             }
            },
            "type": "scatterternary"
           }
          ],
          "surface": [
           {
            "colorbar": {
             "outlinewidth": 0,
             "ticks": ""
            },
            "colorscale": [
             [
              0,
              "#0d0887"
             ],
             [
              0.1111111111111111,
              "#46039f"
             ],
             [
              0.2222222222222222,
              "#7201a8"
             ],
             [
              0.3333333333333333,
              "#9c179e"
             ],
             [
              0.4444444444444444,
              "#bd3786"
             ],
             [
              0.5555555555555556,
              "#d8576b"
             ],
             [
              0.6666666666666666,
              "#ed7953"
             ],
             [
              0.7777777777777778,
              "#fb9f3a"
             ],
             [
              0.8888888888888888,
              "#fdca26"
             ],
             [
              1,
              "#f0f921"
             ]
            ],
            "type": "surface"
           }
          ],
          "table": [
           {
            "cells": {
             "fill": {
              "color": "#EBF0F8"
             },
             "line": {
              "color": "white"
             }
            },
            "header": {
             "fill": {
              "color": "#C8D4E3"
             },
             "line": {
              "color": "white"
             }
            },
            "type": "table"
           }
          ]
         },
         "layout": {
          "annotationdefaults": {
           "arrowcolor": "#2a3f5f",
           "arrowhead": 0,
           "arrowwidth": 1
          },
          "autotypenumbers": "strict",
          "coloraxis": {
           "colorbar": {
            "outlinewidth": 0,
            "ticks": ""
           }
          },
          "colorscale": {
           "diverging": [
            [
             0,
             "#8e0152"
            ],
            [
             0.1,
             "#c51b7d"
            ],
            [
             0.2,
             "#de77ae"
            ],
            [
             0.3,
             "#f1b6da"
            ],
            [
             0.4,
             "#fde0ef"
            ],
            [
             0.5,
             "#f7f7f7"
            ],
            [
             0.6,
             "#e6f5d0"
            ],
            [
             0.7,
             "#b8e186"
            ],
            [
             0.8,
             "#7fbc41"
            ],
            [
             0.9,
             "#4d9221"
            ],
            [
             1,
             "#276419"
            ]
           ],
           "sequential": [
            [
             0,
             "#0d0887"
            ],
            [
             0.1111111111111111,
             "#46039f"
            ],
            [
             0.2222222222222222,
             "#7201a8"
            ],
            [
             0.3333333333333333,
             "#9c179e"
            ],
            [
             0.4444444444444444,
             "#bd3786"
            ],
            [
             0.5555555555555556,
             "#d8576b"
            ],
            [
             0.6666666666666666,
             "#ed7953"
            ],
            [
             0.7777777777777778,
             "#fb9f3a"
            ],
            [
             0.8888888888888888,
             "#fdca26"
            ],
            [
             1,
             "#f0f921"
            ]
           ],
           "sequentialminus": [
            [
             0,
             "#0d0887"
            ],
            [
             0.1111111111111111,
             "#46039f"
            ],
            [
             0.2222222222222222,
             "#7201a8"
            ],
            [
             0.3333333333333333,
             "#9c179e"
            ],
            [
             0.4444444444444444,
             "#bd3786"
            ],
            [
             0.5555555555555556,
             "#d8576b"
            ],
            [
             0.6666666666666666,
             "#ed7953"
            ],
            [
             0.7777777777777778,
             "#fb9f3a"
            ],
            [
             0.8888888888888888,
             "#fdca26"
            ],
            [
             1,
             "#f0f921"
            ]
           ]
          },
          "colorway": [
           "#636efa",
           "#EF553B",
           "#00cc96",
           "#ab63fa",
           "#FFA15A",
           "#19d3f3",
           "#FF6692",
           "#B6E880",
           "#FF97FF",
           "#FECB52"
          ],
          "font": {
           "color": "#2a3f5f"
          },
          "geo": {
           "bgcolor": "white",
           "lakecolor": "white",
           "landcolor": "#E5ECF6",
           "showlakes": true,
           "showland": true,
           "subunitcolor": "white"
          },
          "hoverlabel": {
           "align": "left"
          },
          "hovermode": "closest",
          "mapbox": {
           "style": "light"
          },
          "paper_bgcolor": "white",
          "plot_bgcolor": "#E5ECF6",
          "polar": {
           "angularaxis": {
            "gridcolor": "white",
            "linecolor": "white",
            "ticks": ""
           },
           "bgcolor": "#E5ECF6",
           "radialaxis": {
            "gridcolor": "white",
            "linecolor": "white",
            "ticks": ""
           }
          },
          "scene": {
           "xaxis": {
            "backgroundcolor": "#E5ECF6",
            "gridcolor": "white",
            "gridwidth": 2,
            "linecolor": "white",
            "showbackground": true,
            "ticks": "",
            "zerolinecolor": "white"
           },
           "yaxis": {
            "backgroundcolor": "#E5ECF6",
            "gridcolor": "white",
            "gridwidth": 2,
            "linecolor": "white",
            "showbackground": true,
            "ticks": "",
            "zerolinecolor": "white"
           },
           "zaxis": {
            "backgroundcolor": "#E5ECF6",
            "gridcolor": "white",
            "gridwidth": 2,
            "linecolor": "white",
            "showbackground": true,
            "ticks": "",
            "zerolinecolor": "white"
           }
          },
          "shapedefaults": {
           "line": {
            "color": "#2a3f5f"
           }
          },
          "ternary": {
           "aaxis": {
            "gridcolor": "white",
            "linecolor": "white",
            "ticks": ""
           },
           "baxis": {
            "gridcolor": "white",
            "linecolor": "white",
            "ticks": ""
           },
           "bgcolor": "#E5ECF6",
           "caxis": {
            "gridcolor": "white",
            "linecolor": "white",
            "ticks": ""
           }
          },
          "title": {
           "x": 0.05
          },
          "xaxis": {
           "automargin": true,
           "gridcolor": "white",
           "linecolor": "white",
           "ticks": "",
           "title": {
            "standoff": 15
           },
           "zerolinecolor": "white",
           "zerolinewidth": 2
          },
          "yaxis": {
           "automargin": true,
           "gridcolor": "white",
           "linecolor": "white",
           "ticks": "",
           "title": {
            "standoff": 15
           },
           "zerolinecolor": "white",
           "zerolinewidth": 2
          }
         }
        },
        "title": {
         "text": "A1-A5 Events"
        },
        "width": 1200
       }
      }
     },
     "metadata": {},
     "output_type": "display_data"
    }
   ],
   "source": [
    "min_longitude, max_longitude = (\n",
    "    events_data[\"longitude\"].min() - PADDING,\n",
    "    events_data[\"longitude\"].max() + PADDING,\n",
    ")\n",
    "min_latitude, max_latitude = (\n",
    "    events_data[\"latitude\"].min() - PADDING,\n",
    "    events_data[\"latitude\"].max() + PADDING,\n",
    ")\n",
    "\n",
    "\n",
    "def pattern(min_long, min_lat, max_long, max_lat):\n",
    "    return [\n",
    "        [min_long, min_lat],\n",
    "        [max_long, min_lat],\n",
    "        [max_long, max_lat],\n",
    "        [min_long, max_lat],\n",
    "        [min_long, min_lat],\n",
    "    ]\n",
    "\n",
    "\n",
    "width: float = max_longitude - min_longitude\n",
    "height: float = max_latitude - min_latitude\n",
    "\n",
    "chunk_width = width / CHUNKS_COUNT\n",
    "chunk_height = height / CHUNKS_COUNT\n",
    "\n",
    "gridlines = []  # storage for all them chonks\n",
    "\n",
    "# columns\n",
    "for i in range(CHUNKS_COUNT):\n",
    "    min_long = min_longitude + i * chunk_width\n",
    "    max_long = min_longitude + (i + 1) * chunk_width\n",
    "    chunks = [pattern(min_long, min_latitude, max_long, max_latitude)]\n",
    "    gridlines.extend(chunks)\n",
    "\n",
    "# rows\n",
    "for i in range(CHUNKS_COUNT):\n",
    "    min_lat = min_latitude + i * chunk_height\n",
    "    max_lat = min_latitude + (i + 1) * chunk_height\n",
    "    chunks = [pattern(min_longitude, min_lat, max_longitude, max_lat)]\n",
    "    gridlines.extend(chunks)\n",
    "\n",
    "sources = [\n",
    "    {\n",
    "        \"id\": \"classification grid\",\n",
    "        \"type\": \"Feature\",\n",
    "        \"geometry\": {\n",
    "            \"type\": \"Polygon\",\n",
    "            \"coordinates\": gridlines,\n",
    "        },\n",
    "    }\n",
    "]\n",
    "\n",
    "layers = [\n",
    "    {\n",
    "        \"type\": \"line\",\n",
    "        \"line\": {\"width\": 1},\n",
    "        \"sourcetype\": \"geojson\",\n",
    "        \"source\": {\n",
    "            \"type\": \"Feature\",\n",
    "            \"geometry\": {\n",
    "                \"type\": \"Polygon\",\n",
    "                \"coordinates\": gridlines,\n",
    "            },\n",
    "        },\n",
    "        \"color\": \"black\",\n",
    "    }\n",
    "]\n",
    "\n",
    "fig.update_layout(\n",
    "    margin={\"r\": 30, \"t\": 30, \"l\": 0, \"b\": 0},\n",
    "    mapbox={\"layers\": layers},\n",
    ")\n",
    "\n",
    "fig.show()"
   ]
  },
  {
   "cell_type": "code",
   "execution_count": 22,
   "metadata": {},
   "outputs": [
    {
     "name": "stdout",
     "output_type": "stream",
     "text": [
      "     longitude   latitude event  rsrp  rsrq  pci  mnc          ta  rssi  \\\n",
      "0    19.955436  50.043881    A4   -93   -14   19    6  2147483647   -59   \n",
      "1    19.955529  50.043876    A3   -95   -15   19    6           2   -59   \n",
      "2    19.955529  50.043876    A4   -95   -15   19    6           2   -59   \n",
      "3    19.956576  50.044069    A4   -88   -14  214    6  2147483647   -55   \n",
      "4    19.957679  50.043859    A4   -90    -9  214    6           2   -61   \n",
      "..         ...        ...   ...   ...   ...  ...  ...         ...   ...   \n",
      "188  19.953765  50.045624    A4   -99   -17   18    6  2147483647   -61   \n",
      "189  19.953823  50.047085    A4   -99   -14   18    6           3   -63   \n",
      "190  19.953140  50.046989    A4  -100   -14   18    6  2147483647   -65   \n",
      "191  19.952341  50.046841    A4   -95   -12   18    6           2   -61   \n",
      "192  19.951052  50.046548    A4   -92   -11   18    6           2   -59   \n",
      "\n",
      "      chunk  label  \n",
      "0    (5, 4)     54  \n",
      "1    (5, 4)     54  \n",
      "2    (5, 4)     54  \n",
      "3    (5, 4)     54  \n",
      "4    (6, 4)     64  \n",
      "..      ...    ...  \n",
      "188  (5, 5)     55  \n",
      "189  (5, 5)     55  \n",
      "190  (5, 5)     55  \n",
      "191  (4, 5)     45  \n",
      "192  (4, 5)     45  \n",
      "\n",
      "[193 rows x 11 columns]\n",
      "                   time   latitude  longitude  accuracy    pci bts_cell_id  \\\n",
      "0   2024-01-07 21:55:48  50.043976  19.955297     9.971   [19]    {260-06}   \n",
      "1   2024-01-07 21:55:58  50.043966  19.955407    17.131   [19]    {260-06}   \n",
      "2   2024-01-07 21:56:07  50.043881  19.955436    19.444   [19]    {260-06}   \n",
      "3   2024-01-07 21:56:18  50.043876  19.955529    21.244   [19]    {260-06}   \n",
      "4   2024-01-07 21:56:27  50.044069  19.956576    22.205  [214]    {260-06}   \n",
      "..                  ...        ...        ...       ...    ...         ...   \n",
      "190 2024-01-07 22:35:47  50.043679  19.951091     8.644   [19]    {260-06}   \n",
      "191 2024-01-07 22:35:59  50.043561  19.951416    82.576   [19]    {260-06}   \n",
      "192 2024-01-07 22:36:07  50.043615  19.952135    12.576   [19]    {260-06}   \n",
      "193 2024-01-07 22:36:25  50.043734  19.953803    71.759   [19]    {260-06}   \n",
      "194 2024-01-07 22:36:48  50.043863  19.955056    26.422   [19]    {260-06}   \n",
      "\n",
      "                                                   lte   chunk  label  \n",
      "0    [{'signal': {'rssi': -65, 'rsrp': -103, 'rsrq'...  (5, 4)     54  \n",
      "1    [{'signal': {'rssi': -69, 'rsrp': -105, 'rsrq'...  (5, 4)     54  \n",
      "2    [{'signal': {'rssi': -59, 'rsrp': -93, 'rsrq':...  (5, 4)     54  \n",
      "3    [{'signal': {'rssi': -59, 'rsrp': -95, 'rsrq':...  (5, 4)     54  \n",
      "4    [{'signal': {'rssi': -55, 'rsrp': -88, 'rsrq':...  (5, 4)     54  \n",
      "..                                                 ...     ...    ...  \n",
      "190  [{'signal': {'rssi': -51, 'rsrp': -82, 'rsrq':...  (4, 4)     44  \n",
      "191  [{'signal': {'rssi': -63, 'rsrp': -100, 'rsrq'...  (4, 4)     44  \n",
      "192  [{'signal': {'rssi': -65, 'rsrp': -102, 'rsrq'...  (4, 4)     44  \n",
      "193  [{'signal': {'rssi': -57, 'rsrp': -93, 'rsrq':...  (5, 4)     54  \n",
      "194  [{'signal': {'rssi': -67, 'rsrp': -104, 'rsrq'...  (5, 4)     54  \n",
      "\n",
      "[182 rows x 9 columns]\n"
     ]
    }
   ],
   "source": [
    "# append label column to events_data\n",
    "def coordinates_to_chunk_label(longitude: float, latitude: float) -> tuple[int, int]:\n",
    "    label_x = int((longitude - min_longitude) // chunk_width)\n",
    "    label_y = int((latitude - min_latitude) // chunk_height)\n",
    "    return label_x, label_y\n",
    "\n",
    "\n",
    "events_data[\"chunk\"] = events_data.apply(\n",
    "    lambda event: coordinates_to_chunk_label(event[\"longitude\"], event[\"latitude\"]),\n",
    "    axis=1,\n",
    ")\n",
    "\n",
    "events_data[\"label\"] = events_data.apply(\n",
    "    lambda point: point[\"chunk\"][0] * CHUNKS_COUNT + point[\"chunk\"][1], axis=1\n",
    ")\n",
    "\n",
    "# for raw data, some points may actually lie outside of the grid\n",
    "data[\"chunk\"] = data.apply(\n",
    "    lambda point: coordinates_to_chunk_label(point[\"longitude\"], point[\"latitude\"]),\n",
    "    axis=1,\n",
    ")\n",
    "\n",
    "data[\"label\"] = data.apply(\n",
    "    lambda point: point[\"chunk\"][0] * CHUNKS_COUNT + point[\"chunk\"][1], axis=1\n",
    ")\n",
    "\n",
    "print(events_data)\n",
    "print(data)"
   ]
  },
  {
   "cell_type": "code",
   "execution_count": 23,
   "metadata": {},
   "outputs": [
    {
     "data": {
      "application/vnd.plotly.v1+json": {
       "config": {
        "plotlyServerURL": "https://plot.ly"
       },
       "data": [
        {
         "customdata": [
          [
           19.9559137,
           50.0450921,
           -84,
           -14,
           "A1",
           [
            5,
            5
           ],
           55
          ],
          [
           19.9551673,
           50.0469147,
           -87,
           -16,
           "A1",
           [
            5,
            5
           ],
           55
          ],
          [
           19.9553623,
           50.0473473,
           -101,
           -17,
           "A1",
           [
            5,
            6
           ],
           56
          ],
          [
           19.956333,
           50.0473378,
           -92,
           -17,
           "A1",
           [
            5,
            6
           ],
           56
          ],
          [
           19.949473,
           50.046342,
           -87,
           -14,
           "A1",
           [
            4,
            5
           ],
           45
          ],
          [
           19.9519524,
           50.0472805,
           -99,
           -17,
           "A1",
           [
            4,
            5
           ],
           45
          ]
         ],
         "hovertemplate": "<b>%{hovertext}</b><br><br>latitude=%{customdata[1]}<br>longitude=%{customdata[0]}<br>rsrp=%{customdata[2]}<br>rsrq=%{customdata[3]}<br>chunk=%{customdata[5]}<br>label=%{customdata[6]}<extra></extra>",
         "hovertext": [
          "A1",
          "A1",
          "A1",
          "A1",
          "A1",
          "A1"
         ],
         "lat": [
          50.0450921,
          50.0469147,
          50.0473473,
          50.0473378,
          50.046342,
          50.0472805
         ],
         "legendgroup": "A1",
         "lon": [
          19.9559137,
          19.9551673,
          19.9553623,
          19.956333,
          19.949473,
          19.9519524
         ],
         "marker": {
          "color": "black"
         },
         "mode": "markers",
         "name": "A1",
         "showlegend": true,
         "subplot": "mapbox",
         "type": "scattermapbox"
        },
        {
         "customdata": [
          [
           19.9578008,
           50.0470486,
           -101,
           -20,
           "A2",
           [
            6,
            5
           ],
           65
          ],
          [
           19.9568124,
           50.0459123,
           -107,
           -20,
           "A2",
           [
            5,
            5
           ],
           55
          ],
          [
           19.9566189,
           50.0466263,
           -107,
           -20,
           "A2",
           [
            5,
            5
           ],
           55
          ],
          [
           19.957776,
           50.045435,
           -106,
           -20,
           "A2",
           [
            6,
            5
           ],
           65
          ],
          [
           19.9553938,
           50.0455022,
           -102,
           -20,
           "A2",
           [
            5,
            5
           ],
           55
          ],
          [
           19.9553921,
           50.0455226,
           -104,
           -20,
           "A2",
           [
            5,
            5
           ],
           55
          ]
         ],
         "hovertemplate": "<b>%{hovertext}</b><br><br>latitude=%{customdata[1]}<br>longitude=%{customdata[0]}<br>rsrp=%{customdata[2]}<br>rsrq=%{customdata[3]}<br>chunk=%{customdata[5]}<br>label=%{customdata[6]}<extra></extra>",
         "hovertext": [
          "A2",
          "A2",
          "A2",
          "A2",
          "A2",
          "A2"
         ],
         "lat": [
          50.0470486,
          50.0459123,
          50.0466263,
          50.045435,
          50.0455022,
          50.0455226
         ],
         "legendgroup": "A2",
         "lon": [
          19.9578008,
          19.9568124,
          19.9566189,
          19.957776,
          19.9553938,
          19.9553921
         ],
         "marker": {
          "color": "blue"
         },
         "mode": "markers",
         "name": "A2",
         "showlegend": true,
         "subplot": "mapbox",
         "type": "scattermapbox"
        },
        {
         "customdata": [
          [
           19.9555291,
           50.0438764,
           -95,
           -15,
           "A3",
           [
            5,
            4
           ],
           54
          ],
          [
           19.9566189,
           50.0466263,
           -107,
           -20,
           "A3",
           [
            5,
            5
           ],
           55
          ],
          [
           19.9566439,
           50.0470735,
           -109,
           -20,
           "A3",
           [
            5,
            5
           ],
           55
          ],
          [
           19.9508881,
           50.0451097,
           -100,
           -11,
           "A3",
           [
            4,
            5
           ],
           45
          ],
          [
           19.9462349,
           50.0434267,
           -85,
           -13,
           "A3",
           [
            3,
            4
           ],
           34
          ],
          [
           19.941523,
           50.0439442,
           -83,
           -11,
           "A3",
           [
            2,
            4
           ],
           24
          ],
          [
           19.9453711,
           50.044702,
           -84,
           -19,
           "A3",
           [
            3,
            4
           ],
           34
          ],
          [
           19.9496567,
           50.0448271,
           -87,
           -12,
           "A3",
           [
            4,
            5
           ],
           45
          ],
          [
           19.9496404,
           50.0448998,
           -92,
           -13,
           "A3",
           [
            4,
            5
           ],
           45
          ],
          [
           19.9481708,
           50.0459479,
           -87,
           -12,
           "A3",
           [
            3,
            5
           ],
           35
          ],
          [
           19.949473,
           50.046342,
           -87,
           -14,
           "A3",
           [
            4,
            5
           ],
           45
          ],
          [
           19.9553921,
           50.0455226,
           -104,
           -20,
           "A3",
           [
            5,
            5
           ],
           55
          ]
         ],
         "hovertemplate": "<b>%{hovertext}</b><br><br>latitude=%{customdata[1]}<br>longitude=%{customdata[0]}<br>rsrp=%{customdata[2]}<br>rsrq=%{customdata[3]}<br>chunk=%{customdata[5]}<br>label=%{customdata[6]}<extra></extra>",
         "hovertext": [
          "A3",
          "A3",
          "A3",
          "A3",
          "A3",
          "A3",
          "A3",
          "A3",
          "A3",
          "A3",
          "A3",
          "A3"
         ],
         "lat": [
          50.0438764,
          50.0466263,
          50.0470735,
          50.0451097,
          50.0434267,
          50.0439442,
          50.044702,
          50.0448271,
          50.0448998,
          50.0459479,
          50.046342,
          50.0455226
         ],
         "legendgroup": "A3",
         "lon": [
          19.9555291,
          19.9566189,
          19.9566439,
          19.9508881,
          19.9462349,
          19.941523,
          19.9453711,
          19.9496567,
          19.9496404,
          19.9481708,
          19.949473,
          19.9553921
         ],
         "marker": {
          "color": "forestgreen"
         },
         "mode": "markers",
         "name": "A3",
         "showlegend": true,
         "subplot": "mapbox",
         "type": "scattermapbox"
        },
        {
         "customdata": [
          [
           19.9554362,
           50.043881,
           -93,
           -14,
           "A4",
           [
            5,
            4
           ],
           54
          ],
          [
           19.9555291,
           50.0438764,
           -95,
           -15,
           "A4",
           [
            5,
            4
           ],
           54
          ],
          [
           19.9565761,
           50.044069,
           -88,
           -14,
           "A4",
           [
            5,
            4
           ],
           54
          ],
          [
           19.9576786,
           50.0438588,
           -90,
           -9,
           "A4",
           [
            6,
            4
           ],
           64
          ],
          [
           19.9580451,
           50.0438061,
           -89,
           -9,
           "A4",
           [
            6,
            4
           ],
           64
          ],
          [
           19.9588542,
           50.0436816,
           -85,
           -8,
           "A4",
           [
            6,
            4
           ],
           64
          ],
          [
           19.9593014,
           50.0435971,
           -81,
           -7,
           "A4",
           [
            6,
            4
           ],
           64
          ],
          [
           19.9609912,
           50.0421791,
           -72,
           -9,
           "A4",
           [
            6,
            4
           ],
           64
          ],
          [
           19.9628379,
           50.0418007,
           -70,
           -12,
           "A4",
           [
            7,
            3
           ],
           73
          ],
          [
           19.9646071,
           50.0423506,
           -73,
           -12,
           "A4",
           [
            7,
            4
           ],
           74
          ],
          [
           19.9643192,
           50.0424699,
           -74,
           -12,
           "A4",
           [
            7,
            4
           ],
           74
          ],
          [
           19.9639957,
           50.0426539,
           -72,
           -9,
           "A4",
           [
            7,
            4
           ],
           74
          ],
          [
           19.9611108,
           50.0423635,
           -73,
           -10,
           "A4",
           [
            6,
            4
           ],
           64
          ],
          [
           19.9599164,
           50.0433273,
           -88,
           -13,
           "A4",
           [
            6,
            4
           ],
           64
          ],
          [
           19.9582089,
           50.0442152,
           -101,
           -15,
           "A4",
           [
            6,
            4
           ],
           64
          ],
          [
           19.9574153,
           50.0449612,
           -103,
           -18,
           "A4",
           [
            6,
            5
           ],
           65
          ],
          [
           19.9586771,
           50.04487,
           -97,
           -15,
           "A4",
           [
            6,
            5
           ],
           65
          ],
          [
           19.9598041,
           50.0446543,
           -95,
           -13,
           "A4",
           [
            6,
            4
           ],
           64
          ],
          [
           19.9614937,
           50.0446952,
           -72,
           -7,
           "A4",
           [
            6,
            4
           ],
           64
          ],
          [
           19.9621964,
           50.0448849,
           -83,
           -9,
           "A4",
           [
            7,
            5
           ],
           75
          ],
          [
           19.9609392,
           50.0445756,
           -84,
           -10,
           "A4",
           [
            6,
            4
           ],
           64
          ],
          [
           19.9614751,
           50.0439235,
           -85,
           -11,
           "A4",
           [
            6,
            4
           ],
           64
          ],
          [
           19.9614804,
           50.0438055,
           -89,
           -10,
           "A4",
           [
            6,
            4
           ],
           64
          ],
          [
           19.9613428,
           50.0437732,
           -89,
           -10,
           "A4",
           [
            6,
            4
           ],
           64
          ],
          [
           19.9609091,
           50.0436412,
           -99,
           -13,
           "A4",
           [
            6,
            4
           ],
           64
          ],
          [
           19.9605888,
           50.0435203,
           -90,
           -7,
           "A4",
           [
            6,
            4
           ],
           64
          ],
          [
           19.9601662,
           50.0433589,
           -88,
           -8,
           "A4",
           [
            6,
            4
           ],
           64
          ],
          [
           19.9598751,
           50.0432567,
           -89,
           -8,
           "A4",
           [
            6,
            4
           ],
           64
          ],
          [
           19.9595133,
           50.0436194,
           -94,
           -9,
           "A4",
           [
            6,
            4
           ],
           64
          ],
          [
           19.959915,
           50.0439087,
           -96,
           -12,
           "A4",
           [
            6,
            4
           ],
           64
          ],
          [
           19.9603239,
           50.0440777,
           -88,
           -9,
           "A4",
           [
            6,
            4
           ],
           64
          ],
          [
           19.9609223,
           50.0443209,
           -89,
           -9,
           "A4",
           [
            6,
            4
           ],
           64
          ],
          [
           19.9612321,
           50.0444139,
           -82,
           -8,
           "A4",
           [
            6,
            4
           ],
           64
          ],
          [
           19.9611991,
           50.044571,
           -78,
           -8,
           "A4",
           [
            6,
            4
           ],
           64
          ],
          [
           19.9606298,
           50.0447841,
           -101,
           -13,
           "A4",
           [
            6,
            5
           ],
           65
          ],
          [
           19.9595939,
           50.0447945,
           -108,
           -17,
           "A4",
           [
            6,
            5
           ],
           65
          ],
          [
           19.958227,
           50.0449784,
           -106,
           -16,
           "A4",
           [
            6,
            5
           ],
           65
          ],
          [
           19.9579305,
           50.0450376,
           -106,
           -17,
           "A4",
           [
            6,
            5
           ],
           65
          ],
          [
           19.9571518,
           50.0450607,
           -92,
           -16,
           "A4",
           [
            5,
            5
           ],
           55
          ],
          [
           19.9569724,
           50.0452455,
           -90,
           -15,
           "A4",
           [
            5,
            5
           ],
           55
          ],
          [
           19.9578677,
           50.044267,
           -100,
           -14,
           "A4",
           [
            6,
            4
           ],
           64
          ],
          [
           19.9562091,
           50.0448242,
           -105,
           -17,
           "A4",
           [
            5,
            5
           ],
           55
          ],
          [
           19.9559137,
           50.0450921,
           -84,
           -14,
           "A4",
           [
            5,
            5
           ],
           55
          ],
          [
           19.9559169,
           50.0451001,
           -90,
           -17,
           "A4",
           [
            5,
            5
           ],
           55
          ],
          [
           19.9557433,
           50.04528,
           -89,
           -15,
           "A4",
           [
            5,
            5
           ],
           55
          ],
          [
           19.955392,
           50.045946,
           -89,
           -18,
           "A4",
           [
            5,
            5
           ],
           55
          ],
          [
           19.9551673,
           50.0469147,
           -87,
           -16,
           "A4",
           [
            5,
            5
           ],
           55
          ],
          [
           19.9551112,
           50.0470795,
           -96,
           -14,
           "A4",
           [
            5,
            5
           ],
           55
          ],
          [
           19.9553623,
           50.0473473,
           -101,
           -17,
           "A4",
           [
            5,
            6
           ],
           56
          ],
          [
           19.956333,
           50.0473378,
           -92,
           -17,
           "A4",
           [
            5,
            6
           ],
           56
          ],
          [
           19.957592,
           50.0473393,
           -96,
           -19,
           "A4",
           [
            6,
            6
           ],
           66
          ],
          [
           19.9578008,
           50.0470486,
           -101,
           -20,
           "A4",
           [
            6,
            5
           ],
           65
          ],
          [
           19.9577583,
           50.0465491,
           -100,
           -16,
           "A4",
           [
            6,
            5
           ],
           65
          ],
          [
           19.9576821,
           50.0461799,
           -100,
           -16,
           "A4",
           [
            6,
            5
           ],
           65
          ],
          [
           19.9572933,
           50.0459317,
           -109,
           -18,
           "A4",
           [
            5,
            5
           ],
           55
          ],
          [
           19.9568124,
           50.0459123,
           -107,
           -20,
           "A4",
           [
            5,
            5
           ],
           55
          ],
          [
           19.9566905,
           50.046435,
           -102,
           -18,
           "A4",
           [
            5,
            5
           ],
           55
          ],
          [
           19.9566189,
           50.0466263,
           -107,
           -20,
           "A4",
           [
            5,
            5
           ],
           55
          ],
          [
           19.9566439,
           50.0470735,
           -109,
           -20,
           "A4",
           [
            5,
            5
           ],
           55
          ],
          [
           19.956633,
           50.0473061,
           -89,
           -14,
           "A4",
           [
            5,
            6
           ],
           56
          ],
          [
           19.9571688,
           50.0473144,
           -87,
           -15,
           "A4",
           [
            5,
            6
           ],
           56
          ],
          [
           19.9576396,
           50.0472931,
           -95,
           -17,
           "A4",
           [
            6,
            6
           ],
           66
          ],
          [
           19.9578534,
           50.0471157,
           -96,
           -15,
           "A4",
           [
            6,
            5
           ],
           65
          ],
          [
           19.9578005,
           50.0467281,
           -99,
           -15,
           "A4",
           [
            6,
            5
           ],
           65
          ],
          [
           19.9577382,
           50.0463486,
           -100,
           -16,
           "A4",
           [
            6,
            5
           ],
           65
          ],
          [
           19.9577801,
           50.0459292,
           -108,
           -17,
           "A4",
           [
            6,
            5
           ],
           65
          ],
          [
           19.9578088,
           50.0455916,
           -105,
           -16,
           "A4",
           [
            6,
            5
           ],
           65
          ],
          [
           19.957776,
           50.045435,
           -106,
           -20,
           "A4",
           [
            6,
            5
           ],
           65
          ],
          [
           19.9577941,
           50.0451006,
           -92,
           -15,
           "A4",
           [
            6,
            5
           ],
           65
          ],
          [
           19.9574917,
           50.0448292,
           -91,
           -16,
           "A4",
           [
            6,
            5
           ],
           65
          ],
          [
           19.9577754,
           50.0445052,
           -98,
           -14,
           "A4",
           [
            6,
            4
           ],
           64
          ],
          [
           19.957904,
           50.0442764,
           -98,
           -13,
           "A4",
           [
            6,
            4
           ],
           64
          ],
          [
           19.9571302,
           50.0444969,
           -90,
           -14,
           "A4",
           [
            5,
            4
           ],
           54
          ],
          [
           19.9559543,
           50.0450498,
           -103,
           -17,
           "A4",
           [
            5,
            5
           ],
           55
          ],
          [
           19.9542266,
           50.0452101,
           -82,
           -13,
           "A4",
           [
            5,
            5
           ],
           55
          ],
          [
           19.9525952,
           50.0451379,
           -99,
           -12,
           "A4",
           [
            4,
            5
           ],
           45
          ],
          [
           19.9508881,
           50.0451097,
           -100,
           -11,
           "A4",
           [
            4,
            5
           ],
           45
          ],
          [
           19.9495293,
           50.0449852,
           -94,
           -14,
           "A4",
           [
            4,
            5
           ],
           45
          ],
          [
           19.9481694,
           50.044394,
           -61,
           -11,
           "A4",
           [
            3,
            4
           ],
           34
          ],
          [
           19.9462349,
           50.0434267,
           -85,
           -13,
           "A4",
           [
            3,
            4
           ],
           34
          ],
          [
           19.944548,
           50.0425345,
           -72,
           -10,
           "A4",
           [
            3,
            4
           ],
           34
          ],
          [
           19.9432492,
           50.0418475,
           -79,
           -13,
           "A4",
           [
            2,
            3
           ],
           23
          ],
          [
           19.9429001,
           50.0421735,
           -88,
           -12,
           "A4",
           [
            2,
            4
           ],
           24
          ],
          [
           19.942478,
           50.0425242,
           -84,
           -13,
           "A4",
           [
            2,
            4
           ],
           24
          ],
          [
           19.9420322,
           50.042881,
           -85,
           -14,
           "A4",
           [
            2,
            4
           ],
           24
          ],
          [
           19.9414344,
           50.0432599,
           -77,
           -8,
           "A4",
           [
            2,
            4
           ],
           24
          ],
          [
           19.9414921,
           50.0439236,
           -76,
           -9,
           "A4",
           [
            2,
            4
           ],
           24
          ],
          [
           19.9429862,
           50.0441504,
           -85,
           -15,
           "A4",
           [
            2,
            4
           ],
           24
          ],
          [
           19.9440192,
           50.0440468,
           -76,
           -13,
           "A4",
           [
            2,
            4
           ],
           24
          ],
          [
           19.9445168,
           50.0436041,
           -81,
           -13,
           "A4",
           [
            3,
            4
           ],
           34
          ],
          [
           19.9448311,
           50.0433375,
           -86,
           -12,
           "A4",
           [
            3,
            4
           ],
           34
          ],
          [
           19.944119,
           50.043165,
           -83,
           -13,
           "A4",
           [
            2,
            4
           ],
           24
          ],
          [
           19.9433193,
           50.0430665,
           -83,
           -14,
           "A4",
           [
            2,
            4
           ],
           24
          ],
          [
           19.9425382,
           50.0429553,
           -79,
           -10,
           "A4",
           [
            2,
            4
           ],
           24
          ],
          [
           19.9415962,
           50.0431456,
           -78,
           -11,
           "A4",
           [
            2,
            4
           ],
           24
          ],
          [
           19.941523,
           50.0439442,
           -83,
           -11,
           "A4",
           [
            2,
            4
           ],
           24
          ],
          [
           19.9430528,
           50.0441666,
           -84,
           -15,
           "A4",
           [
            2,
            4
           ],
           24
          ],
          [
           19.9446608,
           50.0444907,
           -83,
           -12,
           "A4",
           [
            3,
            4
           ],
           34
          ],
          [
           19.9455492,
           50.0447623,
           -71,
           -11,
           "A4",
           [
            3,
            5
           ],
           35
          ],
          [
           19.9453606,
           50.044707,
           -72,
           -11,
           "A4",
           [
            3,
            4
           ],
           34
          ],
          [
           19.9453673,
           50.0447066,
           -73,
           -12,
           "A4",
           [
            3,
            4
           ],
           34
          ],
          [
           19.9453711,
           50.044702,
           -84,
           -19,
           "A4",
           [
            3,
            4
           ],
           34
          ],
          [
           19.9458321,
           50.0445644,
           -78,
           -13,
           "A4",
           [
            3,
            4
           ],
           34
          ],
          [
           19.9462527,
           50.0442888,
           -77,
           -15,
           "A4",
           [
            3,
            4
           ],
           34
          ],
          [
           19.9470109,
           50.0437851,
           -86,
           -17,
           "A4",
           [
            3,
            4
           ],
           34
          ],
          [
           19.94795,
           50.0439563,
           -70,
           -10,
           "A4",
           [
            3,
            4
           ],
           34
          ],
          [
           19.9486241,
           50.0443156,
           -77,
           -17,
           "A4",
           [
            3,
            4
           ],
           34
          ],
          [
           19.9492811,
           50.0438077,
           -83,
           -13,
           "A4",
           [
            4,
            4
           ],
           44
          ],
          [
           19.9496567,
           50.0448271,
           -87,
           -12,
           "A4",
           [
            4,
            5
           ],
           45
          ],
          [
           19.9496404,
           50.0448998,
           -92,
           -13,
           "A4",
           [
            4,
            5
           ],
           45
          ],
          [
           19.9488735,
           50.0447133,
           -93,
           -17,
           "A4",
           [
            4,
            5
           ],
           45
          ],
          [
           19.9478505,
           50.0451365,
           -80,
           -16,
           "A4",
           [
            3,
            5
           ],
           35
          ],
          [
           19.9473141,
           50.0453443,
           -90,
           -18,
           "A4",
           [
            3,
            5
           ],
           35
          ],
          [
           19.9469416,
           50.0453934,
           -79,
           -11,
           "A4",
           [
            3,
            5
           ],
           35
          ],
          [
           19.9460873,
           50.0450589,
           -82,
           -14,
           "A4",
           [
            3,
            5
           ],
           35
          ],
          [
           19.9458103,
           50.0448946,
           -80,
           -12,
           "A4",
           [
            3,
            5
           ],
           35
          ],
          [
           19.9458117,
           50.0448785,
           -75,
           -12,
           "A4",
           [
            3,
            5
           ],
           35
          ],
          [
           19.9455778,
           50.044735,
           -78,
           -15,
           "A4",
           [
            3,
            5
           ],
           35
          ],
          [
           19.9445056,
           50.044439,
           -76,
           -13,
           "A4",
           [
            3,
            4
           ],
           34
          ],
          [
           19.9441782,
           50.0439012,
           -77,
           -13,
           "A4",
           [
            2,
            4
           ],
           24
          ],
          [
           19.9445516,
           50.0435834,
           -77,
           -12,
           "A4",
           [
            3,
            4
           ],
           34
          ],
          [
           19.944872,
           50.0434433,
           -88,
           -15,
           "A4",
           [
            3,
            4
           ],
           34
          ],
          [
           19.94535,
           50.043664,
           -88,
           -15,
           "A4",
           [
            3,
            4
           ],
           34
          ],
          [
           19.945975,
           50.0440133,
           -82,
           -14,
           "A4",
           [
            3,
            4
           ],
           34
          ],
          [
           19.9463876,
           50.0441923,
           -81,
           -15,
           "A4",
           [
            3,
            4
           ],
           34
          ],
          [
           19.9467891,
           50.0440001,
           -84,
           -17,
           "A4",
           [
            3,
            4
           ],
           34
          ],
          [
           19.9468273,
           50.0439727,
           -84,
           -16,
           "A4",
           [
            3,
            4
           ],
           34
          ],
          [
           19.9486155,
           50.0446493,
           -84,
           -17,
           "A4",
           [
            3,
            4
           ],
           34
          ],
          [
           19.9481076,
           50.0451678,
           -87,
           -19,
           "A4",
           [
            3,
            5
           ],
           35
          ],
          [
           19.9481708,
           50.0459479,
           -87,
           -12,
           "A4",
           [
            3,
            5
           ],
           35
          ],
          [
           19.9488924,
           50.0461599,
           -81,
           -10,
           "A4",
           [
            4,
            5
           ],
           45
          ],
          [
           19.9490433,
           50.046168,
           -85,
           -15,
           "A4",
           [
            4,
            5
           ],
           45
          ],
          [
           19.949473,
           50.046342,
           -87,
           -14,
           "A4",
           [
            4,
            5
           ],
           45
          ],
          [
           19.9499699,
           50.0465704,
           -87,
           -16,
           "A4",
           [
            4,
            5
           ],
           45
          ],
          [
           19.9504418,
           50.0467767,
           -86,
           -15,
           "A4",
           [
            4,
            5
           ],
           45
          ],
          [
           19.9510331,
           50.0470189,
           -99,
           -18,
           "A4",
           [
            4,
            5
           ],
           45
          ],
          [
           19.9519524,
           50.0472805,
           -99,
           -17,
           "A4",
           [
            4,
            5
           ],
           45
          ],
          [
           19.9532717,
           50.0476201,
           -96,
           -15,
           "A4",
           [
            5,
            6
           ],
           56
          ],
          [
           19.953957,
           50.0471907,
           -97,
           -14,
           "A4",
           [
            5,
            5
           ],
           55
          ],
          [
           19.9540694,
           50.0468147,
           -94,
           -15,
           "A4",
           [
            5,
            5
           ],
           55
          ],
          [
           19.9548899,
           50.0463109,
           -97,
           -16,
           "A4",
           [
            5,
            5
           ],
           55
          ],
          [
           19.9552007,
           50.0460361,
           -102,
           -17,
           "A4",
           [
            5,
            5
           ],
           55
          ],
          [
           19.9553938,
           50.0455022,
           -102,
           -20,
           "A4",
           [
            5,
            5
           ],
           55
          ],
          [
           19.9553881,
           50.0455206,
           -88,
           -14,
           "A4",
           [
            5,
            5
           ],
           55
          ],
          [
           19.9553983,
           50.0455189,
           -89,
           -15,
           "A4",
           [
            5,
            5
           ],
           55
          ],
          [
           19.9554035,
           50.0455259,
           -89,
           -15,
           "A4",
           [
            5,
            5
           ],
           55
          ],
          [
           19.9553921,
           50.0455226,
           -104,
           -20,
           "A4",
           [
            5,
            5
           ],
           55
          ],
          [
           19.9553982,
           50.0455162,
           -89,
           -15,
           "A4",
           [
            5,
            5
           ],
           55
          ],
          [
           19.9553921,
           50.045518,
           -89,
           -15,
           "A4",
           [
            5,
            5
           ],
           55
          ],
          [
           19.9553886,
           50.0455155,
           -88,
           -15,
           "A4",
           [
            5,
            5
           ],
           55
          ],
          [
           19.9553757,
           50.0455234,
           -88,
           -14,
           "A4",
           [
            5,
            5
           ],
           55
          ],
          [
           19.9553758,
           50.0455249,
           -88,
           -14,
           "A4",
           [
            5,
            5
           ],
           55
          ],
          [
           19.9553779,
           50.0455322,
           -89,
           -14,
           "A4",
           [
            5,
            5
           ],
           55
          ],
          [
           19.9552241,
           50.0453692,
           -89,
           -16,
           "A4",
           [
            5,
            5
           ],
           55
          ],
          [
           19.9541911,
           50.0451611,
           -96,
           -15,
           "A4",
           [
            5,
            5
           ],
           55
          ],
          [
           19.9524927,
           50.0450178,
           -93,
           -16,
           "A4",
           [
            4,
            5
           ],
           45
          ],
          [
           19.9530084,
           50.0457747,
           -101,
           -16,
           "A4",
           [
            4,
            5
           ],
           45
          ],
          [
           19.9537649,
           50.0456242,
           -99,
           -17,
           "A4",
           [
            5,
            5
           ],
           55
          ],
          [
           19.9538225,
           50.0470848,
           -99,
           -14,
           "A4",
           [
            5,
            5
           ],
           55
          ],
          [
           19.9531405,
           50.0469892,
           -100,
           -14,
           "A4",
           [
            5,
            5
           ],
           55
          ],
          [
           19.9523408,
           50.0468415,
           -95,
           -12,
           "A4",
           [
            4,
            5
           ],
           45
          ],
          [
           19.951052,
           50.0465479,
           -92,
           -11,
           "A4",
           [
            4,
            5
           ],
           45
          ]
         ],
         "hovertemplate": "<b>%{hovertext}</b><br><br>latitude=%{customdata[1]}<br>longitude=%{customdata[0]}<br>rsrp=%{customdata[2]}<br>rsrq=%{customdata[3]}<br>chunk=%{customdata[5]}<br>label=%{customdata[6]}<extra></extra>",
         "hovertext": [
          "A4",
          "A4",
          "A4",
          "A4",
          "A4",
          "A4",
          "A4",
          "A4",
          "A4",
          "A4",
          "A4",
          "A4",
          "A4",
          "A4",
          "A4",
          "A4",
          "A4",
          "A4",
          "A4",
          "A4",
          "A4",
          "A4",
          "A4",
          "A4",
          "A4",
          "A4",
          "A4",
          "A4",
          "A4",
          "A4",
          "A4",
          "A4",
          "A4",
          "A4",
          "A4",
          "A4",
          "A4",
          "A4",
          "A4",
          "A4",
          "A4",
          "A4",
          "A4",
          "A4",
          "A4",
          "A4",
          "A4",
          "A4",
          "A4",
          "A4",
          "A4",
          "A4",
          "A4",
          "A4",
          "A4",
          "A4",
          "A4",
          "A4",
          "A4",
          "A4",
          "A4",
          "A4",
          "A4",
          "A4",
          "A4",
          "A4",
          "A4",
          "A4",
          "A4",
          "A4",
          "A4",
          "A4",
          "A4",
          "A4",
          "A4",
          "A4",
          "A4",
          "A4",
          "A4",
          "A4",
          "A4",
          "A4",
          "A4",
          "A4",
          "A4",
          "A4",
          "A4",
          "A4",
          "A4",
          "A4",
          "A4",
          "A4",
          "A4",
          "A4",
          "A4",
          "A4",
          "A4",
          "A4",
          "A4",
          "A4",
          "A4",
          "A4",
          "A4",
          "A4",
          "A4",
          "A4",
          "A4",
          "A4",
          "A4",
          "A4",
          "A4",
          "A4",
          "A4",
          "A4",
          "A4",
          "A4",
          "A4",
          "A4",
          "A4",
          "A4",
          "A4",
          "A4",
          "A4",
          "A4",
          "A4",
          "A4",
          "A4",
          "A4",
          "A4",
          "A4",
          "A4",
          "A4",
          "A4",
          "A4",
          "A4",
          "A4",
          "A4",
          "A4",
          "A4",
          "A4",
          "A4",
          "A4",
          "A4",
          "A4",
          "A4",
          "A4",
          "A4",
          "A4",
          "A4",
          "A4",
          "A4",
          "A4",
          "A4",
          "A4",
          "A4",
          "A4",
          "A4",
          "A4",
          "A4",
          "A4",
          "A4",
          "A4"
         ],
         "lat": [
          50.043881,
          50.0438764,
          50.044069,
          50.0438588,
          50.0438061,
          50.0436816,
          50.0435971,
          50.0421791,
          50.0418007,
          50.0423506,
          50.0424699,
          50.0426539,
          50.0423635,
          50.0433273,
          50.0442152,
          50.0449612,
          50.04487,
          50.0446543,
          50.0446952,
          50.0448849,
          50.0445756,
          50.0439235,
          50.0438055,
          50.0437732,
          50.0436412,
          50.0435203,
          50.0433589,
          50.0432567,
          50.0436194,
          50.0439087,
          50.0440777,
          50.0443209,
          50.0444139,
          50.044571,
          50.0447841,
          50.0447945,
          50.0449784,
          50.0450376,
          50.0450607,
          50.0452455,
          50.044267,
          50.0448242,
          50.0450921,
          50.0451001,
          50.04528,
          50.045946,
          50.0469147,
          50.0470795,
          50.0473473,
          50.0473378,
          50.0473393,
          50.0470486,
          50.0465491,
          50.0461799,
          50.0459317,
          50.0459123,
          50.046435,
          50.0466263,
          50.0470735,
          50.0473061,
          50.0473144,
          50.0472931,
          50.0471157,
          50.0467281,
          50.0463486,
          50.0459292,
          50.0455916,
          50.045435,
          50.0451006,
          50.0448292,
          50.0445052,
          50.0442764,
          50.0444969,
          50.0450498,
          50.0452101,
          50.0451379,
          50.0451097,
          50.0449852,
          50.044394,
          50.0434267,
          50.0425345,
          50.0418475,
          50.0421735,
          50.0425242,
          50.042881,
          50.0432599,
          50.0439236,
          50.0441504,
          50.0440468,
          50.0436041,
          50.0433375,
          50.043165,
          50.0430665,
          50.0429553,
          50.0431456,
          50.0439442,
          50.0441666,
          50.0444907,
          50.0447623,
          50.044707,
          50.0447066,
          50.044702,
          50.0445644,
          50.0442888,
          50.0437851,
          50.0439563,
          50.0443156,
          50.0438077,
          50.0448271,
          50.0448998,
          50.0447133,
          50.0451365,
          50.0453443,
          50.0453934,
          50.0450589,
          50.0448946,
          50.0448785,
          50.044735,
          50.044439,
          50.0439012,
          50.0435834,
          50.0434433,
          50.043664,
          50.0440133,
          50.0441923,
          50.0440001,
          50.0439727,
          50.0446493,
          50.0451678,
          50.0459479,
          50.0461599,
          50.046168,
          50.046342,
          50.0465704,
          50.0467767,
          50.0470189,
          50.0472805,
          50.0476201,
          50.0471907,
          50.0468147,
          50.0463109,
          50.0460361,
          50.0455022,
          50.0455206,
          50.0455189,
          50.0455259,
          50.0455226,
          50.0455162,
          50.045518,
          50.0455155,
          50.0455234,
          50.0455249,
          50.0455322,
          50.0453692,
          50.0451611,
          50.0450178,
          50.0457747,
          50.0456242,
          50.0470848,
          50.0469892,
          50.0468415,
          50.0465479
         ],
         "legendgroup": "A4",
         "lon": [
          19.9554362,
          19.9555291,
          19.9565761,
          19.9576786,
          19.9580451,
          19.9588542,
          19.9593014,
          19.9609912,
          19.9628379,
          19.9646071,
          19.9643192,
          19.9639957,
          19.9611108,
          19.9599164,
          19.9582089,
          19.9574153,
          19.9586771,
          19.9598041,
          19.9614937,
          19.9621964,
          19.9609392,
          19.9614751,
          19.9614804,
          19.9613428,
          19.9609091,
          19.9605888,
          19.9601662,
          19.9598751,
          19.9595133,
          19.959915,
          19.9603239,
          19.9609223,
          19.9612321,
          19.9611991,
          19.9606298,
          19.9595939,
          19.958227,
          19.9579305,
          19.9571518,
          19.9569724,
          19.9578677,
          19.9562091,
          19.9559137,
          19.9559169,
          19.9557433,
          19.955392,
          19.9551673,
          19.9551112,
          19.9553623,
          19.956333,
          19.957592,
          19.9578008,
          19.9577583,
          19.9576821,
          19.9572933,
          19.9568124,
          19.9566905,
          19.9566189,
          19.9566439,
          19.956633,
          19.9571688,
          19.9576396,
          19.9578534,
          19.9578005,
          19.9577382,
          19.9577801,
          19.9578088,
          19.957776,
          19.9577941,
          19.9574917,
          19.9577754,
          19.957904,
          19.9571302,
          19.9559543,
          19.9542266,
          19.9525952,
          19.9508881,
          19.9495293,
          19.9481694,
          19.9462349,
          19.944548,
          19.9432492,
          19.9429001,
          19.942478,
          19.9420322,
          19.9414344,
          19.9414921,
          19.9429862,
          19.9440192,
          19.9445168,
          19.9448311,
          19.944119,
          19.9433193,
          19.9425382,
          19.9415962,
          19.941523,
          19.9430528,
          19.9446608,
          19.9455492,
          19.9453606,
          19.9453673,
          19.9453711,
          19.9458321,
          19.9462527,
          19.9470109,
          19.94795,
          19.9486241,
          19.9492811,
          19.9496567,
          19.9496404,
          19.9488735,
          19.9478505,
          19.9473141,
          19.9469416,
          19.9460873,
          19.9458103,
          19.9458117,
          19.9455778,
          19.9445056,
          19.9441782,
          19.9445516,
          19.944872,
          19.94535,
          19.945975,
          19.9463876,
          19.9467891,
          19.9468273,
          19.9486155,
          19.9481076,
          19.9481708,
          19.9488924,
          19.9490433,
          19.949473,
          19.9499699,
          19.9504418,
          19.9510331,
          19.9519524,
          19.9532717,
          19.953957,
          19.9540694,
          19.9548899,
          19.9552007,
          19.9553938,
          19.9553881,
          19.9553983,
          19.9554035,
          19.9553921,
          19.9553982,
          19.9553921,
          19.9553886,
          19.9553757,
          19.9553758,
          19.9553779,
          19.9552241,
          19.9541911,
          19.9524927,
          19.9530084,
          19.9537649,
          19.9538225,
          19.9531405,
          19.9523408,
          19.951052
         ],
         "marker": {
          "color": "red"
         },
         "mode": "markers",
         "name": "A4",
         "showlegend": true,
         "subplot": "mapbox",
         "type": "scattermapbox"
        },
        {
         "customdata": [
          [
           19.9578008,
           50.0470486,
           -101,
           -20,
           "A5",
           [
            6,
            5
           ],
           65
          ],
          [
           19.9568124,
           50.0459123,
           -107,
           -20,
           "A5",
           [
            5,
            5
           ],
           55
          ],
          [
           19.9566189,
           50.0466263,
           -107,
           -20,
           "A5",
           [
            5,
            5
           ],
           55
          ],
          [
           19.9566439,
           50.0470735,
           -109,
           -20,
           "A5",
           [
            5,
            5
           ],
           55
          ],
          [
           19.957776,
           50.045435,
           -106,
           -20,
           "A5",
           [
            6,
            5
           ],
           65
          ],
          [
           19.9553938,
           50.0455022,
           -102,
           -20,
           "A5",
           [
            5,
            5
           ],
           55
          ],
          [
           19.9553921,
           50.0455226,
           -104,
           -20,
           "A5",
           [
            5,
            5
           ],
           55
          ]
         ],
         "hovertemplate": "<b>%{hovertext}</b><br><br>latitude=%{customdata[1]}<br>longitude=%{customdata[0]}<br>rsrp=%{customdata[2]}<br>rsrq=%{customdata[3]}<br>chunk=%{customdata[5]}<br>label=%{customdata[6]}<extra></extra>",
         "hovertext": [
          "A5",
          "A5",
          "A5",
          "A5",
          "A5",
          "A5",
          "A5"
         ],
         "lat": [
          50.0470486,
          50.0459123,
          50.0466263,
          50.0470735,
          50.045435,
          50.0455022,
          50.0455226
         ],
         "legendgroup": "A5",
         "lon": [
          19.9578008,
          19.9568124,
          19.9566189,
          19.9566439,
          19.957776,
          19.9553938,
          19.9553921
         ],
         "marker": {
          "color": "magenta"
         },
         "mode": "markers",
         "name": "A5",
         "showlegend": true,
         "subplot": "mapbox",
         "type": "scattermapbox"
        }
       ],
       "layout": {
        "geo": {
         "fitbounds": "locations"
        },
        "height": 600,
        "legend": {
         "title": {
          "text": "event"
         },
         "tracegroupgap": 0
        },
        "mapbox": {
         "center": {
          "lat": 50.04503419274611,
          "lon": 19.95326976062176
         },
         "domain": {
          "x": [
           0,
           1
          ],
          "y": [
           0,
           1
          ]
         },
         "layers": [
          {
           "color": "black",
           "line": {
            "width": 1
           },
           "source": {
            "geometry": {
             "coordinates": [
              [
               [
                19.931434399999997,
                50.031800700000005
               ],
               [
                19.93575167,
                50.031800700000005
               ],
               [
                19.93575167,
                50.0576201
               ],
               [
                19.931434399999997,
                50.0576201
               ],
               [
                19.931434399999997,
                50.031800700000005
               ]
              ],
              [
               [
                19.93575167,
                50.031800700000005
               ],
               [
                19.940068939999996,
                50.031800700000005
               ],
               [
                19.940068939999996,
                50.0576201
               ],
               [
                19.93575167,
                50.0576201
               ],
               [
                19.93575167,
                50.031800700000005
               ]
              ],
              [
               [
                19.940068939999996,
                50.031800700000005
               ],
               [
                19.944386209999998,
                50.031800700000005
               ],
               [
                19.944386209999998,
                50.0576201
               ],
               [
                19.940068939999996,
                50.0576201
               ],
               [
                19.940068939999996,
                50.031800700000005
               ]
              ],
              [
               [
                19.944386209999998,
                50.031800700000005
               ],
               [
                19.94870348,
                50.031800700000005
               ],
               [
                19.94870348,
                50.0576201
               ],
               [
                19.944386209999998,
                50.0576201
               ],
               [
                19.944386209999998,
                50.031800700000005
               ]
              ],
              [
               [
                19.94870348,
                50.031800700000005
               ],
               [
                19.95302075,
                50.031800700000005
               ],
               [
                19.95302075,
                50.0576201
               ],
               [
                19.94870348,
                50.0576201
               ],
               [
                19.94870348,
                50.031800700000005
               ]
              ],
              [
               [
                19.95302075,
                50.031800700000005
               ],
               [
                19.957338019999998,
                50.031800700000005
               ],
               [
                19.957338019999998,
                50.0576201
               ],
               [
                19.95302075,
                50.0576201
               ],
               [
                19.95302075,
                50.031800700000005
               ]
              ],
              [
               [
                19.957338019999998,
                50.031800700000005
               ],
               [
                19.96165529,
                50.031800700000005
               ],
               [
                19.96165529,
                50.0576201
               ],
               [
                19.957338019999998,
                50.0576201
               ],
               [
                19.957338019999998,
                50.031800700000005
               ]
              ],
              [
               [
                19.96165529,
                50.031800700000005
               ],
               [
                19.96597256,
                50.031800700000005
               ],
               [
                19.96597256,
                50.0576201
               ],
               [
                19.96165529,
                50.0576201
               ],
               [
                19.96165529,
                50.031800700000005
               ]
              ],
              [
               [
                19.96597256,
                50.031800700000005
               ],
               [
                19.97028983,
                50.031800700000005
               ],
               [
                19.97028983,
                50.0576201
               ],
               [
                19.96597256,
                50.0576201
               ],
               [
                19.96597256,
                50.031800700000005
               ]
              ],
              [
               [
                19.97028983,
                50.031800700000005
               ],
               [
                19.9746071,
                50.031800700000005
               ],
               [
                19.9746071,
                50.0576201
               ],
               [
                19.97028983,
                50.0576201
               ],
               [
                19.97028983,
                50.031800700000005
               ]
              ],
              [
               [
                19.931434399999997,
                50.031800700000005
               ],
               [
                19.9746071,
                50.031800700000005
               ],
               [
                19.9746071,
                50.034382640000004
               ],
               [
                19.931434399999997,
                50.034382640000004
               ],
               [
                19.931434399999997,
                50.031800700000005
               ]
              ],
              [
               [
                19.931434399999997,
                50.034382640000004
               ],
               [
                19.9746071,
                50.034382640000004
               ],
               [
                19.9746071,
                50.03696458
               ],
               [
                19.931434399999997,
                50.03696458
               ],
               [
                19.931434399999997,
                50.034382640000004
               ]
              ],
              [
               [
                19.931434399999997,
                50.03696458
               ],
               [
                19.9746071,
                50.03696458
               ],
               [
                19.9746071,
                50.03954652
               ],
               [
                19.931434399999997,
                50.03954652
               ],
               [
                19.931434399999997,
                50.03696458
               ]
              ],
              [
               [
                19.931434399999997,
                50.03954652
               ],
               [
                19.9746071,
                50.03954652
               ],
               [
                19.9746071,
                50.04212846
               ],
               [
                19.931434399999997,
                50.04212846
               ],
               [
                19.931434399999997,
                50.03954652
               ]
              ],
              [
               [
                19.931434399999997,
                50.04212846
               ],
               [
                19.9746071,
                50.04212846
               ],
               [
                19.9746071,
                50.0447104
               ],
               [
                19.931434399999997,
                50.0447104
               ],
               [
                19.931434399999997,
                50.04212846
               ]
              ],
              [
               [
                19.931434399999997,
                50.0447104
               ],
               [
                19.9746071,
                50.0447104
               ],
               [
                19.9746071,
                50.047292340000006
               ],
               [
                19.931434399999997,
                50.047292340000006
               ],
               [
                19.931434399999997,
                50.0447104
               ]
              ],
              [
               [
                19.931434399999997,
                50.047292340000006
               ],
               [
                19.9746071,
                50.047292340000006
               ],
               [
                19.9746071,
                50.049874280000004
               ],
               [
                19.931434399999997,
                50.049874280000004
               ],
               [
                19.931434399999997,
                50.047292340000006
               ]
              ],
              [
               [
                19.931434399999997,
                50.049874280000004
               ],
               [
                19.9746071,
                50.049874280000004
               ],
               [
                19.9746071,
                50.05245622
               ],
               [
                19.931434399999997,
                50.05245622
               ],
               [
                19.931434399999997,
                50.049874280000004
               ]
              ],
              [
               [
                19.931434399999997,
                50.05245622
               ],
               [
                19.9746071,
                50.05245622
               ],
               [
                19.9746071,
                50.05503816
               ],
               [
                19.931434399999997,
                50.05503816
               ],
               [
                19.931434399999997,
                50.05245622
               ]
              ],
              [
               [
                19.931434399999997,
                50.05503816
               ],
               [
                19.9746071,
                50.05503816
               ],
               [
                19.9746071,
                50.0576201
               ],
               [
                19.931434399999997,
                50.0576201
               ],
               [
                19.931434399999997,
                50.05503816
               ]
              ]
             ],
             "type": "Polygon"
            },
            "type": "Feature"
           },
           "sourcetype": "geojson",
           "type": "line"
          }
         ],
         "style": "open-street-map",
         "zoom": 8
        },
        "margin": {
         "b": 0,
         "l": 0,
         "r": 30,
         "t": 30
        },
        "template": {
         "data": {
          "bar": [
           {
            "error_x": {
             "color": "#2a3f5f"
            },
            "error_y": {
             "color": "#2a3f5f"
            },
            "marker": {
             "line": {
              "color": "#E5ECF6",
              "width": 0.5
             },
             "pattern": {
              "fillmode": "overlay",
              "size": 10,
              "solidity": 0.2
             }
            },
            "type": "bar"
           }
          ],
          "barpolar": [
           {
            "marker": {
             "line": {
              "color": "#E5ECF6",
              "width": 0.5
             },
             "pattern": {
              "fillmode": "overlay",
              "size": 10,
              "solidity": 0.2
             }
            },
            "type": "barpolar"
           }
          ],
          "carpet": [
           {
            "aaxis": {
             "endlinecolor": "#2a3f5f",
             "gridcolor": "white",
             "linecolor": "white",
             "minorgridcolor": "white",
             "startlinecolor": "#2a3f5f"
            },
            "baxis": {
             "endlinecolor": "#2a3f5f",
             "gridcolor": "white",
             "linecolor": "white",
             "minorgridcolor": "white",
             "startlinecolor": "#2a3f5f"
            },
            "type": "carpet"
           }
          ],
          "choropleth": [
           {
            "colorbar": {
             "outlinewidth": 0,
             "ticks": ""
            },
            "type": "choropleth"
           }
          ],
          "contour": [
           {
            "colorbar": {
             "outlinewidth": 0,
             "ticks": ""
            },
            "colorscale": [
             [
              0,
              "#0d0887"
             ],
             [
              0.1111111111111111,
              "#46039f"
             ],
             [
              0.2222222222222222,
              "#7201a8"
             ],
             [
              0.3333333333333333,
              "#9c179e"
             ],
             [
              0.4444444444444444,
              "#bd3786"
             ],
             [
              0.5555555555555556,
              "#d8576b"
             ],
             [
              0.6666666666666666,
              "#ed7953"
             ],
             [
              0.7777777777777778,
              "#fb9f3a"
             ],
             [
              0.8888888888888888,
              "#fdca26"
             ],
             [
              1,
              "#f0f921"
             ]
            ],
            "type": "contour"
           }
          ],
          "contourcarpet": [
           {
            "colorbar": {
             "outlinewidth": 0,
             "ticks": ""
            },
            "type": "contourcarpet"
           }
          ],
          "heatmap": [
           {
            "colorbar": {
             "outlinewidth": 0,
             "ticks": ""
            },
            "colorscale": [
             [
              0,
              "#0d0887"
             ],
             [
              0.1111111111111111,
              "#46039f"
             ],
             [
              0.2222222222222222,
              "#7201a8"
             ],
             [
              0.3333333333333333,
              "#9c179e"
             ],
             [
              0.4444444444444444,
              "#bd3786"
             ],
             [
              0.5555555555555556,
              "#d8576b"
             ],
             [
              0.6666666666666666,
              "#ed7953"
             ],
             [
              0.7777777777777778,
              "#fb9f3a"
             ],
             [
              0.8888888888888888,
              "#fdca26"
             ],
             [
              1,
              "#f0f921"
             ]
            ],
            "type": "heatmap"
           }
          ],
          "heatmapgl": [
           {
            "colorbar": {
             "outlinewidth": 0,
             "ticks": ""
            },
            "colorscale": [
             [
              0,
              "#0d0887"
             ],
             [
              0.1111111111111111,
              "#46039f"
             ],
             [
              0.2222222222222222,
              "#7201a8"
             ],
             [
              0.3333333333333333,
              "#9c179e"
             ],
             [
              0.4444444444444444,
              "#bd3786"
             ],
             [
              0.5555555555555556,
              "#d8576b"
             ],
             [
              0.6666666666666666,
              "#ed7953"
             ],
             [
              0.7777777777777778,
              "#fb9f3a"
             ],
             [
              0.8888888888888888,
              "#fdca26"
             ],
             [
              1,
              "#f0f921"
             ]
            ],
            "type": "heatmapgl"
           }
          ],
          "histogram": [
           {
            "marker": {
             "pattern": {
              "fillmode": "overlay",
              "size": 10,
              "solidity": 0.2
             }
            },
            "type": "histogram"
           }
          ],
          "histogram2d": [
           {
            "colorbar": {
             "outlinewidth": 0,
             "ticks": ""
            },
            "colorscale": [
             [
              0,
              "#0d0887"
             ],
             [
              0.1111111111111111,
              "#46039f"
             ],
             [
              0.2222222222222222,
              "#7201a8"
             ],
             [
              0.3333333333333333,
              "#9c179e"
             ],
             [
              0.4444444444444444,
              "#bd3786"
             ],
             [
              0.5555555555555556,
              "#d8576b"
             ],
             [
              0.6666666666666666,
              "#ed7953"
             ],
             [
              0.7777777777777778,
              "#fb9f3a"
             ],
             [
              0.8888888888888888,
              "#fdca26"
             ],
             [
              1,
              "#f0f921"
             ]
            ],
            "type": "histogram2d"
           }
          ],
          "histogram2dcontour": [
           {
            "colorbar": {
             "outlinewidth": 0,
             "ticks": ""
            },
            "colorscale": [
             [
              0,
              "#0d0887"
             ],
             [
              0.1111111111111111,
              "#46039f"
             ],
             [
              0.2222222222222222,
              "#7201a8"
             ],
             [
              0.3333333333333333,
              "#9c179e"
             ],
             [
              0.4444444444444444,
              "#bd3786"
             ],
             [
              0.5555555555555556,
              "#d8576b"
             ],
             [
              0.6666666666666666,
              "#ed7953"
             ],
             [
              0.7777777777777778,
              "#fb9f3a"
             ],
             [
              0.8888888888888888,
              "#fdca26"
             ],
             [
              1,
              "#f0f921"
             ]
            ],
            "type": "histogram2dcontour"
           }
          ],
          "mesh3d": [
           {
            "colorbar": {
             "outlinewidth": 0,
             "ticks": ""
            },
            "type": "mesh3d"
           }
          ],
          "parcoords": [
           {
            "line": {
             "colorbar": {
              "outlinewidth": 0,
              "ticks": ""
             }
            },
            "type": "parcoords"
           }
          ],
          "pie": [
           {
            "automargin": true,
            "type": "pie"
           }
          ],
          "scatter": [
           {
            "fillpattern": {
             "fillmode": "overlay",
             "size": 10,
             "solidity": 0.2
            },
            "type": "scatter"
           }
          ],
          "scatter3d": [
           {
            "line": {
             "colorbar": {
              "outlinewidth": 0,
              "ticks": ""
             }
            },
            "marker": {
             "colorbar": {
              "outlinewidth": 0,
              "ticks": ""
             }
            },
            "type": "scatter3d"
           }
          ],
          "scattercarpet": [
           {
            "marker": {
             "colorbar": {
              "outlinewidth": 0,
              "ticks": ""
             }
            },
            "type": "scattercarpet"
           }
          ],
          "scattergeo": [
           {
            "marker": {
             "colorbar": {
              "outlinewidth": 0,
              "ticks": ""
             }
            },
            "type": "scattergeo"
           }
          ],
          "scattergl": [
           {
            "marker": {
             "colorbar": {
              "outlinewidth": 0,
              "ticks": ""
             }
            },
            "type": "scattergl"
           }
          ],
          "scattermapbox": [
           {
            "marker": {
             "colorbar": {
              "outlinewidth": 0,
              "ticks": ""
             }
            },
            "type": "scattermapbox"
           }
          ],
          "scatterpolar": [
           {
            "marker": {
             "colorbar": {
              "outlinewidth": 0,
              "ticks": ""
             }
            },
            "type": "scatterpolar"
           }
          ],
          "scatterpolargl": [
           {
            "marker": {
             "colorbar": {
              "outlinewidth": 0,
              "ticks": ""
             }
            },
            "type": "scatterpolargl"
           }
          ],
          "scatterternary": [
           {
            "marker": {
             "colorbar": {
              "outlinewidth": 0,
              "ticks": ""
             }
            },
            "type": "scatterternary"
           }
          ],
          "surface": [
           {
            "colorbar": {
             "outlinewidth": 0,
             "ticks": ""
            },
            "colorscale": [
             [
              0,
              "#0d0887"
             ],
             [
              0.1111111111111111,
              "#46039f"
             ],
             [
              0.2222222222222222,
              "#7201a8"
             ],
             [
              0.3333333333333333,
              "#9c179e"
             ],
             [
              0.4444444444444444,
              "#bd3786"
             ],
             [
              0.5555555555555556,
              "#d8576b"
             ],
             [
              0.6666666666666666,
              "#ed7953"
             ],
             [
              0.7777777777777778,
              "#fb9f3a"
             ],
             [
              0.8888888888888888,
              "#fdca26"
             ],
             [
              1,
              "#f0f921"
             ]
            ],
            "type": "surface"
           }
          ],
          "table": [
           {
            "cells": {
             "fill": {
              "color": "#EBF0F8"
             },
             "line": {
              "color": "white"
             }
            },
            "header": {
             "fill": {
              "color": "#C8D4E3"
             },
             "line": {
              "color": "white"
             }
            },
            "type": "table"
           }
          ]
         },
         "layout": {
          "annotationdefaults": {
           "arrowcolor": "#2a3f5f",
           "arrowhead": 0,
           "arrowwidth": 1
          },
          "autotypenumbers": "strict",
          "coloraxis": {
           "colorbar": {
            "outlinewidth": 0,
            "ticks": ""
           }
          },
          "colorscale": {
           "diverging": [
            [
             0,
             "#8e0152"
            ],
            [
             0.1,
             "#c51b7d"
            ],
            [
             0.2,
             "#de77ae"
            ],
            [
             0.3,
             "#f1b6da"
            ],
            [
             0.4,
             "#fde0ef"
            ],
            [
             0.5,
             "#f7f7f7"
            ],
            [
             0.6,
             "#e6f5d0"
            ],
            [
             0.7,
             "#b8e186"
            ],
            [
             0.8,
             "#7fbc41"
            ],
            [
             0.9,
             "#4d9221"
            ],
            [
             1,
             "#276419"
            ]
           ],
           "sequential": [
            [
             0,
             "#0d0887"
            ],
            [
             0.1111111111111111,
             "#46039f"
            ],
            [
             0.2222222222222222,
             "#7201a8"
            ],
            [
             0.3333333333333333,
             "#9c179e"
            ],
            [
             0.4444444444444444,
             "#bd3786"
            ],
            [
             0.5555555555555556,
             "#d8576b"
            ],
            [
             0.6666666666666666,
             "#ed7953"
            ],
            [
             0.7777777777777778,
             "#fb9f3a"
            ],
            [
             0.8888888888888888,
             "#fdca26"
            ],
            [
             1,
             "#f0f921"
            ]
           ],
           "sequentialminus": [
            [
             0,
             "#0d0887"
            ],
            [
             0.1111111111111111,
             "#46039f"
            ],
            [
             0.2222222222222222,
             "#7201a8"
            ],
            [
             0.3333333333333333,
             "#9c179e"
            ],
            [
             0.4444444444444444,
             "#bd3786"
            ],
            [
             0.5555555555555556,
             "#d8576b"
            ],
            [
             0.6666666666666666,
             "#ed7953"
            ],
            [
             0.7777777777777778,
             "#fb9f3a"
            ],
            [
             0.8888888888888888,
             "#fdca26"
            ],
            [
             1,
             "#f0f921"
            ]
           ]
          },
          "colorway": [
           "#636efa",
           "#EF553B",
           "#00cc96",
           "#ab63fa",
           "#FFA15A",
           "#19d3f3",
           "#FF6692",
           "#B6E880",
           "#FF97FF",
           "#FECB52"
          ],
          "font": {
           "color": "#2a3f5f"
          },
          "geo": {
           "bgcolor": "white",
           "lakecolor": "white",
           "landcolor": "#E5ECF6",
           "showlakes": true,
           "showland": true,
           "subunitcolor": "white"
          },
          "hoverlabel": {
           "align": "left"
          },
          "hovermode": "closest",
          "mapbox": {
           "style": "light"
          },
          "paper_bgcolor": "white",
          "plot_bgcolor": "#E5ECF6",
          "polar": {
           "angularaxis": {
            "gridcolor": "white",
            "linecolor": "white",
            "ticks": ""
           },
           "bgcolor": "#E5ECF6",
           "radialaxis": {
            "gridcolor": "white",
            "linecolor": "white",
            "ticks": ""
           }
          },
          "scene": {
           "xaxis": {
            "backgroundcolor": "#E5ECF6",
            "gridcolor": "white",
            "gridwidth": 2,
            "linecolor": "white",
            "showbackground": true,
            "ticks": "",
            "zerolinecolor": "white"
           },
           "yaxis": {
            "backgroundcolor": "#E5ECF6",
            "gridcolor": "white",
            "gridwidth": 2,
            "linecolor": "white",
            "showbackground": true,
            "ticks": "",
            "zerolinecolor": "white"
           },
           "zaxis": {
            "backgroundcolor": "#E5ECF6",
            "gridcolor": "white",
            "gridwidth": 2,
            "linecolor": "white",
            "showbackground": true,
            "ticks": "",
            "zerolinecolor": "white"
           }
          },
          "shapedefaults": {
           "line": {
            "color": "#2a3f5f"
           }
          },
          "ternary": {
           "aaxis": {
            "gridcolor": "white",
            "linecolor": "white",
            "ticks": ""
           },
           "baxis": {
            "gridcolor": "white",
            "linecolor": "white",
            "ticks": ""
           },
           "bgcolor": "#E5ECF6",
           "caxis": {
            "gridcolor": "white",
            "linecolor": "white",
            "ticks": ""
           }
          },
          "title": {
           "x": 0.05
          },
          "xaxis": {
           "automargin": true,
           "gridcolor": "white",
           "linecolor": "white",
           "ticks": "",
           "title": {
            "standoff": 15
           },
           "zerolinecolor": "white",
           "zerolinewidth": 2
          },
          "yaxis": {
           "automargin": true,
           "gridcolor": "white",
           "linecolor": "white",
           "ticks": "",
           "title": {
            "standoff": 15
           },
           "zerolinecolor": "white",
           "zerolinewidth": 2
          }
         }
        },
        "title": {
         "text": "A1-A5 Events"
        },
        "width": 1200
       }
      }
     },
     "metadata": {},
     "output_type": "display_data"
    }
   ],
   "source": [
    "# TODO: copied from event mimicing, pls extract to some func\n",
    "event_types = [\"A1\", \"A2\", \"A3\", \"A4\", \"A5\"]\n",
    "colors = [\"black\", \"blue\", \"forestgreen\", \"red\", \"magenta\"]\n",
    "event_colors_mapper = dict(zip(event_types, colors))\n",
    "\n",
    "fig = px.scatter_mapbox(\n",
    "    data_frame=events_data,\n",
    "    lat=\"latitude\",\n",
    "    lon=\"longitude\",\n",
    "    title=\"A1-A5 Events\",\n",
    "    category_orders={\"event\": event_types},  # sort labels in legend\n",
    "    color=\"event\",  # set the color based on string in 'event' column\n",
    "    color_discrete_map=event_colors_mapper,  # because 'event' column does not store colors directly, specify a mapper event->color\n",
    "    hover_name=\"event\",\n",
    "    hover_data={\n",
    "        \"longitude\": True,\n",
    "        \"latitude\": True,\n",
    "        \"rsrp\": True,\n",
    "        \"rsrq\": True,\n",
    "        \"event\": False,\n",
    "        \"chunk\": True,\n",
    "        \"label\": True,\n",
    "    },\n",
    "    width=1200,\n",
    "    height=600,\n",
    ")\n",
    "\n",
    "fig.update_geos(fitbounds=\"locations\")\n",
    "fig.update_layout(\n",
    "    margin={\"r\": 30, \"t\": 30, \"l\": 0, \"b\": 0},\n",
    "    mapbox={\"style\": \"open-street-map\", \"layers\": layers},\n",
    ")\n",
    "fig.show()"
   ]
  },
  {
   "cell_type": "markdown",
   "metadata": {},
   "source": [
    "### Określanie histerezy zasięgu\n",
    "\n",
    "- Na podstawie pomiarów, wyznacz fizyczne warunki brzegowe histerezy zachodzącej na pokrywającego się zasięgu cellek.\n",
    "- Wyrysuj (zmień kolory punktów pomiarowych) na mapie obszary pokrycia oraz wyznacz threshold dostępnych cellek. Użyj osobnych warstw (osobny trace na obszarze rysowania) dla każdej cellki.\n",
    "- Wykonaj zadanie w dwóch wariantach - dla danych surowych oraz dla wygenerowanych wcześniej eventów\n",
    "- Cel zadania - optymalizacja thresholdów eventowych per eNodeB - jaki threshold ustawić w eNodeB, żeby uzyskać największą liczbę eventów pomiarowych wśród dostępnych cellek?"
   ]
  },
  {
   "cell_type": "code",
   "execution_count": 11,
   "metadata": {},
   "outputs": [],
   "source": [
    "# jak zrobic:\n",
    "# dynamicznie w kodzie wybrac dwie cellki po pci i pokolorowac punkty w ich histerezie\n",
    "# histereza to obszar w ktorym punkt pomiarowy moze sie zaliczyc do obu cellek, czyli obszar w ktorym cellki sie pokrywaja\n"
   ]
  },
  {
   "cell_type": "code",
   "execution_count": 13,
   "metadata": {},
   "outputs": [],
   "source": [
    "# HYSTERESIS SETTINGS\n",
    "PCI_1: int = 483\n",
    "PCI_2: int = 95"
   ]
  },
  {
   "cell_type": "code",
   "execution_count": 24,
   "metadata": {},
   "outputs": [
    {
     "name": "stdout",
     "output_type": "stream",
     "text": [
      "Empty DataFrame\n",
      "Columns: [time, latitude, longitude, accuracy, pci, bts_cell_id, lte, chunk, label]\n",
      "Index: []\n"
     ]
    }
   ],
   "source": [
    "# TODO: add PCI column to events_data\n",
    "\n",
    "hysteresis_data = data[\n",
    "    data[\"pci\"].apply(lambda x: all(item in x for item in [PCI_1, PCI_2]))\n",
    "]\n",
    "\n",
    "print(hysteresis_data)"
   ]
  },
  {
   "cell_type": "code",
   "execution_count": 25,
   "metadata": {},
   "outputs": [
    {
     "data": {
      "application/vnd.plotly.v1+json": {
       "config": {
        "plotlyServerURL": "https://plot.ly"
       },
       "data": [
        {
         "hovertemplate": "latitude=%{lat}<br>longitude=%{lon}<extra></extra>",
         "lat": [],
         "legendgroup": "",
         "lon": [],
         "marker": {
          "color": "#636efa"
         },
         "mode": "markers",
         "name": "",
         "showlegend": false,
         "subplot": "mapbox",
         "type": "scattermapbox"
        }
       ],
       "layout": {
        "geo": {
         "fitbounds": "locations"
        },
        "height": 600,
        "legend": {
         "tracegroupgap": 0
        },
        "mapbox": {
         "center": {
          "lat": null,
          "lon": null
         },
         "domain": {
          "x": [
           0,
           1
          ],
          "y": [
           0,
           1
          ]
         },
         "layers": [
          {
           "color": "black",
           "line": {
            "width": 1
           },
           "source": {
            "geometry": {
             "coordinates": [
              [
               [
                19.931434399999997,
                50.031800700000005
               ],
               [
                19.93575167,
                50.031800700000005
               ],
               [
                19.93575167,
                50.0576201
               ],
               [
                19.931434399999997,
                50.0576201
               ],
               [
                19.931434399999997,
                50.031800700000005
               ]
              ],
              [
               [
                19.93575167,
                50.031800700000005
               ],
               [
                19.940068939999996,
                50.031800700000005
               ],
               [
                19.940068939999996,
                50.0576201
               ],
               [
                19.93575167,
                50.0576201
               ],
               [
                19.93575167,
                50.031800700000005
               ]
              ],
              [
               [
                19.940068939999996,
                50.031800700000005
               ],
               [
                19.944386209999998,
                50.031800700000005
               ],
               [
                19.944386209999998,
                50.0576201
               ],
               [
                19.940068939999996,
                50.0576201
               ],
               [
                19.940068939999996,
                50.031800700000005
               ]
              ],
              [
               [
                19.944386209999998,
                50.031800700000005
               ],
               [
                19.94870348,
                50.031800700000005
               ],
               [
                19.94870348,
                50.0576201
               ],
               [
                19.944386209999998,
                50.0576201
               ],
               [
                19.944386209999998,
                50.031800700000005
               ]
              ],
              [
               [
                19.94870348,
                50.031800700000005
               ],
               [
                19.95302075,
                50.031800700000005
               ],
               [
                19.95302075,
                50.0576201
               ],
               [
                19.94870348,
                50.0576201
               ],
               [
                19.94870348,
                50.031800700000005
               ]
              ],
              [
               [
                19.95302075,
                50.031800700000005
               ],
               [
                19.957338019999998,
                50.031800700000005
               ],
               [
                19.957338019999998,
                50.0576201
               ],
               [
                19.95302075,
                50.0576201
               ],
               [
                19.95302075,
                50.031800700000005
               ]
              ],
              [
               [
                19.957338019999998,
                50.031800700000005
               ],
               [
                19.96165529,
                50.031800700000005
               ],
               [
                19.96165529,
                50.0576201
               ],
               [
                19.957338019999998,
                50.0576201
               ],
               [
                19.957338019999998,
                50.031800700000005
               ]
              ],
              [
               [
                19.96165529,
                50.031800700000005
               ],
               [
                19.96597256,
                50.031800700000005
               ],
               [
                19.96597256,
                50.0576201
               ],
               [
                19.96165529,
                50.0576201
               ],
               [
                19.96165529,
                50.031800700000005
               ]
              ],
              [
               [
                19.96597256,
                50.031800700000005
               ],
               [
                19.97028983,
                50.031800700000005
               ],
               [
                19.97028983,
                50.0576201
               ],
               [
                19.96597256,
                50.0576201
               ],
               [
                19.96597256,
                50.031800700000005
               ]
              ],
              [
               [
                19.97028983,
                50.031800700000005
               ],
               [
                19.9746071,
                50.031800700000005
               ],
               [
                19.9746071,
                50.0576201
               ],
               [
                19.97028983,
                50.0576201
               ],
               [
                19.97028983,
                50.031800700000005
               ]
              ],
              [
               [
                19.931434399999997,
                50.031800700000005
               ],
               [
                19.9746071,
                50.031800700000005
               ],
               [
                19.9746071,
                50.034382640000004
               ],
               [
                19.931434399999997,
                50.034382640000004
               ],
               [
                19.931434399999997,
                50.031800700000005
               ]
              ],
              [
               [
                19.931434399999997,
                50.034382640000004
               ],
               [
                19.9746071,
                50.034382640000004
               ],
               [
                19.9746071,
                50.03696458
               ],
               [
                19.931434399999997,
                50.03696458
               ],
               [
                19.931434399999997,
                50.034382640000004
               ]
              ],
              [
               [
                19.931434399999997,
                50.03696458
               ],
               [
                19.9746071,
                50.03696458
               ],
               [
                19.9746071,
                50.03954652
               ],
               [
                19.931434399999997,
                50.03954652
               ],
               [
                19.931434399999997,
                50.03696458
               ]
              ],
              [
               [
                19.931434399999997,
                50.03954652
               ],
               [
                19.9746071,
                50.03954652
               ],
               [
                19.9746071,
                50.04212846
               ],
               [
                19.931434399999997,
                50.04212846
               ],
               [
                19.931434399999997,
                50.03954652
               ]
              ],
              [
               [
                19.931434399999997,
                50.04212846
               ],
               [
                19.9746071,
                50.04212846
               ],
               [
                19.9746071,
                50.0447104
               ],
               [
                19.931434399999997,
                50.0447104
               ],
               [
                19.931434399999997,
                50.04212846
               ]
              ],
              [
               [
                19.931434399999997,
                50.0447104
               ],
               [
                19.9746071,
                50.0447104
               ],
               [
                19.9746071,
                50.047292340000006
               ],
               [
                19.931434399999997,
                50.047292340000006
               ],
               [
                19.931434399999997,
                50.0447104
               ]
              ],
              [
               [
                19.931434399999997,
                50.047292340000006
               ],
               [
                19.9746071,
                50.047292340000006
               ],
               [
                19.9746071,
                50.049874280000004
               ],
               [
                19.931434399999997,
                50.049874280000004
               ],
               [
                19.931434399999997,
                50.047292340000006
               ]
              ],
              [
               [
                19.931434399999997,
                50.049874280000004
               ],
               [
                19.9746071,
                50.049874280000004
               ],
               [
                19.9746071,
                50.05245622
               ],
               [
                19.931434399999997,
                50.05245622
               ],
               [
                19.931434399999997,
                50.049874280000004
               ]
              ],
              [
               [
                19.931434399999997,
                50.05245622
               ],
               [
                19.9746071,
                50.05245622
               ],
               [
                19.9746071,
                50.05503816
               ],
               [
                19.931434399999997,
                50.05503816
               ],
               [
                19.931434399999997,
                50.05245622
               ]
              ],
              [
               [
                19.931434399999997,
                50.05503816
               ],
               [
                19.9746071,
                50.05503816
               ],
               [
                19.9746071,
                50.0576201
               ],
               [
                19.931434399999997,
                50.0576201
               ],
               [
                19.931434399999997,
                50.05503816
               ]
              ]
             ],
             "type": "Polygon"
            },
            "type": "Feature"
           },
           "sourcetype": "geojson",
           "type": "line"
          }
         ],
         "style": "open-street-map",
         "zoom": 8
        },
        "margin": {
         "b": 0,
         "l": 0,
         "r": 0,
         "t": 30
        },
        "template": {
         "data": {
          "bar": [
           {
            "error_x": {
             "color": "#2a3f5f"
            },
            "error_y": {
             "color": "#2a3f5f"
            },
            "marker": {
             "line": {
              "color": "#E5ECF6",
              "width": 0.5
             },
             "pattern": {
              "fillmode": "overlay",
              "size": 10,
              "solidity": 0.2
             }
            },
            "type": "bar"
           }
          ],
          "barpolar": [
           {
            "marker": {
             "line": {
              "color": "#E5ECF6",
              "width": 0.5
             },
             "pattern": {
              "fillmode": "overlay",
              "size": 10,
              "solidity": 0.2
             }
            },
            "type": "barpolar"
           }
          ],
          "carpet": [
           {
            "aaxis": {
             "endlinecolor": "#2a3f5f",
             "gridcolor": "white",
             "linecolor": "white",
             "minorgridcolor": "white",
             "startlinecolor": "#2a3f5f"
            },
            "baxis": {
             "endlinecolor": "#2a3f5f",
             "gridcolor": "white",
             "linecolor": "white",
             "minorgridcolor": "white",
             "startlinecolor": "#2a3f5f"
            },
            "type": "carpet"
           }
          ],
          "choropleth": [
           {
            "colorbar": {
             "outlinewidth": 0,
             "ticks": ""
            },
            "type": "choropleth"
           }
          ],
          "contour": [
           {
            "colorbar": {
             "outlinewidth": 0,
             "ticks": ""
            },
            "colorscale": [
             [
              0,
              "#0d0887"
             ],
             [
              0.1111111111111111,
              "#46039f"
             ],
             [
              0.2222222222222222,
              "#7201a8"
             ],
             [
              0.3333333333333333,
              "#9c179e"
             ],
             [
              0.4444444444444444,
              "#bd3786"
             ],
             [
              0.5555555555555556,
              "#d8576b"
             ],
             [
              0.6666666666666666,
              "#ed7953"
             ],
             [
              0.7777777777777778,
              "#fb9f3a"
             ],
             [
              0.8888888888888888,
              "#fdca26"
             ],
             [
              1,
              "#f0f921"
             ]
            ],
            "type": "contour"
           }
          ],
          "contourcarpet": [
           {
            "colorbar": {
             "outlinewidth": 0,
             "ticks": ""
            },
            "type": "contourcarpet"
           }
          ],
          "heatmap": [
           {
            "colorbar": {
             "outlinewidth": 0,
             "ticks": ""
            },
            "colorscale": [
             [
              0,
              "#0d0887"
             ],
             [
              0.1111111111111111,
              "#46039f"
             ],
             [
              0.2222222222222222,
              "#7201a8"
             ],
             [
              0.3333333333333333,
              "#9c179e"
             ],
             [
              0.4444444444444444,
              "#bd3786"
             ],
             [
              0.5555555555555556,
              "#d8576b"
             ],
             [
              0.6666666666666666,
              "#ed7953"
             ],
             [
              0.7777777777777778,
              "#fb9f3a"
             ],
             [
              0.8888888888888888,
              "#fdca26"
             ],
             [
              1,
              "#f0f921"
             ]
            ],
            "type": "heatmap"
           }
          ],
          "heatmapgl": [
           {
            "colorbar": {
             "outlinewidth": 0,
             "ticks": ""
            },
            "colorscale": [
             [
              0,
              "#0d0887"
             ],
             [
              0.1111111111111111,
              "#46039f"
             ],
             [
              0.2222222222222222,
              "#7201a8"
             ],
             [
              0.3333333333333333,
              "#9c179e"
             ],
             [
              0.4444444444444444,
              "#bd3786"
             ],
             [
              0.5555555555555556,
              "#d8576b"
             ],
             [
              0.6666666666666666,
              "#ed7953"
             ],
             [
              0.7777777777777778,
              "#fb9f3a"
             ],
             [
              0.8888888888888888,
              "#fdca26"
             ],
             [
              1,
              "#f0f921"
             ]
            ],
            "type": "heatmapgl"
           }
          ],
          "histogram": [
           {
            "marker": {
             "pattern": {
              "fillmode": "overlay",
              "size": 10,
              "solidity": 0.2
             }
            },
            "type": "histogram"
           }
          ],
          "histogram2d": [
           {
            "colorbar": {
             "outlinewidth": 0,
             "ticks": ""
            },
            "colorscale": [
             [
              0,
              "#0d0887"
             ],
             [
              0.1111111111111111,
              "#46039f"
             ],
             [
              0.2222222222222222,
              "#7201a8"
             ],
             [
              0.3333333333333333,
              "#9c179e"
             ],
             [
              0.4444444444444444,
              "#bd3786"
             ],
             [
              0.5555555555555556,
              "#d8576b"
             ],
             [
              0.6666666666666666,
              "#ed7953"
             ],
             [
              0.7777777777777778,
              "#fb9f3a"
             ],
             [
              0.8888888888888888,
              "#fdca26"
             ],
             [
              1,
              "#f0f921"
             ]
            ],
            "type": "histogram2d"
           }
          ],
          "histogram2dcontour": [
           {
            "colorbar": {
             "outlinewidth": 0,
             "ticks": ""
            },
            "colorscale": [
             [
              0,
              "#0d0887"
             ],
             [
              0.1111111111111111,
              "#46039f"
             ],
             [
              0.2222222222222222,
              "#7201a8"
             ],
             [
              0.3333333333333333,
              "#9c179e"
             ],
             [
              0.4444444444444444,
              "#bd3786"
             ],
             [
              0.5555555555555556,
              "#d8576b"
             ],
             [
              0.6666666666666666,
              "#ed7953"
             ],
             [
              0.7777777777777778,
              "#fb9f3a"
             ],
             [
              0.8888888888888888,
              "#fdca26"
             ],
             [
              1,
              "#f0f921"
             ]
            ],
            "type": "histogram2dcontour"
           }
          ],
          "mesh3d": [
           {
            "colorbar": {
             "outlinewidth": 0,
             "ticks": ""
            },
            "type": "mesh3d"
           }
          ],
          "parcoords": [
           {
            "line": {
             "colorbar": {
              "outlinewidth": 0,
              "ticks": ""
             }
            },
            "type": "parcoords"
           }
          ],
          "pie": [
           {
            "automargin": true,
            "type": "pie"
           }
          ],
          "scatter": [
           {
            "fillpattern": {
             "fillmode": "overlay",
             "size": 10,
             "solidity": 0.2
            },
            "type": "scatter"
           }
          ],
          "scatter3d": [
           {
            "line": {
             "colorbar": {
              "outlinewidth": 0,
              "ticks": ""
             }
            },
            "marker": {
             "colorbar": {
              "outlinewidth": 0,
              "ticks": ""
             }
            },
            "type": "scatter3d"
           }
          ],
          "scattercarpet": [
           {
            "marker": {
             "colorbar": {
              "outlinewidth": 0,
              "ticks": ""
             }
            },
            "type": "scattercarpet"
           }
          ],
          "scattergeo": [
           {
            "marker": {
             "colorbar": {
              "outlinewidth": 0,
              "ticks": ""
             }
            },
            "type": "scattergeo"
           }
          ],
          "scattergl": [
           {
            "marker": {
             "colorbar": {
              "outlinewidth": 0,
              "ticks": ""
             }
            },
            "type": "scattergl"
           }
          ],
          "scattermapbox": [
           {
            "marker": {
             "colorbar": {
              "outlinewidth": 0,
              "ticks": ""
             }
            },
            "type": "scattermapbox"
           }
          ],
          "scatterpolar": [
           {
            "marker": {
             "colorbar": {
              "outlinewidth": 0,
              "ticks": ""
             }
            },
            "type": "scatterpolar"
           }
          ],
          "scatterpolargl": [
           {
            "marker": {
             "colorbar": {
              "outlinewidth": 0,
              "ticks": ""
             }
            },
            "type": "scatterpolargl"
           }
          ],
          "scatterternary": [
           {
            "marker": {
             "colorbar": {
              "outlinewidth": 0,
              "ticks": ""
             }
            },
            "type": "scatterternary"
           }
          ],
          "surface": [
           {
            "colorbar": {
             "outlinewidth": 0,
             "ticks": ""
            },
            "colorscale": [
             [
              0,
              "#0d0887"
             ],
             [
              0.1111111111111111,
              "#46039f"
             ],
             [
              0.2222222222222222,
              "#7201a8"
             ],
             [
              0.3333333333333333,
              "#9c179e"
             ],
             [
              0.4444444444444444,
              "#bd3786"
             ],
             [
              0.5555555555555556,
              "#d8576b"
             ],
             [
              0.6666666666666666,
              "#ed7953"
             ],
             [
              0.7777777777777778,
              "#fb9f3a"
             ],
             [
              0.8888888888888888,
              "#fdca26"
             ],
             [
              1,
              "#f0f921"
             ]
            ],
            "type": "surface"
           }
          ],
          "table": [
           {
            "cells": {
             "fill": {
              "color": "#EBF0F8"
             },
             "line": {
              "color": "white"
             }
            },
            "header": {
             "fill": {
              "color": "#C8D4E3"
             },
             "line": {
              "color": "white"
             }
            },
            "type": "table"
           }
          ]
         },
         "layout": {
          "annotationdefaults": {
           "arrowcolor": "#2a3f5f",
           "arrowhead": 0,
           "arrowwidth": 1
          },
          "autotypenumbers": "strict",
          "coloraxis": {
           "colorbar": {
            "outlinewidth": 0,
            "ticks": ""
           }
          },
          "colorscale": {
           "diverging": [
            [
             0,
             "#8e0152"
            ],
            [
             0.1,
             "#c51b7d"
            ],
            [
             0.2,
             "#de77ae"
            ],
            [
             0.3,
             "#f1b6da"
            ],
            [
             0.4,
             "#fde0ef"
            ],
            [
             0.5,
             "#f7f7f7"
            ],
            [
             0.6,
             "#e6f5d0"
            ],
            [
             0.7,
             "#b8e186"
            ],
            [
             0.8,
             "#7fbc41"
            ],
            [
             0.9,
             "#4d9221"
            ],
            [
             1,
             "#276419"
            ]
           ],
           "sequential": [
            [
             0,
             "#0d0887"
            ],
            [
             0.1111111111111111,
             "#46039f"
            ],
            [
             0.2222222222222222,
             "#7201a8"
            ],
            [
             0.3333333333333333,
             "#9c179e"
            ],
            [
             0.4444444444444444,
             "#bd3786"
            ],
            [
             0.5555555555555556,
             "#d8576b"
            ],
            [
             0.6666666666666666,
             "#ed7953"
            ],
            [
             0.7777777777777778,
             "#fb9f3a"
            ],
            [
             0.8888888888888888,
             "#fdca26"
            ],
            [
             1,
             "#f0f921"
            ]
           ],
           "sequentialminus": [
            [
             0,
             "#0d0887"
            ],
            [
             0.1111111111111111,
             "#46039f"
            ],
            [
             0.2222222222222222,
             "#7201a8"
            ],
            [
             0.3333333333333333,
             "#9c179e"
            ],
            [
             0.4444444444444444,
             "#bd3786"
            ],
            [
             0.5555555555555556,
             "#d8576b"
            ],
            [
             0.6666666666666666,
             "#ed7953"
            ],
            [
             0.7777777777777778,
             "#fb9f3a"
            ],
            [
             0.8888888888888888,
             "#fdca26"
            ],
            [
             1,
             "#f0f921"
            ]
           ]
          },
          "colorway": [
           "#636efa",
           "#EF553B",
           "#00cc96",
           "#ab63fa",
           "#FFA15A",
           "#19d3f3",
           "#FF6692",
           "#B6E880",
           "#FF97FF",
           "#FECB52"
          ],
          "font": {
           "color": "#2a3f5f"
          },
          "geo": {
           "bgcolor": "white",
           "lakecolor": "white",
           "landcolor": "#E5ECF6",
           "showlakes": true,
           "showland": true,
           "subunitcolor": "white"
          },
          "hoverlabel": {
           "align": "left"
          },
          "hovermode": "closest",
          "mapbox": {
           "style": "light"
          },
          "paper_bgcolor": "white",
          "plot_bgcolor": "#E5ECF6",
          "polar": {
           "angularaxis": {
            "gridcolor": "white",
            "linecolor": "white",
            "ticks": ""
           },
           "bgcolor": "#E5ECF6",
           "radialaxis": {
            "gridcolor": "white",
            "linecolor": "white",
            "ticks": ""
           }
          },
          "scene": {
           "xaxis": {
            "backgroundcolor": "#E5ECF6",
            "gridcolor": "white",
            "gridwidth": 2,
            "linecolor": "white",
            "showbackground": true,
            "ticks": "",
            "zerolinecolor": "white"
           },
           "yaxis": {
            "backgroundcolor": "#E5ECF6",
            "gridcolor": "white",
            "gridwidth": 2,
            "linecolor": "white",
            "showbackground": true,
            "ticks": "",
            "zerolinecolor": "white"
           },
           "zaxis": {
            "backgroundcolor": "#E5ECF6",
            "gridcolor": "white",
            "gridwidth": 2,
            "linecolor": "white",
            "showbackground": true,
            "ticks": "",
            "zerolinecolor": "white"
           }
          },
          "shapedefaults": {
           "line": {
            "color": "#2a3f5f"
           }
          },
          "ternary": {
           "aaxis": {
            "gridcolor": "white",
            "linecolor": "white",
            "ticks": ""
           },
           "baxis": {
            "gridcolor": "white",
            "linecolor": "white",
            "ticks": ""
           },
           "bgcolor": "#E5ECF6",
           "caxis": {
            "gridcolor": "white",
            "linecolor": "white",
            "ticks": ""
           }
          },
          "title": {
           "x": 0.05
          },
          "xaxis": {
           "automargin": true,
           "gridcolor": "white",
           "linecolor": "white",
           "ticks": "",
           "title": {
            "standoff": 15
           },
           "zerolinecolor": "white",
           "zerolinewidth": 2
          },
          "yaxis": {
           "automargin": true,
           "gridcolor": "white",
           "linecolor": "white",
           "ticks": "",
           "title": {
            "standoff": 15
           },
           "zerolinecolor": "white",
           "zerolinewidth": 2
          }
         }
        },
        "title": {
         "text": "Hysteresis for PCIs 483 and 95"
        },
        "width": 1200
       }
      }
     },
     "metadata": {},
     "output_type": "display_data"
    }
   ],
   "source": [
    "# TODO: copied from event mimicing, pls extract to some func\n",
    "\n",
    "fig = px.scatter_mapbox(\n",
    "    data_frame=hysteresis_data,\n",
    "    lat=\"latitude\",\n",
    "    lon=\"longitude\",\n",
    "    title=f\"Hysteresis for PCIs {PCI_1} and {PCI_2}\",\n",
    "    width=1200,\n",
    "    height=600,\n",
    ")\n",
    "\n",
    "fig.update_geos(fitbounds=\"locations\")\n",
    "fig.update_layout(\n",
    "    margin={\"r\": 0, \"t\": 30, \"l\": 0, \"b\": 0},\n",
    "    mapbox={\"style\": \"open-street-map\", \"layers\": layers},\n",
    ")\n",
    "fig.show()"
   ]
  },
  {
   "cell_type": "markdown",
   "metadata": {},
   "source": [
    "### Data Science?!?! Przewidywanie chunku po rsrp i rsrq"
   ]
  },
  {
   "cell_type": "code",
   "execution_count": 15,
   "metadata": {},
   "outputs": [],
   "source": [
    "# po co jest model:\n",
    "# ustawiajac threshold eventow mozna zauwazyc, ze dla minimum tych eventow mamy bardzo duzo, natomiast dla maksimum mniej\n",
    "# w zwiazku z tym trzeba nauczyc model podajac mu eventy i w petli po roznych thresholdach nafeedowac mu dane\n",
    "# dzieki temu testujac model na nowym ue mozna strzelic w ktorym chunku sie znajduje?\n",
    "\n",
    "# nowe ue ma tylko nformacje z eventow, nie ma dokladnej lokalizacji tylko rsrp i rsrq\n",
    "# po tych wartosciach mozemy z modelu oszacowac label (nr chunka)"
   ]
  },
  {
   "cell_type": "code",
   "execution_count": 28,
   "metadata": {},
   "outputs": [],
   "source": [
    "import matplotlib.pyplot as plt\n",
    "import numpy as np\n",
    "import seaborn as sns\n",
    "from sklearn.metrics import accuracy_score, confusion_matrix\n",
    "from sklearn.model_selection import train_test_split\n",
    "from sklearn.neural_network import MLPClassifier\n",
    "from sklearn.preprocessing import StandardScaler\n",
    "\n",
    "\n",
    "def classifier(df):\n",
    "    # Step 2: Load and preprocess the labeled data\n",
    "    # Assuming you have a DataFrame df with 'rsrp', 'rsrq', 'pci', 'rssi', and 'label' columns\n",
    "\n",
    "    X = df[[\"rsrp\", \"rsrq\", \"pci\", \"rssi\", \"ta\", \"mnc\"]].values\n",
    "    y = df[\"label\"].values\n",
    "\n",
    "    # Normalize the input features\n",
    "    scaler = StandardScaler()\n",
    "    X = scaler.fit_transform(X)\n",
    "\n",
    "    # Step 3: Split the data into training and testing sets\n",
    "    X_train, X_test, y_train, y_test = train_test_split(\n",
    "        X, y, test_size=0.2, random_state=42\n",
    "    )\n",
    "\n",
    "    # Step 4: Define the MLP model\n",
    "    mlp = MLPClassifier(\n",
    "        hidden_layer_sizes=(400, 100),\n",
    "        activation=\"logistic\",\n",
    "        solver=\"sgd\",\n",
    "        max_iter=2500,\n",
    "        random_state=42,\n",
    "        learning_rate=\"adaptive\",\n",
    "        learning_rate_init=0.1,\n",
    "    )\n",
    "\n",
    "    # Step 5: Train the model on the training data\n",
    "    history = mlp.fit(X_train, y_train)\n",
    "\n",
    "    # Plot the loss curve\n",
    "    plt.figure(figsize=(8, 6))\n",
    "    plt.plot(\n",
    "        np.arange(1, len(history.loss_curve_) + 1), history.loss_curve_, marker=\"o\"\n",
    "    )\n",
    "    plt.xlabel(\"Epoch\")\n",
    "    plt.ylabel(\"Loss\")\n",
    "    plt.title(\"Loss Curve\")\n",
    "    plt.show()\n",
    "\n",
    "    # Step 6: Evaluate the model on the testing data\n",
    "    y_pred = mlp.predict(X_test)\n",
    "\n",
    "    accuracy = accuracy_score(y_test, y_pred)\n",
    "    cm = confusion_matrix(y_test, y_pred)\n",
    "    print(\"Accuracy:\", accuracy)\n",
    "    print(\"Confusion matrix:\\n\", cm)\n",
    "\n",
    "    # TODO: Make it sorted!\n",
    "    class_labels = df[\"label\"].unique().tolist()\n",
    "\n",
    "    # Create a heatmap of the confusion matrix\n",
    "    plt.figure(figsize=(8, 6))\n",
    "    sns.heatmap(\n",
    "        cm,\n",
    "        annot=True,\n",
    "        fmt=\"d\",\n",
    "        cmap=\"Blues\",\n",
    "        xticklabels=class_labels,\n",
    "        yticklabels=class_labels,\n",
    "    )\n",
    "    plt.xlabel(\"Predicted Labels\")\n",
    "    plt.ylabel(\"True Labels\")\n",
    "    plt.title(\"Confusion Matrix\")\n",
    "    plt.show()\n",
    "\n",
    "    return mlp\n",
    "\n",
    "\n",
    "# TODO: copy into classifier.py later"
   ]
  },
  {
   "cell_type": "code",
   "execution_count": 29,
   "metadata": {},
   "outputs": [
    {
     "data": {
      "image/png": "[encoded data removed]",
      "text/plain": [
       "<Figure size 800x600 with 1 Axes>"
      ]
     },
     "metadata": {},
     "output_type": "display_data"
    },
    {
     "name": "stdout",
     "output_type": "stream",
     "text": [
      "Accuracy: 0.6153846153846154\n",
      "Confusion matrix:\n",
      " [[2 3 0 0 0 0 0 0 0 0]\n",
      " [1 3 1 0 0 0 0 0 0 1]\n",
      " [0 2 1 0 0 0 0 0 0 0]\n",
      " [0 0 1 3 0 0 0 0 0 0]\n",
      " [1 0 0 0 8 1 0 0 0 0]\n",
      " [0 0 0 0 0 0 0 0 0 0]\n",
      " [1 0 0 0 0 0 4 1 0 0]\n",
      " [0 0 0 0 1 0 0 3 0 0]\n",
      " [0 1 0 0 0 0 0 0 0 0]\n",
      " [0 0 0 0 0 0 0 0 0 0]]\n"
     ]
    },
    {
     "data": {
      "image/png": "[encoded data removed]",
      "text/plain": [
       "<Figure size 800x600 with 2 Axes>"
      ]
     },
     "metadata": {},
     "output_type": "display_data"
    }
   ],
   "source": [
    "# from src.classifier import classifier\n",
    "\n",
    "model = classifier(events_data)"
   ]
  },
  {
   "cell_type": "code",
   "execution_count": 32,
   "metadata": {},
   "outputs": [
    {
     "ename": "ValueError",
     "evalue": "could not convert string to float: 'A3'",
     "output_type": "error",
     "traceback": [
      "\u001b[1;31m---------------------------------------------------------------------------\u001b[0m",
      "\u001b[1;31mValueError\u001b[0m                                Traceback (most recent call last)",
      "Cell \u001b[1;32mIn[32], line 3\u001b[0m\n\u001b[0;32m      1\u001b[0m \u001b[39m# use model to predict chunks\u001b[39;00m\n\u001b[1;32m----> 3\u001b[0m model\u001b[39m.\u001b[39;49mpredict(events_data\u001b[39m.\u001b[39;49miloc[\u001b[39m1\u001b[39;49m])\n",
      "File \u001b[1;32m~\\AppData\\Local\\Packages\\PythonSoftwareFoundation.Python.3.11_qbz5n2kfra8p0\\LocalCache\\local-packages\\Python311\\site-packages\\sklearn\\neural_network\\_multilayer_perceptron.py:1156\u001b[0m, in \u001b[0;36mMLPClassifier.predict\u001b[1;34m(self, X)\u001b[0m\n\u001b[0;32m   1143\u001b[0m \u001b[39m\u001b[39m\u001b[39m\"\"\"Predict using the multi-layer perceptron classifier.\u001b[39;00m\n\u001b[0;32m   1144\u001b[0m \n\u001b[0;32m   1145\u001b[0m \u001b[39mParameters\u001b[39;00m\n\u001b[1;32m   (...)\u001b[0m\n\u001b[0;32m   1153\u001b[0m \u001b[39m    The predicted classes.\u001b[39;00m\n\u001b[0;32m   1154\u001b[0m \u001b[39m\"\"\"\u001b[39;00m\n\u001b[0;32m   1155\u001b[0m check_is_fitted(\u001b[39mself\u001b[39m)\n\u001b[1;32m-> 1156\u001b[0m \u001b[39mreturn\u001b[39;00m \u001b[39mself\u001b[39;49m\u001b[39m.\u001b[39;49m_predict(X)\n",
      "File \u001b[1;32m~\\AppData\\Local\\Packages\\PythonSoftwareFoundation.Python.3.11_qbz5n2kfra8p0\\LocalCache\\local-packages\\Python311\\site-packages\\sklearn\\neural_network\\_multilayer_perceptron.py:1160\u001b[0m, in \u001b[0;36mMLPClassifier._predict\u001b[1;34m(self, X, check_input)\u001b[0m\n\u001b[0;32m   1158\u001b[0m \u001b[39mdef\u001b[39;00m \u001b[39m_predict\u001b[39m(\u001b[39mself\u001b[39m, X, check_input\u001b[39m=\u001b[39m\u001b[39mTrue\u001b[39;00m):\n\u001b[0;32m   1159\u001b[0m \u001b[39m    \u001b[39m\u001b[39m\"\"\"Private predict method with optional input validation\"\"\"\u001b[39;00m\n\u001b[1;32m-> 1160\u001b[0m     y_pred \u001b[39m=\u001b[39m \u001b[39mself\u001b[39;49m\u001b[39m.\u001b[39;49m_forward_pass_fast(X, check_input\u001b[39m=\u001b[39;49mcheck_input)\n\u001b[0;32m   1162\u001b[0m     \u001b[39mif\u001b[39;00m \u001b[39mself\u001b[39m\u001b[39m.\u001b[39mn_outputs_ \u001b[39m==\u001b[39m \u001b[39m1\u001b[39m:\n\u001b[0;32m   1163\u001b[0m         y_pred \u001b[39m=\u001b[39m y_pred\u001b[39m.\u001b[39mravel()\n",
      "File \u001b[1;32m~\\AppData\\Local\\Packages\\PythonSoftwareFoundation.Python.3.11_qbz5n2kfra8p0\\LocalCache\\local-packages\\Python311\\site-packages\\sklearn\\neural_network\\_multilayer_perceptron.py:202\u001b[0m, in \u001b[0;36mBaseMultilayerPerceptron._forward_pass_fast\u001b[1;34m(self, X, check_input)\u001b[0m\n\u001b[0;32m    183\u001b[0m \u001b[39m\u001b[39m\u001b[39m\"\"\"Predict using the trained model\u001b[39;00m\n\u001b[0;32m    184\u001b[0m \n\u001b[0;32m    185\u001b[0m \u001b[39mThis is the same as _forward_pass but does not record the activations\u001b[39;00m\n\u001b[1;32m   (...)\u001b[0m\n\u001b[0;32m    199\u001b[0m \u001b[39m    The decision function of the samples for each class in the model.\u001b[39;00m\n\u001b[0;32m    200\u001b[0m \u001b[39m\"\"\"\u001b[39;00m\n\u001b[0;32m    201\u001b[0m \u001b[39mif\u001b[39;00m check_input:\n\u001b[1;32m--> 202\u001b[0m     X \u001b[39m=\u001b[39m \u001b[39mself\u001b[39;49m\u001b[39m.\u001b[39;49m_validate_data(X, accept_sparse\u001b[39m=\u001b[39;49m[\u001b[39m\"\u001b[39;49m\u001b[39mcsr\u001b[39;49m\u001b[39m\"\u001b[39;49m, \u001b[39m\"\u001b[39;49m\u001b[39mcsc\u001b[39;49m\u001b[39m\"\u001b[39;49m], reset\u001b[39m=\u001b[39;49m\u001b[39mFalse\u001b[39;49;00m)\n\u001b[0;32m    204\u001b[0m \u001b[39m# Initialize first layer\u001b[39;00m\n\u001b[0;32m    205\u001b[0m activation \u001b[39m=\u001b[39m X\n",
      "File \u001b[1;32m~\\AppData\\Local\\Packages\\PythonSoftwareFoundation.Python.3.11_qbz5n2kfra8p0\\LocalCache\\local-packages\\Python311\\site-packages\\sklearn\\base.py:565\u001b[0m, in \u001b[0;36mBaseEstimator._validate_data\u001b[1;34m(self, X, y, reset, validate_separately, **check_params)\u001b[0m\n\u001b[0;32m    563\u001b[0m     \u001b[39mraise\u001b[39;00m \u001b[39mValueError\u001b[39;00m(\u001b[39m\"\u001b[39m\u001b[39mValidation should be done on X, y or both.\u001b[39m\u001b[39m\"\u001b[39m)\n\u001b[0;32m    564\u001b[0m \u001b[39melif\u001b[39;00m \u001b[39mnot\u001b[39;00m no_val_X \u001b[39mand\u001b[39;00m no_val_y:\n\u001b[1;32m--> 565\u001b[0m     X \u001b[39m=\u001b[39m check_array(X, input_name\u001b[39m=\u001b[39;49m\u001b[39m\"\u001b[39;49m\u001b[39mX\u001b[39;49m\u001b[39m\"\u001b[39;49m, \u001b[39m*\u001b[39;49m\u001b[39m*\u001b[39;49mcheck_params)\n\u001b[0;32m    566\u001b[0m     out \u001b[39m=\u001b[39m X\n\u001b[0;32m    567\u001b[0m \u001b[39melif\u001b[39;00m no_val_X \u001b[39mand\u001b[39;00m \u001b[39mnot\u001b[39;00m no_val_y:\n",
      "File \u001b[1;32m~\\AppData\\Local\\Packages\\PythonSoftwareFoundation.Python.3.11_qbz5n2kfra8p0\\LocalCache\\local-packages\\Python311\\site-packages\\sklearn\\utils\\validation.py:879\u001b[0m, in \u001b[0;36mcheck_array\u001b[1;34m(array, accept_sparse, accept_large_sparse, dtype, order, copy, force_all_finite, ensure_2d, allow_nd, ensure_min_samples, ensure_min_features, estimator, input_name)\u001b[0m\n\u001b[0;32m    877\u001b[0m         array \u001b[39m=\u001b[39m xp\u001b[39m.\u001b[39mastype(array, dtype, copy\u001b[39m=\u001b[39m\u001b[39mFalse\u001b[39;00m)\n\u001b[0;32m    878\u001b[0m     \u001b[39melse\u001b[39;00m:\n\u001b[1;32m--> 879\u001b[0m         array \u001b[39m=\u001b[39m _asarray_with_order(array, order\u001b[39m=\u001b[39;49morder, dtype\u001b[39m=\u001b[39;49mdtype, xp\u001b[39m=\u001b[39;49mxp)\n\u001b[0;32m    880\u001b[0m \u001b[39mexcept\u001b[39;00m ComplexWarning \u001b[39mas\u001b[39;00m complex_warning:\n\u001b[0;32m    881\u001b[0m     \u001b[39mraise\u001b[39;00m \u001b[39mValueError\u001b[39;00m(\n\u001b[0;32m    882\u001b[0m         \u001b[39m\"\u001b[39m\u001b[39mComplex data not supported\u001b[39m\u001b[39m\\n\u001b[39;00m\u001b[39m{}\u001b[39;00m\u001b[39m\\n\u001b[39;00m\u001b[39m\"\u001b[39m\u001b[39m.\u001b[39mformat(array)\n\u001b[0;32m    883\u001b[0m     ) \u001b[39mfrom\u001b[39;00m \u001b[39mcomplex_warning\u001b[39;00m\n",
      "File \u001b[1;32m~\\AppData\\Local\\Packages\\PythonSoftwareFoundation.Python.3.11_qbz5n2kfra8p0\\LocalCache\\local-packages\\Python311\\site-packages\\sklearn\\utils\\_array_api.py:185\u001b[0m, in \u001b[0;36m_asarray_with_order\u001b[1;34m(array, dtype, order, copy, xp)\u001b[0m\n\u001b[0;32m    182\u001b[0m     xp, _ \u001b[39m=\u001b[39m get_namespace(array)\n\u001b[0;32m    183\u001b[0m \u001b[39mif\u001b[39;00m xp\u001b[39m.\u001b[39m\u001b[39m__name__\u001b[39m \u001b[39min\u001b[39;00m {\u001b[39m\"\u001b[39m\u001b[39mnumpy\u001b[39m\u001b[39m\"\u001b[39m, \u001b[39m\"\u001b[39m\u001b[39mnumpy.array_api\u001b[39m\u001b[39m\"\u001b[39m}:\n\u001b[0;32m    184\u001b[0m     \u001b[39m# Use NumPy API to support order\u001b[39;00m\n\u001b[1;32m--> 185\u001b[0m     array \u001b[39m=\u001b[39m numpy\u001b[39m.\u001b[39masarray(array, order\u001b[39m=\u001b[39morder, dtype\u001b[39m=\u001b[39mdtype)\n\u001b[0;32m    186\u001b[0m     \u001b[39mreturn\u001b[39;00m xp\u001b[39m.\u001b[39masarray(array, copy\u001b[39m=\u001b[39mcopy)\n\u001b[0;32m    187\u001b[0m \u001b[39melse\u001b[39;00m:\n",
      "File \u001b[1;32m~\\AppData\\Local\\Packages\\PythonSoftwareFoundation.Python.3.11_qbz5n2kfra8p0\\LocalCache\\local-packages\\Python311\\site-packages\\pandas\\core\\series.py:893\u001b[0m, in \u001b[0;36mSeries.__array__\u001b[1;34m(self, dtype)\u001b[0m\n\u001b[0;32m    846\u001b[0m \u001b[39mdef\u001b[39;00m \u001b[39m__array__\u001b[39m(\u001b[39mself\u001b[39m, dtype: npt\u001b[39m.\u001b[39mDTypeLike \u001b[39m|\u001b[39m \u001b[39mNone\u001b[39;00m \u001b[39m=\u001b[39m \u001b[39mNone\u001b[39;00m) \u001b[39m-\u001b[39m\u001b[39m>\u001b[39m np\u001b[39m.\u001b[39mndarray:\n\u001b[0;32m    847\u001b[0m \u001b[39m    \u001b[39m\u001b[39m\"\"\"\u001b[39;00m\n\u001b[0;32m    848\u001b[0m \u001b[39m    Return the values as a NumPy array.\u001b[39;00m\n\u001b[0;32m    849\u001b[0m \n\u001b[1;32m   (...)\u001b[0m\n\u001b[0;32m    891\u001b[0m \u001b[39m          dtype='datetime64[ns]')\u001b[39;00m\n\u001b[0;32m    892\u001b[0m \u001b[39m    \"\"\"\u001b[39;00m\n\u001b[1;32m--> 893\u001b[0m     \u001b[39mreturn\u001b[39;00m np\u001b[39m.\u001b[39masarray(\u001b[39mself\u001b[39m\u001b[39m.\u001b[39m_values, dtype)\n",
      "\u001b[1;31mValueError\u001b[0m: could not convert string to float: 'A3'"
     ]
    }
   ],
   "source": [
    "# use model to predict chunks\n",
    "\n",
    "model.predict(events_data.iloc[1])"
   ]
  },
  {
   "cell_type": "code",
   "execution_count": 30,
   "metadata": {},
   "outputs": [
    {
     "name": "stdout",
     "output_type": "stream",
     "text": [
      "==========================================================================================\n",
      "n_gen  |  n_eval  | n_nds  |     cv_min    |     cv_avg    |      eps      |   indicator  \n",
      "==========================================================================================\n",
      "     1 |       40 |      1 |           INF |           INF |             - |             -\n",
      "     2 |       50 |      1 |           INF |           INF |             - |             -\n",
      "     3 |       60 |      1 |           INF |           INF |             - |             -\n",
      "     4 |       70 |      1 |           INF |           INF |             - |             -\n",
      "     5 |       80 |      1 |           INF |           INF |             - |             -\n",
      "     6 |       90 |      1 |           INF |           INF |             - |             -\n",
      "     7 |      100 |      1 |           INF |           INF |             - |             -\n",
      "     8 |      110 |      1 |           INF |           INF |             - |             -\n",
      "     9 |      120 |      1 |           INF |           INF |             - |             -\n",
      "    10 |      130 |      1 |           INF |           INF |             - |             -\n",
      "    11 |      140 |      1 |           INF |           INF |             - |             -\n",
      "    12 |      150 |      1 |           INF |           INF |             - |             -\n",
      "    13 |      160 |      1 |           INF |           INF |             - |             -\n",
      "    14 |      170 |      1 |           INF |           INF |             - |             -\n",
      "    15 |      180 |      1 |           INF |           INF |             - |             -\n",
      "    16 |      190 |      1 |           INF |           INF |             - |             -\n",
      "    17 |      200 |      1 |           INF |           INF |             - |             -\n",
      "    18 |      210 |      1 |           INF |           INF |             - |             -\n",
      "    19 |      220 |      1 |           INF |           INF |             - |             -\n",
      "    20 |      230 |      1 |           INF |           INF |             - |             -\n",
      "    21 |      240 |      1 |           INF |           INF |             - |             -\n",
      "    22 |      250 |      1 |           INF |           INF |             - |             -\n",
      "    23 |      260 |      1 |           INF |           INF |             - |             -\n",
      "    24 |      270 |      1 |           INF |           INF |             - |             -\n",
      "    25 |      280 |      1 |           INF |           INF |             - |             -\n",
      "    26 |      290 |      1 |           INF |           INF |             - |             -\n",
      "    27 |      300 |      1 |           INF |           INF |             - |             -\n",
      "    28 |      310 |      1 |           INF |           INF |             - |             -\n",
      "    29 |      320 |      1 |           INF |           INF |             - |             -\n",
      "    30 |      330 |      1 |           INF |           INF |             - |             -\n",
      "    31 |      340 |      1 |           INF |           INF |             - |             -\n",
      "    32 |      350 |      1 |           INF |           INF |             - |             -\n",
      "    33 |      360 |      1 |           INF |           INF |             - |             -\n",
      "    34 |      370 |      1 |           INF |           INF |             - |             -\n",
      "    35 |      380 |      1 |           INF |           INF |             - |             -\n",
      "    36 |      390 |      1 |           INF |           INF |             - |             -\n",
      "    37 |      400 |      1 |           INF |           INF |             - |             -\n",
      "    38 |      410 |      1 |           INF |           INF |             - |             -\n",
      "    39 |      420 |      1 |           INF |           INF |             - |             -\n",
      "    40 |      430 |      1 |           INF |           INF |             - |             -\n"
     ]
    }
   ],
   "source": [
    "# use pymoo and nsga2 to find optimal threshold values\n",
    "\n",
    "from pymoo.algorithms.moo.nsga2 import NSGA2\n",
    "from pymoo.operators.crossover.sbx import SBX\n",
    "from pymoo.operators.mutation.pm import PM\n",
    "from pymoo.operators.sampling.rnd import FloatRandomSampling\n",
    "from pymoo.termination import get_termination\n",
    "from pymoo.optimize import minimize\n",
    "\n",
    "algorithm = NSGA2(\n",
    "    pop_size=40,\n",
    "    n_offsprings=10,\n",
    "    sampling=FloatRandomSampling(),\n",
    "    crossover=SBX(prob=0.9, eta=15),\n",
    "    mutation=PM(eta=20),\n",
    "    eliminate_duplicates=True,\n",
    ")\n",
    "\n",
    "\n",
    "termination = get_termination(\"n_gen\", 40)\n",
    "\n",
    "from src.classifier_new import Classifier\n",
    "\n",
    "problem = Classifier(events_data)\n",
    "\n",
    "\n",
    "res = minimize(problem, algorithm, termination, seed=1, save_history=True, verbose=True)\n",
    "\n",
    "X = res.X\n",
    "F = res.F"
   ]
  }
 ],
 "metadata": {
  "kernelspec": {
   "display_name": "Python 3",
   "language": "python",
   "name": "python3"
  },
  "language_info": {
   "codemirror_mode": {
    "name": "ipython",
    "version": 3
   },
   "file_extension": ".py",
   "mimetype": "text/x-python",
   "name": "python",
   "nbconvert_exporter": "python",
   "pygments_lexer": "ipython3",
   "version": "3.11.3"
  }
 },
 "nbformat": 4,
 "nbformat_minor": 2
}
