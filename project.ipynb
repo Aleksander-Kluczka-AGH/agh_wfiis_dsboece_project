{
 "cells": [
  {
   "cell_type": "code",
   "execution_count": null,
   "metadata": {},
   "outputs": [],
   "source": [
    "# ONLY FOR GOOGLE COLAB!\n",
    "from google.colab import drive\n",
    "\n",
    "drive.mount(\"/gdrive\")\n",
    "!ln -s \"/gdrive/MyDrive/Colab Notebooks/ericsson/data\" \"/content\""
   ]
  },
  {
   "cell_type": "code",
   "execution_count": null,
   "metadata": {},
   "outputs": [],
   "source": [
    "# ONLY FOR GOOGLE COLAB!\n",
    "# drive.flush_and_unmount()\n",
    "# !rm \"./ericsson\"\n",
    "# !rm \"./data\""
   ]
  },
  {
   "cell_type": "code",
   "execution_count": null,
   "metadata": {},
   "outputs": [],
   "source": [
    "# ONLY FOR GOOGLE COLAB!\n",
    "!pip install pymoo"
   ]
  },
  {
   "cell_type": "code",
   "execution_count": 1,
   "metadata": {},
   "outputs": [],
   "source": [
    "import gzip\n",
    "import os\n",
    "import re\n",
    "\n",
    "import pandas as pd\n",
    "\n",
    "\n",
    "def read_gzip_file(file_path):\n",
    "    with gzip.open(file_path) as f:\n",
    "        data1 = pd.read_csv(f, sep=\";\", skiprows=[0, 1], header=None)\n",
    "    return data1\n",
    "\n",
    "\n",
    "def read_all_data(path):\n",
    "    dataFrames = []\n",
    "    # iterate through all files\n",
    "    for file in os.listdir(path):\n",
    "        if file.endswith(\".gzip\"):\n",
    "            file_path = f\"{path}/{file}\"\n",
    "            # call read text file function\n",
    "            dataFrames.append(read_gzip_file(file_path))\n",
    "    data = pd.concat(dataFrames, ignore_index=True)\n",
    "    data.columns = [\"time\", \"latitude\", \"longitude\", \"nw data\", \"accuracy\"]\n",
    "    return data\n",
    "\n",
    "\n",
    "def _get_param(val: str, name: str):\n",
    "    m = re.match(f\"^.* {name}=([^ ]+).*$\", val)\n",
    "    if m:\n",
    "        return m.group(1)\n",
    "    return None\n",
    "\n",
    "\n",
    "def get_param(cell, name: str):\n",
    "    if type(cell) is list:\n",
    "        return [get_param(c, name) for c in cell]\n",
    "    elif type(cell) is dict:\n",
    "        param = _get_param(cell[\"signal\"], name)\n",
    "        if param:\n",
    "            return param\n",
    "        return _get_param(cell[\"identity\"], name)\n",
    "    return None\n",
    "\n",
    "\n",
    "class CellInfo:\n",
    "    def __init__(self, s: str):\n",
    "        all_info = s.split(\"!\")\n",
    "        self.num_cells = int(all_info[0])\n",
    "        sig_id = all_info[1:]\n",
    "        self._info = [\n",
    "            {\n",
    "                \"type\": self.__get_type(sig_id[i + 1]),\n",
    "                \"signal\": sig_id[i],\n",
    "                \"identity\": sig_id[i + 1],\n",
    "            }\n",
    "            for i in range(0, self.num_cells, 2)\n",
    "        ]\n",
    "\n",
    "    def __str__(self):\n",
    "        wcdma_len = len(self.wcdma())\n",
    "        lte_len = len(self.lte())\n",
    "        return f\"CellInfo: n={self.num_cells} wcdma={wcdma_len} lte={lte_len}\"\n",
    "\n",
    "    def __repr__(self):\n",
    "        return str(self)\n",
    "\n",
    "    def cell_types(self):\n",
    "        return set([cell[\"type\"] for cell in self._info])\n",
    "\n",
    "    def all(self):\n",
    "        return self._info\n",
    "\n",
    "    def wcdma(self):\n",
    "        return [i for i in self._info if i[\"type\"] == \"Wcdma\"]\n",
    "\n",
    "    def lte(self):\n",
    "        return [i for i in self._info if i[\"type\"] == \"Lte\"]\n",
    "\n",
    "    def get_by_pci(self, pci: str):\n",
    "        return [cell for cell in self.lte() if get_param(cell, \"mPci\") == pci]\n",
    "\n",
    "    def get_by_mcc_mnc(self, mcc: str, mnc: str):\n",
    "        return [\n",
    "            cell\n",
    "            for cell in self.all()\n",
    "            if get_param(cell, \"mMcc\") == mcc and get_param(cell, \"mMnc\") == mnc\n",
    "        ]\n",
    "\n",
    "    def get_attached(self):\n",
    "        return [cell for cell in self.all() if get_param(cell, \"mMnc\") != \"null\"]\n",
    "\n",
    "    def get_attached_lte(self):\n",
    "        return [cell for cell in self.lte() if get_param(cell, \"mMnc\") != \"null\"]\n",
    "\n",
    "    def get_attached_wcdma(self):\n",
    "        return [cell for cell in self.wcdma() if get_param(cell, \"mMnc\") != \"null\"]\n",
    "\n",
    "    def __get_type(self, cell_id_str: str):\n",
    "        return cell_id_str.split(\":\")[0][len(\"CellIdentity\") :]\n",
    "\n",
    "\n",
    "def explode_nw_data(df: pd.DataFrame, col_name=\"nw data\"):\n",
    "    exploded_df = df.copy()\n",
    "    exploded_df[col_name] = df[col_name].apply(lambda txt: CellInfo(txt))\n",
    "    return exploded_df\n",
    "\n",
    "\n",
    "def rsrp_per_pci(df: pd.DataFrame, PCI: int, agg=min):\n",
    "    pci_df = df[df[\"pci\"].apply(lambda x: PCI in x)].copy()\n",
    "    pci_df[\"rsrp\"] = pci_df[\"nw data\"].apply(\n",
    "        lambda x: agg(\n",
    "            [float(get_param(pcell, \"rsrp\")) for pcell in x.get_by_pci(str(PCI))]\n",
    "        )\n",
    "    )\n",
    "    return pci_df\n",
    "\n",
    "\n",
    "def _at_least_one(values, search):\n",
    "    for v in values:\n",
    "        if v in search:\n",
    "            return True\n",
    "    return False\n",
    "\n",
    "\n",
    "def _join(list_of_lists):\n",
    "    joined_list = []\n",
    "    for l in list_of_lists:\n",
    "        joined_list += l\n",
    "    return joined_list\n",
    "\n",
    "\n",
    "def rsrp_per_multiple_pci(df: pd.DataFrame, PCIs: list, agg=min):\n",
    "    pci_df = df[df[\"pci\"].apply(_at_least_one, args=(PCIs,))].copy()\n",
    "    pci_df[\"rsrp\"] = pci_df[\"nw data\"].apply(\n",
    "        lambda x: agg(\n",
    "            [\n",
    "                float(get_param(pcell, \"rsrp\"))\n",
    "                for pcell in _join([x.get_by_pci(str(pci)) for pci in PCIs])\n",
    "            ]\n",
    "        )\n",
    "    )\n",
    "    return pci_df\n",
    "\n",
    "\n",
    "def rsrp_per_plmn(df: pd.DataFrame, mcc: str, mnc: str, agg=min):\n",
    "    plmn_df = df[df[\"plmn lte\"].apply(lambda x: \"-\".join([mcc, mnc]) in x)].copy()\n",
    "    plmn_df[\"rsrp\"] = plmn_df[\"nw data\"].apply(\n",
    "        lambda x: agg(\n",
    "            [float(get_param(pcell, \"rsrp\")) for pcell in x.get_by_mcc_mnc(mcc, mnc)]\n",
    "        )\n",
    "    )\n",
    "    return plmn_df\n",
    "\n",
    "\n",
    "def rscp_per_plmn(df: pd.DataFrame, mcc: str, mnc: str, agg=min):\n",
    "    plmn_df = df[df[\"plmn wcdma\"].apply(lambda x: \"-\".join([mcc, mnc]) in x)].copy()\n",
    "    plmn_df[\"rscp\"] = plmn_df[\"nw data\"].apply(\n",
    "        lambda x: agg(\n",
    "            [\n",
    "                float(get_param(pcell, \"rscp\"))\n",
    "                for pcell in x.get_by_mcc_mnc(mcc, mnc)\n",
    "                if get_param(pcell, \"rscp\") is not None\n",
    "            ]\n",
    "        )\n",
    "    )\n",
    "    return plmn_df\n",
    "\n",
    "\n",
    "def get_plmn(cell: dict):\n",
    "    mcc = get_param(cell, \"mMcc\")\n",
    "    mnc = get_param(cell, \"mMnc\")\n",
    "    return \"-\".join([mcc, mnc])\n",
    "\n",
    "\n",
    "def expand_dataframe(df: pd.DataFrame):\n",
    "    df[\"pci\"] = df[\"nw data\"].apply(\n",
    "        lambda x: (\n",
    "            [int(p) for p in get_param(x.get_attached_lte(), \"mPci\") if p is not None]\n",
    "            + [int(p) for p in get_param(x.get_attached_lte(), \"pci\") if p is not None]\n",
    "        )\n",
    "    )\n",
    "\n",
    "    df[\"plmn lte\"] = df[\"nw data\"].apply(\n",
    "        lambda x: set([get_plmn(cell) for cell in x.get_attached_lte()])\n",
    "    )\n",
    "    df[\"plmn wcdma\"] = df[\"nw data\"].apply(\n",
    "        lambda x: set([get_plmn(cell) for cell in x.get_attached_wcdma()])\n",
    "    )\n",
    "    return df\n",
    "\n",
    "\n",
    "import logging as log\n",
    "import pandas as pd\n",
    "\n",
    "\n",
    "class MobileDataParser:\n",
    "    def __init__(self, raw_data: pd.DataFrame) -> None:\n",
    "        log.info(\"Created MobileDataParser, parsing raw data...\")\n",
    "        self.raw_data = self._prune_invalid_data(raw_data)\n",
    "        self._measurement_points = self._parse_to_measurement_points(self.raw_data)\n",
    "\n",
    "    def get_measurement_points(self) -> pd.DataFrame:\n",
    "        return self._measurement_points\n",
    "\n",
    "    def get_event_points(self, thresholds: dict[str, float] = {}) -> pd.DataFrame:\n",
    "        # params to detect events\n",
    "        rsrp_range = [-140, -44]\n",
    "        rsrq_range = [-19.5, -3]\n",
    "        offset_range = [-15, 15]\n",
    "\n",
    "        RSRSP_TH: float = thresholds.get(\"rsrp\", rsrp_range[0])\n",
    "        RSRQ_TH: float = thresholds.get(\"rsrq\", rsrq_range[0])\n",
    "        OFFSET: float = thresholds.get(\"offset\", offset_range[1])\n",
    "\n",
    "        assert (\n",
    "            rsrp_range[0] <= RSRSP_TH <= rsrp_range[1]\n",
    "        ), f\"rsrp threshold {RSRSP_TH} is out of range {rsrp_range}\"\n",
    "        assert (\n",
    "            rsrq_range[0] <= RSRQ_TH <= rsrq_range[1]\n",
    "        ), f\"rsrq threshold {RSRQ_TH} is out of range {rsrq_range}\"\n",
    "        assert (\n",
    "            offset_range[0] <= OFFSET <= offset_range[1]\n",
    "        ), f\"offset {OFFSET} is out of range {offset_range}\"\n",
    "\n",
    "        events_df = []\n",
    "        size = self._measurement_points.shape[0]\n",
    "        for i, row in self._measurement_points.iterrows():\n",
    "            cells = row[\"lte\"]\n",
    "            if cells and 0 < i < size:\n",
    "                # present cells - ta should be close to 0, ex. 0-10, mcc and mnc should exist\n",
    "                scell = None\n",
    "                for scell_index, cell_info in enumerate(cells):\n",
    "                    if cell_info[\"identity\"][\"mMnc\"] is not None:\n",
    "                        scell = cell_info\n",
    "                        break\n",
    "\n",
    "                # previous cells\n",
    "                prev_scell = None\n",
    "                prev_cells = self._measurement_points.iloc[i - 1][\"lte\"]\n",
    "                for cell_info in prev_cells:\n",
    "                    if cell_info[\"identity\"][\"mMnc\"] is not None:\n",
    "                        prev_scell = cell_info\n",
    "                        break\n",
    "\n",
    "                assert scell is not None\n",
    "                assert prev_scell is not None\n",
    "\n",
    "                scell_rsrp = scell[\"signal\"][\"rsrp\"]\n",
    "                scell_rsrq = scell[\"signal\"][\"rsrq\"]\n",
    "                pscell_rsrp = prev_scell[\"signal\"][\"rsrp\"]\n",
    "                pscell_rsrq = prev_scell[\"signal\"][\"rsrq\"]\n",
    "\n",
    "                def is_a1_event():\n",
    "                    return ((scell_rsrp > RSRSP_TH) and (pscell_rsrp < RSRSP_TH)) or (\n",
    "                        (scell_rsrq > RSRQ_TH) and (pscell_rsrq < RSRQ_TH)\n",
    "                    )\n",
    "\n",
    "                def is_a2_event():\n",
    "                    return ((scell_rsrp < RSRSP_TH) and (pscell_rsrp > RSRSP_TH)) or (\n",
    "                        (scell_rsrq < RSRQ_TH) and (pscell_rsrq > RSRQ_TH)\n",
    "                    )\n",
    "\n",
    "                events_detected: list[str] = []\n",
    "                if is_a1_event():\n",
    "                    events_detected.append(\"A1\")\n",
    "\n",
    "                if is_a2_event():\n",
    "                    events_detected.append(\"A2\")\n",
    "\n",
    "                for j, ncell in enumerate(cells):\n",
    "                    if j == scell_index:  # shouldn't check serving cell against itself\n",
    "                        continue\n",
    "\n",
    "                    ncell_rsrp = ncell[\"signal\"][\"rsrp\"]\n",
    "                    ncell_rsrq = ncell[\"signal\"][\"rsrq\"]\n",
    "\n",
    "                    def is_a3_event():\n",
    "                        return (ncell_rsrp >= (scell_rsrp + OFFSET)) or (\n",
    "                            ncell_rsrq >= (scell_rsrq + OFFSET)\n",
    "                        )\n",
    "\n",
    "                    def is_a4_event():\n",
    "                        return (ncell_rsrp >= RSRSP_TH) or (ncell_rsrq >= RSRQ_TH)\n",
    "\n",
    "                    def is_a5_event():\n",
    "                        return (\n",
    "                            (scell_rsrp < RSRSP_TH) and (ncell_rsrp > RSRSP_TH)\n",
    "                        ) or ((scell_rsrq < RSRQ_TH) and (ncell_rsrq > RSRQ_TH))\n",
    "\n",
    "                    if is_a3_event():\n",
    "                        events_detected.append(\"A3\")\n",
    "\n",
    "                    if is_a4_event():\n",
    "                        events_detected.append(\"A4\")\n",
    "\n",
    "                    if is_a5_event():\n",
    "                        events_detected.append(\"A5\")\n",
    "\n",
    "                for ev in set(events_detected):\n",
    "                    events_df.append(\n",
    "                        [\n",
    "                            row[\"longitude\"],\n",
    "                            row[\"latitude\"],\n",
    "                            ev,\n",
    "                            row[\"lte\"][scell_index][\"signal\"].get(\n",
    "                                \"rsrp\",\n",
    "                                row[\"lte\"][scell_index][\"identity\"].get(\"rsrp\", None),\n",
    "                            ),\n",
    "                            row[\"lte\"][scell_index][\"signal\"].get(\n",
    "                                \"rsrq\",\n",
    "                                row[\"lte\"][scell_index][\"identity\"].get(\"rsrq\", None),\n",
    "                            ),\n",
    "                            row[\"lte\"][scell_index][\"identity\"].get(\n",
    "                                \"pci\",\n",
    "                                row[\"lte\"][scell_index][\"identity\"].get(\"mPci\", None),\n",
    "                            ),\n",
    "                            row[\"lte\"][scell_index][\"identity\"].get(\"mMnc\", None),\n",
    "                            row[\"lte\"][scell_index][\"signal\"].get(\n",
    "                                \"ta\",\n",
    "                                row[\"lte\"][scell_index][\"identity\"].get(\"ta\", None),\n",
    "                            ),\n",
    "                            row[\"lte\"][scell_index][\"signal\"].get(\n",
    "                                \"rssi\",\n",
    "                                row[\"lte\"][scell_index][\"identity\"].get(\"rssi\", None),\n",
    "                            ),\n",
    "                            row[\"lte\"][scell_index][\"signal\"].get(\n",
    "                                \"rssnr\",\n",
    "                                row[\"lte\"][scell_index][\"identity\"].get(\"rssnr\", None),\n",
    "                            ),\n",
    "                            row[\"lte\"][scell_index][\"signal\"].get(\n",
    "                                \"cqiTableIndex\", None\n",
    "                            ),\n",
    "                            row[\"lte\"][scell_index][\"signal\"].get(\"cqi\", None),\n",
    "                            row[\"lte\"][scell_index][\"signal\"].get(\"level\", None),\n",
    "                            row[\"lte\"][scell_index][\"identity\"].get(\n",
    "                                \"earfcn\",\n",
    "                                row[\"lte\"][scell_index][\"identity\"].get(\n",
    "                                    \"mEarfcn\", None\n",
    "                                ),\n",
    "                            ),\n",
    "                            row[\"lte\"][scell_index][\"identity\"].get(\n",
    "                                \"tac\",\n",
    "                                row[\"lte\"][scell_index][\"identity\"].get(\"mTac\", None),\n",
    "                            ),\n",
    "                            row[\"lte\"][scell_index][\"identity\"].get(\n",
    "                                \"bw\",\n",
    "                                row[\"lte\"][scell_index][\"identity\"].get(\n",
    "                                    \"mBandwidth\", None\n",
    "                                ),\n",
    "                            ),\n",
    "                            row[\"lte\"][scell_index][\"identity\"].get(\"mMcc\", None),\n",
    "                            row[\"lte\"][scell_index][\"identity\"].get(\"dbm\", None),\n",
    "                        ]\n",
    "                    )\n",
    "\n",
    "        self.event_points = pd.DataFrame(\n",
    "            events_df,\n",
    "            columns=[\n",
    "                \"longitude\",\n",
    "                \"latitude\",\n",
    "                \"event\",\n",
    "                \"rsrp\",\n",
    "                \"rsrq\",\n",
    "                \"pci\",\n",
    "                \"mnc\",\n",
    "                \"ta\",\n",
    "                \"rssi\",\n",
    "                \"rssnr\",\n",
    "                \"cqi_table_index\",\n",
    "                \"cqi\",\n",
    "                \"level\",\n",
    "                \"earfcn\",\n",
    "                \"tac\",\n",
    "                \"bandwidth\",\n",
    "                \"mcc\",\n",
    "                \"dbm\",\n",
    "            ],\n",
    "        )\n",
    "        return self.event_points\n",
    "\n",
    "    def generate_grid(self, padding: float, chunks_count: int):\n",
    "        min_longitude, max_longitude = (\n",
    "            self.event_points[\"longitude\"].min() - padding,\n",
    "            self.event_points[\"longitude\"].max() + padding,\n",
    "        )\n",
    "        min_latitude, max_latitude = (\n",
    "            self.event_points[\"latitude\"].min() - padding,\n",
    "            self.event_points[\"latitude\"].max() + padding,\n",
    "        )\n",
    "\n",
    "        def chunk_pattern(min_long, min_lat, max_long, max_lat):\n",
    "            return [\n",
    "                [min_long, min_lat],\n",
    "                [max_long, min_lat],\n",
    "                [max_long, max_lat],\n",
    "                [min_long, max_lat],\n",
    "                [min_long, min_lat],\n",
    "            ]\n",
    "\n",
    "        width: float = max_longitude - min_longitude\n",
    "        height: float = max_latitude - min_latitude\n",
    "\n",
    "        chunk_width = width / chunks_count\n",
    "        chunk_height = height / chunks_count\n",
    "\n",
    "        gridlines: list = []  # storage for all them chonks\n",
    "\n",
    "        # columns\n",
    "        for i in range(chunks_count):\n",
    "            min_long = min_longitude + i * chunk_width\n",
    "            max_long = min_longitude + (i + 1) * chunk_width\n",
    "            chunks = [chunk_pattern(min_long, min_latitude, max_long, max_latitude)]\n",
    "            gridlines.extend(chunks)\n",
    "\n",
    "        # rows\n",
    "        for i in range(chunks_count):\n",
    "            min_lat = min_latitude + i * chunk_height\n",
    "            max_lat = min_latitude + (i + 1) * chunk_height\n",
    "            chunks = [chunk_pattern(min_longitude, min_lat, max_longitude, max_lat)]\n",
    "            gridlines.extend(chunks)\n",
    "\n",
    "        self.grid = gridlines\n",
    "\n",
    "        def add_columns_to_df(df: pd.DataFrame) -> None:\n",
    "            def coordinates_to_chunk_label(\n",
    "                longitude: float, latitude: float\n",
    "            ) -> tuple[int, int]:\n",
    "                label_x = int((longitude - min_longitude) // chunk_width)\n",
    "                label_y = int((latitude - min_latitude) // chunk_height)\n",
    "                return label_x, label_y\n",
    "\n",
    "            df[\"chunk\"] = df.apply(\n",
    "                lambda point: coordinates_to_chunk_label(\n",
    "                    point[\"longitude\"], point[\"latitude\"]\n",
    "                ),\n",
    "                axis=1,\n",
    "            )\n",
    "\n",
    "            df[\"label\"] = df.apply(\n",
    "                lambda point: point[\"chunk\"][0] * chunks_count + point[\"chunk\"][1],\n",
    "                axis=1,\n",
    "            )\n",
    "\n",
    "        # for raw data, some points may actually lie outside of the grid\n",
    "        add_columns_to_df(self.event_points)\n",
    "        add_columns_to_df(self._measurement_points)\n",
    "\n",
    "        return self.grid\n",
    "\n",
    "    def _prune_invalid_data(self, raw_data: pd.DataFrame) -> pd.DataFrame:\n",
    "        log.info(\"Pruning invalid data...\")\n",
    "        pruned_data = raw_data[raw_data[\"nw data\"].apply(lambda x: len(str(x)) > 1)]\n",
    "        return pruned_data\n",
    "\n",
    "    def _parse_to_measurement_points(self, raw_data: pd.DataFrame) -> pd.DataFrame:\n",
    "        log.info(\"Parsing data to measurement points...\")\n",
    "        measurements = explode_nw_data(raw_data)\n",
    "        measurements = expand_dataframe(measurements)\n",
    "\n",
    "        # remove rows with cells which are not lte\n",
    "        measurements = measurements[\n",
    "            measurements[\"plmn lte\"].apply(lambda x: len(x) > 0)\n",
    "        ]\n",
    "\n",
    "        # extract lte data from 'nw data' and convert str to correct types\n",
    "        measurements[\"lte\"] = measurements[\"nw data\"].apply(lambda x: x.lte())\n",
    "        measurements[\"lte\"] = measurements[\"lte\"].apply(self._to_dict)\n",
    "        measurements[\"lte\"] = measurements[\"lte\"].apply(self._convert_types)\n",
    "        measurements[\"time\"] = measurements[\"time\"].apply(pd.to_datetime)\n",
    "        measurements[[\"longitude\", \"latitude\"]] = measurements[\n",
    "            [\"longitude\", \"latitude\"]\n",
    "        ].apply(pd.to_numeric)\n",
    "\n",
    "        # remove unnecessary columns\n",
    "        measurements.drop(\"nw data\", axis=1, inplace=True)\n",
    "        measurements.drop(\"plmn wcdma\", axis=1, inplace=True)\n",
    "\n",
    "        # rename 'plmn lte' to 'mcc_mnc'\n",
    "        measurements.rename(columns={\"plmn lte\": \"mcc-mnc\"}, inplace=True)\n",
    "        return measurements\n",
    "\n",
    "    def _to_dict(self, lines) -> list[dict[str, str]]:\n",
    "        def _convert_to_dict(raw_cell_info: str) -> dict[str, str]:\n",
    "            retval: dict[str, str] = {}\n",
    "            for pair in raw_cell_info:\n",
    "                pair = pair.split(\"=\")\n",
    "                if len(pair) > 1:\n",
    "                    retval[pair[0]] = pair[1]\n",
    "            return retval\n",
    "\n",
    "        modified_lines = []\n",
    "        for line in lines:\n",
    "            line.pop(\"type\")\n",
    "\n",
    "            line[\"signal\"] = _convert_to_dict(line[\"signal\"].split()[1:])\n",
    "            line[\"identity\"] = _convert_to_dict(line[\"identity\"].split()[1:])\n",
    "\n",
    "            modified_lines.append(line)\n",
    "\n",
    "        return modified_lines\n",
    "\n",
    "    def _convert_types(self, cell_infos: list):\n",
    "        signal_columns = [\n",
    "            \"rsrp\",\n",
    "            \"rsrq\",\n",
    "            \"rssi\",\n",
    "            \"rssnr\",\n",
    "            \"ta\",\n",
    "            \"cqi\",\n",
    "            \"level\",\n",
    "            \"parametersUseForLevel\",\n",
    "            \"cqiTableIndex\",\n",
    "            \"miuiLevel\",\n",
    "            \"mOptimizedLevel\",\n",
    "            \"parametersUseForLevel\",\n",
    "        ]\n",
    "        identity_columns = [\n",
    "            \"mCi\",\n",
    "            \"mPci\",\n",
    "            \"mTac\",\n",
    "            \"mEarfcn\",\n",
    "            \"mBandwidth\",\n",
    "            \"mMcc\",\n",
    "            \"mMnc\",\n",
    "            # other convention\n",
    "            \"pci\",\n",
    "            \"tac\",\n",
    "            \"earfcn\",\n",
    "            \"bw\",\n",
    "            \"rsrp\",\n",
    "            \"rsrq\",\n",
    "            \"rssi\",\n",
    "            \"dbm\",\n",
    "            \"ta\",\n",
    "        ]\n",
    "        for info in cell_infos:\n",
    "            for column in signal_columns:\n",
    "                try:\n",
    "                    info[\"signal\"][column] = pd.to_numeric(\n",
    "                        info[\"signal\"][column], errors=\"coerce\", downcast=\"integer\"\n",
    "                    )\n",
    "                    # if info[\"signal\"][column] > 2147483640:\n",
    "                    #     info[\"signal\"][column] = float(\"inf\")\n",
    "                except KeyError:\n",
    "                    pass\n",
    "                except:\n",
    "                    pass\n",
    "\n",
    "            for column in identity_columns:\n",
    "                try:\n",
    "                    info[\"identity\"][column] = int(info[\"identity\"][column])\n",
    "                except KeyError:\n",
    "                    pass\n",
    "                except ValueError:\n",
    "                    info[\"identity\"][column] = None\n",
    "                except:\n",
    "                    pass\n",
    "\n",
    "        return cell_infos\n",
    "\n",
    "\n",
    "def filter_by_pci(df: \"pd.DataFrame\", pci: int) -> \"pd.DataFrame\":\n",
    "    return df[df[\"pci\"].apply(lambda x: any(el == pci for el in x))]\n",
    "\n",
    "\n",
    "def filter_by_mnc(df: \"pd.DataFrame\", mnc: int) -> \"pd.DataFrame\":\n",
    "    return df[\n",
    "        df[\"mcc-mnc\"].apply(lambda x: any(int(el.split(\"-\")[1]) == mnc for el in x))\n",
    "    ]\n",
    "\n",
    "\n",
    "def filter_by_earfcn(df: \"pd.DataFrame\", earfcn: int) -> \"pd.DataFrame\":\n",
    "    return df[\n",
    "        df[\"lte\"].apply(lambda x: any(el[\"identity\"][\"earfcn\"] == earfcn for el in x))\n",
    "    ]\n",
    "\n",
    "\n",
    "from typing import TYPE_CHECKING\n",
    "\n",
    "import matplotlib.pyplot as plt\n",
    "import numpy as np\n",
    "import seaborn as sns\n",
    "from pymoo.core.problem import ElementwiseProblem\n",
    "from sklearn.metrics import accuracy_score, confusion_matrix\n",
    "from sklearn.model_selection import train_test_split\n",
    "from sklearn.neural_network import MLPClassifier\n",
    "from sklearn.preprocessing import StandardScaler\n",
    "\n",
    "if TYPE_CHECKING:\n",
    "    import pandas as pd\n",
    "\n",
    "\n",
    "# bounds of the RSRP and RSRQ\n",
    "# rsrp_th = [-140, -44]\n",
    "# rsrq_th = [-19.5, -3]\n",
    "\n",
    "\n",
    "class Classifier(ElementwiseProblem):\n",
    "    def __init__(self, df: \"pd.DataFrame\"):\n",
    "        super().__init__(\n",
    "            n_var=6,\n",
    "            n_obj=2,\n",
    "            n_ieq_constr=2,\n",
    "            xl=np.array([-140, -19.5]),  # lower bounds\n",
    "            xu=np.array([-44, -3]),  # upper bounds\n",
    "        )\n",
    "\n",
    "        self.df: \"pd.DataFrame\" = df\n",
    "        X = df[[\"rsrp\", \"rsrq\", \"pci\", \"rssi\", \"ta\", \"mnc\"]].values\n",
    "        y = df[\"label\"].values\n",
    "\n",
    "        X = StandardScaler().fit_transform(X)\n",
    "        self.X_train, self.X_test, self.y_train, self.y_test = train_test_split(\n",
    "            X, y, test_size=0.2, random_state=42\n",
    "        )\n",
    "\n",
    "        self.mlp = MLPClassifier(\n",
    "            hidden_layer_sizes=(400, 100),\n",
    "            activation=\"logistic\",\n",
    "            solver=\"sgd\",\n",
    "            max_iter=2500,\n",
    "            random_state=42,\n",
    "            learning_rate=\"adaptive\",\n",
    "            learning_rate_init=0.1,\n",
    "        )\n",
    "\n",
    "    def train(self) -> MLPClassifier:\n",
    "        self.history = self.mlp.fit(self.X_train, self.y_train)\n",
    "        return self.history\n",
    "\n",
    "    def plot_loss_curve(self) -> None:\n",
    "        plt.figure(figsize=(8, 6))\n",
    "        plt.plot(\n",
    "            np.arange(1, len(self.history.loss_curve_) + 1),\n",
    "            self.history.loss_curve_,\n",
    "            marker=\"o\",\n",
    "        )\n",
    "        plt.xlabel(\"Epoch\")\n",
    "        plt.ylabel(\"Loss\")\n",
    "        plt.title(\"Loss Curve\")\n",
    "        plt.show()\n",
    "\n",
    "    def test(self):\n",
    "        self.y_pred = self.mlp.predict(self.X_test)\n",
    "\n",
    "    def confusion_matrix(self):\n",
    "        accuracy = accuracy_score(self.y_test, self.y_pred)\n",
    "        cm = confusion_matrix(self.y_test, self.y_pred)\n",
    "        print(\"Accuracy:\", accuracy)\n",
    "        print(\"Confusion matrix:\\n\", cm)\n",
    "\n",
    "        class_labels = self.df[\"label\"].unique()\n",
    "        class_labels.sort()\n",
    "        class_labels = class_labels.tolist()\n",
    "\n",
    "        plt.figure(figsize=(8, 6))\n",
    "        sns.heatmap(\n",
    "            cm,\n",
    "            annot=True,\n",
    "            fmt=\"d\",\n",
    "            cmap=\"Blues\",\n",
    "            xticklabels=class_labels,\n",
    "            yticklabels=class_labels,\n",
    "        )\n",
    "        plt.xlabel(\"Predicted Labels\")\n",
    "        plt.ylabel(\"True Labels\")\n",
    "        plt.title(\"Confusion Matrix\")\n",
    "        plt.show()\n",
    "\n",
    "    def _evaluate(self, x, out, *args, **kwargs):\n",
    "        \"\"\"\n",
    "        The function's interface is the parameters x and out. For this element-wise\n",
    "        implementation x is a one-dimensional NumPy array of length n_var which represents a single\n",
    "        solution to be evaluated. The output is supposed to be written to the dictionary out.\n",
    "\n",
    "        The objective values should be written to out[\"F\"] as a list of NumPy array with length of\n",
    "        n_obj and the constraints to out[\"G\"] with length of n_constr (if the problem has\n",
    "        constraints to be satisfied at all).\n",
    "\n",
    "        \"\"\"\n",
    "        raise NotImplementedError(\"Classifier does not support pymoo yet.\")\n",
    "        # f1 = 100 * (x[0]**2 + x[1]**2)\n",
    "        # f2 = (x[0]-1)**2 + x[1]**2\n",
    "\n",
    "        # g1 = 2*(x[0]-0.1) * (x[0]-0.9) / 0.18\n",
    "        # g2 = - 20*(x[0]-0.4) * (x[0]-0.6) / 4.8\n",
    "\n",
    "        # out[\"F\"] = [f1, f2]\n",
    "        # out[\"G\"] = [g1, g2]\n",
    "        # f =\n",
    "        # g = self.mlp.predict(x)\n",
    "        # out[\"G\"] = [g]"
   ]
  },
  {
   "cell_type": "markdown",
   "metadata": {},
   "source": [
    "# Datascience with Ericsson"
   ]
  },
  {
   "cell_type": "code",
   "execution_count": 2,
   "metadata": {},
   "outputs": [],
   "source": [
    "from typing import TYPE_CHECKING\n",
    "\n",
    "if TYPE_CHECKING:\n",
    "    import pandas as pd"
   ]
  },
  {
   "cell_type": "code",
   "execution_count": 3,
   "metadata": {},
   "outputs": [],
   "source": [
    "import sys\n",
    "import logging as log\n",
    "\n",
    "sys.path.append(\".\")  # help notebook find src module\n",
    "log.basicConfig(\n",
    "    level=log.DEBUG,\n",
    "    format=\"%(levelname)s | %(filename)s:%(lineno)s | %(funcName)s()| %(message)s\",\n",
    "    filename=\"log.txt\",\n",
    "    filemode=\"w\",\n",
    ")"
   ]
  },
  {
   "cell_type": "markdown",
   "metadata": {},
   "source": [
    "### Akwizycja danych\n",
    "\n",
    "- Dokonaj konwersji dostępnych danych z drivetestów na DataFrame\n",
    "- Zwizualizuj punkty pomiarowe na interaktywnej mapie\n",
    "  - Wybierz bibliotekę mapy, która pozwoli na łatwe wyświetlenie danych intepretowanych pod różnym kątem\n",
    "  - Proponowane: Plotly, Contextily\n",
    "- Zaimplementuj proste kryteria doboru danych (patrz: następne zadanie)\n",
    "- Cel zadania:\n",
    "  - Weryfikacja poprawności zebranych danych\n",
    "  - Wizualizacja danych\n",
    "  - Przygotowanie metod wizualizacyjnych do późniejszej prezentacji projektu"
   ]
  },
  {
   "cell_type": "code",
   "execution_count": 4,
   "metadata": {},
   "outputs": [
    {
     "name": "stdout",
     "output_type": "stream",
     "text": [
      "<class 'pandas.core.frame.DataFrame'>\n",
      "Index: 182 entries, 0 to 194\n",
      "Data columns (total 7 columns):\n",
      " #   Column     Non-Null Count  Dtype         \n",
      "---  ------     --------------  -----         \n",
      " 0   time       182 non-null    datetime64[ns]\n",
      " 1   latitude   182 non-null    float64       \n",
      " 2   longitude  182 non-null    float64       \n",
      " 3   accuracy   182 non-null    float64       \n",
      " 4   pci        182 non-null    object        \n",
      " 5   mcc-mnc    182 non-null    object        \n",
      " 6   lte        182 non-null    object        \n",
      "dtypes: datetime64[ns](1), float64(3), object(3)\n",
      "memory usage: 11.4+ KB\n"
     ]
    },
    {
     "data": {
      "text/html": [
       "<div>\n",
       "<style scoped>\n",
       "    .dataframe tbody tr th:only-of-type {\n",
       "        vertical-align: middle;\n",
       "    }\n",
       "\n",
       "    .dataframe tbody tr th {\n",
       "        vertical-align: top;\n",
       "    }\n",
       "\n",
       "    .dataframe thead th {\n",
       "        text-align: right;\n",
       "    }\n",
       "</style>\n",
       "<table border=\"1\" class=\"dataframe\">\n",
       "  <thead>\n",
       "    <tr style=\"text-align: right;\">\n",
       "      <th></th>\n",
       "      <th>time</th>\n",
       "      <th>latitude</th>\n",
       "      <th>longitude</th>\n",
       "      <th>accuracy</th>\n",
       "      <th>pci</th>\n",
       "      <th>mcc-mnc</th>\n",
       "      <th>lte</th>\n",
       "    </tr>\n",
       "  </thead>\n",
       "  <tbody>\n",
       "    <tr>\n",
       "      <th>0</th>\n",
       "      <td>2024-01-07 21:55:48</td>\n",
       "      <td>50.043976</td>\n",
       "      <td>19.955297</td>\n",
       "      <td>9.971</td>\n",
       "      <td>[19]</td>\n",
       "      <td>{260-06}</td>\n",
       "      <td>[{'signal': {'rssi': -65, 'rsrp': -103, 'rsrq'...</td>\n",
       "    </tr>\n",
       "    <tr>\n",
       "      <th>1</th>\n",
       "      <td>2024-01-07 21:55:58</td>\n",
       "      <td>50.043966</td>\n",
       "      <td>19.955407</td>\n",
       "      <td>17.131</td>\n",
       "      <td>[19]</td>\n",
       "      <td>{260-06}</td>\n",
       "      <td>[{'signal': {'rssi': -69, 'rsrp': -105, 'rsrq'...</td>\n",
       "    </tr>\n",
       "    <tr>\n",
       "      <th>2</th>\n",
       "      <td>2024-01-07 21:56:07</td>\n",
       "      <td>50.043881</td>\n",
       "      <td>19.955436</td>\n",
       "      <td>19.444</td>\n",
       "      <td>[19]</td>\n",
       "      <td>{260-06}</td>\n",
       "      <td>[{'signal': {'rssi': -59, 'rsrp': -93, 'rsrq':...</td>\n",
       "    </tr>\n",
       "    <tr>\n",
       "      <th>3</th>\n",
       "      <td>2024-01-07 21:56:18</td>\n",
       "      <td>50.043876</td>\n",
       "      <td>19.955529</td>\n",
       "      <td>21.244</td>\n",
       "      <td>[19]</td>\n",
       "      <td>{260-06}</td>\n",
       "      <td>[{'signal': {'rssi': -59, 'rsrp': -95, 'rsrq':...</td>\n",
       "    </tr>\n",
       "    <tr>\n",
       "      <th>4</th>\n",
       "      <td>2024-01-07 21:56:27</td>\n",
       "      <td>50.044069</td>\n",
       "      <td>19.956576</td>\n",
       "      <td>22.205</td>\n",
       "      <td>[214]</td>\n",
       "      <td>{260-06}</td>\n",
       "      <td>[{'signal': {'rssi': -55, 'rsrp': -88, 'rsrq':...</td>\n",
       "    </tr>\n",
       "    <tr>\n",
       "      <th>...</th>\n",
       "      <td>...</td>\n",
       "      <td>...</td>\n",
       "      <td>...</td>\n",
       "      <td>...</td>\n",
       "      <td>...</td>\n",
       "      <td>...</td>\n",
       "      <td>...</td>\n",
       "    </tr>\n",
       "    <tr>\n",
       "      <th>190</th>\n",
       "      <td>2024-01-07 22:35:47</td>\n",
       "      <td>50.043679</td>\n",
       "      <td>19.951091</td>\n",
       "      <td>8.644</td>\n",
       "      <td>[19]</td>\n",
       "      <td>{260-06}</td>\n",
       "      <td>[{'signal': {'rssi': -51, 'rsrp': -82, 'rsrq':...</td>\n",
       "    </tr>\n",
       "    <tr>\n",
       "      <th>191</th>\n",
       "      <td>2024-01-07 22:35:59</td>\n",
       "      <td>50.043561</td>\n",
       "      <td>19.951416</td>\n",
       "      <td>82.576</td>\n",
       "      <td>[19]</td>\n",
       "      <td>{260-06}</td>\n",
       "      <td>[{'signal': {'rssi': -63, 'rsrp': -100, 'rsrq'...</td>\n",
       "    </tr>\n",
       "    <tr>\n",
       "      <th>192</th>\n",
       "      <td>2024-01-07 22:36:07</td>\n",
       "      <td>50.043615</td>\n",
       "      <td>19.952135</td>\n",
       "      <td>12.576</td>\n",
       "      <td>[19]</td>\n",
       "      <td>{260-06}</td>\n",
       "      <td>[{'signal': {'rssi': -65, 'rsrp': -102, 'rsrq'...</td>\n",
       "    </tr>\n",
       "    <tr>\n",
       "      <th>193</th>\n",
       "      <td>2024-01-07 22:36:25</td>\n",
       "      <td>50.043734</td>\n",
       "      <td>19.953803</td>\n",
       "      <td>71.759</td>\n",
       "      <td>[19]</td>\n",
       "      <td>{260-06}</td>\n",
       "      <td>[{'signal': {'rssi': -57, 'rsrp': -93, 'rsrq':...</td>\n",
       "    </tr>\n",
       "    <tr>\n",
       "      <th>194</th>\n",
       "      <td>2024-01-07 22:36:48</td>\n",
       "      <td>50.043863</td>\n",
       "      <td>19.955056</td>\n",
       "      <td>26.422</td>\n",
       "      <td>[19]</td>\n",
       "      <td>{260-06}</td>\n",
       "      <td>[{'signal': {'rssi': -67, 'rsrp': -104, 'rsrq'...</td>\n",
       "    </tr>\n",
       "  </tbody>\n",
       "</table>\n",
       "<p>182 rows × 7 columns</p>\n",
       "</div>"
      ],
      "text/plain": [
       "                   time   latitude  longitude  accuracy    pci   mcc-mnc  \\\n",
       "0   2024-01-07 21:55:48  50.043976  19.955297     9.971   [19]  {260-06}   \n",
       "1   2024-01-07 21:55:58  50.043966  19.955407    17.131   [19]  {260-06}   \n",
       "2   2024-01-07 21:56:07  50.043881  19.955436    19.444   [19]  {260-06}   \n",
       "3   2024-01-07 21:56:18  50.043876  19.955529    21.244   [19]  {260-06}   \n",
       "4   2024-01-07 21:56:27  50.044069  19.956576    22.205  [214]  {260-06}   \n",
       "..                  ...        ...        ...       ...    ...       ...   \n",
       "190 2024-01-07 22:35:47  50.043679  19.951091     8.644   [19]  {260-06}   \n",
       "191 2024-01-07 22:35:59  50.043561  19.951416    82.576   [19]  {260-06}   \n",
       "192 2024-01-07 22:36:07  50.043615  19.952135    12.576   [19]  {260-06}   \n",
       "193 2024-01-07 22:36:25  50.043734  19.953803    71.759   [19]  {260-06}   \n",
       "194 2024-01-07 22:36:48  50.043863  19.955056    26.422   [19]  {260-06}   \n",
       "\n",
       "                                                   lte  \n",
       "0    [{'signal': {'rssi': -65, 'rsrp': -103, 'rsrq'...  \n",
       "1    [{'signal': {'rssi': -69, 'rsrp': -105, 'rsrq'...  \n",
       "2    [{'signal': {'rssi': -59, 'rsrp': -93, 'rsrq':...  \n",
       "3    [{'signal': {'rssi': -59, 'rsrp': -95, 'rsrq':...  \n",
       "4    [{'signal': {'rssi': -55, 'rsrp': -88, 'rsrq':...  \n",
       "..                                                 ...  \n",
       "190  [{'signal': {'rssi': -51, 'rsrp': -82, 'rsrq':...  \n",
       "191  [{'signal': {'rssi': -63, 'rsrp': -100, 'rsrq'...  \n",
       "192  [{'signal': {'rssi': -65, 'rsrp': -102, 'rsrq'...  \n",
       "193  [{'signal': {'rssi': -57, 'rsrp': -93, 'rsrq':...  \n",
       "194  [{'signal': {'rssi': -67, 'rsrp': -104, 'rsrq'...  \n",
       "\n",
       "[182 rows x 7 columns]"
      ]
     },
     "execution_count": 4,
     "metadata": {},
     "output_type": "execute_result"
    }
   ],
   "source": [
    "raw_data = read_all_data(\"./data/new/with_pci\")\n",
    "parser = MobileDataParser(raw_data)\n",
    "\n",
    "measurement_points_df = parser.get_measurement_points()\n",
    "measurement_points_df.info()\n",
    "measurement_points_df"
   ]
  },
  {
   "cell_type": "code",
   "execution_count": 5,
   "metadata": {},
   "outputs": [
    {
     "data": {
      "application/vnd.plotly.v1+json": {
       "config": {
        "plotlyServerURL": "https://plot.ly"
       },
       "data": [
        {
         "customdata": [
          [
           19.9552971,
           50.0439756
          ],
          [
           19.955407,
           50.0439658
          ],
          [
           19.9554362,
           50.043881
          ],
          [
           19.9555291,
           50.0438764
          ],
          [
           19.9565761,
           50.044069
          ],
          [
           19.9576786,
           50.0438588
          ],
          [
           19.9580451,
           50.0438061
          ],
          [
           19.9588542,
           50.0436816
          ],
          [
           19.9593014,
           50.0435971
          ],
          [
           19.9609912,
           50.0421791
          ],
          [
           19.9628379,
           50.0418007
          ],
          [
           19.9646071,
           50.0423506
          ],
          [
           19.9643192,
           50.0424699
          ],
          [
           19.9639957,
           50.0426539
          ],
          [
           19.9611108,
           50.0423635
          ],
          [
           19.9599164,
           50.0433273
          ],
          [
           19.9582089,
           50.0442152
          ],
          [
           19.9574153,
           50.0449612
          ],
          [
           19.9586771,
           50.04487
          ],
          [
           19.9598041,
           50.0446543
          ],
          [
           19.9614937,
           50.0446952
          ],
          [
           19.9621964,
           50.0448849
          ],
          [
           19.9609392,
           50.0445756
          ],
          [
           19.9614751,
           50.0439235
          ],
          [
           19.9614804,
           50.0438055
          ],
          [
           19.9613428,
           50.0437732
          ],
          [
           19.9609091,
           50.0436412
          ],
          [
           19.9605888,
           50.0435203
          ],
          [
           19.9601662,
           50.0433589
          ],
          [
           19.9598751,
           50.0432567
          ],
          [
           19.9595133,
           50.0436194
          ],
          [
           19.959915,
           50.0439087
          ],
          [
           19.9603239,
           50.0440777
          ],
          [
           19.9609223,
           50.0443209
          ],
          [
           19.9612321,
           50.0444139
          ],
          [
           19.9611991,
           50.044571
          ],
          [
           19.9606298,
           50.0447841
          ],
          [
           19.9595939,
           50.0447945
          ],
          [
           19.958227,
           50.0449784
          ],
          [
           19.9579305,
           50.0450376
          ],
          [
           19.9571518,
           50.0450607
          ],
          [
           19.9569724,
           50.0452455
          ],
          [
           19.9578677,
           50.044267
          ],
          [
           19.9572921,
           50.0443409
          ],
          [
           19.9562091,
           50.0448242
          ],
          [
           19.9559137,
           50.0450921
          ],
          [
           19.9559169,
           50.0451001
          ],
          [
           19.9557433,
           50.04528
          ],
          [
           19.955392,
           50.045946
          ],
          [
           19.9551673,
           50.0469147
          ],
          [
           19.9551112,
           50.0470795
          ],
          [
           19.9553623,
           50.0473473
          ],
          [
           19.956333,
           50.0473378
          ],
          [
           19.957592,
           50.0473393
          ],
          [
           19.9578008,
           50.0470486
          ],
          [
           19.9577583,
           50.0465491
          ],
          [
           19.9576821,
           50.0461799
          ],
          [
           19.9572933,
           50.0459317
          ],
          [
           19.9568124,
           50.0459123
          ],
          [
           19.9566905,
           50.046435
          ],
          [
           19.9566189,
           50.0466263
          ],
          [
           19.9566439,
           50.0470735
          ],
          [
           19.956633,
           50.0473061
          ],
          [
           19.9571688,
           50.0473144
          ],
          [
           19.9576396,
           50.0472931
          ],
          [
           19.9578534,
           50.0471157
          ],
          [
           19.9578005,
           50.0467281
          ],
          [
           19.9577382,
           50.0463486
          ],
          [
           19.9577801,
           50.0459292
          ],
          [
           19.9578088,
           50.0455916
          ],
          [
           19.957776,
           50.045435
          ],
          [
           19.9577941,
           50.0451006
          ],
          [
           19.9574917,
           50.0448292
          ],
          [
           19.9577754,
           50.0445052
          ],
          [
           19.957904,
           50.0442764
          ],
          [
           19.9571302,
           50.0444969
          ],
          [
           19.9559543,
           50.0450498
          ],
          [
           19.9542266,
           50.0452101
          ],
          [
           19.9525952,
           50.0451379
          ],
          [
           19.9508881,
           50.0451097
          ],
          [
           19.9495293,
           50.0449852
          ],
          [
           19.9481694,
           50.044394
          ],
          [
           19.9462349,
           50.0434267
          ],
          [
           19.944548,
           50.0425345
          ],
          [
           19.9432492,
           50.0418475
          ],
          [
           19.9429001,
           50.0421735
          ],
          [
           19.942478,
           50.0425242
          ],
          [
           19.9420322,
           50.042881
          ],
          [
           19.9414344,
           50.0432599
          ],
          [
           19.9414921,
           50.0439236
          ],
          [
           19.9429862,
           50.0441504
          ],
          [
           19.9440192,
           50.0440468
          ],
          [
           19.9445168,
           50.0436041
          ],
          [
           19.9448311,
           50.0433375
          ],
          [
           19.944119,
           50.043165
          ],
          [
           19.9433193,
           50.0430665
          ],
          [
           19.9425382,
           50.0429553
          ],
          [
           19.9415962,
           50.0431456
          ],
          [
           19.941523,
           50.0439442
          ],
          [
           19.9430528,
           50.0441666
          ],
          [
           19.9446608,
           50.0444907
          ],
          [
           19.9455492,
           50.0447623
          ],
          [
           19.9453606,
           50.044707
          ],
          [
           19.9453673,
           50.0447066
          ],
          [
           19.9453711,
           50.044702
          ],
          [
           19.9458321,
           50.0445644
          ],
          [
           19.9462527,
           50.0442888
          ],
          [
           19.9470109,
           50.0437851
          ],
          [
           19.94795,
           50.0439563
          ],
          [
           19.9486241,
           50.0443156
          ],
          [
           19.9492811,
           50.0438077
          ],
          [
           19.9497305,
           50.0441173
          ],
          [
           19.9496567,
           50.0448271
          ],
          [
           19.9496404,
           50.0448998
          ],
          [
           19.9488735,
           50.0447133
          ],
          [
           19.9478505,
           50.0451365
          ],
          [
           19.9473141,
           50.0453443
          ],
          [
           19.9469416,
           50.0453934
          ],
          [
           19.9460873,
           50.0450589
          ],
          [
           19.9458103,
           50.0448946
          ],
          [
           19.9458117,
           50.0448785
          ],
          [
           19.9455778,
           50.044735
          ],
          [
           19.9445056,
           50.044439
          ],
          [
           19.9441782,
           50.0439012
          ],
          [
           19.9445516,
           50.0435834
          ],
          [
           19.944872,
           50.0434433
          ],
          [
           19.94535,
           50.043664
          ],
          [
           19.945975,
           50.0440133
          ],
          [
           19.9463876,
           50.0441923
          ],
          [
           19.9467891,
           50.0440001
          ],
          [
           19.9468273,
           50.0439727
          ],
          [
           19.9473934,
           50.0440242
          ],
          [
           19.9486155,
           50.0446493
          ],
          [
           19.9481076,
           50.0451678
          ],
          [
           19.9481708,
           50.0459479
          ],
          [
           19.9488924,
           50.0461599
          ],
          [
           19.9490433,
           50.046168
          ],
          [
           19.949473,
           50.046342
          ],
          [
           19.9499699,
           50.0465704
          ],
          [
           19.9504418,
           50.0467767
          ],
          [
           19.9510331,
           50.0470189
          ],
          [
           19.9519524,
           50.0472805
          ],
          [
           19.9532717,
           50.0476201
          ],
          [
           19.953957,
           50.0471907
          ],
          [
           19.9540694,
           50.0468147
          ],
          [
           19.9548899,
           50.0463109
          ],
          [
           19.9552007,
           50.0460361
          ],
          [
           19.9553938,
           50.0455022
          ],
          [
           19.9553881,
           50.0455206
          ],
          [
           19.9553983,
           50.0455189
          ],
          [
           19.9554035,
           50.0455259
          ],
          [
           19.9553921,
           50.0455226
          ],
          [
           19.9553982,
           50.0455162
          ],
          [
           19.9553921,
           50.045518
          ],
          [
           19.9553886,
           50.0455155
          ],
          [
           19.9553757,
           50.0455234
          ],
          [
           19.9553758,
           50.0455249
          ],
          [
           19.9553779,
           50.0455322
          ],
          [
           19.9552241,
           50.0453692
          ],
          [
           19.9541911,
           50.0451611
          ],
          [
           19.9524927,
           50.0450178
          ],
          [
           19.9524956,
           50.0457554
          ],
          [
           19.9530084,
           50.0457747
          ],
          [
           19.9537649,
           50.0456242
          ],
          [
           19.9538225,
           50.0470848
          ],
          [
           19.9531405,
           50.0469892
          ],
          [
           19.9523408,
           50.0468415
          ],
          [
           19.9516901,
           50.046698
          ],
          [
           19.951052,
           50.0465479
          ],
          [
           19.9503848,
           50.0463672
          ],
          [
           19.9493751,
           50.0459365
          ],
          [
           19.9503859,
           50.0459438
          ],
          [
           19.9506742,
           50.0459402
          ],
          [
           19.9509373,
           50.0455168
          ],
          [
           19.9509675,
           50.0452925
          ],
          [
           19.9509618,
           50.0450095
          ],
          [
           19.951012,
           50.0446932
          ],
          [
           19.9510907,
           50.0436792
          ],
          [
           19.9514161,
           50.0435607
          ],
          [
           19.9521351,
           50.0436148
          ],
          [
           19.9538031,
           50.0437342
          ],
          [
           19.9550561,
           50.0438627
          ]
         ],
         "hovertemplate": "latitude=%{customdata[1]}<br>longitude=%{customdata[0]}<extra></extra>",
         "lat": [
          50.0439756,
          50.0439658,
          50.043881,
          50.0438764,
          50.044069,
          50.0438588,
          50.0438061,
          50.0436816,
          50.0435971,
          50.0421791,
          50.0418007,
          50.0423506,
          50.0424699,
          50.0426539,
          50.0423635,
          50.0433273,
          50.0442152,
          50.0449612,
          50.04487,
          50.0446543,
          50.0446952,
          50.0448849,
          50.0445756,
          50.0439235,
          50.0438055,
          50.0437732,
          50.0436412,
          50.0435203,
          50.0433589,
          50.0432567,
          50.0436194,
          50.0439087,
          50.0440777,
          50.0443209,
          50.0444139,
          50.044571,
          50.0447841,
          50.0447945,
          50.0449784,
          50.0450376,
          50.0450607,
          50.0452455,
          50.044267,
          50.0443409,
          50.0448242,
          50.0450921,
          50.0451001,
          50.04528,
          50.045946,
          50.0469147,
          50.0470795,
          50.0473473,
          50.0473378,
          50.0473393,
          50.0470486,
          50.0465491,
          50.0461799,
          50.0459317,
          50.0459123,
          50.046435,
          50.0466263,
          50.0470735,
          50.0473061,
          50.0473144,
          50.0472931,
          50.0471157,
          50.0467281,
          50.0463486,
          50.0459292,
          50.0455916,
          50.045435,
          50.0451006,
          50.0448292,
          50.0445052,
          50.0442764,
          50.0444969,
          50.0450498,
          50.0452101,
          50.0451379,
          50.0451097,
          50.0449852,
          50.044394,
          50.0434267,
          50.0425345,
          50.0418475,
          50.0421735,
          50.0425242,
          50.042881,
          50.0432599,
          50.0439236,
          50.0441504,
          50.0440468,
          50.0436041,
          50.0433375,
          50.043165,
          50.0430665,
          50.0429553,
          50.0431456,
          50.0439442,
          50.0441666,
          50.0444907,
          50.0447623,
          50.044707,
          50.0447066,
          50.044702,
          50.0445644,
          50.0442888,
          50.0437851,
          50.0439563,
          50.0443156,
          50.0438077,
          50.0441173,
          50.0448271,
          50.0448998,
          50.0447133,
          50.0451365,
          50.0453443,
          50.0453934,
          50.0450589,
          50.0448946,
          50.0448785,
          50.044735,
          50.044439,
          50.0439012,
          50.0435834,
          50.0434433,
          50.043664,
          50.0440133,
          50.0441923,
          50.0440001,
          50.0439727,
          50.0440242,
          50.0446493,
          50.0451678,
          50.0459479,
          50.0461599,
          50.046168,
          50.046342,
          50.0465704,
          50.0467767,
          50.0470189,
          50.0472805,
          50.0476201,
          50.0471907,
          50.0468147,
          50.0463109,
          50.0460361,
          50.0455022,
          50.0455206,
          50.0455189,
          50.0455259,
          50.0455226,
          50.0455162,
          50.045518,
          50.0455155,
          50.0455234,
          50.0455249,
          50.0455322,
          50.0453692,
          50.0451611,
          50.0450178,
          50.0457554,
          50.0457747,
          50.0456242,
          50.0470848,
          50.0469892,
          50.0468415,
          50.046698,
          50.0465479,
          50.0463672,
          50.0459365,
          50.0459438,
          50.0459402,
          50.0455168,
          50.0452925,
          50.0450095,
          50.0446932,
          50.0436792,
          50.0435607,
          50.0436148,
          50.0437342,
          50.0438627
         ],
         "legendgroup": "",
         "lon": [
          19.9552971,
          19.955407,
          19.9554362,
          19.9555291,
          19.9565761,
          19.9576786,
          19.9580451,
          19.9588542,
          19.9593014,
          19.9609912,
          19.9628379,
          19.9646071,
          19.9643192,
          19.9639957,
          19.9611108,
          19.9599164,
          19.9582089,
          19.9574153,
          19.9586771,
          19.9598041,
          19.9614937,
          19.9621964,
          19.9609392,
          19.9614751,
          19.9614804,
          19.9613428,
          19.9609091,
          19.9605888,
          19.9601662,
          19.9598751,
          19.9595133,
          19.959915,
          19.9603239,
          19.9609223,
          19.9612321,
          19.9611991,
          19.9606298,
          19.9595939,
          19.958227,
          19.9579305,
          19.9571518,
          19.9569724,
          19.9578677,
          19.9572921,
          19.9562091,
          19.9559137,
          19.9559169,
          19.9557433,
          19.955392,
          19.9551673,
          19.9551112,
          19.9553623,
          19.956333,
          19.957592,
          19.9578008,
          19.9577583,
          19.9576821,
          19.9572933,
          19.9568124,
          19.9566905,
          19.9566189,
          19.9566439,
          19.956633,
          19.9571688,
          19.9576396,
          19.9578534,
          19.9578005,
          19.9577382,
          19.9577801,
          19.9578088,
          19.957776,
          19.9577941,
          19.9574917,
          19.9577754,
          19.957904,
          19.9571302,
          19.9559543,
          19.9542266,
          19.9525952,
          19.9508881,
          19.9495293,
          19.9481694,
          19.9462349,
          19.944548,
          19.9432492,
          19.9429001,
          19.942478,
          19.9420322,
          19.9414344,
          19.9414921,
          19.9429862,
          19.9440192,
          19.9445168,
          19.9448311,
          19.944119,
          19.9433193,
          19.9425382,
          19.9415962,
          19.941523,
          19.9430528,
          19.9446608,
          19.9455492,
          19.9453606,
          19.9453673,
          19.9453711,
          19.9458321,
          19.9462527,
          19.9470109,
          19.94795,
          19.9486241,
          19.9492811,
          19.9497305,
          19.9496567,
          19.9496404,
          19.9488735,
          19.9478505,
          19.9473141,
          19.9469416,
          19.9460873,
          19.9458103,
          19.9458117,
          19.9455778,
          19.9445056,
          19.9441782,
          19.9445516,
          19.944872,
          19.94535,
          19.945975,
          19.9463876,
          19.9467891,
          19.9468273,
          19.9473934,
          19.9486155,
          19.9481076,
          19.9481708,
          19.9488924,
          19.9490433,
          19.949473,
          19.9499699,
          19.9504418,
          19.9510331,
          19.9519524,
          19.9532717,
          19.953957,
          19.9540694,
          19.9548899,
          19.9552007,
          19.9553938,
          19.9553881,
          19.9553983,
          19.9554035,
          19.9553921,
          19.9553982,
          19.9553921,
          19.9553886,
          19.9553757,
          19.9553758,
          19.9553779,
          19.9552241,
          19.9541911,
          19.9524927,
          19.9524956,
          19.9530084,
          19.9537649,
          19.9538225,
          19.9531405,
          19.9523408,
          19.9516901,
          19.951052,
          19.9503848,
          19.9493751,
          19.9503859,
          19.9506742,
          19.9509373,
          19.9509675,
          19.9509618,
          19.951012,
          19.9510907,
          19.9514161,
          19.9521351,
          19.9538031,
          19.9550561
         ],
         "marker": {
          "color": "#636efa"
         },
         "mode": "markers",
         "name": "",
         "showlegend": false,
         "subplot": "mapbox",
         "type": "scattermapbox"
        }
       ],
       "layout": {
        "geo": {
         "fitbounds": "locations"
        },
        "legend": {
         "tracegroupgap": 0
        },
        "mapbox": {
         "center": {
          "lat": 50.0448672945055,
          "lon": 19.953038426923076
         },
         "domain": {
          "x": [
           0,
           1
          ],
          "y": [
           0,
           1
          ]
         },
         "style": "open-street-map",
         "zoom": 8
        },
        "margin": {
         "b": 0,
         "l": 0,
         "r": 0,
         "t": 0
        },
        "template": {
         "data": {
          "bar": [
           {
            "error_x": {
             "color": "#2a3f5f"
            },
            "error_y": {
             "color": "#2a3f5f"
            },
            "marker": {
             "line": {
              "color": "#E5ECF6",
              "width": 0.5
             },
             "pattern": {
              "fillmode": "overlay",
              "size": 10,
              "solidity": 0.2
             }
            },
            "type": "bar"
           }
          ],
          "barpolar": [
           {
            "marker": {
             "line": {
              "color": "#E5ECF6",
              "width": 0.5
             },
             "pattern": {
              "fillmode": "overlay",
              "size": 10,
              "solidity": 0.2
             }
            },
            "type": "barpolar"
           }
          ],
          "carpet": [
           {
            "aaxis": {
             "endlinecolor": "#2a3f5f",
             "gridcolor": "white",
             "linecolor": "white",
             "minorgridcolor": "white",
             "startlinecolor": "#2a3f5f"
            },
            "baxis": {
             "endlinecolor": "#2a3f5f",
             "gridcolor": "white",
             "linecolor": "white",
             "minorgridcolor": "white",
             "startlinecolor": "#2a3f5f"
            },
            "type": "carpet"
           }
          ],
          "choropleth": [
           {
            "colorbar": {
             "outlinewidth": 0,
             "ticks": ""
            },
            "type": "choropleth"
           }
          ],
          "contour": [
           {
            "colorbar": {
             "outlinewidth": 0,
             "ticks": ""
            },
            "colorscale": [
             [
              0,
              "#0d0887"
             ],
             [
              0.1111111111111111,
              "#46039f"
             ],
             [
              0.2222222222222222,
              "#7201a8"
             ],
             [
              0.3333333333333333,
              "#9c179e"
             ],
             [
              0.4444444444444444,
              "#bd3786"
             ],
             [
              0.5555555555555556,
              "#d8576b"
             ],
             [
              0.6666666666666666,
              "#ed7953"
             ],
             [
              0.7777777777777778,
              "#fb9f3a"
             ],
             [
              0.8888888888888888,
              "#fdca26"
             ],
             [
              1,
              "#f0f921"
             ]
            ],
            "type": "contour"
           }
          ],
          "contourcarpet": [
           {
            "colorbar": {
             "outlinewidth": 0,
             "ticks": ""
            },
            "type": "contourcarpet"
           }
          ],
          "heatmap": [
           {
            "colorbar": {
             "outlinewidth": 0,
             "ticks": ""
            },
            "colorscale": [
             [
              0,
              "#0d0887"
             ],
             [
              0.1111111111111111,
              "#46039f"
             ],
             [
              0.2222222222222222,
              "#7201a8"
             ],
             [
              0.3333333333333333,
              "#9c179e"
             ],
             [
              0.4444444444444444,
              "#bd3786"
             ],
             [
              0.5555555555555556,
              "#d8576b"
             ],
             [
              0.6666666666666666,
              "#ed7953"
             ],
             [
              0.7777777777777778,
              "#fb9f3a"
             ],
             [
              0.8888888888888888,
              "#fdca26"
             ],
             [
              1,
              "#f0f921"
             ]
            ],
            "type": "heatmap"
           }
          ],
          "heatmapgl": [
           {
            "colorbar": {
             "outlinewidth": 0,
             "ticks": ""
            },
            "colorscale": [
             [
              0,
              "#0d0887"
             ],
             [
              0.1111111111111111,
              "#46039f"
             ],
             [
              0.2222222222222222,
              "#7201a8"
             ],
             [
              0.3333333333333333,
              "#9c179e"
             ],
             [
              0.4444444444444444,
              "#bd3786"
             ],
             [
              0.5555555555555556,
              "#d8576b"
             ],
             [
              0.6666666666666666,
              "#ed7953"
             ],
             [
              0.7777777777777778,
              "#fb9f3a"
             ],
             [
              0.8888888888888888,
              "#fdca26"
             ],
             [
              1,
              "#f0f921"
             ]
            ],
            "type": "heatmapgl"
           }
          ],
          "histogram": [
           {
            "marker": {
             "pattern": {
              "fillmode": "overlay",
              "size": 10,
              "solidity": 0.2
             }
            },
            "type": "histogram"
           }
          ],
          "histogram2d": [
           {
            "colorbar": {
             "outlinewidth": 0,
             "ticks": ""
            },
            "colorscale": [
             [
              0,
              "#0d0887"
             ],
             [
              0.1111111111111111,
              "#46039f"
             ],
             [
              0.2222222222222222,
              "#7201a8"
             ],
             [
              0.3333333333333333,
              "#9c179e"
             ],
             [
              0.4444444444444444,
              "#bd3786"
             ],
             [
              0.5555555555555556,
              "#d8576b"
             ],
             [
              0.6666666666666666,
              "#ed7953"
             ],
             [
              0.7777777777777778,
              "#fb9f3a"
             ],
             [
              0.8888888888888888,
              "#fdca26"
             ],
             [
              1,
              "#f0f921"
             ]
            ],
            "type": "histogram2d"
           }
          ],
          "histogram2dcontour": [
           {
            "colorbar": {
             "outlinewidth": 0,
             "ticks": ""
            },
            "colorscale": [
             [
              0,
              "#0d0887"
             ],
             [
              0.1111111111111111,
              "#46039f"
             ],
             [
              0.2222222222222222,
              "#7201a8"
             ],
             [
              0.3333333333333333,
              "#9c179e"
             ],
             [
              0.4444444444444444,
              "#bd3786"
             ],
             [
              0.5555555555555556,
              "#d8576b"
             ],
             [
              0.6666666666666666,
              "#ed7953"
             ],
             [
              0.7777777777777778,
              "#fb9f3a"
             ],
             [
              0.8888888888888888,
              "#fdca26"
             ],
             [
              1,
              "#f0f921"
             ]
            ],
            "type": "histogram2dcontour"
           }
          ],
          "mesh3d": [
           {
            "colorbar": {
             "outlinewidth": 0,
             "ticks": ""
            },
            "type": "mesh3d"
           }
          ],
          "parcoords": [
           {
            "line": {
             "colorbar": {
              "outlinewidth": 0,
              "ticks": ""
             }
            },
            "type": "parcoords"
           }
          ],
          "pie": [
           {
            "automargin": true,
            "type": "pie"
           }
          ],
          "scatter": [
           {
            "fillpattern": {
             "fillmode": "overlay",
             "size": 10,
             "solidity": 0.2
            },
            "type": "scatter"
           }
          ],
          "scatter3d": [
           {
            "line": {
             "colorbar": {
              "outlinewidth": 0,
              "ticks": ""
             }
            },
            "marker": {
             "colorbar": {
              "outlinewidth": 0,
              "ticks": ""
             }
            },
            "type": "scatter3d"
           }
          ],
          "scattercarpet": [
           {
            "marker": {
             "colorbar": {
              "outlinewidth": 0,
              "ticks": ""
             }
            },
            "type": "scattercarpet"
           }
          ],
          "scattergeo": [
           {
            "marker": {
             "colorbar": {
              "outlinewidth": 0,
              "ticks": ""
             }
            },
            "type": "scattergeo"
           }
          ],
          "scattergl": [
           {
            "marker": {
             "colorbar": {
              "outlinewidth": 0,
              "ticks": ""
             }
            },
            "type": "scattergl"
           }
          ],
          "scattermapbox": [
           {
            "marker": {
             "colorbar": {
              "outlinewidth": 0,
              "ticks": ""
             }
            },
            "type": "scattermapbox"
           }
          ],
          "scatterpolar": [
           {
            "marker": {
             "colorbar": {
              "outlinewidth": 0,
              "ticks": ""
             }
            },
            "type": "scatterpolar"
           }
          ],
          "scatterpolargl": [
           {
            "marker": {
             "colorbar": {
              "outlinewidth": 0,
              "ticks": ""
             }
            },
            "type": "scatterpolargl"
           }
          ],
          "scatterternary": [
           {
            "marker": {
             "colorbar": {
              "outlinewidth": 0,
              "ticks": ""
             }
            },
            "type": "scatterternary"
           }
          ],
          "surface": [
           {
            "colorbar": {
             "outlinewidth": 0,
             "ticks": ""
            },
            "colorscale": [
             [
              0,
              "#0d0887"
             ],
             [
              0.1111111111111111,
              "#46039f"
             ],
             [
              0.2222222222222222,
              "#7201a8"
             ],
             [
              0.3333333333333333,
              "#9c179e"
             ],
             [
              0.4444444444444444,
              "#bd3786"
             ],
             [
              0.5555555555555556,
              "#d8576b"
             ],
             [
              0.6666666666666666,
              "#ed7953"
             ],
             [
              0.7777777777777778,
              "#fb9f3a"
             ],
             [
              0.8888888888888888,
              "#fdca26"
             ],
             [
              1,
              "#f0f921"
             ]
            ],
            "type": "surface"
           }
          ],
          "table": [
           {
            "cells": {
             "fill": {
              "color": "#EBF0F8"
             },
             "line": {
              "color": "white"
             }
            },
            "header": {
             "fill": {
              "color": "#C8D4E3"
             },
             "line": {
              "color": "white"
             }
            },
            "type": "table"
           }
          ]
         },
         "layout": {
          "annotationdefaults": {
           "arrowcolor": "#2a3f5f",
           "arrowhead": 0,
           "arrowwidth": 1
          },
          "autotypenumbers": "strict",
          "coloraxis": {
           "colorbar": {
            "outlinewidth": 0,
            "ticks": ""
           }
          },
          "colorscale": {
           "diverging": [
            [
             0,
             "#8e0152"
            ],
            [
             0.1,
             "#c51b7d"
            ],
            [
             0.2,
             "#de77ae"
            ],
            [
             0.3,
             "#f1b6da"
            ],
            [
             0.4,
             "#fde0ef"
            ],
            [
             0.5,
             "#f7f7f7"
            ],
            [
             0.6,
             "#e6f5d0"
            ],
            [
             0.7,
             "#b8e186"
            ],
            [
             0.8,
             "#7fbc41"
            ],
            [
             0.9,
             "#4d9221"
            ],
            [
             1,
             "#276419"
            ]
           ],
           "sequential": [
            [
             0,
             "#0d0887"
            ],
            [
             0.1111111111111111,
             "#46039f"
            ],
            [
             0.2222222222222222,
             "#7201a8"
            ],
            [
             0.3333333333333333,
             "#9c179e"
            ],
            [
             0.4444444444444444,
             "#bd3786"
            ],
            [
             0.5555555555555556,
             "#d8576b"
            ],
            [
             0.6666666666666666,
             "#ed7953"
            ],
            [
             0.7777777777777778,
             "#fb9f3a"
            ],
            [
             0.8888888888888888,
             "#fdca26"
            ],
            [
             1,
             "#f0f921"
            ]
           ],
           "sequentialminus": [
            [
             0,
             "#0d0887"
            ],
            [
             0.1111111111111111,
             "#46039f"
            ],
            [
             0.2222222222222222,
             "#7201a8"
            ],
            [
             0.3333333333333333,
             "#9c179e"
            ],
            [
             0.4444444444444444,
             "#bd3786"
            ],
            [
             0.5555555555555556,
             "#d8576b"
            ],
            [
             0.6666666666666666,
             "#ed7953"
            ],
            [
             0.7777777777777778,
             "#fb9f3a"
            ],
            [
             0.8888888888888888,
             "#fdca26"
            ],
            [
             1,
             "#f0f921"
            ]
           ]
          },
          "colorway": [
           "#636efa",
           "#EF553B",
           "#00cc96",
           "#ab63fa",
           "#FFA15A",
           "#19d3f3",
           "#FF6692",
           "#B6E880",
           "#FF97FF",
           "#FECB52"
          ],
          "font": {
           "color": "#2a3f5f"
          },
          "geo": {
           "bgcolor": "white",
           "lakecolor": "white",
           "landcolor": "#E5ECF6",
           "showlakes": true,
           "showland": true,
           "subunitcolor": "white"
          },
          "hoverlabel": {
           "align": "left"
          },
          "hovermode": "closest",
          "mapbox": {
           "style": "light"
          },
          "paper_bgcolor": "white",
          "plot_bgcolor": "#E5ECF6",
          "polar": {
           "angularaxis": {
            "gridcolor": "white",
            "linecolor": "white",
            "ticks": ""
           },
           "bgcolor": "#E5ECF6",
           "radialaxis": {
            "gridcolor": "white",
            "linecolor": "white",
            "ticks": ""
           }
          },
          "scene": {
           "xaxis": {
            "backgroundcolor": "#E5ECF6",
            "gridcolor": "white",
            "gridwidth": 2,
            "linecolor": "white",
            "showbackground": true,
            "ticks": "",
            "zerolinecolor": "white"
           },
           "yaxis": {
            "backgroundcolor": "#E5ECF6",
            "gridcolor": "white",
            "gridwidth": 2,
            "linecolor": "white",
            "showbackground": true,
            "ticks": "",
            "zerolinecolor": "white"
           },
           "zaxis": {
            "backgroundcolor": "#E5ECF6",
            "gridcolor": "white",
            "gridwidth": 2,
            "linecolor": "white",
            "showbackground": true,
            "ticks": "",
            "zerolinecolor": "white"
           }
          },
          "shapedefaults": {
           "line": {
            "color": "#2a3f5f"
           }
          },
          "ternary": {
           "aaxis": {
            "gridcolor": "white",
            "linecolor": "white",
            "ticks": ""
           },
           "baxis": {
            "gridcolor": "white",
            "linecolor": "white",
            "ticks": ""
           },
           "bgcolor": "#E5ECF6",
           "caxis": {
            "gridcolor": "white",
            "linecolor": "white",
            "ticks": ""
           }
          },
          "title": {
           "x": 0.05
          },
          "xaxis": {
           "automargin": true,
           "gridcolor": "white",
           "linecolor": "white",
           "ticks": "",
           "title": {
            "standoff": 15
           },
           "zerolinecolor": "white",
           "zerolinewidth": 2
          },
          "yaxis": {
           "automargin": true,
           "gridcolor": "white",
           "linecolor": "white",
           "ticks": "",
           "title": {
            "standoff": 15
           },
           "zerolinecolor": "white",
           "zerolinewidth": 2
          }
         }
        }
       }
      }
     },
     "metadata": {},
     "output_type": "display_data"
    }
   ],
   "source": [
    "import plotly.express as px\n",
    "\n",
    "# mapbox_token: str = os.environ.get(\"MAPBOX_TOKEN\")\n",
    "\n",
    "\n",
    "def draw_measurements(\n",
    "    df: \"pd.DataFrame\", grid: list | None = None, hover_data: dict | None = None\n",
    ") -> None:\n",
    "    if hover_data is None:\n",
    "        hover_data: dict[str, bool] = {\n",
    "            \"longitude\": True,\n",
    "            \"latitude\": True,\n",
    "        }\n",
    "        if \"chunk\" in df.columns and grid is not None:\n",
    "            hover_data[\"chunk\"] = True\n",
    "        if \"label\" in df.columns and grid is not None:\n",
    "            hover_data[\"label\"] = True\n",
    "\n",
    "    fig = px.scatter_mapbox(\n",
    "        df,\n",
    "        lat=\"latitude\",\n",
    "        lon=\"longitude\",\n",
    "        hover_data=hover_data,\n",
    "    )\n",
    "    fig.update_geos(fitbounds=\"locations\")\n",
    "    fig.update_layout(\n",
    "        margin={\"r\": 0, \"t\": 0, \"l\": 0, \"b\": 0},\n",
    "        mapbox={\n",
    "            \"style\": \"open-street-map\",\n",
    "            # \"accesstoken\": mapbox_token, # open-street-map does not require a token\n",
    "        },\n",
    "    )\n",
    "\n",
    "    if grid is not None:\n",
    "        layers = [\n",
    "            {\n",
    "                \"type\": \"line\",\n",
    "                \"line\": {\"width\": 1},\n",
    "                \"sourcetype\": \"geojson\",\n",
    "                \"source\": {\n",
    "                    \"type\": \"Feature\",\n",
    "                    \"geometry\": {\n",
    "                        \"type\": \"Polygon\",\n",
    "                        \"coordinates\": grid,\n",
    "                    },\n",
    "                },\n",
    "                \"color\": \"black\",\n",
    "            }\n",
    "        ]\n",
    "        fig.update_layout(mapbox={\"layers\": layers})\n",
    "\n",
    "    fig.show()\n",
    "\n",
    "\n",
    "def draw_events(\n",
    "    df: \"pd.DataFrame\", grid: list | None = None, hover_data: dict | None = None\n",
    ") -> None:\n",
    "    event_types = [\"A1\", \"A2\", \"A3\", \"A4\", \"A5\"]\n",
    "    colors = [\"black\", \"blue\", \"forestgreen\", \"red\", \"magenta\"]\n",
    "    event_colors_mapper = dict(zip(event_types, colors))\n",
    "\n",
    "    if hover_data is None:\n",
    "        hover_data: dict[str, bool] = {\n",
    "            \"longitude\": True,\n",
    "            \"latitude\": True,\n",
    "            \"rsrp\": True,\n",
    "            \"rsrq\": True,\n",
    "            \"event\": False,\n",
    "        }\n",
    "        if \"chunk\" in df.columns and grid is not None:\n",
    "            hover_data[\"chunk\"] = True\n",
    "        if \"label\" in df.columns and grid is not None:\n",
    "            hover_data[\"label\"] = True\n",
    "\n",
    "    fig = px.scatter_mapbox(\n",
    "        df,\n",
    "        lat=\"latitude\",\n",
    "        lon=\"longitude\",\n",
    "        title=\"A1-A5 Events\",\n",
    "        category_orders={\"event\": event_types},  # sort labels in legend\n",
    "        color=\"event\",  # set the color based on string in 'event' column\n",
    "        color_discrete_map=event_colors_mapper,  # because 'event' column does not store colors directly, specify a mapper event->color\n",
    "        hover_name=\"event\",\n",
    "        hover_data=hover_data,\n",
    "        width=1200,\n",
    "        height=600,\n",
    "    )\n",
    "    fig.update_geos(fitbounds=\"locations\")\n",
    "    fig.update_layout(\n",
    "        margin={\"r\": 30, \"t\": 30, \"l\": 0, \"b\": 0},\n",
    "        mapbox={\n",
    "            \"style\": \"open-street-map\",\n",
    "            # \"accesstoken\": mapbox_token, # open-street-map does not require a token\n",
    "        },\n",
    "    )\n",
    "\n",
    "    if grid is not None:\n",
    "        layers = [\n",
    "            {\n",
    "                \"type\": \"line\",\n",
    "                \"line\": {\"width\": 1},\n",
    "                \"sourcetype\": \"geojson\",\n",
    "                \"source\": {\n",
    "                    \"type\": \"Feature\",\n",
    "                    \"geometry\": {\n",
    "                        \"type\": \"Polygon\",\n",
    "                        \"coordinates\": grid,\n",
    "                    },\n",
    "                },\n",
    "                \"color\": \"black\",\n",
    "            }\n",
    "        ]\n",
    "        fig.update_layout(mapbox={\"layers\": layers})\n",
    "\n",
    "    fig.show()\n",
    "\n",
    "\n",
    "draw_measurements(measurement_points_df)"
   ]
  },
  {
   "cell_type": "markdown",
   "metadata": {},
   "source": [
    "### Kryteria doboru danych\n",
    "\n",
    "Przyklady:\n",
    "- Wyświetl wszystkie punkty dla PCI X\n",
    "- Wyświetl wszystkie punkty dla MNC Y\n",
    "- Wyświetl wszystkie punkty dla PCI X, pokolorowane wg RSRP/RSRQ/RSSI/TA\n",
    "- Wyświetl wszystkie punkty dla EARFCN Z"
   ]
  },
  {
   "cell_type": "code",
   "execution_count": 6,
   "metadata": {},
   "outputs": [
    {
     "data": {
      "application/vnd.plotly.v1+json": {
       "config": {
        "plotlyServerURL": "https://plot.ly"
       },
       "data": [
        {
         "customdata": [
          [
           19.9565761,
           50.044069
          ],
          [
           19.9576786,
           50.0438588
          ],
          [
           19.9580451,
           50.0438061
          ],
          [
           19.9588542,
           50.0436816
          ],
          [
           19.9593014,
           50.0435971
          ],
          [
           19.9582089,
           50.0442152
          ],
          [
           19.9605888,
           50.0435203
          ],
          [
           19.9601662,
           50.0433589
          ],
          [
           19.9598751,
           50.0432567
          ],
          [
           19.9595133,
           50.0436194
          ],
          [
           19.9578677,
           50.044267
          ],
          [
           19.9572921,
           50.0443409
          ],
          [
           19.9577754,
           50.0445052
          ],
          [
           19.957904,
           50.0442764
          ]
         ],
         "hovertemplate": "latitude=%{customdata[1]}<br>longitude=%{customdata[0]}<extra></extra>",
         "lat": [
          50.044069,
          50.0438588,
          50.0438061,
          50.0436816,
          50.0435971,
          50.0442152,
          50.0435203,
          50.0433589,
          50.0432567,
          50.0436194,
          50.044267,
          50.0443409,
          50.0445052,
          50.0442764
         ],
         "legendgroup": "",
         "lon": [
          19.9565761,
          19.9576786,
          19.9580451,
          19.9588542,
          19.9593014,
          19.9582089,
          19.9605888,
          19.9601662,
          19.9598751,
          19.9595133,
          19.9578677,
          19.9572921,
          19.9577754,
          19.957904
         ],
         "marker": {
          "color": "#636efa"
         },
         "mode": "markers",
         "name": "",
         "showlegend": false,
         "subplot": "mapbox",
         "type": "scattermapbox"
        }
       ],
       "layout": {
        "geo": {
         "fitbounds": "locations"
        },
        "legend": {
         "tracegroupgap": 0
        },
        "mapbox": {
         "center": {
          "lat": 50.04388375714286,
          "lon": 19.958546207142856
         },
         "domain": {
          "x": [
           0,
           1
          ],
          "y": [
           0,
           1
          ]
         },
         "style": "open-street-map",
         "zoom": 8
        },
        "margin": {
         "b": 0,
         "l": 0,
         "r": 0,
         "t": 0
        },
        "template": {
         "data": {
          "bar": [
           {
            "error_x": {
             "color": "#2a3f5f"
            },
            "error_y": {
             "color": "#2a3f5f"
            },
            "marker": {
             "line": {
              "color": "#E5ECF6",
              "width": 0.5
             },
             "pattern": {
              "fillmode": "overlay",
              "size": 10,
              "solidity": 0.2
             }
            },
            "type": "bar"
           }
          ],
          "barpolar": [
           {
            "marker": {
             "line": {
              "color": "#E5ECF6",
              "width": 0.5
             },
             "pattern": {
              "fillmode": "overlay",
              "size": 10,
              "solidity": 0.2
             }
            },
            "type": "barpolar"
           }
          ],
          "carpet": [
           {
            "aaxis": {
             "endlinecolor": "#2a3f5f",
             "gridcolor": "white",
             "linecolor": "white",
             "minorgridcolor": "white",
             "startlinecolor": "#2a3f5f"
            },
            "baxis": {
             "endlinecolor": "#2a3f5f",
             "gridcolor": "white",
             "linecolor": "white",
             "minorgridcolor": "white",
             "startlinecolor": "#2a3f5f"
            },
            "type": "carpet"
           }
          ],
          "choropleth": [
           {
            "colorbar": {
             "outlinewidth": 0,
             "ticks": ""
            },
            "type": "choropleth"
           }
          ],
          "contour": [
           {
            "colorbar": {
             "outlinewidth": 0,
             "ticks": ""
            },
            "colorscale": [
             [
              0,
              "#0d0887"
             ],
             [
              0.1111111111111111,
              "#46039f"
             ],
             [
              0.2222222222222222,
              "#7201a8"
             ],
             [
              0.3333333333333333,
              "#9c179e"
             ],
             [
              0.4444444444444444,
              "#bd3786"
             ],
             [
              0.5555555555555556,
              "#d8576b"
             ],
             [
              0.6666666666666666,
              "#ed7953"
             ],
             [
              0.7777777777777778,
              "#fb9f3a"
             ],
             [
              0.8888888888888888,
              "#fdca26"
             ],
             [
              1,
              "#f0f921"
             ]
            ],
            "type": "contour"
           }
          ],
          "contourcarpet": [
           {
            "colorbar": {
             "outlinewidth": 0,
             "ticks": ""
            },
            "type": "contourcarpet"
           }
          ],
          "heatmap": [
           {
            "colorbar": {
             "outlinewidth": 0,
             "ticks": ""
            },
            "colorscale": [
             [
              0,
              "#0d0887"
             ],
             [
              0.1111111111111111,
              "#46039f"
             ],
             [
              0.2222222222222222,
              "#7201a8"
             ],
             [
              0.3333333333333333,
              "#9c179e"
             ],
             [
              0.4444444444444444,
              "#bd3786"
             ],
             [
              0.5555555555555556,
              "#d8576b"
             ],
             [
              0.6666666666666666,
              "#ed7953"
             ],
             [
              0.7777777777777778,
              "#fb9f3a"
             ],
             [
              0.8888888888888888,
              "#fdca26"
             ],
             [
              1,
              "#f0f921"
             ]
            ],
            "type": "heatmap"
           }
          ],
          "heatmapgl": [
           {
            "colorbar": {
             "outlinewidth": 0,
             "ticks": ""
            },
            "colorscale": [
             [
              0,
              "#0d0887"
             ],
             [
              0.1111111111111111,
              "#46039f"
             ],
             [
              0.2222222222222222,
              "#7201a8"
             ],
             [
              0.3333333333333333,
              "#9c179e"
             ],
             [
              0.4444444444444444,
              "#bd3786"
             ],
             [
              0.5555555555555556,
              "#d8576b"
             ],
             [
              0.6666666666666666,
              "#ed7953"
             ],
             [
              0.7777777777777778,
              "#fb9f3a"
             ],
             [
              0.8888888888888888,
              "#fdca26"
             ],
             [
              1,
              "#f0f921"
             ]
            ],
            "type": "heatmapgl"
           }
          ],
          "histogram": [
           {
            "marker": {
             "pattern": {
              "fillmode": "overlay",
              "size": 10,
              "solidity": 0.2
             }
            },
            "type": "histogram"
           }
          ],
          "histogram2d": [
           {
            "colorbar": {
             "outlinewidth": 0,
             "ticks": ""
            },
            "colorscale": [
             [
              0,
              "#0d0887"
             ],
             [
              0.1111111111111111,
              "#46039f"
             ],
             [
              0.2222222222222222,
              "#7201a8"
             ],
             [
              0.3333333333333333,
              "#9c179e"
             ],
             [
              0.4444444444444444,
              "#bd3786"
             ],
             [
              0.5555555555555556,
              "#d8576b"
             ],
             [
              0.6666666666666666,
              "#ed7953"
             ],
             [
              0.7777777777777778,
              "#fb9f3a"
             ],
             [
              0.8888888888888888,
              "#fdca26"
             ],
             [
              1,
              "#f0f921"
             ]
            ],
            "type": "histogram2d"
           }
          ],
          "histogram2dcontour": [
           {
            "colorbar": {
             "outlinewidth": 0,
             "ticks": ""
            },
            "colorscale": [
             [
              0,
              "#0d0887"
             ],
             [
              0.1111111111111111,
              "#46039f"
             ],
             [
              0.2222222222222222,
              "#7201a8"
             ],
             [
              0.3333333333333333,
              "#9c179e"
             ],
             [
              0.4444444444444444,
              "#bd3786"
             ],
             [
              0.5555555555555556,
              "#d8576b"
             ],
             [
              0.6666666666666666,
              "#ed7953"
             ],
             [
              0.7777777777777778,
              "#fb9f3a"
             ],
             [
              0.8888888888888888,
              "#fdca26"
             ],
             [
              1,
              "#f0f921"
             ]
            ],
            "type": "histogram2dcontour"
           }
          ],
          "mesh3d": [
           {
            "colorbar": {
             "outlinewidth": 0,
             "ticks": ""
            },
            "type": "mesh3d"
           }
          ],
          "parcoords": [
           {
            "line": {
             "colorbar": {
              "outlinewidth": 0,
              "ticks": ""
             }
            },
            "type": "parcoords"
           }
          ],
          "pie": [
           {
            "automargin": true,
            "type": "pie"
           }
          ],
          "scatter": [
           {
            "fillpattern": {
             "fillmode": "overlay",
             "size": 10,
             "solidity": 0.2
            },
            "type": "scatter"
           }
          ],
          "scatter3d": [
           {
            "line": {
             "colorbar": {
              "outlinewidth": 0,
              "ticks": ""
             }
            },
            "marker": {
             "colorbar": {
              "outlinewidth": 0,
              "ticks": ""
             }
            },
            "type": "scatter3d"
           }
          ],
          "scattercarpet": [
           {
            "marker": {
             "colorbar": {
              "outlinewidth": 0,
              "ticks": ""
             }
            },
            "type": "scattercarpet"
           }
          ],
          "scattergeo": [
           {
            "marker": {
             "colorbar": {
              "outlinewidth": 0,
              "ticks": ""
             }
            },
            "type": "scattergeo"
           }
          ],
          "scattergl": [
           {
            "marker": {
             "colorbar": {
              "outlinewidth": 0,
              "ticks": ""
             }
            },
            "type": "scattergl"
           }
          ],
          "scattermapbox": [
           {
            "marker": {
             "colorbar": {
              "outlinewidth": 0,
              "ticks": ""
             }
            },
            "type": "scattermapbox"
           }
          ],
          "scatterpolar": [
           {
            "marker": {
             "colorbar": {
              "outlinewidth": 0,
              "ticks": ""
             }
            },
            "type": "scatterpolar"
           }
          ],
          "scatterpolargl": [
           {
            "marker": {
             "colorbar": {
              "outlinewidth": 0,
              "ticks": ""
             }
            },
            "type": "scatterpolargl"
           }
          ],
          "scatterternary": [
           {
            "marker": {
             "colorbar": {
              "outlinewidth": 0,
              "ticks": ""
             }
            },
            "type": "scatterternary"
           }
          ],
          "surface": [
           {
            "colorbar": {
             "outlinewidth": 0,
             "ticks": ""
            },
            "colorscale": [
             [
              0,
              "#0d0887"
             ],
             [
              0.1111111111111111,
              "#46039f"
             ],
             [
              0.2222222222222222,
              "#7201a8"
             ],
             [
              0.3333333333333333,
              "#9c179e"
             ],
             [
              0.4444444444444444,
              "#bd3786"
             ],
             [
              0.5555555555555556,
              "#d8576b"
             ],
             [
              0.6666666666666666,
              "#ed7953"
             ],
             [
              0.7777777777777778,
              "#fb9f3a"
             ],
             [
              0.8888888888888888,
              "#fdca26"
             ],
             [
              1,
              "#f0f921"
             ]
            ],
            "type": "surface"
           }
          ],
          "table": [
           {
            "cells": {
             "fill": {
              "color": "#EBF0F8"
             },
             "line": {
              "color": "white"
             }
            },
            "header": {
             "fill": {
              "color": "#C8D4E3"
             },
             "line": {
              "color": "white"
             }
            },
            "type": "table"
           }
          ]
         },
         "layout": {
          "annotationdefaults": {
           "arrowcolor": "#2a3f5f",
           "arrowhead": 0,
           "arrowwidth": 1
          },
          "autotypenumbers": "strict",
          "coloraxis": {
           "colorbar": {
            "outlinewidth": 0,
            "ticks": ""
           }
          },
          "colorscale": {
           "diverging": [
            [
             0,
             "#8e0152"
            ],
            [
             0.1,
             "#c51b7d"
            ],
            [
             0.2,
             "#de77ae"
            ],
            [
             0.3,
             "#f1b6da"
            ],
            [
             0.4,
             "#fde0ef"
            ],
            [
             0.5,
             "#f7f7f7"
            ],
            [
             0.6,
             "#e6f5d0"
            ],
            [
             0.7,
             "#b8e186"
            ],
            [
             0.8,
             "#7fbc41"
            ],
            [
             0.9,
             "#4d9221"
            ],
            [
             1,
             "#276419"
            ]
           ],
           "sequential": [
            [
             0,
             "#0d0887"
            ],
            [
             0.1111111111111111,
             "#46039f"
            ],
            [
             0.2222222222222222,
             "#7201a8"
            ],
            [
             0.3333333333333333,
             "#9c179e"
            ],
            [
             0.4444444444444444,
             "#bd3786"
            ],
            [
             0.5555555555555556,
             "#d8576b"
            ],
            [
             0.6666666666666666,
             "#ed7953"
            ],
            [
             0.7777777777777778,
             "#fb9f3a"
            ],
            [
             0.8888888888888888,
             "#fdca26"
            ],
            [
             1,
             "#f0f921"
            ]
           ],
           "sequentialminus": [
            [
             0,
             "#0d0887"
            ],
            [
             0.1111111111111111,
             "#46039f"
            ],
            [
             0.2222222222222222,
             "#7201a8"
            ],
            [
             0.3333333333333333,
             "#9c179e"
            ],
            [
             0.4444444444444444,
             "#bd3786"
            ],
            [
             0.5555555555555556,
             "#d8576b"
            ],
            [
             0.6666666666666666,
             "#ed7953"
            ],
            [
             0.7777777777777778,
             "#fb9f3a"
            ],
            [
             0.8888888888888888,
             "#fdca26"
            ],
            [
             1,
             "#f0f921"
            ]
           ]
          },
          "colorway": [
           "#636efa",
           "#EF553B",
           "#00cc96",
           "#ab63fa",
           "#FFA15A",
           "#19d3f3",
           "#FF6692",
           "#B6E880",
           "#FF97FF",
           "#FECB52"
          ],
          "font": {
           "color": "#2a3f5f"
          },
          "geo": {
           "bgcolor": "white",
           "lakecolor": "white",
           "landcolor": "#E5ECF6",
           "showlakes": true,
           "showland": true,
           "subunitcolor": "white"
          },
          "hoverlabel": {
           "align": "left"
          },
          "hovermode": "closest",
          "mapbox": {
           "style": "light"
          },
          "paper_bgcolor": "white",
          "plot_bgcolor": "#E5ECF6",
          "polar": {
           "angularaxis": {
            "gridcolor": "white",
            "linecolor": "white",
            "ticks": ""
           },
           "bgcolor": "#E5ECF6",
           "radialaxis": {
            "gridcolor": "white",
            "linecolor": "white",
            "ticks": ""
           }
          },
          "scene": {
           "xaxis": {
            "backgroundcolor": "#E5ECF6",
            "gridcolor": "white",
            "gridwidth": 2,
            "linecolor": "white",
            "showbackground": true,
            "ticks": "",
            "zerolinecolor": "white"
           },
           "yaxis": {
            "backgroundcolor": "#E5ECF6",
            "gridcolor": "white",
            "gridwidth": 2,
            "linecolor": "white",
            "showbackground": true,
            "ticks": "",
            "zerolinecolor": "white"
           },
           "zaxis": {
            "backgroundcolor": "#E5ECF6",
            "gridcolor": "white",
            "gridwidth": 2,
            "linecolor": "white",
            "showbackground": true,
            "ticks": "",
            "zerolinecolor": "white"
           }
          },
          "shapedefaults": {
           "line": {
            "color": "#2a3f5f"
           }
          },
          "ternary": {
           "aaxis": {
            "gridcolor": "white",
            "linecolor": "white",
            "ticks": ""
           },
           "baxis": {
            "gridcolor": "white",
            "linecolor": "white",
            "ticks": ""
           },
           "bgcolor": "#E5ECF6",
           "caxis": {
            "gridcolor": "white",
            "linecolor": "white",
            "ticks": ""
           }
          },
          "title": {
           "x": 0.05
          },
          "xaxis": {
           "automargin": true,
           "gridcolor": "white",
           "linecolor": "white",
           "ticks": "",
           "title": {
            "standoff": 15
           },
           "zerolinecolor": "white",
           "zerolinewidth": 2
          },
          "yaxis": {
           "automargin": true,
           "gridcolor": "white",
           "linecolor": "white",
           "ticks": "",
           "title": {
            "standoff": 15
           },
           "zerolinecolor": "white",
           "zerolinewidth": 2
          }
         }
        }
       }
      }
     },
     "metadata": {},
     "output_type": "display_data"
    },
    {
     "data": {
      "application/vnd.plotly.v1+json": {
       "config": {
        "plotlyServerURL": "https://plot.ly"
       },
       "data": [
        {
         "customdata": [
          [
           19.9552971,
           50.0439756
          ],
          [
           19.955407,
           50.0439658
          ],
          [
           19.9554362,
           50.043881
          ],
          [
           19.9555291,
           50.0438764
          ],
          [
           19.9565761,
           50.044069
          ],
          [
           19.9576786,
           50.0438588
          ],
          [
           19.9580451,
           50.0438061
          ],
          [
           19.9588542,
           50.0436816
          ],
          [
           19.9593014,
           50.0435971
          ],
          [
           19.9609912,
           50.0421791
          ],
          [
           19.9628379,
           50.0418007
          ],
          [
           19.9646071,
           50.0423506
          ],
          [
           19.9643192,
           50.0424699
          ],
          [
           19.9639957,
           50.0426539
          ],
          [
           19.9611108,
           50.0423635
          ],
          [
           19.9599164,
           50.0433273
          ],
          [
           19.9582089,
           50.0442152
          ],
          [
           19.9574153,
           50.0449612
          ],
          [
           19.9586771,
           50.04487
          ],
          [
           19.9598041,
           50.0446543
          ],
          [
           19.9614937,
           50.0446952
          ],
          [
           19.9621964,
           50.0448849
          ],
          [
           19.9609392,
           50.0445756
          ],
          [
           19.9614751,
           50.0439235
          ],
          [
           19.9614804,
           50.0438055
          ],
          [
           19.9613428,
           50.0437732
          ],
          [
           19.9609091,
           50.0436412
          ],
          [
           19.9605888,
           50.0435203
          ],
          [
           19.9601662,
           50.0433589
          ],
          [
           19.9598751,
           50.0432567
          ],
          [
           19.9595133,
           50.0436194
          ],
          [
           19.959915,
           50.0439087
          ],
          [
           19.9603239,
           50.0440777
          ],
          [
           19.9609223,
           50.0443209
          ],
          [
           19.9612321,
           50.0444139
          ],
          [
           19.9611991,
           50.044571
          ],
          [
           19.9606298,
           50.0447841
          ],
          [
           19.9595939,
           50.0447945
          ],
          [
           19.958227,
           50.0449784
          ],
          [
           19.9579305,
           50.0450376
          ],
          [
           19.9571518,
           50.0450607
          ],
          [
           19.9569724,
           50.0452455
          ],
          [
           19.9578677,
           50.044267
          ],
          [
           19.9572921,
           50.0443409
          ],
          [
           19.9562091,
           50.0448242
          ],
          [
           19.9559137,
           50.0450921
          ],
          [
           19.9559169,
           50.0451001
          ],
          [
           19.9557433,
           50.04528
          ],
          [
           19.955392,
           50.045946
          ],
          [
           19.9551673,
           50.0469147
          ],
          [
           19.9551112,
           50.0470795
          ],
          [
           19.9553623,
           50.0473473
          ],
          [
           19.956333,
           50.0473378
          ],
          [
           19.957592,
           50.0473393
          ],
          [
           19.9578008,
           50.0470486
          ],
          [
           19.9577583,
           50.0465491
          ],
          [
           19.9576821,
           50.0461799
          ],
          [
           19.9572933,
           50.0459317
          ],
          [
           19.9568124,
           50.0459123
          ],
          [
           19.9566905,
           50.046435
          ],
          [
           19.9566189,
           50.0466263
          ],
          [
           19.9566439,
           50.0470735
          ],
          [
           19.956633,
           50.0473061
          ],
          [
           19.9571688,
           50.0473144
          ],
          [
           19.9576396,
           50.0472931
          ],
          [
           19.9578534,
           50.0471157
          ],
          [
           19.9578005,
           50.0467281
          ],
          [
           19.9577382,
           50.0463486
          ],
          [
           19.9577801,
           50.0459292
          ],
          [
           19.9578088,
           50.0455916
          ],
          [
           19.957776,
           50.045435
          ],
          [
           19.9577941,
           50.0451006
          ],
          [
           19.9574917,
           50.0448292
          ],
          [
           19.9577754,
           50.0445052
          ],
          [
           19.957904,
           50.0442764
          ],
          [
           19.9571302,
           50.0444969
          ],
          [
           19.9559543,
           50.0450498
          ],
          [
           19.9542266,
           50.0452101
          ],
          [
           19.9525952,
           50.0451379
          ],
          [
           19.9508881,
           50.0451097
          ],
          [
           19.9495293,
           50.0449852
          ],
          [
           19.9481694,
           50.044394
          ],
          [
           19.9462349,
           50.0434267
          ],
          [
           19.944548,
           50.0425345
          ],
          [
           19.9432492,
           50.0418475
          ],
          [
           19.9429001,
           50.0421735
          ],
          [
           19.942478,
           50.0425242
          ],
          [
           19.9420322,
           50.042881
          ],
          [
           19.9414344,
           50.0432599
          ],
          [
           19.9414921,
           50.0439236
          ],
          [
           19.9429862,
           50.0441504
          ],
          [
           19.9440192,
           50.0440468
          ],
          [
           19.9445168,
           50.0436041
          ],
          [
           19.9448311,
           50.0433375
          ],
          [
           19.944119,
           50.043165
          ],
          [
           19.9433193,
           50.0430665
          ],
          [
           19.9425382,
           50.0429553
          ],
          [
           19.9415962,
           50.0431456
          ],
          [
           19.941523,
           50.0439442
          ],
          [
           19.9430528,
           50.0441666
          ],
          [
           19.9446608,
           50.0444907
          ],
          [
           19.9455492,
           50.0447623
          ],
          [
           19.9453606,
           50.044707
          ],
          [
           19.9453673,
           50.0447066
          ],
          [
           19.9453711,
           50.044702
          ],
          [
           19.9458321,
           50.0445644
          ],
          [
           19.9462527,
           50.0442888
          ],
          [
           19.9470109,
           50.0437851
          ],
          [
           19.94795,
           50.0439563
          ],
          [
           19.9486241,
           50.0443156
          ],
          [
           19.9492811,
           50.0438077
          ],
          [
           19.9497305,
           50.0441173
          ],
          [
           19.9496567,
           50.0448271
          ],
          [
           19.9496404,
           50.0448998
          ],
          [
           19.9488735,
           50.0447133
          ],
          [
           19.9478505,
           50.0451365
          ],
          [
           19.9473141,
           50.0453443
          ],
          [
           19.9469416,
           50.0453934
          ],
          [
           19.9460873,
           50.0450589
          ],
          [
           19.9458103,
           50.0448946
          ],
          [
           19.9458117,
           50.0448785
          ],
          [
           19.9455778,
           50.044735
          ],
          [
           19.9445056,
           50.044439
          ],
          [
           19.9441782,
           50.0439012
          ],
          [
           19.9445516,
           50.0435834
          ],
          [
           19.944872,
           50.0434433
          ],
          [
           19.94535,
           50.043664
          ],
          [
           19.945975,
           50.0440133
          ],
          [
           19.9463876,
           50.0441923
          ],
          [
           19.9467891,
           50.0440001
          ],
          [
           19.9468273,
           50.0439727
          ],
          [
           19.9473934,
           50.0440242
          ],
          [
           19.9486155,
           50.0446493
          ],
          [
           19.9481076,
           50.0451678
          ],
          [
           19.9481708,
           50.0459479
          ],
          [
           19.9488924,
           50.0461599
          ],
          [
           19.9490433,
           50.046168
          ],
          [
           19.949473,
           50.046342
          ],
          [
           19.9499699,
           50.0465704
          ],
          [
           19.9504418,
           50.0467767
          ],
          [
           19.9510331,
           50.0470189
          ],
          [
           19.9519524,
           50.0472805
          ],
          [
           19.9532717,
           50.0476201
          ],
          [
           19.953957,
           50.0471907
          ],
          [
           19.9540694,
           50.0468147
          ],
          [
           19.9548899,
           50.0463109
          ],
          [
           19.9552007,
           50.0460361
          ],
          [
           19.9553938,
           50.0455022
          ],
          [
           19.9553881,
           50.0455206
          ],
          [
           19.9553983,
           50.0455189
          ],
          [
           19.9554035,
           50.0455259
          ],
          [
           19.9553921,
           50.0455226
          ],
          [
           19.9553982,
           50.0455162
          ],
          [
           19.9553921,
           50.045518
          ],
          [
           19.9553886,
           50.0455155
          ],
          [
           19.9553757,
           50.0455234
          ],
          [
           19.9553758,
           50.0455249
          ],
          [
           19.9553779,
           50.0455322
          ],
          [
           19.9552241,
           50.0453692
          ],
          [
           19.9541911,
           50.0451611
          ],
          [
           19.9524927,
           50.0450178
          ],
          [
           19.9524956,
           50.0457554
          ],
          [
           19.9530084,
           50.0457747
          ],
          [
           19.9537649,
           50.0456242
          ],
          [
           19.9538225,
           50.0470848
          ],
          [
           19.9531405,
           50.0469892
          ],
          [
           19.9523408,
           50.0468415
          ],
          [
           19.9516901,
           50.046698
          ],
          [
           19.951052,
           50.0465479
          ],
          [
           19.9503848,
           50.0463672
          ],
          [
           19.9493751,
           50.0459365
          ],
          [
           19.9503859,
           50.0459438
          ],
          [
           19.9506742,
           50.0459402
          ],
          [
           19.9509373,
           50.0455168
          ],
          [
           19.9509675,
           50.0452925
          ],
          [
           19.9509618,
           50.0450095
          ],
          [
           19.951012,
           50.0446932
          ],
          [
           19.9510907,
           50.0436792
          ],
          [
           19.9514161,
           50.0435607
          ],
          [
           19.9521351,
           50.0436148
          ],
          [
           19.9538031,
           50.0437342
          ],
          [
           19.9550561,
           50.0438627
          ]
         ],
         "hovertemplate": "latitude=%{customdata[1]}<br>longitude=%{customdata[0]}<extra></extra>",
         "lat": [
          50.0439756,
          50.0439658,
          50.043881,
          50.0438764,
          50.044069,
          50.0438588,
          50.0438061,
          50.0436816,
          50.0435971,
          50.0421791,
          50.0418007,
          50.0423506,
          50.0424699,
          50.0426539,
          50.0423635,
          50.0433273,
          50.0442152,
          50.0449612,
          50.04487,
          50.0446543,
          50.0446952,
          50.0448849,
          50.0445756,
          50.0439235,
          50.0438055,
          50.0437732,
          50.0436412,
          50.0435203,
          50.0433589,
          50.0432567,
          50.0436194,
          50.0439087,
          50.0440777,
          50.0443209,
          50.0444139,
          50.044571,
          50.0447841,
          50.0447945,
          50.0449784,
          50.0450376,
          50.0450607,
          50.0452455,
          50.044267,
          50.0443409,
          50.0448242,
          50.0450921,
          50.0451001,
          50.04528,
          50.045946,
          50.0469147,
          50.0470795,
          50.0473473,
          50.0473378,
          50.0473393,
          50.0470486,
          50.0465491,
          50.0461799,
          50.0459317,
          50.0459123,
          50.046435,
          50.0466263,
          50.0470735,
          50.0473061,
          50.0473144,
          50.0472931,
          50.0471157,
          50.0467281,
          50.0463486,
          50.0459292,
          50.0455916,
          50.045435,
          50.0451006,
          50.0448292,
          50.0445052,
          50.0442764,
          50.0444969,
          50.0450498,
          50.0452101,
          50.0451379,
          50.0451097,
          50.0449852,
          50.044394,
          50.0434267,
          50.0425345,
          50.0418475,
          50.0421735,
          50.0425242,
          50.042881,
          50.0432599,
          50.0439236,
          50.0441504,
          50.0440468,
          50.0436041,
          50.0433375,
          50.043165,
          50.0430665,
          50.0429553,
          50.0431456,
          50.0439442,
          50.0441666,
          50.0444907,
          50.0447623,
          50.044707,
          50.0447066,
          50.044702,
          50.0445644,
          50.0442888,
          50.0437851,
          50.0439563,
          50.0443156,
          50.0438077,
          50.0441173,
          50.0448271,
          50.0448998,
          50.0447133,
          50.0451365,
          50.0453443,
          50.0453934,
          50.0450589,
          50.0448946,
          50.0448785,
          50.044735,
          50.044439,
          50.0439012,
          50.0435834,
          50.0434433,
          50.043664,
          50.0440133,
          50.0441923,
          50.0440001,
          50.0439727,
          50.0440242,
          50.0446493,
          50.0451678,
          50.0459479,
          50.0461599,
          50.046168,
          50.046342,
          50.0465704,
          50.0467767,
          50.0470189,
          50.0472805,
          50.0476201,
          50.0471907,
          50.0468147,
          50.0463109,
          50.0460361,
          50.0455022,
          50.0455206,
          50.0455189,
          50.0455259,
          50.0455226,
          50.0455162,
          50.045518,
          50.0455155,
          50.0455234,
          50.0455249,
          50.0455322,
          50.0453692,
          50.0451611,
          50.0450178,
          50.0457554,
          50.0457747,
          50.0456242,
          50.0470848,
          50.0469892,
          50.0468415,
          50.046698,
          50.0465479,
          50.0463672,
          50.0459365,
          50.0459438,
          50.0459402,
          50.0455168,
          50.0452925,
          50.0450095,
          50.0446932,
          50.0436792,
          50.0435607,
          50.0436148,
          50.0437342,
          50.0438627
         ],
         "legendgroup": "",
         "lon": [
          19.9552971,
          19.955407,
          19.9554362,
          19.9555291,
          19.9565761,
          19.9576786,
          19.9580451,
          19.9588542,
          19.9593014,
          19.9609912,
          19.9628379,
          19.9646071,
          19.9643192,
          19.9639957,
          19.9611108,
          19.9599164,
          19.9582089,
          19.9574153,
          19.9586771,
          19.9598041,
          19.9614937,
          19.9621964,
          19.9609392,
          19.9614751,
          19.9614804,
          19.9613428,
          19.9609091,
          19.9605888,
          19.9601662,
          19.9598751,
          19.9595133,
          19.959915,
          19.9603239,
          19.9609223,
          19.9612321,
          19.9611991,
          19.9606298,
          19.9595939,
          19.958227,
          19.9579305,
          19.9571518,
          19.9569724,
          19.9578677,
          19.9572921,
          19.9562091,
          19.9559137,
          19.9559169,
          19.9557433,
          19.955392,
          19.9551673,
          19.9551112,
          19.9553623,
          19.956333,
          19.957592,
          19.9578008,
          19.9577583,
          19.9576821,
          19.9572933,
          19.9568124,
          19.9566905,
          19.9566189,
          19.9566439,
          19.956633,
          19.9571688,
          19.9576396,
          19.9578534,
          19.9578005,
          19.9577382,
          19.9577801,
          19.9578088,
          19.957776,
          19.9577941,
          19.9574917,
          19.9577754,
          19.957904,
          19.9571302,
          19.9559543,
          19.9542266,
          19.9525952,
          19.9508881,
          19.9495293,
          19.9481694,
          19.9462349,
          19.944548,
          19.9432492,
          19.9429001,
          19.942478,
          19.9420322,
          19.9414344,
          19.9414921,
          19.9429862,
          19.9440192,
          19.9445168,
          19.9448311,
          19.944119,
          19.9433193,
          19.9425382,
          19.9415962,
          19.941523,
          19.9430528,
          19.9446608,
          19.9455492,
          19.9453606,
          19.9453673,
          19.9453711,
          19.9458321,
          19.9462527,
          19.9470109,
          19.94795,
          19.9486241,
          19.9492811,
          19.9497305,
          19.9496567,
          19.9496404,
          19.9488735,
          19.9478505,
          19.9473141,
          19.9469416,
          19.9460873,
          19.9458103,
          19.9458117,
          19.9455778,
          19.9445056,
          19.9441782,
          19.9445516,
          19.944872,
          19.94535,
          19.945975,
          19.9463876,
          19.9467891,
          19.9468273,
          19.9473934,
          19.9486155,
          19.9481076,
          19.9481708,
          19.9488924,
          19.9490433,
          19.949473,
          19.9499699,
          19.9504418,
          19.9510331,
          19.9519524,
          19.9532717,
          19.953957,
          19.9540694,
          19.9548899,
          19.9552007,
          19.9553938,
          19.9553881,
          19.9553983,
          19.9554035,
          19.9553921,
          19.9553982,
          19.9553921,
          19.9553886,
          19.9553757,
          19.9553758,
          19.9553779,
          19.9552241,
          19.9541911,
          19.9524927,
          19.9524956,
          19.9530084,
          19.9537649,
          19.9538225,
          19.9531405,
          19.9523408,
          19.9516901,
          19.951052,
          19.9503848,
          19.9493751,
          19.9503859,
          19.9506742,
          19.9509373,
          19.9509675,
          19.9509618,
          19.951012,
          19.9510907,
          19.9514161,
          19.9521351,
          19.9538031,
          19.9550561
         ],
         "marker": {
          "color": "#636efa"
         },
         "mode": "markers",
         "name": "",
         "showlegend": false,
         "subplot": "mapbox",
         "type": "scattermapbox"
        }
       ],
       "layout": {
        "geo": {
         "fitbounds": "locations"
        },
        "legend": {
         "tracegroupgap": 0
        },
        "mapbox": {
         "center": {
          "lat": 50.0448672945055,
          "lon": 19.953038426923076
         },
         "domain": {
          "x": [
           0,
           1
          ],
          "y": [
           0,
           1
          ]
         },
         "style": "open-street-map",
         "zoom": 8
        },
        "margin": {
         "b": 0,
         "l": 0,
         "r": 0,
         "t": 0
        },
        "template": {
         "data": {
          "bar": [
           {
            "error_x": {
             "color": "#2a3f5f"
            },
            "error_y": {
             "color": "#2a3f5f"
            },
            "marker": {
             "line": {
              "color": "#E5ECF6",
              "width": 0.5
             },
             "pattern": {
              "fillmode": "overlay",
              "size": 10,
              "solidity": 0.2
             }
            },
            "type": "bar"
           }
          ],
          "barpolar": [
           {
            "marker": {
             "line": {
              "color": "#E5ECF6",
              "width": 0.5
             },
             "pattern": {
              "fillmode": "overlay",
              "size": 10,
              "solidity": 0.2
             }
            },
            "type": "barpolar"
           }
          ],
          "carpet": [
           {
            "aaxis": {
             "endlinecolor": "#2a3f5f",
             "gridcolor": "white",
             "linecolor": "white",
             "minorgridcolor": "white",
             "startlinecolor": "#2a3f5f"
            },
            "baxis": {
             "endlinecolor": "#2a3f5f",
             "gridcolor": "white",
             "linecolor": "white",
             "minorgridcolor": "white",
             "startlinecolor": "#2a3f5f"
            },
            "type": "carpet"
           }
          ],
          "choropleth": [
           {
            "colorbar": {
             "outlinewidth": 0,
             "ticks": ""
            },
            "type": "choropleth"
           }
          ],
          "contour": [
           {
            "colorbar": {
             "outlinewidth": 0,
             "ticks": ""
            },
            "colorscale": [
             [
              0,
              "#0d0887"
             ],
             [
              0.1111111111111111,
              "#46039f"
             ],
             [
              0.2222222222222222,
              "#7201a8"
             ],
             [
              0.3333333333333333,
              "#9c179e"
             ],
             [
              0.4444444444444444,
              "#bd3786"
             ],
             [
              0.5555555555555556,
              "#d8576b"
             ],
             [
              0.6666666666666666,
              "#ed7953"
             ],
             [
              0.7777777777777778,
              "#fb9f3a"
             ],
             [
              0.8888888888888888,
              "#fdca26"
             ],
             [
              1,
              "#f0f921"
             ]
            ],
            "type": "contour"
           }
          ],
          "contourcarpet": [
           {
            "colorbar": {
             "outlinewidth": 0,
             "ticks": ""
            },
            "type": "contourcarpet"
           }
          ],
          "heatmap": [
           {
            "colorbar": {
             "outlinewidth": 0,
             "ticks": ""
            },
            "colorscale": [
             [
              0,
              "#0d0887"
             ],
             [
              0.1111111111111111,
              "#46039f"
             ],
             [
              0.2222222222222222,
              "#7201a8"
             ],
             [
              0.3333333333333333,
              "#9c179e"
             ],
             [
              0.4444444444444444,
              "#bd3786"
             ],
             [
              0.5555555555555556,
              "#d8576b"
             ],
             [
              0.6666666666666666,
              "#ed7953"
             ],
             [
              0.7777777777777778,
              "#fb9f3a"
             ],
             [
              0.8888888888888888,
              "#fdca26"
             ],
             [
              1,
              "#f0f921"
             ]
            ],
            "type": "heatmap"
           }
          ],
          "heatmapgl": [
           {
            "colorbar": {
             "outlinewidth": 0,
             "ticks": ""
            },
            "colorscale": [
             [
              0,
              "#0d0887"
             ],
             [
              0.1111111111111111,
              "#46039f"
             ],
             [
              0.2222222222222222,
              "#7201a8"
             ],
             [
              0.3333333333333333,
              "#9c179e"
             ],
             [
              0.4444444444444444,
              "#bd3786"
             ],
             [
              0.5555555555555556,
              "#d8576b"
             ],
             [
              0.6666666666666666,
              "#ed7953"
             ],
             [
              0.7777777777777778,
              "#fb9f3a"
             ],
             [
              0.8888888888888888,
              "#fdca26"
             ],
             [
              1,
              "#f0f921"
             ]
            ],
            "type": "heatmapgl"
           }
          ],
          "histogram": [
           {
            "marker": {
             "pattern": {
              "fillmode": "overlay",
              "size": 10,
              "solidity": 0.2
             }
            },
            "type": "histogram"
           }
          ],
          "histogram2d": [
           {
            "colorbar": {
             "outlinewidth": 0,
             "ticks": ""
            },
            "colorscale": [
             [
              0,
              "#0d0887"
             ],
             [
              0.1111111111111111,
              "#46039f"
             ],
             [
              0.2222222222222222,
              "#7201a8"
             ],
             [
              0.3333333333333333,
              "#9c179e"
             ],
             [
              0.4444444444444444,
              "#bd3786"
             ],
             [
              0.5555555555555556,
              "#d8576b"
             ],
             [
              0.6666666666666666,
              "#ed7953"
             ],
             [
              0.7777777777777778,
              "#fb9f3a"
             ],
             [
              0.8888888888888888,
              "#fdca26"
             ],
             [
              1,
              "#f0f921"
             ]
            ],
            "type": "histogram2d"
           }
          ],
          "histogram2dcontour": [
           {
            "colorbar": {
             "outlinewidth": 0,
             "ticks": ""
            },
            "colorscale": [
             [
              0,
              "#0d0887"
             ],
             [
              0.1111111111111111,
              "#46039f"
             ],
             [
              0.2222222222222222,
              "#7201a8"
             ],
             [
              0.3333333333333333,
              "#9c179e"
             ],
             [
              0.4444444444444444,
              "#bd3786"
             ],
             [
              0.5555555555555556,
              "#d8576b"
             ],
             [
              0.6666666666666666,
              "#ed7953"
             ],
             [
              0.7777777777777778,
              "#fb9f3a"
             ],
             [
              0.8888888888888888,
              "#fdca26"
             ],
             [
              1,
              "#f0f921"
             ]
            ],
            "type": "histogram2dcontour"
           }
          ],
          "mesh3d": [
           {
            "colorbar": {
             "outlinewidth": 0,
             "ticks": ""
            },
            "type": "mesh3d"
           }
          ],
          "parcoords": [
           {
            "line": {
             "colorbar": {
              "outlinewidth": 0,
              "ticks": ""
             }
            },
            "type": "parcoords"
           }
          ],
          "pie": [
           {
            "automargin": true,
            "type": "pie"
           }
          ],
          "scatter": [
           {
            "fillpattern": {
             "fillmode": "overlay",
             "size": 10,
             "solidity": 0.2
            },
            "type": "scatter"
           }
          ],
          "scatter3d": [
           {
            "line": {
             "colorbar": {
              "outlinewidth": 0,
              "ticks": ""
             }
            },
            "marker": {
             "colorbar": {
              "outlinewidth": 0,
              "ticks": ""
             }
            },
            "type": "scatter3d"
           }
          ],
          "scattercarpet": [
           {
            "marker": {
             "colorbar": {
              "outlinewidth": 0,
              "ticks": ""
             }
            },
            "type": "scattercarpet"
           }
          ],
          "scattergeo": [
           {
            "marker": {
             "colorbar": {
              "outlinewidth": 0,
              "ticks": ""
             }
            },
            "type": "scattergeo"
           }
          ],
          "scattergl": [
           {
            "marker": {
             "colorbar": {
              "outlinewidth": 0,
              "ticks": ""
             }
            },
            "type": "scattergl"
           }
          ],
          "scattermapbox": [
           {
            "marker": {
             "colorbar": {
              "outlinewidth": 0,
              "ticks": ""
             }
            },
            "type": "scattermapbox"
           }
          ],
          "scatterpolar": [
           {
            "marker": {
             "colorbar": {
              "outlinewidth": 0,
              "ticks": ""
             }
            },
            "type": "scatterpolar"
           }
          ],
          "scatterpolargl": [
           {
            "marker": {
             "colorbar": {
              "outlinewidth": 0,
              "ticks": ""
             }
            },
            "type": "scatterpolargl"
           }
          ],
          "scatterternary": [
           {
            "marker": {
             "colorbar": {
              "outlinewidth": 0,
              "ticks": ""
             }
            },
            "type": "scatterternary"
           }
          ],
          "surface": [
           {
            "colorbar": {
             "outlinewidth": 0,
             "ticks": ""
            },
            "colorscale": [
             [
              0,
              "#0d0887"
             ],
             [
              0.1111111111111111,
              "#46039f"
             ],
             [
              0.2222222222222222,
              "#7201a8"
             ],
             [
              0.3333333333333333,
              "#9c179e"
             ],
             [
              0.4444444444444444,
              "#bd3786"
             ],
             [
              0.5555555555555556,
              "#d8576b"
             ],
             [
              0.6666666666666666,
              "#ed7953"
             ],
             [
              0.7777777777777778,
              "#fb9f3a"
             ],
             [
              0.8888888888888888,
              "#fdca26"
             ],
             [
              1,
              "#f0f921"
             ]
            ],
            "type": "surface"
           }
          ],
          "table": [
           {
            "cells": {
             "fill": {
              "color": "#EBF0F8"
             },
             "line": {
              "color": "white"
             }
            },
            "header": {
             "fill": {
              "color": "#C8D4E3"
             },
             "line": {
              "color": "white"
             }
            },
            "type": "table"
           }
          ]
         },
         "layout": {
          "annotationdefaults": {
           "arrowcolor": "#2a3f5f",
           "arrowhead": 0,
           "arrowwidth": 1
          },
          "autotypenumbers": "strict",
          "coloraxis": {
           "colorbar": {
            "outlinewidth": 0,
            "ticks": ""
           }
          },
          "colorscale": {
           "diverging": [
            [
             0,
             "#8e0152"
            ],
            [
             0.1,
             "#c51b7d"
            ],
            [
             0.2,
             "#de77ae"
            ],
            [
             0.3,
             "#f1b6da"
            ],
            [
             0.4,
             "#fde0ef"
            ],
            [
             0.5,
             "#f7f7f7"
            ],
            [
             0.6,
             "#e6f5d0"
            ],
            [
             0.7,
             "#b8e186"
            ],
            [
             0.8,
             "#7fbc41"
            ],
            [
             0.9,
             "#4d9221"
            ],
            [
             1,
             "#276419"
            ]
           ],
           "sequential": [
            [
             0,
             "#0d0887"
            ],
            [
             0.1111111111111111,
             "#46039f"
            ],
            [
             0.2222222222222222,
             "#7201a8"
            ],
            [
             0.3333333333333333,
             "#9c179e"
            ],
            [
             0.4444444444444444,
             "#bd3786"
            ],
            [
             0.5555555555555556,
             "#d8576b"
            ],
            [
             0.6666666666666666,
             "#ed7953"
            ],
            [
             0.7777777777777778,
             "#fb9f3a"
            ],
            [
             0.8888888888888888,
             "#fdca26"
            ],
            [
             1,
             "#f0f921"
            ]
           ],
           "sequentialminus": [
            [
             0,
             "#0d0887"
            ],
            [
             0.1111111111111111,
             "#46039f"
            ],
            [
             0.2222222222222222,
             "#7201a8"
            ],
            [
             0.3333333333333333,
             "#9c179e"
            ],
            [
             0.4444444444444444,
             "#bd3786"
            ],
            [
             0.5555555555555556,
             "#d8576b"
            ],
            [
             0.6666666666666666,
             "#ed7953"
            ],
            [
             0.7777777777777778,
             "#fb9f3a"
            ],
            [
             0.8888888888888888,
             "#fdca26"
            ],
            [
             1,
             "#f0f921"
            ]
           ]
          },
          "colorway": [
           "#636efa",
           "#EF553B",
           "#00cc96",
           "#ab63fa",
           "#FFA15A",
           "#19d3f3",
           "#FF6692",
           "#B6E880",
           "#FF97FF",
           "#FECB52"
          ],
          "font": {
           "color": "#2a3f5f"
          },
          "geo": {
           "bgcolor": "white",
           "lakecolor": "white",
           "landcolor": "#E5ECF6",
           "showlakes": true,
           "showland": true,
           "subunitcolor": "white"
          },
          "hoverlabel": {
           "align": "left"
          },
          "hovermode": "closest",
          "mapbox": {
           "style": "light"
          },
          "paper_bgcolor": "white",
          "plot_bgcolor": "#E5ECF6",
          "polar": {
           "angularaxis": {
            "gridcolor": "white",
            "linecolor": "white",
            "ticks": ""
           },
           "bgcolor": "#E5ECF6",
           "radialaxis": {
            "gridcolor": "white",
            "linecolor": "white",
            "ticks": ""
           }
          },
          "scene": {
           "xaxis": {
            "backgroundcolor": "#E5ECF6",
            "gridcolor": "white",
            "gridwidth": 2,
            "linecolor": "white",
            "showbackground": true,
            "ticks": "",
            "zerolinecolor": "white"
           },
           "yaxis": {
            "backgroundcolor": "#E5ECF6",
            "gridcolor": "white",
            "gridwidth": 2,
            "linecolor": "white",
            "showbackground": true,
            "ticks": "",
            "zerolinecolor": "white"
           },
           "zaxis": {
            "backgroundcolor": "#E5ECF6",
            "gridcolor": "white",
            "gridwidth": 2,
            "linecolor": "white",
            "showbackground": true,
            "ticks": "",
            "zerolinecolor": "white"
           }
          },
          "shapedefaults": {
           "line": {
            "color": "#2a3f5f"
           }
          },
          "ternary": {
           "aaxis": {
            "gridcolor": "white",
            "linecolor": "white",
            "ticks": ""
           },
           "baxis": {
            "gridcolor": "white",
            "linecolor": "white",
            "ticks": ""
           },
           "bgcolor": "#E5ECF6",
           "caxis": {
            "gridcolor": "white",
            "linecolor": "white",
            "ticks": ""
           }
          },
          "title": {
           "x": 0.05
          },
          "xaxis": {
           "automargin": true,
           "gridcolor": "white",
           "linecolor": "white",
           "ticks": "",
           "title": {
            "standoff": 15
           },
           "zerolinecolor": "white",
           "zerolinewidth": 2
          },
          "yaxis": {
           "automargin": true,
           "gridcolor": "white",
           "linecolor": "white",
           "ticks": "",
           "title": {
            "standoff": 15
           },
           "zerolinecolor": "white",
           "zerolinewidth": 2
          }
         }
        }
       }
      }
     },
     "metadata": {},
     "output_type": "display_data"
    },
    {
     "data": {
      "application/vnd.plotly.v1+json": {
       "config": {
        "plotlyServerURL": "https://plot.ly"
       },
       "data": [
        {
         "customdata": [
          [
           19.9609912,
           50.0421791
          ],
          [
           19.9646071,
           50.0423506
          ],
          [
           19.9643192,
           50.0424699
          ],
          [
           19.9639957,
           50.0426539
          ],
          [
           19.9611108,
           50.0423635
          ],
          [
           19.9599164,
           50.0433273
          ],
          [
           19.9582089,
           50.0442152
          ],
          [
           19.9574153,
           50.0449612
          ],
          [
           19.9586771,
           50.04487
          ],
          [
           19.9598041,
           50.0446543
          ],
          [
           19.9621964,
           50.0448849
          ],
          [
           19.9609392,
           50.0445756
          ],
          [
           19.9614751,
           50.0439235
          ],
          [
           19.9614804,
           50.0438055
          ],
          [
           19.9613428,
           50.0437732
          ],
          [
           19.9609091,
           50.0436412
          ],
          [
           19.9562091,
           50.0448242
          ],
          [
           19.9574917,
           50.0448292
          ],
          [
           19.9577754,
           50.0445052
          ],
          [
           19.9432492,
           50.0418475
          ],
          [
           19.942478,
           50.0425242
          ],
          [
           19.9420322,
           50.042881
          ],
          [
           19.9429862,
           50.0441504
          ],
          [
           19.941523,
           50.0439442
          ],
          [
           19.9458321,
           50.0445644
          ],
          [
           19.9462527,
           50.0442888
          ],
          [
           19.9470109,
           50.0437851
          ],
          [
           19.9486241,
           50.0443156
          ],
          [
           19.9478505,
           50.0451365
          ],
          [
           19.9473141,
           50.0453443
          ],
          [
           19.9469416,
           50.0453934
          ],
          [
           19.9460873,
           50.0450589
          ],
          [
           19.9458103,
           50.0448946
          ],
          [
           19.9458117,
           50.0448785
          ],
          [
           19.9455778,
           50.044735
          ],
          [
           19.9445056,
           50.044439
          ],
          [
           19.9441782,
           50.0439012
          ],
          [
           19.9445516,
           50.0435834
          ],
          [
           19.944872,
           50.0434433
          ],
          [
           19.94535,
           50.043664
          ],
          [
           19.945975,
           50.0440133
          ],
          [
           19.9463876,
           50.0441923
          ],
          [
           19.9467891,
           50.0440001
          ],
          [
           19.9468273,
           50.0439727
          ],
          [
           19.9473934,
           50.0440242
          ],
          [
           19.9486155,
           50.0446493
          ],
          [
           19.9481076,
           50.0451678
          ],
          [
           19.9510331,
           50.0470189
          ],
          [
           19.9552007,
           50.0460361
          ],
          [
           19.9553757,
           50.0455234
          ],
          [
           19.9553779,
           50.0455322
          ],
          [
           19.9552241,
           50.0453692
          ],
          [
           19.9524927,
           50.0450178
          ],
          [
           19.9530084,
           50.0457747
          ],
          [
           19.9503848,
           50.0463672
          ],
          [
           19.9503859,
           50.0459438
          ],
          [
           19.9509675,
           50.0452925
          ]
         ],
         "hovertemplate": "latitude=%{customdata[1]}<br>longitude=%{customdata[0]}<extra></extra>",
         "lat": [
          50.0421791,
          50.0423506,
          50.0424699,
          50.0426539,
          50.0423635,
          50.0433273,
          50.0442152,
          50.0449612,
          50.04487,
          50.0446543,
          50.0448849,
          50.0445756,
          50.0439235,
          50.0438055,
          50.0437732,
          50.0436412,
          50.0448242,
          50.0448292,
          50.0445052,
          50.0418475,
          50.0425242,
          50.042881,
          50.0441504,
          50.0439442,
          50.0445644,
          50.0442888,
          50.0437851,
          50.0443156,
          50.0451365,
          50.0453443,
          50.0453934,
          50.0450589,
          50.0448946,
          50.0448785,
          50.044735,
          50.044439,
          50.0439012,
          50.0435834,
          50.0434433,
          50.043664,
          50.0440133,
          50.0441923,
          50.0440001,
          50.0439727,
          50.0440242,
          50.0446493,
          50.0451678,
          50.0470189,
          50.0460361,
          50.0455234,
          50.0455322,
          50.0453692,
          50.0450178,
          50.0457747,
          50.0463672,
          50.0459438,
          50.0452925
         ],
         "legendgroup": "",
         "lon": [
          19.9609912,
          19.9646071,
          19.9643192,
          19.9639957,
          19.9611108,
          19.9599164,
          19.9582089,
          19.9574153,
          19.9586771,
          19.9598041,
          19.9621964,
          19.9609392,
          19.9614751,
          19.9614804,
          19.9613428,
          19.9609091,
          19.9562091,
          19.9574917,
          19.9577754,
          19.9432492,
          19.942478,
          19.9420322,
          19.9429862,
          19.941523,
          19.9458321,
          19.9462527,
          19.9470109,
          19.9486241,
          19.9478505,
          19.9473141,
          19.9469416,
          19.9460873,
          19.9458103,
          19.9458117,
          19.9455778,
          19.9445056,
          19.9441782,
          19.9445516,
          19.944872,
          19.94535,
          19.945975,
          19.9463876,
          19.9467891,
          19.9468273,
          19.9473934,
          19.9486155,
          19.9481076,
          19.9510331,
          19.9552007,
          19.9553757,
          19.9553779,
          19.9552241,
          19.9524927,
          19.9530084,
          19.9503848,
          19.9503859,
          19.9509675
         ],
         "marker": {
          "color": "#636efa"
         },
         "mode": "markers",
         "name": "",
         "showlegend": false,
         "subplot": "mapbox",
         "type": "scattermapbox"
        }
       ],
       "layout": {
        "geo": {
         "fitbounds": "locations"
        },
        "legend": {
         "tracegroupgap": 0
        },
        "mapbox": {
         "center": {
          "lat": 50.04434168947368,
          "lon": 19.951881585964912
         },
         "domain": {
          "x": [
           0,
           1
          ],
          "y": [
           0,
           1
          ]
         },
         "style": "open-street-map",
         "zoom": 8
        },
        "margin": {
         "b": 0,
         "l": 0,
         "r": 0,
         "t": 0
        },
        "template": {
         "data": {
          "bar": [
           {
            "error_x": {
             "color": "#2a3f5f"
            },
            "error_y": {
             "color": "#2a3f5f"
            },
            "marker": {
             "line": {
              "color": "#E5ECF6",
              "width": 0.5
             },
             "pattern": {
              "fillmode": "overlay",
              "size": 10,
              "solidity": 0.2
             }
            },
            "type": "bar"
           }
          ],
          "barpolar": [
           {
            "marker": {
             "line": {
              "color": "#E5ECF6",
              "width": 0.5
             },
             "pattern": {
              "fillmode": "overlay",
              "size": 10,
              "solidity": 0.2
             }
            },
            "type": "barpolar"
           }
          ],
          "carpet": [
           {
            "aaxis": {
             "endlinecolor": "#2a3f5f",
             "gridcolor": "white",
             "linecolor": "white",
             "minorgridcolor": "white",
             "startlinecolor": "#2a3f5f"
            },
            "baxis": {
             "endlinecolor": "#2a3f5f",
             "gridcolor": "white",
             "linecolor": "white",
             "minorgridcolor": "white",
             "startlinecolor": "#2a3f5f"
            },
            "type": "carpet"
           }
          ],
          "choropleth": [
           {
            "colorbar": {
             "outlinewidth": 0,
             "ticks": ""
            },
            "type": "choropleth"
           }
          ],
          "contour": [
           {
            "colorbar": {
             "outlinewidth": 0,
             "ticks": ""
            },
            "colorscale": [
             [
              0,
              "#0d0887"
             ],
             [
              0.1111111111111111,
              "#46039f"
             ],
             [
              0.2222222222222222,
              "#7201a8"
             ],
             [
              0.3333333333333333,
              "#9c179e"
             ],
             [
              0.4444444444444444,
              "#bd3786"
             ],
             [
              0.5555555555555556,
              "#d8576b"
             ],
             [
              0.6666666666666666,
              "#ed7953"
             ],
             [
              0.7777777777777778,
              "#fb9f3a"
             ],
             [
              0.8888888888888888,
              "#fdca26"
             ],
             [
              1,
              "#f0f921"
             ]
            ],
            "type": "contour"
           }
          ],
          "contourcarpet": [
           {
            "colorbar": {
             "outlinewidth": 0,
             "ticks": ""
            },
            "type": "contourcarpet"
           }
          ],
          "heatmap": [
           {
            "colorbar": {
             "outlinewidth": 0,
             "ticks": ""
            },
            "colorscale": [
             [
              0,
              "#0d0887"
             ],
             [
              0.1111111111111111,
              "#46039f"
             ],
             [
              0.2222222222222222,
              "#7201a8"
             ],
             [
              0.3333333333333333,
              "#9c179e"
             ],
             [
              0.4444444444444444,
              "#bd3786"
             ],
             [
              0.5555555555555556,
              "#d8576b"
             ],
             [
              0.6666666666666666,
              "#ed7953"
             ],
             [
              0.7777777777777778,
              "#fb9f3a"
             ],
             [
              0.8888888888888888,
              "#fdca26"
             ],
             [
              1,
              "#f0f921"
             ]
            ],
            "type": "heatmap"
           }
          ],
          "heatmapgl": [
           {
            "colorbar": {
             "outlinewidth": 0,
             "ticks": ""
            },
            "colorscale": [
             [
              0,
              "#0d0887"
             ],
             [
              0.1111111111111111,
              "#46039f"
             ],
             [
              0.2222222222222222,
              "#7201a8"
             ],
             [
              0.3333333333333333,
              "#9c179e"
             ],
             [
              0.4444444444444444,
              "#bd3786"
             ],
             [
              0.5555555555555556,
              "#d8576b"
             ],
             [
              0.6666666666666666,
              "#ed7953"
             ],
             [
              0.7777777777777778,
              "#fb9f3a"
             ],
             [
              0.8888888888888888,
              "#fdca26"
             ],
             [
              1,
              "#f0f921"
             ]
            ],
            "type": "heatmapgl"
           }
          ],
          "histogram": [
           {
            "marker": {
             "pattern": {
              "fillmode": "overlay",
              "size": 10,
              "solidity": 0.2
             }
            },
            "type": "histogram"
           }
          ],
          "histogram2d": [
           {
            "colorbar": {
             "outlinewidth": 0,
             "ticks": ""
            },
            "colorscale": [
             [
              0,
              "#0d0887"
             ],
             [
              0.1111111111111111,
              "#46039f"
             ],
             [
              0.2222222222222222,
              "#7201a8"
             ],
             [
              0.3333333333333333,
              "#9c179e"
             ],
             [
              0.4444444444444444,
              "#bd3786"
             ],
             [
              0.5555555555555556,
              "#d8576b"
             ],
             [
              0.6666666666666666,
              "#ed7953"
             ],
             [
              0.7777777777777778,
              "#fb9f3a"
             ],
             [
              0.8888888888888888,
              "#fdca26"
             ],
             [
              1,
              "#f0f921"
             ]
            ],
            "type": "histogram2d"
           }
          ],
          "histogram2dcontour": [
           {
            "colorbar": {
             "outlinewidth": 0,
             "ticks": ""
            },
            "colorscale": [
             [
              0,
              "#0d0887"
             ],
             [
              0.1111111111111111,
              "#46039f"
             ],
             [
              0.2222222222222222,
              "#7201a8"
             ],
             [
              0.3333333333333333,
              "#9c179e"
             ],
             [
              0.4444444444444444,
              "#bd3786"
             ],
             [
              0.5555555555555556,
              "#d8576b"
             ],
             [
              0.6666666666666666,
              "#ed7953"
             ],
             [
              0.7777777777777778,
              "#fb9f3a"
             ],
             [
              0.8888888888888888,
              "#fdca26"
             ],
             [
              1,
              "#f0f921"
             ]
            ],
            "type": "histogram2dcontour"
           }
          ],
          "mesh3d": [
           {
            "colorbar": {
             "outlinewidth": 0,
             "ticks": ""
            },
            "type": "mesh3d"
           }
          ],
          "parcoords": [
           {
            "line": {
             "colorbar": {
              "outlinewidth": 0,
              "ticks": ""
             }
            },
            "type": "parcoords"
           }
          ],
          "pie": [
           {
            "automargin": true,
            "type": "pie"
           }
          ],
          "scatter": [
           {
            "fillpattern": {
             "fillmode": "overlay",
             "size": 10,
             "solidity": 0.2
            },
            "type": "scatter"
           }
          ],
          "scatter3d": [
           {
            "line": {
             "colorbar": {
              "outlinewidth": 0,
              "ticks": ""
             }
            },
            "marker": {
             "colorbar": {
              "outlinewidth": 0,
              "ticks": ""
             }
            },
            "type": "scatter3d"
           }
          ],
          "scattercarpet": [
           {
            "marker": {
             "colorbar": {
              "outlinewidth": 0,
              "ticks": ""
             }
            },
            "type": "scattercarpet"
           }
          ],
          "scattergeo": [
           {
            "marker": {
             "colorbar": {
              "outlinewidth": 0,
              "ticks": ""
             }
            },
            "type": "scattergeo"
           }
          ],
          "scattergl": [
           {
            "marker": {
             "colorbar": {
              "outlinewidth": 0,
              "ticks": ""
             }
            },
            "type": "scattergl"
           }
          ],
          "scattermapbox": [
           {
            "marker": {
             "colorbar": {
              "outlinewidth": 0,
              "ticks": ""
             }
            },
            "type": "scattermapbox"
           }
          ],
          "scatterpolar": [
           {
            "marker": {
             "colorbar": {
              "outlinewidth": 0,
              "ticks": ""
             }
            },
            "type": "scatterpolar"
           }
          ],
          "scatterpolargl": [
           {
            "marker": {
             "colorbar": {
              "outlinewidth": 0,
              "ticks": ""
             }
            },
            "type": "scatterpolargl"
           }
          ],
          "scatterternary": [
           {
            "marker": {
             "colorbar": {
              "outlinewidth": 0,
              "ticks": ""
             }
            },
            "type": "scatterternary"
           }
          ],
          "surface": [
           {
            "colorbar": {
             "outlinewidth": 0,
             "ticks": ""
            },
            "colorscale": [
             [
              0,
              "#0d0887"
             ],
             [
              0.1111111111111111,
              "#46039f"
             ],
             [
              0.2222222222222222,
              "#7201a8"
             ],
             [
              0.3333333333333333,
              "#9c179e"
             ],
             [
              0.4444444444444444,
              "#bd3786"
             ],
             [
              0.5555555555555556,
              "#d8576b"
             ],
             [
              0.6666666666666666,
              "#ed7953"
             ],
             [
              0.7777777777777778,
              "#fb9f3a"
             ],
             [
              0.8888888888888888,
              "#fdca26"
             ],
             [
              1,
              "#f0f921"
             ]
            ],
            "type": "surface"
           }
          ],
          "table": [
           {
            "cells": {
             "fill": {
              "color": "#EBF0F8"
             },
             "line": {
              "color": "white"
             }
            },
            "header": {
             "fill": {
              "color": "#C8D4E3"
             },
             "line": {
              "color": "white"
             }
            },
            "type": "table"
           }
          ]
         },
         "layout": {
          "annotationdefaults": {
           "arrowcolor": "#2a3f5f",
           "arrowhead": 0,
           "arrowwidth": 1
          },
          "autotypenumbers": "strict",
          "coloraxis": {
           "colorbar": {
            "outlinewidth": 0,
            "ticks": ""
           }
          },
          "colorscale": {
           "diverging": [
            [
             0,
             "#8e0152"
            ],
            [
             0.1,
             "#c51b7d"
            ],
            [
             0.2,
             "#de77ae"
            ],
            [
             0.3,
             "#f1b6da"
            ],
            [
             0.4,
             "#fde0ef"
            ],
            [
             0.5,
             "#f7f7f7"
            ],
            [
             0.6,
             "#e6f5d0"
            ],
            [
             0.7,
             "#b8e186"
            ],
            [
             0.8,
             "#7fbc41"
            ],
            [
             0.9,
             "#4d9221"
            ],
            [
             1,
             "#276419"
            ]
           ],
           "sequential": [
            [
             0,
             "#0d0887"
            ],
            [
             0.1111111111111111,
             "#46039f"
            ],
            [
             0.2222222222222222,
             "#7201a8"
            ],
            [
             0.3333333333333333,
             "#9c179e"
            ],
            [
             0.4444444444444444,
             "#bd3786"
            ],
            [
             0.5555555555555556,
             "#d8576b"
            ],
            [
             0.6666666666666666,
             "#ed7953"
            ],
            [
             0.7777777777777778,
             "#fb9f3a"
            ],
            [
             0.8888888888888888,
             "#fdca26"
            ],
            [
             1,
             "#f0f921"
            ]
           ],
           "sequentialminus": [
            [
             0,
             "#0d0887"
            ],
            [
             0.1111111111111111,
             "#46039f"
            ],
            [
             0.2222222222222222,
             "#7201a8"
            ],
            [
             0.3333333333333333,
             "#9c179e"
            ],
            [
             0.4444444444444444,
             "#bd3786"
            ],
            [
             0.5555555555555556,
             "#d8576b"
            ],
            [
             0.6666666666666666,
             "#ed7953"
            ],
            [
             0.7777777777777778,
             "#fb9f3a"
            ],
            [
             0.8888888888888888,
             "#fdca26"
            ],
            [
             1,
             "#f0f921"
            ]
           ]
          },
          "colorway": [
           "#636efa",
           "#EF553B",
           "#00cc96",
           "#ab63fa",
           "#FFA15A",
           "#19d3f3",
           "#FF6692",
           "#B6E880",
           "#FF97FF",
           "#FECB52"
          ],
          "font": {
           "color": "#2a3f5f"
          },
          "geo": {
           "bgcolor": "white",
           "lakecolor": "white",
           "landcolor": "#E5ECF6",
           "showlakes": true,
           "showland": true,
           "subunitcolor": "white"
          },
          "hoverlabel": {
           "align": "left"
          },
          "hovermode": "closest",
          "mapbox": {
           "style": "light"
          },
          "paper_bgcolor": "white",
          "plot_bgcolor": "#E5ECF6",
          "polar": {
           "angularaxis": {
            "gridcolor": "white",
            "linecolor": "white",
            "ticks": ""
           },
           "bgcolor": "#E5ECF6",
           "radialaxis": {
            "gridcolor": "white",
            "linecolor": "white",
            "ticks": ""
           }
          },
          "scene": {
           "xaxis": {
            "backgroundcolor": "#E5ECF6",
            "gridcolor": "white",
            "gridwidth": 2,
            "linecolor": "white",
            "showbackground": true,
            "ticks": "",
            "zerolinecolor": "white"
           },
           "yaxis": {
            "backgroundcolor": "#E5ECF6",
            "gridcolor": "white",
            "gridwidth": 2,
            "linecolor": "white",
            "showbackground": true,
            "ticks": "",
            "zerolinecolor": "white"
           },
           "zaxis": {
            "backgroundcolor": "#E5ECF6",
            "gridcolor": "white",
            "gridwidth": 2,
            "linecolor": "white",
            "showbackground": true,
            "ticks": "",
            "zerolinecolor": "white"
           }
          },
          "shapedefaults": {
           "line": {
            "color": "#2a3f5f"
           }
          },
          "ternary": {
           "aaxis": {
            "gridcolor": "white",
            "linecolor": "white",
            "ticks": ""
           },
           "baxis": {
            "gridcolor": "white",
            "linecolor": "white",
            "ticks": ""
           },
           "bgcolor": "#E5ECF6",
           "caxis": {
            "gridcolor": "white",
            "linecolor": "white",
            "ticks": ""
           }
          },
          "title": {
           "x": 0.05
          },
          "xaxis": {
           "automargin": true,
           "gridcolor": "white",
           "linecolor": "white",
           "ticks": "",
           "title": {
            "standoff": 15
           },
           "zerolinecolor": "white",
           "zerolinewidth": 2
          },
          "yaxis": {
           "automargin": true,
           "gridcolor": "white",
           "linecolor": "white",
           "ticks": "",
           "title": {
            "standoff": 15
           },
           "zerolinecolor": "white",
           "zerolinewidth": 2
          }
         }
        }
       }
      }
     },
     "metadata": {},
     "output_type": "display_data"
    }
   ],
   "source": [
    "draw_measurements(filter_by_pci(measurement_points_df, 214))\n",
    "draw_measurements(filter_by_mnc(measurement_points_df, 6))\n",
    "draw_measurements(filter_by_earfcn(measurement_points_df, 1474))"
   ]
  },
  {
   "cell_type": "markdown",
   "metadata": {},
   "source": [
    "### Mimika eventów measurementowych\n",
    "\n",
    "- Zaimplementuj funkcjonalność, która wygeneruje DataFrame zawierającą potencjalne eventy measurementowe i zwizualizuje ją\n",
    "- Zaimplementuj sterowalne parametry eventów\n",
    "- Ogranicz się do eventów A1-A5\n",
    "- Cel zadania:\n",
    "  - Sprawdzenie, ile eventów measurementowych zostałoby wysłanych podczas eksperymentu dla wartości parametrów eventów\n",
    "  - Dokonaj analizy porównawczej – ustaw różne parametry, wygeneruj mapy z punktami, proste podsumowanie statystyczne."
   ]
  },
  {
   "cell_type": "code",
   "execution_count": 7,
   "metadata": {},
   "outputs": [
    {
     "data": {
      "text/html": [
       "<div>\n",
       "<style scoped>\n",
       "    .dataframe tbody tr th:only-of-type {\n",
       "        vertical-align: middle;\n",
       "    }\n",
       "\n",
       "    .dataframe tbody tr th {\n",
       "        vertical-align: top;\n",
       "    }\n",
       "\n",
       "    .dataframe thead th {\n",
       "        text-align: right;\n",
       "    }\n",
       "</style>\n",
       "<table border=\"1\" class=\"dataframe\">\n",
       "  <thead>\n",
       "    <tr style=\"text-align: right;\">\n",
       "      <th></th>\n",
       "      <th>longitude</th>\n",
       "      <th>latitude</th>\n",
       "      <th>event</th>\n",
       "      <th>rsrp</th>\n",
       "      <th>rsrq</th>\n",
       "      <th>pci</th>\n",
       "      <th>mnc</th>\n",
       "      <th>ta</th>\n",
       "      <th>rssi</th>\n",
       "      <th>rssnr</th>\n",
       "      <th>cqi_table_index</th>\n",
       "      <th>cqi</th>\n",
       "      <th>level</th>\n",
       "      <th>earfcn</th>\n",
       "      <th>tac</th>\n",
       "      <th>bandwidth</th>\n",
       "      <th>mcc</th>\n",
       "      <th>dbm</th>\n",
       "    </tr>\n",
       "  </thead>\n",
       "  <tbody>\n",
       "    <tr>\n",
       "      <th>0</th>\n",
       "      <td>19.955436</td>\n",
       "      <td>50.043881</td>\n",
       "      <td>A4</td>\n",
       "      <td>-93</td>\n",
       "      <td>-14</td>\n",
       "      <td>19</td>\n",
       "      <td>6</td>\n",
       "      <td>2147483647</td>\n",
       "      <td>-59</td>\n",
       "      <td>2147483647</td>\n",
       "      <td>2147483647</td>\n",
       "      <td>2147483647</td>\n",
       "      <td>3</td>\n",
       "      <td>3350</td>\n",
       "      <td>22</td>\n",
       "      <td>20000</td>\n",
       "      <td>260</td>\n",
       "      <td>-93</td>\n",
       "    </tr>\n",
       "    <tr>\n",
       "      <th>1</th>\n",
       "      <td>19.955529</td>\n",
       "      <td>50.043876</td>\n",
       "      <td>A3</td>\n",
       "      <td>-95</td>\n",
       "      <td>-15</td>\n",
       "      <td>19</td>\n",
       "      <td>6</td>\n",
       "      <td>2</td>\n",
       "      <td>-59</td>\n",
       "      <td>2147483647</td>\n",
       "      <td>2147483647</td>\n",
       "      <td>2147483647</td>\n",
       "      <td>3</td>\n",
       "      <td>3350</td>\n",
       "      <td>22</td>\n",
       "      <td>20000</td>\n",
       "      <td>260</td>\n",
       "      <td>-95</td>\n",
       "    </tr>\n",
       "    <tr>\n",
       "      <th>2</th>\n",
       "      <td>19.955529</td>\n",
       "      <td>50.043876</td>\n",
       "      <td>A4</td>\n",
       "      <td>-95</td>\n",
       "      <td>-15</td>\n",
       "      <td>19</td>\n",
       "      <td>6</td>\n",
       "      <td>2</td>\n",
       "      <td>-59</td>\n",
       "      <td>2147483647</td>\n",
       "      <td>2147483647</td>\n",
       "      <td>2147483647</td>\n",
       "      <td>3</td>\n",
       "      <td>3350</td>\n",
       "      <td>22</td>\n",
       "      <td>20000</td>\n",
       "      <td>260</td>\n",
       "      <td>-95</td>\n",
       "    </tr>\n",
       "    <tr>\n",
       "      <th>3</th>\n",
       "      <td>19.956576</td>\n",
       "      <td>50.044069</td>\n",
       "      <td>A4</td>\n",
       "      <td>-88</td>\n",
       "      <td>-14</td>\n",
       "      <td>214</td>\n",
       "      <td>6</td>\n",
       "      <td>2147483647</td>\n",
       "      <td>-55</td>\n",
       "      <td>2147483647</td>\n",
       "      <td>2147483647</td>\n",
       "      <td>2147483647</td>\n",
       "      <td>3</td>\n",
       "      <td>525</td>\n",
       "      <td>22</td>\n",
       "      <td>15000</td>\n",
       "      <td>260</td>\n",
       "      <td>-88</td>\n",
       "    </tr>\n",
       "    <tr>\n",
       "      <th>4</th>\n",
       "      <td>19.957679</td>\n",
       "      <td>50.043859</td>\n",
       "      <td>A4</td>\n",
       "      <td>-90</td>\n",
       "      <td>-9</td>\n",
       "      <td>214</td>\n",
       "      <td>6</td>\n",
       "      <td>2</td>\n",
       "      <td>-61</td>\n",
       "      <td>2147483647</td>\n",
       "      <td>2147483647</td>\n",
       "      <td>2147483647</td>\n",
       "      <td>3</td>\n",
       "      <td>525</td>\n",
       "      <td>22</td>\n",
       "      <td>15000</td>\n",
       "      <td>260</td>\n",
       "      <td>-90</td>\n",
       "    </tr>\n",
       "    <tr>\n",
       "      <th>...</th>\n",
       "      <td>...</td>\n",
       "      <td>...</td>\n",
       "      <td>...</td>\n",
       "      <td>...</td>\n",
       "      <td>...</td>\n",
       "      <td>...</td>\n",
       "      <td>...</td>\n",
       "      <td>...</td>\n",
       "      <td>...</td>\n",
       "      <td>...</td>\n",
       "      <td>...</td>\n",
       "      <td>...</td>\n",
       "      <td>...</td>\n",
       "      <td>...</td>\n",
       "      <td>...</td>\n",
       "      <td>...</td>\n",
       "      <td>...</td>\n",
       "      <td>...</td>\n",
       "    </tr>\n",
       "    <tr>\n",
       "      <th>281</th>\n",
       "      <td>19.953140</td>\n",
       "      <td>50.046989</td>\n",
       "      <td>A4</td>\n",
       "      <td>-100</td>\n",
       "      <td>-14</td>\n",
       "      <td>18</td>\n",
       "      <td>6</td>\n",
       "      <td>2147483647</td>\n",
       "      <td>-65</td>\n",
       "      <td>2147483647</td>\n",
       "      <td>2147483647</td>\n",
       "      <td>2147483647</td>\n",
       "      <td>2</td>\n",
       "      <td>3350</td>\n",
       "      <td>22</td>\n",
       "      <td>20000</td>\n",
       "      <td>260</td>\n",
       "      <td>-100</td>\n",
       "    </tr>\n",
       "    <tr>\n",
       "      <th>282</th>\n",
       "      <td>19.952341</td>\n",
       "      <td>50.046841</td>\n",
       "      <td>A3</td>\n",
       "      <td>-95</td>\n",
       "      <td>-12</td>\n",
       "      <td>18</td>\n",
       "      <td>6</td>\n",
       "      <td>2</td>\n",
       "      <td>-61</td>\n",
       "      <td>2147483647</td>\n",
       "      <td>2147483647</td>\n",
       "      <td>2147483647</td>\n",
       "      <td>3</td>\n",
       "      <td>3350</td>\n",
       "      <td>22</td>\n",
       "      <td>20000</td>\n",
       "      <td>260</td>\n",
       "      <td>-95</td>\n",
       "    </tr>\n",
       "    <tr>\n",
       "      <th>283</th>\n",
       "      <td>19.952341</td>\n",
       "      <td>50.046841</td>\n",
       "      <td>A4</td>\n",
       "      <td>-95</td>\n",
       "      <td>-12</td>\n",
       "      <td>18</td>\n",
       "      <td>6</td>\n",
       "      <td>2</td>\n",
       "      <td>-61</td>\n",
       "      <td>2147483647</td>\n",
       "      <td>2147483647</td>\n",
       "      <td>2147483647</td>\n",
       "      <td>3</td>\n",
       "      <td>3350</td>\n",
       "      <td>22</td>\n",
       "      <td>20000</td>\n",
       "      <td>260</td>\n",
       "      <td>-95</td>\n",
       "    </tr>\n",
       "    <tr>\n",
       "      <th>284</th>\n",
       "      <td>19.951052</td>\n",
       "      <td>50.046548</td>\n",
       "      <td>A3</td>\n",
       "      <td>-92</td>\n",
       "      <td>-11</td>\n",
       "      <td>18</td>\n",
       "      <td>6</td>\n",
       "      <td>2</td>\n",
       "      <td>-59</td>\n",
       "      <td>2147483647</td>\n",
       "      <td>2147483647</td>\n",
       "      <td>2147483647</td>\n",
       "      <td>3</td>\n",
       "      <td>3350</td>\n",
       "      <td>22</td>\n",
       "      <td>20000</td>\n",
       "      <td>260</td>\n",
       "      <td>-92</td>\n",
       "    </tr>\n",
       "    <tr>\n",
       "      <th>285</th>\n",
       "      <td>19.951052</td>\n",
       "      <td>50.046548</td>\n",
       "      <td>A4</td>\n",
       "      <td>-92</td>\n",
       "      <td>-11</td>\n",
       "      <td>18</td>\n",
       "      <td>6</td>\n",
       "      <td>2</td>\n",
       "      <td>-59</td>\n",
       "      <td>2147483647</td>\n",
       "      <td>2147483647</td>\n",
       "      <td>2147483647</td>\n",
       "      <td>3</td>\n",
       "      <td>3350</td>\n",
       "      <td>22</td>\n",
       "      <td>20000</td>\n",
       "      <td>260</td>\n",
       "      <td>-92</td>\n",
       "    </tr>\n",
       "  </tbody>\n",
       "</table>\n",
       "<p>286 rows × 18 columns</p>\n",
       "</div>"
      ],
      "text/plain": [
       "     longitude   latitude event  rsrp  rsrq  pci  mnc          ta  rssi  \\\n",
       "0    19.955436  50.043881    A4   -93   -14   19    6  2147483647   -59   \n",
       "1    19.955529  50.043876    A3   -95   -15   19    6           2   -59   \n",
       "2    19.955529  50.043876    A4   -95   -15   19    6           2   -59   \n",
       "3    19.956576  50.044069    A4   -88   -14  214    6  2147483647   -55   \n",
       "4    19.957679  50.043859    A4   -90    -9  214    6           2   -61   \n",
       "..         ...        ...   ...   ...   ...  ...  ...         ...   ...   \n",
       "281  19.953140  50.046989    A4  -100   -14   18    6  2147483647   -65   \n",
       "282  19.952341  50.046841    A3   -95   -12   18    6           2   -61   \n",
       "283  19.952341  50.046841    A4   -95   -12   18    6           2   -61   \n",
       "284  19.951052  50.046548    A3   -92   -11   18    6           2   -59   \n",
       "285  19.951052  50.046548    A4   -92   -11   18    6           2   -59   \n",
       "\n",
       "          rssnr  cqi_table_index         cqi  level  earfcn  tac  bandwidth  \\\n",
       "0    2147483647       2147483647  2147483647      3    3350   22      20000   \n",
       "1    2147483647       2147483647  2147483647      3    3350   22      20000   \n",
       "2    2147483647       2147483647  2147483647      3    3350   22      20000   \n",
       "3    2147483647       2147483647  2147483647      3     525   22      15000   \n",
       "4    2147483647       2147483647  2147483647      3     525   22      15000   \n",
       "..          ...              ...         ...    ...     ...  ...        ...   \n",
       "281  2147483647       2147483647  2147483647      2    3350   22      20000   \n",
       "282  2147483647       2147483647  2147483647      3    3350   22      20000   \n",
       "283  2147483647       2147483647  2147483647      3    3350   22      20000   \n",
       "284  2147483647       2147483647  2147483647      3    3350   22      20000   \n",
       "285  2147483647       2147483647  2147483647      3    3350   22      20000   \n",
       "\n",
       "     mcc  dbm  \n",
       "0    260  -93  \n",
       "1    260  -95  \n",
       "2    260  -95  \n",
       "3    260  -88  \n",
       "4    260  -90  \n",
       "..   ...  ...  \n",
       "281  260 -100  \n",
       "282  260  -95  \n",
       "283  260  -95  \n",
       "284  260  -92  \n",
       "285  260  -92  \n",
       "\n",
       "[286 rows x 18 columns]"
      ]
     },
     "execution_count": 7,
     "metadata": {},
     "output_type": "execute_result"
    }
   ],
   "source": [
    "thresholds = {\n",
    "    \"rsrp\": -44,\n",
    "    \"rsrq\": -19,\n",
    "    \"offset\": 0,\n",
    "}\n",
    "\n",
    "events_df = parser.get_event_points(thresholds)\n",
    "events_df"
   ]
  },
  {
   "cell_type": "code",
   "execution_count": 8,
   "metadata": {},
   "outputs": [
    {
     "data": {
      "application/vnd.plotly.v1+json": {
       "config": {
        "plotlyServerURL": "https://plot.ly"
       },
       "data": [
        {
         "customdata": [
          [
           19.9559137,
           50.0450921,
           -84,
           -14,
           "A1"
          ],
          [
           19.9551673,
           50.0469147,
           -87,
           -16,
           "A1"
          ],
          [
           19.9553623,
           50.0473473,
           -101,
           -17,
           "A1"
          ],
          [
           19.956333,
           50.0473378,
           -92,
           -17,
           "A1"
          ],
          [
           19.949473,
           50.046342,
           -87,
           -14,
           "A1"
          ],
          [
           19.9519524,
           50.0472805,
           -99,
           -17,
           "A1"
          ]
         ],
         "hovertemplate": "<b>%{hovertext}</b><br><br>latitude=%{customdata[1]}<br>longitude=%{customdata[0]}<br>rsrp=%{customdata[2]}<br>rsrq=%{customdata[3]}<extra></extra>",
         "hovertext": [
          "A1",
          "A1",
          "A1",
          "A1",
          "A1",
          "A1"
         ],
         "lat": [
          50.0450921,
          50.0469147,
          50.0473473,
          50.0473378,
          50.046342,
          50.0472805
         ],
         "legendgroup": "A1",
         "lon": [
          19.9559137,
          19.9551673,
          19.9553623,
          19.956333,
          19.949473,
          19.9519524
         ],
         "marker": {
          "color": "black"
         },
         "mode": "markers",
         "name": "A1",
         "showlegend": true,
         "subplot": "mapbox",
         "type": "scattermapbox"
        },
        {
         "customdata": [
          [
           19.9578008,
           50.0470486,
           -101,
           -20,
           "A2"
          ],
          [
           19.9568124,
           50.0459123,
           -107,
           -20,
           "A2"
          ],
          [
           19.9566189,
           50.0466263,
           -107,
           -20,
           "A2"
          ],
          [
           19.957776,
           50.045435,
           -106,
           -20,
           "A2"
          ],
          [
           19.9553938,
           50.0455022,
           -102,
           -20,
           "A2"
          ],
          [
           19.9553921,
           50.0455226,
           -104,
           -20,
           "A2"
          ]
         ],
         "hovertemplate": "<b>%{hovertext}</b><br><br>latitude=%{customdata[1]}<br>longitude=%{customdata[0]}<br>rsrp=%{customdata[2]}<br>rsrq=%{customdata[3]}<extra></extra>",
         "hovertext": [
          "A2",
          "A2",
          "A2",
          "A2",
          "A2",
          "A2"
         ],
         "lat": [
          50.0470486,
          50.0459123,
          50.0466263,
          50.045435,
          50.0455022,
          50.0455226
         ],
         "legendgroup": "A2",
         "lon": [
          19.9578008,
          19.9568124,
          19.9566189,
          19.957776,
          19.9553938,
          19.9553921
         ],
         "marker": {
          "color": "blue"
         },
         "mode": "markers",
         "name": "A2",
         "showlegend": true,
         "subplot": "mapbox",
         "type": "scattermapbox"
        },
        {
         "customdata": [
          [
           19.9555291,
           50.0438764,
           -95,
           -15,
           "A3"
          ],
          [
           19.9593014,
           50.0435971,
           -81,
           -7,
           "A3"
          ],
          [
           19.9628379,
           50.0418007,
           -70,
           -12,
           "A3"
          ],
          [
           19.9646071,
           50.0423506,
           -73,
           -12,
           "A3"
          ],
          [
           19.9639957,
           50.0426539,
           -72,
           -9,
           "A3"
          ],
          [
           19.9599164,
           50.0433273,
           -88,
           -13,
           "A3"
          ],
          [
           19.9582089,
           50.0442152,
           -101,
           -15,
           "A3"
          ],
          [
           19.9574153,
           50.0449612,
           -103,
           -18,
           "A3"
          ],
          [
           19.9586771,
           50.04487,
           -97,
           -15,
           "A3"
          ],
          [
           19.9598041,
           50.0446543,
           -95,
           -13,
           "A3"
          ],
          [
           19.9609392,
           50.0445756,
           -84,
           -10,
           "A3"
          ],
          [
           19.9614751,
           50.0439235,
           -85,
           -11,
           "A3"
          ],
          [
           19.9614804,
           50.0438055,
           -89,
           -10,
           "A3"
          ],
          [
           19.9613428,
           50.0437732,
           -89,
           -10,
           "A3"
          ],
          [
           19.9609091,
           50.0436412,
           -99,
           -13,
           "A3"
          ],
          [
           19.9605888,
           50.0435203,
           -90,
           -7,
           "A3"
          ],
          [
           19.9601662,
           50.0433589,
           -88,
           -8,
           "A3"
          ],
          [
           19.9598751,
           50.0432567,
           -89,
           -8,
           "A3"
          ],
          [
           19.9595133,
           50.0436194,
           -94,
           -9,
           "A3"
          ],
          [
           19.9612321,
           50.0444139,
           -82,
           -8,
           "A3"
          ],
          [
           19.9606298,
           50.0447841,
           -101,
           -13,
           "A3"
          ],
          [
           19.9595939,
           50.0447945,
           -108,
           -17,
           "A3"
          ],
          [
           19.9569724,
           50.0452455,
           -90,
           -15,
           "A3"
          ],
          [
           19.9578677,
           50.044267,
           -100,
           -14,
           "A3"
          ],
          [
           19.9562091,
           50.0448242,
           -105,
           -17,
           "A3"
          ],
          [
           19.9559169,
           50.0451001,
           -90,
           -17,
           "A3"
          ],
          [
           19.955392,
           50.045946,
           -89,
           -18,
           "A3"
          ],
          [
           19.9551673,
           50.0469147,
           -87,
           -16,
           "A3"
          ],
          [
           19.9553623,
           50.0473473,
           -101,
           -17,
           "A3"
          ],
          [
           19.957592,
           50.0473393,
           -96,
           -19,
           "A3"
          ],
          [
           19.9578008,
           50.0470486,
           -101,
           -20,
           "A3"
          ],
          [
           19.9577583,
           50.0465491,
           -100,
           -16,
           "A3"
          ],
          [
           19.9576821,
           50.0461799,
           -100,
           -16,
           "A3"
          ],
          [
           19.9572933,
           50.0459317,
           -109,
           -18,
           "A3"
          ],
          [
           19.9568124,
           50.0459123,
           -107,
           -20,
           "A3"
          ],
          [
           19.9566905,
           50.046435,
           -102,
           -18,
           "A3"
          ],
          [
           19.9566189,
           50.0466263,
           -107,
           -20,
           "A3"
          ],
          [
           19.9566439,
           50.0470735,
           -109,
           -20,
           "A3"
          ],
          [
           19.9576396,
           50.0472931,
           -95,
           -17,
           "A3"
          ],
          [
           19.9578534,
           50.0471157,
           -96,
           -15,
           "A3"
          ],
          [
           19.9578005,
           50.0467281,
           -99,
           -15,
           "A3"
          ],
          [
           19.9577382,
           50.0463486,
           -100,
           -16,
           "A3"
          ],
          [
           19.9577801,
           50.0459292,
           -108,
           -17,
           "A3"
          ],
          [
           19.9578088,
           50.0455916,
           -105,
           -16,
           "A3"
          ],
          [
           19.957776,
           50.045435,
           -106,
           -20,
           "A3"
          ],
          [
           19.9577941,
           50.0451006,
           -92,
           -15,
           "A3"
          ],
          [
           19.9574917,
           50.0448292,
           -91,
           -16,
           "A3"
          ],
          [
           19.9577754,
           50.0445052,
           -98,
           -14,
           "A3"
          ],
          [
           19.9571302,
           50.0444969,
           -90,
           -14,
           "A3"
          ],
          [
           19.9559543,
           50.0450498,
           -103,
           -17,
           "A3"
          ],
          [
           19.9542266,
           50.0452101,
           -82,
           -13,
           "A3"
          ],
          [
           19.9525952,
           50.0451379,
           -99,
           -12,
           "A3"
          ],
          [
           19.9508881,
           50.0451097,
           -100,
           -11,
           "A3"
          ],
          [
           19.9462349,
           50.0434267,
           -85,
           -13,
           "A3"
          ],
          [
           19.9432492,
           50.0418475,
           -79,
           -13,
           "A3"
          ],
          [
           19.9429001,
           50.0421735,
           -88,
           -12,
           "A3"
          ],
          [
           19.942478,
           50.0425242,
           -84,
           -13,
           "A3"
          ],
          [
           19.9420322,
           50.042881,
           -85,
           -14,
           "A3"
          ],
          [
           19.9414921,
           50.0439236,
           -76,
           -9,
           "A3"
          ],
          [
           19.9429862,
           50.0441504,
           -85,
           -15,
           "A3"
          ],
          [
           19.9445168,
           50.0436041,
           -81,
           -13,
           "A3"
          ],
          [
           19.9448311,
           50.0433375,
           -86,
           -12,
           "A3"
          ],
          [
           19.944119,
           50.043165,
           -83,
           -13,
           "A3"
          ],
          [
           19.9433193,
           50.0430665,
           -83,
           -14,
           "A3"
          ],
          [
           19.941523,
           50.0439442,
           -83,
           -11,
           "A3"
          ],
          [
           19.9430528,
           50.0441666,
           -84,
           -15,
           "A3"
          ],
          [
           19.9453606,
           50.044707,
           -72,
           -11,
           "A3"
          ],
          [
           19.9453673,
           50.0447066,
           -73,
           -12,
           "A3"
          ],
          [
           19.9453711,
           50.044702,
           -84,
           -19,
           "A3"
          ],
          [
           19.9458321,
           50.0445644,
           -78,
           -13,
           "A3"
          ],
          [
           19.9462527,
           50.0442888,
           -77,
           -15,
           "A3"
          ],
          [
           19.9492811,
           50.0438077,
           -83,
           -13,
           "A3"
          ],
          [
           19.9496567,
           50.0448271,
           -87,
           -12,
           "A3"
          ],
          [
           19.9496404,
           50.0448998,
           -92,
           -13,
           "A3"
          ],
          [
           19.9473141,
           50.0453443,
           -90,
           -18,
           "A3"
          ],
          [
           19.9458103,
           50.0448946,
           -80,
           -12,
           "A3"
          ],
          [
           19.9458117,
           50.0448785,
           -75,
           -12,
           "A3"
          ],
          [
           19.9455778,
           50.044735,
           -78,
           -15,
           "A3"
          ],
          [
           19.9445056,
           50.044439,
           -76,
           -13,
           "A3"
          ],
          [
           19.9441782,
           50.0439012,
           -77,
           -13,
           "A3"
          ],
          [
           19.9445516,
           50.0435834,
           -77,
           -12,
           "A3"
          ],
          [
           19.944872,
           50.0434433,
           -88,
           -15,
           "A3"
          ],
          [
           19.94535,
           50.043664,
           -88,
           -15,
           "A3"
          ],
          [
           19.945975,
           50.0440133,
           -82,
           -14,
           "A3"
          ],
          [
           19.9463876,
           50.0441923,
           -81,
           -15,
           "A3"
          ],
          [
           19.9467891,
           50.0440001,
           -84,
           -17,
           "A3"
          ],
          [
           19.9468273,
           50.0439727,
           -84,
           -16,
           "A3"
          ],
          [
           19.9486155,
           50.0446493,
           -84,
           -17,
           "A3"
          ],
          [
           19.9481076,
           50.0451678,
           -87,
           -19,
           "A3"
          ],
          [
           19.9481708,
           50.0459479,
           -87,
           -12,
           "A3"
          ],
          [
           19.9488924,
           50.0461599,
           -81,
           -10,
           "A3"
          ],
          [
           19.9490433,
           50.046168,
           -85,
           -15,
           "A3"
          ],
          [
           19.949473,
           50.046342,
           -87,
           -14,
           "A3"
          ],
          [
           19.9499699,
           50.0465704,
           -87,
           -16,
           "A3"
          ],
          [
           19.9504418,
           50.0467767,
           -86,
           -15,
           "A3"
          ],
          [
           19.9510331,
           50.0470189,
           -99,
           -18,
           "A3"
          ],
          [
           19.9519524,
           50.0472805,
           -99,
           -17,
           "A3"
          ],
          [
           19.9532717,
           50.0476201,
           -96,
           -15,
           "A3"
          ],
          [
           19.953957,
           50.0471907,
           -97,
           -14,
           "A3"
          ],
          [
           19.9540694,
           50.0468147,
           -94,
           -15,
           "A3"
          ],
          [
           19.9548899,
           50.0463109,
           -97,
           -16,
           "A3"
          ],
          [
           19.9552007,
           50.0460361,
           -102,
           -17,
           "A3"
          ],
          [
           19.9553938,
           50.0455022,
           -102,
           -20,
           "A3"
          ],
          [
           19.9553921,
           50.0455226,
           -104,
           -20,
           "A3"
          ],
          [
           19.9553921,
           50.045518,
           -89,
           -15,
           "A3"
          ],
          [
           19.9553886,
           50.0455155,
           -88,
           -15,
           "A3"
          ],
          [
           19.9553757,
           50.0455234,
           -88,
           -14,
           "A3"
          ],
          [
           19.9553758,
           50.0455249,
           -88,
           -14,
           "A3"
          ],
          [
           19.9552241,
           50.0453692,
           -89,
           -16,
           "A3"
          ],
          [
           19.9541911,
           50.0451611,
           -96,
           -15,
           "A3"
          ],
          [
           19.9524927,
           50.0450178,
           -93,
           -16,
           "A3"
          ],
          [
           19.9530084,
           50.0457747,
           -101,
           -16,
           "A3"
          ],
          [
           19.9538225,
           50.0470848,
           -99,
           -14,
           "A3"
          ],
          [
           19.9523408,
           50.0468415,
           -95,
           -12,
           "A3"
          ],
          [
           19.951052,
           50.0465479,
           -92,
           -11,
           "A3"
          ]
         ],
         "hovertemplate": "<b>%{hovertext}</b><br><br>latitude=%{customdata[1]}<br>longitude=%{customdata[0]}<br>rsrp=%{customdata[2]}<br>rsrq=%{customdata[3]}<extra></extra>",
         "hovertext": [
          "A3",
          "A3",
          "A3",
          "A3",
          "A3",
          "A3",
          "A3",
          "A3",
          "A3",
          "A3",
          "A3",
          "A3",
          "A3",
          "A3",
          "A3",
          "A3",
          "A3",
          "A3",
          "A3",
          "A3",
          "A3",
          "A3",
          "A3",
          "A3",
          "A3",
          "A3",
          "A3",
          "A3",
          "A3",
          "A3",
          "A3",
          "A3",
          "A3",
          "A3",
          "A3",
          "A3",
          "A3",
          "A3",
          "A3",
          "A3",
          "A3",
          "A3",
          "A3",
          "A3",
          "A3",
          "A3",
          "A3",
          "A3",
          "A3",
          "A3",
          "A3",
          "A3",
          "A3",
          "A3",
          "A3",
          "A3",
          "A3",
          "A3",
          "A3",
          "A3",
          "A3",
          "A3",
          "A3",
          "A3",
          "A3",
          "A3",
          "A3",
          "A3",
          "A3",
          "A3",
          "A3",
          "A3",
          "A3",
          "A3",
          "A3",
          "A3",
          "A3",
          "A3",
          "A3",
          "A3",
          "A3",
          "A3",
          "A3",
          "A3",
          "A3",
          "A3",
          "A3",
          "A3",
          "A3",
          "A3",
          "A3",
          "A3",
          "A3",
          "A3",
          "A3",
          "A3",
          "A3",
          "A3",
          "A3",
          "A3",
          "A3",
          "A3",
          "A3",
          "A3",
          "A3",
          "A3",
          "A3",
          "A3",
          "A3",
          "A3",
          "A3",
          "A3",
          "A3",
          "A3",
          "A3"
         ],
         "lat": [
          50.0438764,
          50.0435971,
          50.0418007,
          50.0423506,
          50.0426539,
          50.0433273,
          50.0442152,
          50.0449612,
          50.04487,
          50.0446543,
          50.0445756,
          50.0439235,
          50.0438055,
          50.0437732,
          50.0436412,
          50.0435203,
          50.0433589,
          50.0432567,
          50.0436194,
          50.0444139,
          50.0447841,
          50.0447945,
          50.0452455,
          50.044267,
          50.0448242,
          50.0451001,
          50.045946,
          50.0469147,
          50.0473473,
          50.0473393,
          50.0470486,
          50.0465491,
          50.0461799,
          50.0459317,
          50.0459123,
          50.046435,
          50.0466263,
          50.0470735,
          50.0472931,
          50.0471157,
          50.0467281,
          50.0463486,
          50.0459292,
          50.0455916,
          50.045435,
          50.0451006,
          50.0448292,
          50.0445052,
          50.0444969,
          50.0450498,
          50.0452101,
          50.0451379,
          50.0451097,
          50.0434267,
          50.0418475,
          50.0421735,
          50.0425242,
          50.042881,
          50.0439236,
          50.0441504,
          50.0436041,
          50.0433375,
          50.043165,
          50.0430665,
          50.0439442,
          50.0441666,
          50.044707,
          50.0447066,
          50.044702,
          50.0445644,
          50.0442888,
          50.0438077,
          50.0448271,
          50.0448998,
          50.0453443,
          50.0448946,
          50.0448785,
          50.044735,
          50.044439,
          50.0439012,
          50.0435834,
          50.0434433,
          50.043664,
          50.0440133,
          50.0441923,
          50.0440001,
          50.0439727,
          50.0446493,
          50.0451678,
          50.0459479,
          50.0461599,
          50.046168,
          50.046342,
          50.0465704,
          50.0467767,
          50.0470189,
          50.0472805,
          50.0476201,
          50.0471907,
          50.0468147,
          50.0463109,
          50.0460361,
          50.0455022,
          50.0455226,
          50.045518,
          50.0455155,
          50.0455234,
          50.0455249,
          50.0453692,
          50.0451611,
          50.0450178,
          50.0457747,
          50.0470848,
          50.0468415,
          50.0465479
         ],
         "legendgroup": "A3",
         "lon": [
          19.9555291,
          19.9593014,
          19.9628379,
          19.9646071,
          19.9639957,
          19.9599164,
          19.9582089,
          19.9574153,
          19.9586771,
          19.9598041,
          19.9609392,
          19.9614751,
          19.9614804,
          19.9613428,
          19.9609091,
          19.9605888,
          19.9601662,
          19.9598751,
          19.9595133,
          19.9612321,
          19.9606298,
          19.9595939,
          19.9569724,
          19.9578677,
          19.9562091,
          19.9559169,
          19.955392,
          19.9551673,
          19.9553623,
          19.957592,
          19.9578008,
          19.9577583,
          19.9576821,
          19.9572933,
          19.9568124,
          19.9566905,
          19.9566189,
          19.9566439,
          19.9576396,
          19.9578534,
          19.9578005,
          19.9577382,
          19.9577801,
          19.9578088,
          19.957776,
          19.9577941,
          19.9574917,
          19.9577754,
          19.9571302,
          19.9559543,
          19.9542266,
          19.9525952,
          19.9508881,
          19.9462349,
          19.9432492,
          19.9429001,
          19.942478,
          19.9420322,
          19.9414921,
          19.9429862,
          19.9445168,
          19.9448311,
          19.944119,
          19.9433193,
          19.941523,
          19.9430528,
          19.9453606,
          19.9453673,
          19.9453711,
          19.9458321,
          19.9462527,
          19.9492811,
          19.9496567,
          19.9496404,
          19.9473141,
          19.9458103,
          19.9458117,
          19.9455778,
          19.9445056,
          19.9441782,
          19.9445516,
          19.944872,
          19.94535,
          19.945975,
          19.9463876,
          19.9467891,
          19.9468273,
          19.9486155,
          19.9481076,
          19.9481708,
          19.9488924,
          19.9490433,
          19.949473,
          19.9499699,
          19.9504418,
          19.9510331,
          19.9519524,
          19.9532717,
          19.953957,
          19.9540694,
          19.9548899,
          19.9552007,
          19.9553938,
          19.9553921,
          19.9553921,
          19.9553886,
          19.9553757,
          19.9553758,
          19.9552241,
          19.9541911,
          19.9524927,
          19.9530084,
          19.9538225,
          19.9523408,
          19.951052
         ],
         "marker": {
          "color": "forestgreen"
         },
         "mode": "markers",
         "name": "A3",
         "showlegend": true,
         "subplot": "mapbox",
         "type": "scattermapbox"
        },
        {
         "customdata": [
          [
           19.9554362,
           50.043881,
           -93,
           -14,
           "A4"
          ],
          [
           19.9555291,
           50.0438764,
           -95,
           -15,
           "A4"
          ],
          [
           19.9565761,
           50.044069,
           -88,
           -14,
           "A4"
          ],
          [
           19.9576786,
           50.0438588,
           -90,
           -9,
           "A4"
          ],
          [
           19.9580451,
           50.0438061,
           -89,
           -9,
           "A4"
          ],
          [
           19.9588542,
           50.0436816,
           -85,
           -8,
           "A4"
          ],
          [
           19.9593014,
           50.0435971,
           -81,
           -7,
           "A4"
          ],
          [
           19.9609912,
           50.0421791,
           -72,
           -9,
           "A4"
          ],
          [
           19.9628379,
           50.0418007,
           -70,
           -12,
           "A4"
          ],
          [
           19.9646071,
           50.0423506,
           -73,
           -12,
           "A4"
          ],
          [
           19.9643192,
           50.0424699,
           -74,
           -12,
           "A4"
          ],
          [
           19.9639957,
           50.0426539,
           -72,
           -9,
           "A4"
          ],
          [
           19.9611108,
           50.0423635,
           -73,
           -10,
           "A4"
          ],
          [
           19.9599164,
           50.0433273,
           -88,
           -13,
           "A4"
          ],
          [
           19.9582089,
           50.0442152,
           -101,
           -15,
           "A4"
          ],
          [
           19.9574153,
           50.0449612,
           -103,
           -18,
           "A4"
          ],
          [
           19.9586771,
           50.04487,
           -97,
           -15,
           "A4"
          ],
          [
           19.9598041,
           50.0446543,
           -95,
           -13,
           "A4"
          ],
          [
           19.9614937,
           50.0446952,
           -72,
           -7,
           "A4"
          ],
          [
           19.9621964,
           50.0448849,
           -83,
           -9,
           "A4"
          ],
          [
           19.9609392,
           50.0445756,
           -84,
           -10,
           "A4"
          ],
          [
           19.9614751,
           50.0439235,
           -85,
           -11,
           "A4"
          ],
          [
           19.9614804,
           50.0438055,
           -89,
           -10,
           "A4"
          ],
          [
           19.9613428,
           50.0437732,
           -89,
           -10,
           "A4"
          ],
          [
           19.9609091,
           50.0436412,
           -99,
           -13,
           "A4"
          ],
          [
           19.9605888,
           50.0435203,
           -90,
           -7,
           "A4"
          ],
          [
           19.9601662,
           50.0433589,
           -88,
           -8,
           "A4"
          ],
          [
           19.9598751,
           50.0432567,
           -89,
           -8,
           "A4"
          ],
          [
           19.9595133,
           50.0436194,
           -94,
           -9,
           "A4"
          ],
          [
           19.959915,
           50.0439087,
           -96,
           -12,
           "A4"
          ],
          [
           19.9603239,
           50.0440777,
           -88,
           -9,
           "A4"
          ],
          [
           19.9609223,
           50.0443209,
           -89,
           -9,
           "A4"
          ],
          [
           19.9612321,
           50.0444139,
           -82,
           -8,
           "A4"
          ],
          [
           19.9611991,
           50.044571,
           -78,
           -8,
           "A4"
          ],
          [
           19.9606298,
           50.0447841,
           -101,
           -13,
           "A4"
          ],
          [
           19.9595939,
           50.0447945,
           -108,
           -17,
           "A4"
          ],
          [
           19.958227,
           50.0449784,
           -106,
           -16,
           "A4"
          ],
          [
           19.9571518,
           50.0450607,
           -92,
           -16,
           "A4"
          ],
          [
           19.9569724,
           50.0452455,
           -90,
           -15,
           "A4"
          ],
          [
           19.9578677,
           50.044267,
           -100,
           -14,
           "A4"
          ],
          [
           19.9562091,
           50.0448242,
           -105,
           -17,
           "A4"
          ],
          [
           19.9559137,
           50.0450921,
           -84,
           -14,
           "A4"
          ],
          [
           19.9559169,
           50.0451001,
           -90,
           -17,
           "A4"
          ],
          [
           19.9557433,
           50.04528,
           -89,
           -15,
           "A4"
          ],
          [
           19.955392,
           50.045946,
           -89,
           -18,
           "A4"
          ],
          [
           19.9551673,
           50.0469147,
           -87,
           -16,
           "A4"
          ],
          [
           19.9553623,
           50.0473473,
           -101,
           -17,
           "A4"
          ],
          [
           19.956333,
           50.0473378,
           -92,
           -17,
           "A4"
          ],
          [
           19.957592,
           50.0473393,
           -96,
           -19,
           "A4"
          ],
          [
           19.9578008,
           50.0470486,
           -101,
           -20,
           "A4"
          ],
          [
           19.9577583,
           50.0465491,
           -100,
           -16,
           "A4"
          ],
          [
           19.9576821,
           50.0461799,
           -100,
           -16,
           "A4"
          ],
          [
           19.9572933,
           50.0459317,
           -109,
           -18,
           "A4"
          ],
          [
           19.9568124,
           50.0459123,
           -107,
           -20,
           "A4"
          ],
          [
           19.9566905,
           50.046435,
           -102,
           -18,
           "A4"
          ],
          [
           19.9566189,
           50.0466263,
           -107,
           -20,
           "A4"
          ],
          [
           19.9566439,
           50.0470735,
           -109,
           -20,
           "A4"
          ],
          [
           19.956633,
           50.0473061,
           -89,
           -14,
           "A4"
          ],
          [
           19.9571688,
           50.0473144,
           -87,
           -15,
           "A4"
          ],
          [
           19.9576396,
           50.0472931,
           -95,
           -17,
           "A4"
          ],
          [
           19.9578534,
           50.0471157,
           -96,
           -15,
           "A4"
          ],
          [
           19.9578005,
           50.0467281,
           -99,
           -15,
           "A4"
          ],
          [
           19.9577382,
           50.0463486,
           -100,
           -16,
           "A4"
          ],
          [
           19.9577801,
           50.0459292,
           -108,
           -17,
           "A4"
          ],
          [
           19.9578088,
           50.0455916,
           -105,
           -16,
           "A4"
          ],
          [
           19.957776,
           50.045435,
           -106,
           -20,
           "A4"
          ],
          [
           19.9577941,
           50.0451006,
           -92,
           -15,
           "A4"
          ],
          [
           19.9574917,
           50.0448292,
           -91,
           -16,
           "A4"
          ],
          [
           19.9577754,
           50.0445052,
           -98,
           -14,
           "A4"
          ],
          [
           19.957904,
           50.0442764,
           -98,
           -13,
           "A4"
          ],
          [
           19.9571302,
           50.0444969,
           -90,
           -14,
           "A4"
          ],
          [
           19.9559543,
           50.0450498,
           -103,
           -17,
           "A4"
          ],
          [
           19.9542266,
           50.0452101,
           -82,
           -13,
           "A4"
          ],
          [
           19.9525952,
           50.0451379,
           -99,
           -12,
           "A4"
          ],
          [
           19.9508881,
           50.0451097,
           -100,
           -11,
           "A4"
          ],
          [
           19.9481694,
           50.044394,
           -61,
           -11,
           "A4"
          ],
          [
           19.9462349,
           50.0434267,
           -85,
           -13,
           "A4"
          ],
          [
           19.944548,
           50.0425345,
           -72,
           -10,
           "A4"
          ],
          [
           19.9432492,
           50.0418475,
           -79,
           -13,
           "A4"
          ],
          [
           19.9429001,
           50.0421735,
           -88,
           -12,
           "A4"
          ],
          [
           19.942478,
           50.0425242,
           -84,
           -13,
           "A4"
          ],
          [
           19.9420322,
           50.042881,
           -85,
           -14,
           "A4"
          ],
          [
           19.9414344,
           50.0432599,
           -77,
           -8,
           "A4"
          ],
          [
           19.9414921,
           50.0439236,
           -76,
           -9,
           "A4"
          ],
          [
           19.9429862,
           50.0441504,
           -85,
           -15,
           "A4"
          ],
          [
           19.9440192,
           50.0440468,
           -76,
           -13,
           "A4"
          ],
          [
           19.9445168,
           50.0436041,
           -81,
           -13,
           "A4"
          ],
          [
           19.9448311,
           50.0433375,
           -86,
           -12,
           "A4"
          ],
          [
           19.944119,
           50.043165,
           -83,
           -13,
           "A4"
          ],
          [
           19.9433193,
           50.0430665,
           -83,
           -14,
           "A4"
          ],
          [
           19.9425382,
           50.0429553,
           -79,
           -10,
           "A4"
          ],
          [
           19.9415962,
           50.0431456,
           -78,
           -11,
           "A4"
          ],
          [
           19.941523,
           50.0439442,
           -83,
           -11,
           "A4"
          ],
          [
           19.9430528,
           50.0441666,
           -84,
           -15,
           "A4"
          ],
          [
           19.9455492,
           50.0447623,
           -71,
           -11,
           "A4"
          ],
          [
           19.9453606,
           50.044707,
           -72,
           -11,
           "A4"
          ],
          [
           19.9453673,
           50.0447066,
           -73,
           -12,
           "A4"
          ],
          [
           19.9453711,
           50.044702,
           -84,
           -19,
           "A4"
          ],
          [
           19.9458321,
           50.0445644,
           -78,
           -13,
           "A4"
          ],
          [
           19.9462527,
           50.0442888,
           -77,
           -15,
           "A4"
          ],
          [
           19.94795,
           50.0439563,
           -70,
           -10,
           "A4"
          ],
          [
           19.9492811,
           50.0438077,
           -83,
           -13,
           "A4"
          ],
          [
           19.9496567,
           50.0448271,
           -87,
           -12,
           "A4"
          ],
          [
           19.9496404,
           50.0448998,
           -92,
           -13,
           "A4"
          ],
          [
           19.9488735,
           50.0447133,
           -93,
           -17,
           "A4"
          ],
          [
           19.9473141,
           50.0453443,
           -90,
           -18,
           "A4"
          ],
          [
           19.9469416,
           50.0453934,
           -79,
           -11,
           "A4"
          ],
          [
           19.9458103,
           50.0448946,
           -80,
           -12,
           "A4"
          ],
          [
           19.9458117,
           50.0448785,
           -75,
           -12,
           "A4"
          ],
          [
           19.9455778,
           50.044735,
           -78,
           -15,
           "A4"
          ],
          [
           19.9445056,
           50.044439,
           -76,
           -13,
           "A4"
          ],
          [
           19.9441782,
           50.0439012,
           -77,
           -13,
           "A4"
          ],
          [
           19.9445516,
           50.0435834,
           -77,
           -12,
           "A4"
          ],
          [
           19.944872,
           50.0434433,
           -88,
           -15,
           "A4"
          ],
          [
           19.94535,
           50.043664,
           -88,
           -15,
           "A4"
          ],
          [
           19.945975,
           50.0440133,
           -82,
           -14,
           "A4"
          ],
          [
           19.9463876,
           50.0441923,
           -81,
           -15,
           "A4"
          ],
          [
           19.9467891,
           50.0440001,
           -84,
           -17,
           "A4"
          ],
          [
           19.9468273,
           50.0439727,
           -84,
           -16,
           "A4"
          ],
          [
           19.9486155,
           50.0446493,
           -84,
           -17,
           "A4"
          ],
          [
           19.9481076,
           50.0451678,
           -87,
           -19,
           "A4"
          ],
          [
           19.9481708,
           50.0459479,
           -87,
           -12,
           "A4"
          ],
          [
           19.9488924,
           50.0461599,
           -81,
           -10,
           "A4"
          ],
          [
           19.9490433,
           50.046168,
           -85,
           -15,
           "A4"
          ],
          [
           19.949473,
           50.046342,
           -87,
           -14,
           "A4"
          ],
          [
           19.9499699,
           50.0465704,
           -87,
           -16,
           "A4"
          ],
          [
           19.9504418,
           50.0467767,
           -86,
           -15,
           "A4"
          ],
          [
           19.9510331,
           50.0470189,
           -99,
           -18,
           "A4"
          ],
          [
           19.9519524,
           50.0472805,
           -99,
           -17,
           "A4"
          ],
          [
           19.9532717,
           50.0476201,
           -96,
           -15,
           "A4"
          ],
          [
           19.953957,
           50.0471907,
           -97,
           -14,
           "A4"
          ],
          [
           19.9540694,
           50.0468147,
           -94,
           -15,
           "A4"
          ],
          [
           19.9548899,
           50.0463109,
           -97,
           -16,
           "A4"
          ],
          [
           19.9552007,
           50.0460361,
           -102,
           -17,
           "A4"
          ],
          [
           19.9553938,
           50.0455022,
           -102,
           -20,
           "A4"
          ],
          [
           19.9553881,
           50.0455206,
           -88,
           -14,
           "A4"
          ],
          [
           19.9553983,
           50.0455189,
           -89,
           -15,
           "A4"
          ],
          [
           19.9554035,
           50.0455259,
           -89,
           -15,
           "A4"
          ],
          [
           19.9553921,
           50.0455226,
           -104,
           -20,
           "A4"
          ],
          [
           19.9553982,
           50.0455162,
           -89,
           -15,
           "A4"
          ],
          [
           19.9553921,
           50.045518,
           -89,
           -15,
           "A4"
          ],
          [
           19.9553886,
           50.0455155,
           -88,
           -15,
           "A4"
          ],
          [
           19.9553757,
           50.0455234,
           -88,
           -14,
           "A4"
          ],
          [
           19.9553758,
           50.0455249,
           -88,
           -14,
           "A4"
          ],
          [
           19.9553779,
           50.0455322,
           -89,
           -14,
           "A4"
          ],
          [
           19.9552241,
           50.0453692,
           -89,
           -16,
           "A4"
          ],
          [
           19.9541911,
           50.0451611,
           -96,
           -15,
           "A4"
          ],
          [
           19.9524927,
           50.0450178,
           -93,
           -16,
           "A4"
          ],
          [
           19.9530084,
           50.0457747,
           -101,
           -16,
           "A4"
          ],
          [
           19.9538225,
           50.0470848,
           -99,
           -14,
           "A4"
          ],
          [
           19.9531405,
           50.0469892,
           -100,
           -14,
           "A4"
          ],
          [
           19.9523408,
           50.0468415,
           -95,
           -12,
           "A4"
          ],
          [
           19.951052,
           50.0465479,
           -92,
           -11,
           "A4"
          ]
         ],
         "hovertemplate": "<b>%{hovertext}</b><br><br>latitude=%{customdata[1]}<br>longitude=%{customdata[0]}<br>rsrp=%{customdata[2]}<br>rsrq=%{customdata[3]}<extra></extra>",
         "hovertext": [
          "A4",
          "A4",
          "A4",
          "A4",
          "A4",
          "A4",
          "A4",
          "A4",
          "A4",
          "A4",
          "A4",
          "A4",
          "A4",
          "A4",
          "A4",
          "A4",
          "A4",
          "A4",
          "A4",
          "A4",
          "A4",
          "A4",
          "A4",
          "A4",
          "A4",
          "A4",
          "A4",
          "A4",
          "A4",
          "A4",
          "A4",
          "A4",
          "A4",
          "A4",
          "A4",
          "A4",
          "A4",
          "A4",
          "A4",
          "A4",
          "A4",
          "A4",
          "A4",
          "A4",
          "A4",
          "A4",
          "A4",
          "A4",
          "A4",
          "A4",
          "A4",
          "A4",
          "A4",
          "A4",
          "A4",
          "A4",
          "A4",
          "A4",
          "A4",
          "A4",
          "A4",
          "A4",
          "A4",
          "A4",
          "A4",
          "A4",
          "A4",
          "A4",
          "A4",
          "A4",
          "A4",
          "A4",
          "A4",
          "A4",
          "A4",
          "A4",
          "A4",
          "A4",
          "A4",
          "A4",
          "A4",
          "A4",
          "A4",
          "A4",
          "A4",
          "A4",
          "A4",
          "A4",
          "A4",
          "A4",
          "A4",
          "A4",
          "A4",
          "A4",
          "A4",
          "A4",
          "A4",
          "A4",
          "A4",
          "A4",
          "A4",
          "A4",
          "A4",
          "A4",
          "A4",
          "A4",
          "A4",
          "A4",
          "A4",
          "A4",
          "A4",
          "A4",
          "A4",
          "A4",
          "A4",
          "A4",
          "A4",
          "A4",
          "A4",
          "A4",
          "A4",
          "A4",
          "A4",
          "A4",
          "A4",
          "A4",
          "A4",
          "A4",
          "A4",
          "A4",
          "A4",
          "A4",
          "A4",
          "A4",
          "A4",
          "A4",
          "A4",
          "A4",
          "A4",
          "A4",
          "A4",
          "A4",
          "A4",
          "A4",
          "A4",
          "A4",
          "A4",
          "A4",
          "A4",
          "A4",
          "A4",
          "A4",
          "A4"
         ],
         "lat": [
          50.043881,
          50.0438764,
          50.044069,
          50.0438588,
          50.0438061,
          50.0436816,
          50.0435971,
          50.0421791,
          50.0418007,
          50.0423506,
          50.0424699,
          50.0426539,
          50.0423635,
          50.0433273,
          50.0442152,
          50.0449612,
          50.04487,
          50.0446543,
          50.0446952,
          50.0448849,
          50.0445756,
          50.0439235,
          50.0438055,
          50.0437732,
          50.0436412,
          50.0435203,
          50.0433589,
          50.0432567,
          50.0436194,
          50.0439087,
          50.0440777,
          50.0443209,
          50.0444139,
          50.044571,
          50.0447841,
          50.0447945,
          50.0449784,
          50.0450607,
          50.0452455,
          50.044267,
          50.0448242,
          50.0450921,
          50.0451001,
          50.04528,
          50.045946,
          50.0469147,
          50.0473473,
          50.0473378,
          50.0473393,
          50.0470486,
          50.0465491,
          50.0461799,
          50.0459317,
          50.0459123,
          50.046435,
          50.0466263,
          50.0470735,
          50.0473061,
          50.0473144,
          50.0472931,
          50.0471157,
          50.0467281,
          50.0463486,
          50.0459292,
          50.0455916,
          50.045435,
          50.0451006,
          50.0448292,
          50.0445052,
          50.0442764,
          50.0444969,
          50.0450498,
          50.0452101,
          50.0451379,
          50.0451097,
          50.044394,
          50.0434267,
          50.0425345,
          50.0418475,
          50.0421735,
          50.0425242,
          50.042881,
          50.0432599,
          50.0439236,
          50.0441504,
          50.0440468,
          50.0436041,
          50.0433375,
          50.043165,
          50.0430665,
          50.0429553,
          50.0431456,
          50.0439442,
          50.0441666,
          50.0447623,
          50.044707,
          50.0447066,
          50.044702,
          50.0445644,
          50.0442888,
          50.0439563,
          50.0438077,
          50.0448271,
          50.0448998,
          50.0447133,
          50.0453443,
          50.0453934,
          50.0448946,
          50.0448785,
          50.044735,
          50.044439,
          50.0439012,
          50.0435834,
          50.0434433,
          50.043664,
          50.0440133,
          50.0441923,
          50.0440001,
          50.0439727,
          50.0446493,
          50.0451678,
          50.0459479,
          50.0461599,
          50.046168,
          50.046342,
          50.0465704,
          50.0467767,
          50.0470189,
          50.0472805,
          50.0476201,
          50.0471907,
          50.0468147,
          50.0463109,
          50.0460361,
          50.0455022,
          50.0455206,
          50.0455189,
          50.0455259,
          50.0455226,
          50.0455162,
          50.045518,
          50.0455155,
          50.0455234,
          50.0455249,
          50.0455322,
          50.0453692,
          50.0451611,
          50.0450178,
          50.0457747,
          50.0470848,
          50.0469892,
          50.0468415,
          50.0465479
         ],
         "legendgroup": "A4",
         "lon": [
          19.9554362,
          19.9555291,
          19.9565761,
          19.9576786,
          19.9580451,
          19.9588542,
          19.9593014,
          19.9609912,
          19.9628379,
          19.9646071,
          19.9643192,
          19.9639957,
          19.9611108,
          19.9599164,
          19.9582089,
          19.9574153,
          19.9586771,
          19.9598041,
          19.9614937,
          19.9621964,
          19.9609392,
          19.9614751,
          19.9614804,
          19.9613428,
          19.9609091,
          19.9605888,
          19.9601662,
          19.9598751,
          19.9595133,
          19.959915,
          19.9603239,
          19.9609223,
          19.9612321,
          19.9611991,
          19.9606298,
          19.9595939,
          19.958227,
          19.9571518,
          19.9569724,
          19.9578677,
          19.9562091,
          19.9559137,
          19.9559169,
          19.9557433,
          19.955392,
          19.9551673,
          19.9553623,
          19.956333,
          19.957592,
          19.9578008,
          19.9577583,
          19.9576821,
          19.9572933,
          19.9568124,
          19.9566905,
          19.9566189,
          19.9566439,
          19.956633,
          19.9571688,
          19.9576396,
          19.9578534,
          19.9578005,
          19.9577382,
          19.9577801,
          19.9578088,
          19.957776,
          19.9577941,
          19.9574917,
          19.9577754,
          19.957904,
          19.9571302,
          19.9559543,
          19.9542266,
          19.9525952,
          19.9508881,
          19.9481694,
          19.9462349,
          19.944548,
          19.9432492,
          19.9429001,
          19.942478,
          19.9420322,
          19.9414344,
          19.9414921,
          19.9429862,
          19.9440192,
          19.9445168,
          19.9448311,
          19.944119,
          19.9433193,
          19.9425382,
          19.9415962,
          19.941523,
          19.9430528,
          19.9455492,
          19.9453606,
          19.9453673,
          19.9453711,
          19.9458321,
          19.9462527,
          19.94795,
          19.9492811,
          19.9496567,
          19.9496404,
          19.9488735,
          19.9473141,
          19.9469416,
          19.9458103,
          19.9458117,
          19.9455778,
          19.9445056,
          19.9441782,
          19.9445516,
          19.944872,
          19.94535,
          19.945975,
          19.9463876,
          19.9467891,
          19.9468273,
          19.9486155,
          19.9481076,
          19.9481708,
          19.9488924,
          19.9490433,
          19.949473,
          19.9499699,
          19.9504418,
          19.9510331,
          19.9519524,
          19.9532717,
          19.953957,
          19.9540694,
          19.9548899,
          19.9552007,
          19.9553938,
          19.9553881,
          19.9553983,
          19.9554035,
          19.9553921,
          19.9553982,
          19.9553921,
          19.9553886,
          19.9553757,
          19.9553758,
          19.9553779,
          19.9552241,
          19.9541911,
          19.9524927,
          19.9530084,
          19.9538225,
          19.9531405,
          19.9523408,
          19.951052
         ],
         "marker": {
          "color": "red"
         },
         "mode": "markers",
         "name": "A4",
         "showlegend": true,
         "subplot": "mapbox",
         "type": "scattermapbox"
        },
        {
         "customdata": [
          [
           19.9578008,
           50.0470486,
           -101,
           -20,
           "A5"
          ],
          [
           19.9566189,
           50.0466263,
           -107,
           -20,
           "A5"
          ],
          [
           19.9566439,
           50.0470735,
           -109,
           -20,
           "A5"
          ],
          [
           19.957776,
           50.045435,
           -106,
           -20,
           "A5"
          ],
          [
           19.9553938,
           50.0455022,
           -102,
           -20,
           "A5"
          ],
          [
           19.9553921,
           50.0455226,
           -104,
           -20,
           "A5"
          ]
         ],
         "hovertemplate": "<b>%{hovertext}</b><br><br>latitude=%{customdata[1]}<br>longitude=%{customdata[0]}<br>rsrp=%{customdata[2]}<br>rsrq=%{customdata[3]}<extra></extra>",
         "hovertext": [
          "A5",
          "A5",
          "A5",
          "A5",
          "A5",
          "A5"
         ],
         "lat": [
          50.0470486,
          50.0466263,
          50.0470735,
          50.045435,
          50.0455022,
          50.0455226
         ],
         "legendgroup": "A5",
         "lon": [
          19.9578008,
          19.9566189,
          19.9566439,
          19.957776,
          19.9553938,
          19.9553921
         ],
         "marker": {
          "color": "magenta"
         },
         "mode": "markers",
         "name": "A5",
         "showlegend": true,
         "subplot": "mapbox",
         "type": "scattermapbox"
        }
       ],
       "layout": {
        "geo": {
         "fitbounds": "locations"
        },
        "height": 600,
        "legend": {
         "title": {
          "text": "event"
         },
         "tracegroupgap": 0
        },
        "mapbox": {
         "center": {
          "lat": 50.04499651573427,
          "lon": 19.95334823776224
         },
         "domain": {
          "x": [
           0,
           1
          ],
          "y": [
           0,
           1
          ]
         },
         "style": "open-street-map",
         "zoom": 8
        },
        "margin": {
         "b": 0,
         "l": 0,
         "r": 30,
         "t": 30
        },
        "template": {
         "data": {
          "bar": [
           {
            "error_x": {
             "color": "#2a3f5f"
            },
            "error_y": {
             "color": "#2a3f5f"
            },
            "marker": {
             "line": {
              "color": "#E5ECF6",
              "width": 0.5
             },
             "pattern": {
              "fillmode": "overlay",
              "size": 10,
              "solidity": 0.2
             }
            },
            "type": "bar"
           }
          ],
          "barpolar": [
           {
            "marker": {
             "line": {
              "color": "#E5ECF6",
              "width": 0.5
             },
             "pattern": {
              "fillmode": "overlay",
              "size": 10,
              "solidity": 0.2
             }
            },
            "type": "barpolar"
           }
          ],
          "carpet": [
           {
            "aaxis": {
             "endlinecolor": "#2a3f5f",
             "gridcolor": "white",
             "linecolor": "white",
             "minorgridcolor": "white",
             "startlinecolor": "#2a3f5f"
            },
            "baxis": {
             "endlinecolor": "#2a3f5f",
             "gridcolor": "white",
             "linecolor": "white",
             "minorgridcolor": "white",
             "startlinecolor": "#2a3f5f"
            },
            "type": "carpet"
           }
          ],
          "choropleth": [
           {
            "colorbar": {
             "outlinewidth": 0,
             "ticks": ""
            },
            "type": "choropleth"
           }
          ],
          "contour": [
           {
            "colorbar": {
             "outlinewidth": 0,
             "ticks": ""
            },
            "colorscale": [
             [
              0,
              "#0d0887"
             ],
             [
              0.1111111111111111,
              "#46039f"
             ],
             [
              0.2222222222222222,
              "#7201a8"
             ],
             [
              0.3333333333333333,
              "#9c179e"
             ],
             [
              0.4444444444444444,
              "#bd3786"
             ],
             [
              0.5555555555555556,
              "#d8576b"
             ],
             [
              0.6666666666666666,
              "#ed7953"
             ],
             [
              0.7777777777777778,
              "#fb9f3a"
             ],
             [
              0.8888888888888888,
              "#fdca26"
             ],
             [
              1,
              "#f0f921"
             ]
            ],
            "type": "contour"
           }
          ],
          "contourcarpet": [
           {
            "colorbar": {
             "outlinewidth": 0,
             "ticks": ""
            },
            "type": "contourcarpet"
           }
          ],
          "heatmap": [
           {
            "colorbar": {
             "outlinewidth": 0,
             "ticks": ""
            },
            "colorscale": [
             [
              0,
              "#0d0887"
             ],
             [
              0.1111111111111111,
              "#46039f"
             ],
             [
              0.2222222222222222,
              "#7201a8"
             ],
             [
              0.3333333333333333,
              "#9c179e"
             ],
             [
              0.4444444444444444,
              "#bd3786"
             ],
             [
              0.5555555555555556,
              "#d8576b"
             ],
             [
              0.6666666666666666,
              "#ed7953"
             ],
             [
              0.7777777777777778,
              "#fb9f3a"
             ],
             [
              0.8888888888888888,
              "#fdca26"
             ],
             [
              1,
              "#f0f921"
             ]
            ],
            "type": "heatmap"
           }
          ],
          "heatmapgl": [
           {
            "colorbar": {
             "outlinewidth": 0,
             "ticks": ""
            },
            "colorscale": [
             [
              0,
              "#0d0887"
             ],
             [
              0.1111111111111111,
              "#46039f"
             ],
             [
              0.2222222222222222,
              "#7201a8"
             ],
             [
              0.3333333333333333,
              "#9c179e"
             ],
             [
              0.4444444444444444,
              "#bd3786"
             ],
             [
              0.5555555555555556,
              "#d8576b"
             ],
             [
              0.6666666666666666,
              "#ed7953"
             ],
             [
              0.7777777777777778,
              "#fb9f3a"
             ],
             [
              0.8888888888888888,
              "#fdca26"
             ],
             [
              1,
              "#f0f921"
             ]
            ],
            "type": "heatmapgl"
           }
          ],
          "histogram": [
           {
            "marker": {
             "pattern": {
              "fillmode": "overlay",
              "size": 10,
              "solidity": 0.2
             }
            },
            "type": "histogram"
           }
          ],
          "histogram2d": [
           {
            "colorbar": {
             "outlinewidth": 0,
             "ticks": ""
            },
            "colorscale": [
             [
              0,
              "#0d0887"
             ],
             [
              0.1111111111111111,
              "#46039f"
             ],
             [
              0.2222222222222222,
              "#7201a8"
             ],
             [
              0.3333333333333333,
              "#9c179e"
             ],
             [
              0.4444444444444444,
              "#bd3786"
             ],
             [
              0.5555555555555556,
              "#d8576b"
             ],
             [
              0.6666666666666666,
              "#ed7953"
             ],
             [
              0.7777777777777778,
              "#fb9f3a"
             ],
             [
              0.8888888888888888,
              "#fdca26"
             ],
             [
              1,
              "#f0f921"
             ]
            ],
            "type": "histogram2d"
           }
          ],
          "histogram2dcontour": [
           {
            "colorbar": {
             "outlinewidth": 0,
             "ticks": ""
            },
            "colorscale": [
             [
              0,
              "#0d0887"
             ],
             [
              0.1111111111111111,
              "#46039f"
             ],
             [
              0.2222222222222222,
              "#7201a8"
             ],
             [
              0.3333333333333333,
              "#9c179e"
             ],
             [
              0.4444444444444444,
              "#bd3786"
             ],
             [
              0.5555555555555556,
              "#d8576b"
             ],
             [
              0.6666666666666666,
              "#ed7953"
             ],
             [
              0.7777777777777778,
              "#fb9f3a"
             ],
             [
              0.8888888888888888,
              "#fdca26"
             ],
             [
              1,
              "#f0f921"
             ]
            ],
            "type": "histogram2dcontour"
           }
          ],
          "mesh3d": [
           {
            "colorbar": {
             "outlinewidth": 0,
             "ticks": ""
            },
            "type": "mesh3d"
           }
          ],
          "parcoords": [
           {
            "line": {
             "colorbar": {
              "outlinewidth": 0,
              "ticks": ""
             }
            },
            "type": "parcoords"
           }
          ],
          "pie": [
           {
            "automargin": true,
            "type": "pie"
           }
          ],
          "scatter": [
           {
            "fillpattern": {
             "fillmode": "overlay",
             "size": 10,
             "solidity": 0.2
            },
            "type": "scatter"
           }
          ],
          "scatter3d": [
           {
            "line": {
             "colorbar": {
              "outlinewidth": 0,
              "ticks": ""
             }
            },
            "marker": {
             "colorbar": {
              "outlinewidth": 0,
              "ticks": ""
             }
            },
            "type": "scatter3d"
           }
          ],
          "scattercarpet": [
           {
            "marker": {
             "colorbar": {
              "outlinewidth": 0,
              "ticks": ""
             }
            },
            "type": "scattercarpet"
           }
          ],
          "scattergeo": [
           {
            "marker": {
             "colorbar": {
              "outlinewidth": 0,
              "ticks": ""
             }
            },
            "type": "scattergeo"
           }
          ],
          "scattergl": [
           {
            "marker": {
             "colorbar": {
              "outlinewidth": 0,
              "ticks": ""
             }
            },
            "type": "scattergl"
           }
          ],
          "scattermapbox": [
           {
            "marker": {
             "colorbar": {
              "outlinewidth": 0,
              "ticks": ""
             }
            },
            "type": "scattermapbox"
           }
          ],
          "scatterpolar": [
           {
            "marker": {
             "colorbar": {
              "outlinewidth": 0,
              "ticks": ""
             }
            },
            "type": "scatterpolar"
           }
          ],
          "scatterpolargl": [
           {
            "marker": {
             "colorbar": {
              "outlinewidth": 0,
              "ticks": ""
             }
            },
            "type": "scatterpolargl"
           }
          ],
          "scatterternary": [
           {
            "marker": {
             "colorbar": {
              "outlinewidth": 0,
              "ticks": ""
             }
            },
            "type": "scatterternary"
           }
          ],
          "surface": [
           {
            "colorbar": {
             "outlinewidth": 0,
             "ticks": ""
            },
            "colorscale": [
             [
              0,
              "#0d0887"
             ],
             [
              0.1111111111111111,
              "#46039f"
             ],
             [
              0.2222222222222222,
              "#7201a8"
             ],
             [
              0.3333333333333333,
              "#9c179e"
             ],
             [
              0.4444444444444444,
              "#bd3786"
             ],
             [
              0.5555555555555556,
              "#d8576b"
             ],
             [
              0.6666666666666666,
              "#ed7953"
             ],
             [
              0.7777777777777778,
              "#fb9f3a"
             ],
             [
              0.8888888888888888,
              "#fdca26"
             ],
             [
              1,
              "#f0f921"
             ]
            ],
            "type": "surface"
           }
          ],
          "table": [
           {
            "cells": {
             "fill": {
              "color": "#EBF0F8"
             },
             "line": {
              "color": "white"
             }
            },
            "header": {
             "fill": {
              "color": "#C8D4E3"
             },
             "line": {
              "color": "white"
             }
            },
            "type": "table"
           }
          ]
         },
         "layout": {
          "annotationdefaults": {
           "arrowcolor": "#2a3f5f",
           "arrowhead": 0,
           "arrowwidth": 1
          },
          "autotypenumbers": "strict",
          "coloraxis": {
           "colorbar": {
            "outlinewidth": 0,
            "ticks": ""
           }
          },
          "colorscale": {
           "diverging": [
            [
             0,
             "#8e0152"
            ],
            [
             0.1,
             "#c51b7d"
            ],
            [
             0.2,
             "#de77ae"
            ],
            [
             0.3,
             "#f1b6da"
            ],
            [
             0.4,
             "#fde0ef"
            ],
            [
             0.5,
             "#f7f7f7"
            ],
            [
             0.6,
             "#e6f5d0"
            ],
            [
             0.7,
             "#b8e186"
            ],
            [
             0.8,
             "#7fbc41"
            ],
            [
             0.9,
             "#4d9221"
            ],
            [
             1,
             "#276419"
            ]
           ],
           "sequential": [
            [
             0,
             "#0d0887"
            ],
            [
             0.1111111111111111,
             "#46039f"
            ],
            [
             0.2222222222222222,
             "#7201a8"
            ],
            [
             0.3333333333333333,
             "#9c179e"
            ],
            [
             0.4444444444444444,
             "#bd3786"
            ],
            [
             0.5555555555555556,
             "#d8576b"
            ],
            [
             0.6666666666666666,
             "#ed7953"
            ],
            [
             0.7777777777777778,
             "#fb9f3a"
            ],
            [
             0.8888888888888888,
             "#fdca26"
            ],
            [
             1,
             "#f0f921"
            ]
           ],
           "sequentialminus": [
            [
             0,
             "#0d0887"
            ],
            [
             0.1111111111111111,
             "#46039f"
            ],
            [
             0.2222222222222222,
             "#7201a8"
            ],
            [
             0.3333333333333333,
             "#9c179e"
            ],
            [
             0.4444444444444444,
             "#bd3786"
            ],
            [
             0.5555555555555556,
             "#d8576b"
            ],
            [
             0.6666666666666666,
             "#ed7953"
            ],
            [
             0.7777777777777778,
             "#fb9f3a"
            ],
            [
             0.8888888888888888,
             "#fdca26"
            ],
            [
             1,
             "#f0f921"
            ]
           ]
          },
          "colorway": [
           "#636efa",
           "#EF553B",
           "#00cc96",
           "#ab63fa",
           "#FFA15A",
           "#19d3f3",
           "#FF6692",
           "#B6E880",
           "#FF97FF",
           "#FECB52"
          ],
          "font": {
           "color": "#2a3f5f"
          },
          "geo": {
           "bgcolor": "white",
           "lakecolor": "white",
           "landcolor": "#E5ECF6",
           "showlakes": true,
           "showland": true,
           "subunitcolor": "white"
          },
          "hoverlabel": {
           "align": "left"
          },
          "hovermode": "closest",
          "mapbox": {
           "style": "light"
          },
          "paper_bgcolor": "white",
          "plot_bgcolor": "#E5ECF6",
          "polar": {
           "angularaxis": {
            "gridcolor": "white",
            "linecolor": "white",
            "ticks": ""
           },
           "bgcolor": "#E5ECF6",
           "radialaxis": {
            "gridcolor": "white",
            "linecolor": "white",
            "ticks": ""
           }
          },
          "scene": {
           "xaxis": {
            "backgroundcolor": "#E5ECF6",
            "gridcolor": "white",
            "gridwidth": 2,
            "linecolor": "white",
            "showbackground": true,
            "ticks": "",
            "zerolinecolor": "white"
           },
           "yaxis": {
            "backgroundcolor": "#E5ECF6",
            "gridcolor": "white",
            "gridwidth": 2,
            "linecolor": "white",
            "showbackground": true,
            "ticks": "",
            "zerolinecolor": "white"
           },
           "zaxis": {
            "backgroundcolor": "#E5ECF6",
            "gridcolor": "white",
            "gridwidth": 2,
            "linecolor": "white",
            "showbackground": true,
            "ticks": "",
            "zerolinecolor": "white"
           }
          },
          "shapedefaults": {
           "line": {
            "color": "#2a3f5f"
           }
          },
          "ternary": {
           "aaxis": {
            "gridcolor": "white",
            "linecolor": "white",
            "ticks": ""
           },
           "baxis": {
            "gridcolor": "white",
            "linecolor": "white",
            "ticks": ""
           },
           "bgcolor": "#E5ECF6",
           "caxis": {
            "gridcolor": "white",
            "linecolor": "white",
            "ticks": ""
           }
          },
          "title": {
           "x": 0.05
          },
          "xaxis": {
           "automargin": true,
           "gridcolor": "white",
           "linecolor": "white",
           "ticks": "",
           "title": {
            "standoff": 15
           },
           "zerolinecolor": "white",
           "zerolinewidth": 2
          },
          "yaxis": {
           "automargin": true,
           "gridcolor": "white",
           "linecolor": "white",
           "ticks": "",
           "title": {
            "standoff": 15
           },
           "zerolinecolor": "white",
           "zerolinewidth": 2
          }
         }
        },
        "title": {
         "text": "A1-A5 Events"
        },
        "width": 1200
       }
      }
     },
     "metadata": {},
     "output_type": "display_data"
    }
   ],
   "source": [
    "draw_events(events_df)"
   ]
  },
  {
   "cell_type": "markdown",
   "metadata": {},
   "source": [
    "### Kategoryzacja danych\n",
    "\n",
    "- Grupowanie zarejestrowanych pomiarów przy pomocy współrzędnych geograficznych nie jest ‘wygodne’ - powoduje to utrudnienia implementacyjne podczas aplikowania modeli do analizy danych\n",
    "- Zaimplementuj funkcjonalność, która wygeneruje siatkę kwadratów o zadanej wielkości, w warunkach brzegowych wybranej mapy.\n",
    "- Każdy kwadrat ma być ograniczony współrzędnymi {x1, y1}, {x2, y2}\n",
    "- Każdy kwadrat ma mieć kolejny unikatowy identyfikator\n",
    "- Identyfikator ten ma być kategorią (label) danego punktu pomiarowego leżącego w granicach wygenerowanego kwadratu\n",
    "- Podczas implementacji uwzględnij zarówno kategoryzację danych surowych, jak i mimiki eventów."
   ]
  },
  {
   "cell_type": "code",
   "execution_count": 9,
   "metadata": {},
   "outputs": [],
   "source": [
    "# GRID SETTINGS\n",
    "\n",
    "# space between edges of a grid and the most distant points from the center of the grid, measured in longitude/latitude degrees\n",
    "PADDING: float = 0.002\n",
    "# number of chunks per axis so total number of chunks is CHUNKS_COUNT^2\n",
    "CHUNKS_COUNT: int = 10"
   ]
  },
  {
   "cell_type": "code",
   "execution_count": 10,
   "metadata": {},
   "outputs": [
    {
     "data": {
      "application/vnd.plotly.v1+json": {
       "config": {
        "plotlyServerURL": "https://plot.ly"
       },
       "data": [
        {
         "customdata": [
          [
           19.9559137,
           50.0450921,
           -84,
           -14,
           "A1",
           [
            6,
            5
           ],
           65
          ],
          [
           19.9551673,
           50.0469147,
           -87,
           -16,
           "A1",
           [
            5,
            7
           ],
           57
          ],
          [
           19.9553623,
           50.0473473,
           -101,
           -17,
           "A1",
           [
            5,
            7
           ],
           57
          ],
          [
           19.956333,
           50.0473378,
           -92,
           -17,
           "A1",
           [
            6,
            7
           ],
           67
          ],
          [
           19.949473,
           50.046342,
           -87,
           -14,
           "A1",
           [
            3,
            6
           ],
           36
          ],
          [
           19.9519524,
           50.0472805,
           -99,
           -17,
           "A1",
           [
            4,
            7
           ],
           47
          ]
         ],
         "hovertemplate": "<b>%{hovertext}</b><br><br>latitude=%{customdata[1]}<br>longitude=%{customdata[0]}<br>rsrp=%{customdata[2]}<br>rsrq=%{customdata[3]}<br>chunk=%{customdata[5]}<br>label=%{customdata[6]}<extra></extra>",
         "hovertext": [
          "A1",
          "A1",
          "A1",
          "A1",
          "A1",
          "A1"
         ],
         "lat": [
          50.0450921,
          50.0469147,
          50.0473473,
          50.0473378,
          50.046342,
          50.0472805
         ],
         "legendgroup": "A1",
         "lon": [
          19.9559137,
          19.9551673,
          19.9553623,
          19.956333,
          19.949473,
          19.9519524
         ],
         "marker": {
          "color": "black"
         },
         "mode": "markers",
         "name": "A1",
         "showlegend": true,
         "subplot": "mapbox",
         "type": "scattermapbox"
        },
        {
         "customdata": [
          [
           19.9578008,
           50.0470486,
           -101,
           -20,
           "A2",
           [
            6,
            7
           ],
           67
          ],
          [
           19.9568124,
           50.0459123,
           -107,
           -20,
           "A2",
           [
            6,
            6
           ],
           66
          ],
          [
           19.9566189,
           50.0466263,
           -107,
           -20,
           "A2",
           [
            6,
            6
           ],
           66
          ],
          [
           19.957776,
           50.045435,
           -106,
           -20,
           "A2",
           [
            6,
            5
           ],
           65
          ],
          [
           19.9553938,
           50.0455022,
           -102,
           -20,
           "A2",
           [
            5,
            5
           ],
           55
          ],
          [
           19.9553921,
           50.0455226,
           -104,
           -20,
           "A2",
           [
            5,
            5
           ],
           55
          ]
         ],
         "hovertemplate": "<b>%{hovertext}</b><br><br>latitude=%{customdata[1]}<br>longitude=%{customdata[0]}<br>rsrp=%{customdata[2]}<br>rsrq=%{customdata[3]}<br>chunk=%{customdata[5]}<br>label=%{customdata[6]}<extra></extra>",
         "hovertext": [
          "A2",
          "A2",
          "A2",
          "A2",
          "A2",
          "A2"
         ],
         "lat": [
          50.0470486,
          50.0459123,
          50.0466263,
          50.045435,
          50.0455022,
          50.0455226
         ],
         "legendgroup": "A2",
         "lon": [
          19.9578008,
          19.9568124,
          19.9566189,
          19.957776,
          19.9553938,
          19.9553921
         ],
         "marker": {
          "color": "blue"
         },
         "mode": "markers",
         "name": "A2",
         "showlegend": true,
         "subplot": "mapbox",
         "type": "scattermapbox"
        },
        {
         "customdata": [
          [
           19.9555291,
           50.0438764,
           -95,
           -15,
           "A3",
           [
            5,
            4
           ],
           54
          ],
          [
           19.9593014,
           50.0435971,
           -81,
           -7,
           "A3",
           [
            7,
            3
           ],
           73
          ],
          [
           19.9628379,
           50.0418007,
           -70,
           -12,
           "A3",
           [
            8,
            2
           ],
           82
          ],
          [
           19.9646071,
           50.0423506,
           -73,
           -12,
           "A3",
           [
            9,
            2
           ],
           92
          ],
          [
           19.9639957,
           50.0426539,
           -72,
           -9,
           "A3",
           [
            9,
            2
           ],
           92
          ],
          [
           19.9599164,
           50.0433273,
           -88,
           -13,
           "A3",
           [
            7,
            3
           ],
           73
          ],
          [
           19.9582089,
           50.0442152,
           -101,
           -15,
           "A3",
           [
            6,
            4
           ],
           64
          ],
          [
           19.9574153,
           50.0449612,
           -103,
           -18,
           "A3",
           [
            6,
            5
           ],
           65
          ],
          [
           19.9586771,
           50.04487,
           -97,
           -15,
           "A3",
           [
            7,
            5
           ],
           75
          ],
          [
           19.9598041,
           50.0446543,
           -95,
           -13,
           "A3",
           [
            7,
            4
           ],
           74
          ],
          [
           19.9609392,
           50.0445756,
           -84,
           -10,
           "A3",
           [
            7,
            4
           ],
           74
          ],
          [
           19.9614751,
           50.0439235,
           -85,
           -11,
           "A3",
           [
            8,
            4
           ],
           84
          ],
          [
           19.9614804,
           50.0438055,
           -89,
           -10,
           "A3",
           [
            8,
            4
           ],
           84
          ],
          [
           19.9613428,
           50.0437732,
           -89,
           -10,
           "A3",
           [
            8,
            4
           ],
           84
          ],
          [
           19.9609091,
           50.0436412,
           -99,
           -13,
           "A3",
           [
            7,
            3
           ],
           73
          ],
          [
           19.9605888,
           50.0435203,
           -90,
           -7,
           "A3",
           [
            7,
            3
           ],
           73
          ],
          [
           19.9601662,
           50.0433589,
           -88,
           -8,
           "A3",
           [
            7,
            3
           ],
           73
          ],
          [
           19.9598751,
           50.0432567,
           -89,
           -8,
           "A3",
           [
            7,
            3
           ],
           73
          ],
          [
           19.9595133,
           50.0436194,
           -94,
           -9,
           "A3",
           [
            7,
            3
           ],
           73
          ],
          [
           19.9612321,
           50.0444139,
           -82,
           -8,
           "A3",
           [
            8,
            4
           ],
           84
          ],
          [
           19.9606298,
           50.0447841,
           -101,
           -13,
           "A3",
           [
            7,
            5
           ],
           75
          ],
          [
           19.9595939,
           50.0447945,
           -108,
           -17,
           "A3",
           [
            7,
            5
           ],
           75
          ],
          [
           19.9569724,
           50.0452455,
           -90,
           -15,
           "A3",
           [
            6,
            5
           ],
           65
          ],
          [
           19.9578677,
           50.044267,
           -100,
           -14,
           "A3",
           [
            6,
            4
           ],
           64
          ],
          [
           19.9562091,
           50.0448242,
           -105,
           -17,
           "A3",
           [
            6,
            5
           ],
           65
          ],
          [
           19.9559169,
           50.0451001,
           -90,
           -17,
           "A3",
           [
            6,
            5
           ],
           65
          ],
          [
           19.955392,
           50.045946,
           -89,
           -18,
           "A3",
           [
            5,
            6
           ],
           56
          ],
          [
           19.9551673,
           50.0469147,
           -87,
           -16,
           "A3",
           [
            5,
            7
           ],
           57
          ],
          [
           19.9553623,
           50.0473473,
           -101,
           -17,
           "A3",
           [
            5,
            7
           ],
           57
          ],
          [
           19.957592,
           50.0473393,
           -96,
           -19,
           "A3",
           [
            6,
            7
           ],
           67
          ],
          [
           19.9578008,
           50.0470486,
           -101,
           -20,
           "A3",
           [
            6,
            7
           ],
           67
          ],
          [
           19.9577583,
           50.0465491,
           -100,
           -16,
           "A3",
           [
            6,
            6
           ],
           66
          ],
          [
           19.9576821,
           50.0461799,
           -100,
           -16,
           "A3",
           [
            6,
            6
           ],
           66
          ],
          [
           19.9572933,
           50.0459317,
           -109,
           -18,
           "A3",
           [
            6,
            6
           ],
           66
          ],
          [
           19.9568124,
           50.0459123,
           -107,
           -20,
           "A3",
           [
            6,
            6
           ],
           66
          ],
          [
           19.9566905,
           50.046435,
           -102,
           -18,
           "A3",
           [
            6,
            6
           ],
           66
          ],
          [
           19.9566189,
           50.0466263,
           -107,
           -20,
           "A3",
           [
            6,
            6
           ],
           66
          ],
          [
           19.9566439,
           50.0470735,
           -109,
           -20,
           "A3",
           [
            6,
            7
           ],
           67
          ],
          [
           19.9576396,
           50.0472931,
           -95,
           -17,
           "A3",
           [
            6,
            7
           ],
           67
          ],
          [
           19.9578534,
           50.0471157,
           -96,
           -15,
           "A3",
           [
            6,
            7
           ],
           67
          ],
          [
           19.9578005,
           50.0467281,
           -99,
           -15,
           "A3",
           [
            6,
            7
           ],
           67
          ],
          [
           19.9577382,
           50.0463486,
           -100,
           -16,
           "A3",
           [
            6,
            6
           ],
           66
          ],
          [
           19.9577801,
           50.0459292,
           -108,
           -17,
           "A3",
           [
            6,
            6
           ],
           66
          ],
          [
           19.9578088,
           50.0455916,
           -105,
           -16,
           "A3",
           [
            6,
            5
           ],
           65
          ],
          [
           19.957776,
           50.045435,
           -106,
           -20,
           "A3",
           [
            6,
            5
           ],
           65
          ],
          [
           19.9577941,
           50.0451006,
           -92,
           -15,
           "A3",
           [
            6,
            5
           ],
           65
          ],
          [
           19.9574917,
           50.0448292,
           -91,
           -16,
           "A3",
           [
            6,
            5
           ],
           65
          ],
          [
           19.9577754,
           50.0445052,
           -98,
           -14,
           "A3",
           [
            6,
            4
           ],
           64
          ],
          [
           19.9571302,
           50.0444969,
           -90,
           -14,
           "A3",
           [
            6,
            4
           ],
           64
          ],
          [
           19.9559543,
           50.0450498,
           -103,
           -17,
           "A3",
           [
            6,
            5
           ],
           65
          ],
          [
           19.9542266,
           50.0452101,
           -82,
           -13,
           "A3",
           [
            5,
            5
           ],
           55
          ],
          [
           19.9525952,
           50.0451379,
           -99,
           -12,
           "A3",
           [
            4,
            5
           ],
           45
          ],
          [
           19.9508881,
           50.0451097,
           -100,
           -11,
           "A3",
           [
            4,
            5
           ],
           45
          ],
          [
           19.9462349,
           50.0434267,
           -85,
           -13,
           "A3",
           [
            2,
            3
           ],
           23
          ],
          [
           19.9432492,
           50.0418475,
           -79,
           -13,
           "A3",
           [
            1,
            2
           ],
           12
          ],
          [
           19.9429001,
           50.0421735,
           -88,
           -12,
           "A3",
           [
            1,
            2
           ],
           12
          ],
          [
           19.942478,
           50.0425242,
           -84,
           -13,
           "A3",
           [
            1,
            2
           ],
           12
          ],
          [
           19.9420322,
           50.042881,
           -85,
           -14,
           "A3",
           [
            0,
            3
           ],
           3
          ],
          [
           19.9414921,
           50.0439236,
           -76,
           -9,
           "A3",
           [
            0,
            4
           ],
           4
          ],
          [
           19.9429862,
           50.0441504,
           -85,
           -15,
           "A3",
           [
            1,
            4
           ],
           14
          ],
          [
           19.9445168,
           50.0436041,
           -81,
           -13,
           "A3",
           [
            1,
            3
           ],
           13
          ],
          [
           19.9448311,
           50.0433375,
           -86,
           -12,
           "A3",
           [
            1,
            3
           ],
           13
          ],
          [
           19.944119,
           50.043165,
           -83,
           -13,
           "A3",
           [
            1,
            3
           ],
           13
          ],
          [
           19.9433193,
           50.0430665,
           -83,
           -14,
           "A3",
           [
            1,
            3
           ],
           13
          ],
          [
           19.941523,
           50.0439442,
           -83,
           -11,
           "A3",
           [
            0,
            4
           ],
           4
          ],
          [
           19.9430528,
           50.0441666,
           -84,
           -15,
           "A3",
           [
            1,
            4
           ],
           14
          ],
          [
           19.9453606,
           50.044707,
           -72,
           -11,
           "A3",
           [
            2,
            4
           ],
           24
          ],
          [
           19.9453673,
           50.0447066,
           -73,
           -12,
           "A3",
           [
            2,
            4
           ],
           24
          ],
          [
           19.9453711,
           50.044702,
           -84,
           -19,
           "A3",
           [
            2,
            4
           ],
           24
          ],
          [
           19.9458321,
           50.0445644,
           -78,
           -13,
           "A3",
           [
            2,
            4
           ],
           24
          ],
          [
           19.9462527,
           50.0442888,
           -77,
           -15,
           "A3",
           [
            2,
            4
           ],
           24
          ],
          [
           19.9492811,
           50.0438077,
           -83,
           -13,
           "A3",
           [
            3,
            4
           ],
           34
          ],
          [
           19.9496567,
           50.0448271,
           -87,
           -12,
           "A3",
           [
            3,
            5
           ],
           35
          ],
          [
           19.9496404,
           50.0448998,
           -92,
           -13,
           "A3",
           [
            3,
            5
           ],
           35
          ],
          [
           19.9473141,
           50.0453443,
           -90,
           -18,
           "A3",
           [
            2,
            5
           ],
           25
          ],
          [
           19.9458103,
           50.0448946,
           -80,
           -12,
           "A3",
           [
            2,
            5
           ],
           25
          ],
          [
           19.9458117,
           50.0448785,
           -75,
           -12,
           "A3",
           [
            2,
            5
           ],
           25
          ],
          [
           19.9455778,
           50.044735,
           -78,
           -15,
           "A3",
           [
            2,
            5
           ],
           25
          ],
          [
           19.9445056,
           50.044439,
           -76,
           -13,
           "A3",
           [
            1,
            4
           ],
           14
          ],
          [
           19.9441782,
           50.0439012,
           -77,
           -13,
           "A3",
           [
            1,
            4
           ],
           14
          ],
          [
           19.9445516,
           50.0435834,
           -77,
           -12,
           "A3",
           [
            1,
            3
           ],
           13
          ],
          [
           19.944872,
           50.0434433,
           -88,
           -15,
           "A3",
           [
            2,
            3
           ],
           23
          ],
          [
           19.94535,
           50.043664,
           -88,
           -15,
           "A3",
           [
            2,
            3
           ],
           23
          ],
          [
           19.945975,
           50.0440133,
           -82,
           -14,
           "A3",
           [
            2,
            4
           ],
           24
          ],
          [
           19.9463876,
           50.0441923,
           -81,
           -15,
           "A3",
           [
            2,
            4
           ],
           24
          ],
          [
           19.9467891,
           50.0440001,
           -84,
           -17,
           "A3",
           [
            2,
            4
           ],
           24
          ],
          [
           19.9468273,
           50.0439727,
           -84,
           -16,
           "A3",
           [
            2,
            4
           ],
           24
          ],
          [
           19.9486155,
           50.0446493,
           -84,
           -17,
           "A3",
           [
            3,
            4
           ],
           34
          ],
          [
           19.9481076,
           50.0451678,
           -87,
           -19,
           "A3",
           [
            3,
            5
           ],
           35
          ],
          [
           19.9481708,
           50.0459479,
           -87,
           -12,
           "A3",
           [
            3,
            6
           ],
           36
          ],
          [
           19.9488924,
           50.0461599,
           -81,
           -10,
           "A3",
           [
            3,
            6
           ],
           36
          ],
          [
           19.9490433,
           50.046168,
           -85,
           -15,
           "A3",
           [
            3,
            6
           ],
           36
          ],
          [
           19.949473,
           50.046342,
           -87,
           -14,
           "A3",
           [
            3,
            6
           ],
           36
          ],
          [
           19.9499699,
           50.0465704,
           -87,
           -16,
           "A3",
           [
            3,
            6
           ],
           36
          ],
          [
           19.9504418,
           50.0467767,
           -86,
           -15,
           "A3",
           [
            4,
            7
           ],
           47
          ],
          [
           19.9510331,
           50.0470189,
           -99,
           -18,
           "A3",
           [
            4,
            7
           ],
           47
          ],
          [
           19.9519524,
           50.0472805,
           -99,
           -17,
           "A3",
           [
            4,
            7
           ],
           47
          ],
          [
           19.9532717,
           50.0476201,
           -96,
           -15,
           "A3",
           [
            5,
            7
           ],
           57
          ],
          [
           19.953957,
           50.0471907,
           -97,
           -14,
           "A3",
           [
            5,
            7
           ],
           57
          ],
          [
           19.9540694,
           50.0468147,
           -94,
           -15,
           "A3",
           [
            5,
            7
           ],
           57
          ],
          [
           19.9548899,
           50.0463109,
           -97,
           -16,
           "A3",
           [
            5,
            6
           ],
           56
          ],
          [
           19.9552007,
           50.0460361,
           -102,
           -17,
           "A3",
           [
            5,
            6
           ],
           56
          ],
          [
           19.9553938,
           50.0455022,
           -102,
           -20,
           "A3",
           [
            5,
            5
           ],
           55
          ],
          [
           19.9553921,
           50.0455226,
           -104,
           -20,
           "A3",
           [
            5,
            5
           ],
           55
          ],
          [
           19.9553921,
           50.045518,
           -89,
           -15,
           "A3",
           [
            5,
            5
           ],
           55
          ],
          [
           19.9553886,
           50.0455155,
           -88,
           -15,
           "A3",
           [
            5,
            5
           ],
           55
          ],
          [
           19.9553757,
           50.0455234,
           -88,
           -14,
           "A3",
           [
            5,
            5
           ],
           55
          ],
          [
           19.9553758,
           50.0455249,
           -88,
           -14,
           "A3",
           [
            5,
            5
           ],
           55
          ],
          [
           19.9552241,
           50.0453692,
           -89,
           -16,
           "A3",
           [
            5,
            5
           ],
           55
          ],
          [
           19.9541911,
           50.0451611,
           -96,
           -15,
           "A3",
           [
            5,
            5
           ],
           55
          ],
          [
           19.9524927,
           50.0450178,
           -93,
           -16,
           "A3",
           [
            4,
            5
           ],
           45
          ],
          [
           19.9530084,
           50.0457747,
           -101,
           -16,
           "A3",
           [
            4,
            6
           ],
           46
          ],
          [
           19.9538225,
           50.0470848,
           -99,
           -14,
           "A3",
           [
            5,
            7
           ],
           57
          ],
          [
           19.9523408,
           50.0468415,
           -95,
           -12,
           "A3",
           [
            4,
            7
           ],
           47
          ],
          [
           19.951052,
           50.0465479,
           -92,
           -11,
           "A3",
           [
            4,
            6
           ],
           46
          ]
         ],
         "hovertemplate": "<b>%{hovertext}</b><br><br>latitude=%{customdata[1]}<br>longitude=%{customdata[0]}<br>rsrp=%{customdata[2]}<br>rsrq=%{customdata[3]}<br>chunk=%{customdata[5]}<br>label=%{customdata[6]}<extra></extra>",
         "hovertext": [
          "A3",
          "A3",
          "A3",
          "A3",
          "A3",
          "A3",
          "A3",
          "A3",
          "A3",
          "A3",
          "A3",
          "A3",
          "A3",
          "A3",
          "A3",
          "A3",
          "A3",
          "A3",
          "A3",
          "A3",
          "A3",
          "A3",
          "A3",
          "A3",
          "A3",
          "A3",
          "A3",
          "A3",
          "A3",
          "A3",
          "A3",
          "A3",
          "A3",
          "A3",
          "A3",
          "A3",
          "A3",
          "A3",
          "A3",
          "A3",
          "A3",
          "A3",
          "A3",
          "A3",
          "A3",
          "A3",
          "A3",
          "A3",
          "A3",
          "A3",
          "A3",
          "A3",
          "A3",
          "A3",
          "A3",
          "A3",
          "A3",
          "A3",
          "A3",
          "A3",
          "A3",
          "A3",
          "A3",
          "A3",
          "A3",
          "A3",
          "A3",
          "A3",
          "A3",
          "A3",
          "A3",
          "A3",
          "A3",
          "A3",
          "A3",
          "A3",
          "A3",
          "A3",
          "A3",
          "A3",
          "A3",
          "A3",
          "A3",
          "A3",
          "A3",
          "A3",
          "A3",
          "A3",
          "A3",
          "A3",
          "A3",
          "A3",
          "A3",
          "A3",
          "A3",
          "A3",
          "A3",
          "A3",
          "A3",
          "A3",
          "A3",
          "A3",
          "A3",
          "A3",
          "A3",
          "A3",
          "A3",
          "A3",
          "A3",
          "A3",
          "A3",
          "A3",
          "A3",
          "A3",
          "A3"
         ],
         "lat": [
          50.0438764,
          50.0435971,
          50.0418007,
          50.0423506,
          50.0426539,
          50.0433273,
          50.0442152,
          50.0449612,
          50.04487,
          50.0446543,
          50.0445756,
          50.0439235,
          50.0438055,
          50.0437732,
          50.0436412,
          50.0435203,
          50.0433589,
          50.0432567,
          50.0436194,
          50.0444139,
          50.0447841,
          50.0447945,
          50.0452455,
          50.044267,
          50.0448242,
          50.0451001,
          50.045946,
          50.0469147,
          50.0473473,
          50.0473393,
          50.0470486,
          50.0465491,
          50.0461799,
          50.0459317,
          50.0459123,
          50.046435,
          50.0466263,
          50.0470735,
          50.0472931,
          50.0471157,
          50.0467281,
          50.0463486,
          50.0459292,
          50.0455916,
          50.045435,
          50.0451006,
          50.0448292,
          50.0445052,
          50.0444969,
          50.0450498,
          50.0452101,
          50.0451379,
          50.0451097,
          50.0434267,
          50.0418475,
          50.0421735,
          50.0425242,
          50.042881,
          50.0439236,
          50.0441504,
          50.0436041,
          50.0433375,
          50.043165,
          50.0430665,
          50.0439442,
          50.0441666,
          50.044707,
          50.0447066,
          50.044702,
          50.0445644,
          50.0442888,
          50.0438077,
          50.0448271,
          50.0448998,
          50.0453443,
          50.0448946,
          50.0448785,
          50.044735,
          50.044439,
          50.0439012,
          50.0435834,
          50.0434433,
          50.043664,
          50.0440133,
          50.0441923,
          50.0440001,
          50.0439727,
          50.0446493,
          50.0451678,
          50.0459479,
          50.0461599,
          50.046168,
          50.046342,
          50.0465704,
          50.0467767,
          50.0470189,
          50.0472805,
          50.0476201,
          50.0471907,
          50.0468147,
          50.0463109,
          50.0460361,
          50.0455022,
          50.0455226,
          50.045518,
          50.0455155,
          50.0455234,
          50.0455249,
          50.0453692,
          50.0451611,
          50.0450178,
          50.0457747,
          50.0470848,
          50.0468415,
          50.0465479
         ],
         "legendgroup": "A3",
         "lon": [
          19.9555291,
          19.9593014,
          19.9628379,
          19.9646071,
          19.9639957,
          19.9599164,
          19.9582089,
          19.9574153,
          19.9586771,
          19.9598041,
          19.9609392,
          19.9614751,
          19.9614804,
          19.9613428,
          19.9609091,
          19.9605888,
          19.9601662,
          19.9598751,
          19.9595133,
          19.9612321,
          19.9606298,
          19.9595939,
          19.9569724,
          19.9578677,
          19.9562091,
          19.9559169,
          19.955392,
          19.9551673,
          19.9553623,
          19.957592,
          19.9578008,
          19.9577583,
          19.9576821,
          19.9572933,
          19.9568124,
          19.9566905,
          19.9566189,
          19.9566439,
          19.9576396,
          19.9578534,
          19.9578005,
          19.9577382,
          19.9577801,
          19.9578088,
          19.957776,
          19.9577941,
          19.9574917,
          19.9577754,
          19.9571302,
          19.9559543,
          19.9542266,
          19.9525952,
          19.9508881,
          19.9462349,
          19.9432492,
          19.9429001,
          19.942478,
          19.9420322,
          19.9414921,
          19.9429862,
          19.9445168,
          19.9448311,
          19.944119,
          19.9433193,
          19.941523,
          19.9430528,
          19.9453606,
          19.9453673,
          19.9453711,
          19.9458321,
          19.9462527,
          19.9492811,
          19.9496567,
          19.9496404,
          19.9473141,
          19.9458103,
          19.9458117,
          19.9455778,
          19.9445056,
          19.9441782,
          19.9445516,
          19.944872,
          19.94535,
          19.945975,
          19.9463876,
          19.9467891,
          19.9468273,
          19.9486155,
          19.9481076,
          19.9481708,
          19.9488924,
          19.9490433,
          19.949473,
          19.9499699,
          19.9504418,
          19.9510331,
          19.9519524,
          19.9532717,
          19.953957,
          19.9540694,
          19.9548899,
          19.9552007,
          19.9553938,
          19.9553921,
          19.9553921,
          19.9553886,
          19.9553757,
          19.9553758,
          19.9552241,
          19.9541911,
          19.9524927,
          19.9530084,
          19.9538225,
          19.9523408,
          19.951052
         ],
         "marker": {
          "color": "forestgreen"
         },
         "mode": "markers",
         "name": "A3",
         "showlegend": true,
         "subplot": "mapbox",
         "type": "scattermapbox"
        },
        {
         "customdata": [
          [
           19.9554362,
           50.043881,
           -93,
           -14,
           "A4",
           [
            5,
            4
           ],
           54
          ],
          [
           19.9555291,
           50.0438764,
           -95,
           -15,
           "A4",
           [
            5,
            4
           ],
           54
          ],
          [
           19.9565761,
           50.044069,
           -88,
           -14,
           "A4",
           [
            6,
            4
           ],
           64
          ],
          [
           19.9576786,
           50.0438588,
           -90,
           -9,
           "A4",
           [
            6,
            4
           ],
           64
          ],
          [
           19.9580451,
           50.0438061,
           -89,
           -9,
           "A4",
           [
            6,
            4
           ],
           64
          ],
          [
           19.9588542,
           50.0436816,
           -85,
           -8,
           "A4",
           [
            7,
            3
           ],
           73
          ],
          [
           19.9593014,
           50.0435971,
           -81,
           -7,
           "A4",
           [
            7,
            3
           ],
           73
          ],
          [
           19.9609912,
           50.0421791,
           -72,
           -9,
           "A4",
           [
            7,
            2
           ],
           72
          ],
          [
           19.9628379,
           50.0418007,
           -70,
           -12,
           "A4",
           [
            8,
            2
           ],
           82
          ],
          [
           19.9646071,
           50.0423506,
           -73,
           -12,
           "A4",
           [
            9,
            2
           ],
           92
          ],
          [
           19.9643192,
           50.0424699,
           -74,
           -12,
           "A4",
           [
            9,
            2
           ],
           92
          ],
          [
           19.9639957,
           50.0426539,
           -72,
           -9,
           "A4",
           [
            9,
            2
           ],
           92
          ],
          [
           19.9611108,
           50.0423635,
           -73,
           -10,
           "A4",
           [
            7,
            2
           ],
           72
          ],
          [
           19.9599164,
           50.0433273,
           -88,
           -13,
           "A4",
           [
            7,
            3
           ],
           73
          ],
          [
           19.9582089,
           50.0442152,
           -101,
           -15,
           "A4",
           [
            6,
            4
           ],
           64
          ],
          [
           19.9574153,
           50.0449612,
           -103,
           -18,
           "A4",
           [
            6,
            5
           ],
           65
          ],
          [
           19.9586771,
           50.04487,
           -97,
           -15,
           "A4",
           [
            7,
            5
           ],
           75
          ],
          [
           19.9598041,
           50.0446543,
           -95,
           -13,
           "A4",
           [
            7,
            4
           ],
           74
          ],
          [
           19.9614937,
           50.0446952,
           -72,
           -7,
           "A4",
           [
            8,
            4
           ],
           84
          ],
          [
           19.9621964,
           50.0448849,
           -83,
           -9,
           "A4",
           [
            8,
            5
           ],
           85
          ],
          [
           19.9609392,
           50.0445756,
           -84,
           -10,
           "A4",
           [
            7,
            4
           ],
           74
          ],
          [
           19.9614751,
           50.0439235,
           -85,
           -11,
           "A4",
           [
            8,
            4
           ],
           84
          ],
          [
           19.9614804,
           50.0438055,
           -89,
           -10,
           "A4",
           [
            8,
            4
           ],
           84
          ],
          [
           19.9613428,
           50.0437732,
           -89,
           -10,
           "A4",
           [
            8,
            4
           ],
           84
          ],
          [
           19.9609091,
           50.0436412,
           -99,
           -13,
           "A4",
           [
            7,
            3
           ],
           73
          ],
          [
           19.9605888,
           50.0435203,
           -90,
           -7,
           "A4",
           [
            7,
            3
           ],
           73
          ],
          [
           19.9601662,
           50.0433589,
           -88,
           -8,
           "A4",
           [
            7,
            3
           ],
           73
          ],
          [
           19.9598751,
           50.0432567,
           -89,
           -8,
           "A4",
           [
            7,
            3
           ],
           73
          ],
          [
           19.9595133,
           50.0436194,
           -94,
           -9,
           "A4",
           [
            7,
            3
           ],
           73
          ],
          [
           19.959915,
           50.0439087,
           -96,
           -12,
           "A4",
           [
            7,
            4
           ],
           74
          ],
          [
           19.9603239,
           50.0440777,
           -88,
           -9,
           "A4",
           [
            7,
            4
           ],
           74
          ],
          [
           19.9609223,
           50.0443209,
           -89,
           -9,
           "A4",
           [
            7,
            4
           ],
           74
          ],
          [
           19.9612321,
           50.0444139,
           -82,
           -8,
           "A4",
           [
            8,
            4
           ],
           84
          ],
          [
           19.9611991,
           50.044571,
           -78,
           -8,
           "A4",
           [
            8,
            4
           ],
           84
          ],
          [
           19.9606298,
           50.0447841,
           -101,
           -13,
           "A4",
           [
            7,
            5
           ],
           75
          ],
          [
           19.9595939,
           50.0447945,
           -108,
           -17,
           "A4",
           [
            7,
            5
           ],
           75
          ],
          [
           19.958227,
           50.0449784,
           -106,
           -16,
           "A4",
           [
            6,
            5
           ],
           65
          ],
          [
           19.9571518,
           50.0450607,
           -92,
           -16,
           "A4",
           [
            6,
            5
           ],
           65
          ],
          [
           19.9569724,
           50.0452455,
           -90,
           -15,
           "A4",
           [
            6,
            5
           ],
           65
          ],
          [
           19.9578677,
           50.044267,
           -100,
           -14,
           "A4",
           [
            6,
            4
           ],
           64
          ],
          [
           19.9562091,
           50.0448242,
           -105,
           -17,
           "A4",
           [
            6,
            5
           ],
           65
          ],
          [
           19.9559137,
           50.0450921,
           -84,
           -14,
           "A4",
           [
            6,
            5
           ],
           65
          ],
          [
           19.9559169,
           50.0451001,
           -90,
           -17,
           "A4",
           [
            6,
            5
           ],
           65
          ],
          [
           19.9557433,
           50.04528,
           -89,
           -15,
           "A4",
           [
            6,
            5
           ],
           65
          ],
          [
           19.955392,
           50.045946,
           -89,
           -18,
           "A4",
           [
            5,
            6
           ],
           56
          ],
          [
           19.9551673,
           50.0469147,
           -87,
           -16,
           "A4",
           [
            5,
            7
           ],
           57
          ],
          [
           19.9553623,
           50.0473473,
           -101,
           -17,
           "A4",
           [
            5,
            7
           ],
           57
          ],
          [
           19.956333,
           50.0473378,
           -92,
           -17,
           "A4",
           [
            6,
            7
           ],
           67
          ],
          [
           19.957592,
           50.0473393,
           -96,
           -19,
           "A4",
           [
            6,
            7
           ],
           67
          ],
          [
           19.9578008,
           50.0470486,
           -101,
           -20,
           "A4",
           [
            6,
            7
           ],
           67
          ],
          [
           19.9577583,
           50.0465491,
           -100,
           -16,
           "A4",
           [
            6,
            6
           ],
           66
          ],
          [
           19.9576821,
           50.0461799,
           -100,
           -16,
           "A4",
           [
            6,
            6
           ],
           66
          ],
          [
           19.9572933,
           50.0459317,
           -109,
           -18,
           "A4",
           [
            6,
            6
           ],
           66
          ],
          [
           19.9568124,
           50.0459123,
           -107,
           -20,
           "A4",
           [
            6,
            6
           ],
           66
          ],
          [
           19.9566905,
           50.046435,
           -102,
           -18,
           "A4",
           [
            6,
            6
           ],
           66
          ],
          [
           19.9566189,
           50.0466263,
           -107,
           -20,
           "A4",
           [
            6,
            6
           ],
           66
          ],
          [
           19.9566439,
           50.0470735,
           -109,
           -20,
           "A4",
           [
            6,
            7
           ],
           67
          ],
          [
           19.956633,
           50.0473061,
           -89,
           -14,
           "A4",
           [
            6,
            7
           ],
           67
          ],
          [
           19.9571688,
           50.0473144,
           -87,
           -15,
           "A4",
           [
            6,
            7
           ],
           67
          ],
          [
           19.9576396,
           50.0472931,
           -95,
           -17,
           "A4",
           [
            6,
            7
           ],
           67
          ],
          [
           19.9578534,
           50.0471157,
           -96,
           -15,
           "A4",
           [
            6,
            7
           ],
           67
          ],
          [
           19.9578005,
           50.0467281,
           -99,
           -15,
           "A4",
           [
            6,
            7
           ],
           67
          ],
          [
           19.9577382,
           50.0463486,
           -100,
           -16,
           "A4",
           [
            6,
            6
           ],
           66
          ],
          [
           19.9577801,
           50.0459292,
           -108,
           -17,
           "A4",
           [
            6,
            6
           ],
           66
          ],
          [
           19.9578088,
           50.0455916,
           -105,
           -16,
           "A4",
           [
            6,
            5
           ],
           65
          ],
          [
           19.957776,
           50.045435,
           -106,
           -20,
           "A4",
           [
            6,
            5
           ],
           65
          ],
          [
           19.9577941,
           50.0451006,
           -92,
           -15,
           "A4",
           [
            6,
            5
           ],
           65
          ],
          [
           19.9574917,
           50.0448292,
           -91,
           -16,
           "A4",
           [
            6,
            5
           ],
           65
          ],
          [
           19.9577754,
           50.0445052,
           -98,
           -14,
           "A4",
           [
            6,
            4
           ],
           64
          ],
          [
           19.957904,
           50.0442764,
           -98,
           -13,
           "A4",
           [
            6,
            4
           ],
           64
          ],
          [
           19.9571302,
           50.0444969,
           -90,
           -14,
           "A4",
           [
            6,
            4
           ],
           64
          ],
          [
           19.9559543,
           50.0450498,
           -103,
           -17,
           "A4",
           [
            6,
            5
           ],
           65
          ],
          [
           19.9542266,
           50.0452101,
           -82,
           -13,
           "A4",
           [
            5,
            5
           ],
           55
          ],
          [
           19.9525952,
           50.0451379,
           -99,
           -12,
           "A4",
           [
            4,
            5
           ],
           45
          ],
          [
           19.9508881,
           50.0451097,
           -100,
           -11,
           "A4",
           [
            4,
            5
           ],
           45
          ],
          [
           19.9481694,
           50.044394,
           -61,
           -11,
           "A4",
           [
            3,
            4
           ],
           34
          ],
          [
           19.9462349,
           50.0434267,
           -85,
           -13,
           "A4",
           [
            2,
            3
           ],
           23
          ],
          [
           19.944548,
           50.0425345,
           -72,
           -10,
           "A4",
           [
            1,
            2
           ],
           12
          ],
          [
           19.9432492,
           50.0418475,
           -79,
           -13,
           "A4",
           [
            1,
            2
           ],
           12
          ],
          [
           19.9429001,
           50.0421735,
           -88,
           -12,
           "A4",
           [
            1,
            2
           ],
           12
          ],
          [
           19.942478,
           50.0425242,
           -84,
           -13,
           "A4",
           [
            1,
            2
           ],
           12
          ],
          [
           19.9420322,
           50.042881,
           -85,
           -14,
           "A4",
           [
            0,
            3
           ],
           3
          ],
          [
           19.9414344,
           50.0432599,
           -77,
           -8,
           "A4",
           [
            0,
            3
           ],
           3
          ],
          [
           19.9414921,
           50.0439236,
           -76,
           -9,
           "A4",
           [
            0,
            4
           ],
           4
          ],
          [
           19.9429862,
           50.0441504,
           -85,
           -15,
           "A4",
           [
            1,
            4
           ],
           14
          ],
          [
           19.9440192,
           50.0440468,
           -76,
           -13,
           "A4",
           [
            1,
            4
           ],
           14
          ],
          [
           19.9445168,
           50.0436041,
           -81,
           -13,
           "A4",
           [
            1,
            3
           ],
           13
          ],
          [
           19.9448311,
           50.0433375,
           -86,
           -12,
           "A4",
           [
            1,
            3
           ],
           13
          ],
          [
           19.944119,
           50.043165,
           -83,
           -13,
           "A4",
           [
            1,
            3
           ],
           13
          ],
          [
           19.9433193,
           50.0430665,
           -83,
           -14,
           "A4",
           [
            1,
            3
           ],
           13
          ],
          [
           19.9425382,
           50.0429553,
           -79,
           -10,
           "A4",
           [
            1,
            3
           ],
           13
          ],
          [
           19.9415962,
           50.0431456,
           -78,
           -11,
           "A4",
           [
            0,
            3
           ],
           3
          ],
          [
           19.941523,
           50.0439442,
           -83,
           -11,
           "A4",
           [
            0,
            4
           ],
           4
          ],
          [
           19.9430528,
           50.0441666,
           -84,
           -15,
           "A4",
           [
            1,
            4
           ],
           14
          ],
          [
           19.9455492,
           50.0447623,
           -71,
           -11,
           "A4",
           [
            2,
            5
           ],
           25
          ],
          [
           19.9453606,
           50.044707,
           -72,
           -11,
           "A4",
           [
            2,
            4
           ],
           24
          ],
          [
           19.9453673,
           50.0447066,
           -73,
           -12,
           "A4",
           [
            2,
            4
           ],
           24
          ],
          [
           19.9453711,
           50.044702,
           -84,
           -19,
           "A4",
           [
            2,
            4
           ],
           24
          ],
          [
           19.9458321,
           50.0445644,
           -78,
           -13,
           "A4",
           [
            2,
            4
           ],
           24
          ],
          [
           19.9462527,
           50.0442888,
           -77,
           -15,
           "A4",
           [
            2,
            4
           ],
           24
          ],
          [
           19.94795,
           50.0439563,
           -70,
           -10,
           "A4",
           [
            3,
            4
           ],
           34
          ],
          [
           19.9492811,
           50.0438077,
           -83,
           -13,
           "A4",
           [
            3,
            4
           ],
           34
          ],
          [
           19.9496567,
           50.0448271,
           -87,
           -12,
           "A4",
           [
            3,
            5
           ],
           35
          ],
          [
           19.9496404,
           50.0448998,
           -92,
           -13,
           "A4",
           [
            3,
            5
           ],
           35
          ],
          [
           19.9488735,
           50.0447133,
           -93,
           -17,
           "A4",
           [
            3,
            5
           ],
           35
          ],
          [
           19.9473141,
           50.0453443,
           -90,
           -18,
           "A4",
           [
            2,
            5
           ],
           25
          ],
          [
           19.9469416,
           50.0453934,
           -79,
           -11,
           "A4",
           [
            2,
            5
           ],
           25
          ],
          [
           19.9458103,
           50.0448946,
           -80,
           -12,
           "A4",
           [
            2,
            5
           ],
           25
          ],
          [
           19.9458117,
           50.0448785,
           -75,
           -12,
           "A4",
           [
            2,
            5
           ],
           25
          ],
          [
           19.9455778,
           50.044735,
           -78,
           -15,
           "A4",
           [
            2,
            5
           ],
           25
          ],
          [
           19.9445056,
           50.044439,
           -76,
           -13,
           "A4",
           [
            1,
            4
           ],
           14
          ],
          [
           19.9441782,
           50.0439012,
           -77,
           -13,
           "A4",
           [
            1,
            4
           ],
           14
          ],
          [
           19.9445516,
           50.0435834,
           -77,
           -12,
           "A4",
           [
            1,
            3
           ],
           13
          ],
          [
           19.944872,
           50.0434433,
           -88,
           -15,
           "A4",
           [
            2,
            3
           ],
           23
          ],
          [
           19.94535,
           50.043664,
           -88,
           -15,
           "A4",
           [
            2,
            3
           ],
           23
          ],
          [
           19.945975,
           50.0440133,
           -82,
           -14,
           "A4",
           [
            2,
            4
           ],
           24
          ],
          [
           19.9463876,
           50.0441923,
           -81,
           -15,
           "A4",
           [
            2,
            4
           ],
           24
          ],
          [
           19.9467891,
           50.0440001,
           -84,
           -17,
           "A4",
           [
            2,
            4
           ],
           24
          ],
          [
           19.9468273,
           50.0439727,
           -84,
           -16,
           "A4",
           [
            2,
            4
           ],
           24
          ],
          [
           19.9486155,
           50.0446493,
           -84,
           -17,
           "A4",
           [
            3,
            4
           ],
           34
          ],
          [
           19.9481076,
           50.0451678,
           -87,
           -19,
           "A4",
           [
            3,
            5
           ],
           35
          ],
          [
           19.9481708,
           50.0459479,
           -87,
           -12,
           "A4",
           [
            3,
            6
           ],
           36
          ],
          [
           19.9488924,
           50.0461599,
           -81,
           -10,
           "A4",
           [
            3,
            6
           ],
           36
          ],
          [
           19.9490433,
           50.046168,
           -85,
           -15,
           "A4",
           [
            3,
            6
           ],
           36
          ],
          [
           19.949473,
           50.046342,
           -87,
           -14,
           "A4",
           [
            3,
            6
           ],
           36
          ],
          [
           19.9499699,
           50.0465704,
           -87,
           -16,
           "A4",
           [
            3,
            6
           ],
           36
          ],
          [
           19.9504418,
           50.0467767,
           -86,
           -15,
           "A4",
           [
            4,
            7
           ],
           47
          ],
          [
           19.9510331,
           50.0470189,
           -99,
           -18,
           "A4",
           [
            4,
            7
           ],
           47
          ],
          [
           19.9519524,
           50.0472805,
           -99,
           -17,
           "A4",
           [
            4,
            7
           ],
           47
          ],
          [
           19.9532717,
           50.0476201,
           -96,
           -15,
           "A4",
           [
            5,
            7
           ],
           57
          ],
          [
           19.953957,
           50.0471907,
           -97,
           -14,
           "A4",
           [
            5,
            7
           ],
           57
          ],
          [
           19.9540694,
           50.0468147,
           -94,
           -15,
           "A4",
           [
            5,
            7
           ],
           57
          ],
          [
           19.9548899,
           50.0463109,
           -97,
           -16,
           "A4",
           [
            5,
            6
           ],
           56
          ],
          [
           19.9552007,
           50.0460361,
           -102,
           -17,
           "A4",
           [
            5,
            6
           ],
           56
          ],
          [
           19.9553938,
           50.0455022,
           -102,
           -20,
           "A4",
           [
            5,
            5
           ],
           55
          ],
          [
           19.9553881,
           50.0455206,
           -88,
           -14,
           "A4",
           [
            5,
            5
           ],
           55
          ],
          [
           19.9553983,
           50.0455189,
           -89,
           -15,
           "A4",
           [
            5,
            5
           ],
           55
          ],
          [
           19.9554035,
           50.0455259,
           -89,
           -15,
           "A4",
           [
            5,
            5
           ],
           55
          ],
          [
           19.9553921,
           50.0455226,
           -104,
           -20,
           "A4",
           [
            5,
            5
           ],
           55
          ],
          [
           19.9553982,
           50.0455162,
           -89,
           -15,
           "A4",
           [
            5,
            5
           ],
           55
          ],
          [
           19.9553921,
           50.045518,
           -89,
           -15,
           "A4",
           [
            5,
            5
           ],
           55
          ],
          [
           19.9553886,
           50.0455155,
           -88,
           -15,
           "A4",
           [
            5,
            5
           ],
           55
          ],
          [
           19.9553757,
           50.0455234,
           -88,
           -14,
           "A4",
           [
            5,
            5
           ],
           55
          ],
          [
           19.9553758,
           50.0455249,
           -88,
           -14,
           "A4",
           [
            5,
            5
           ],
           55
          ],
          [
           19.9553779,
           50.0455322,
           -89,
           -14,
           "A4",
           [
            5,
            5
           ],
           55
          ],
          [
           19.9552241,
           50.0453692,
           -89,
           -16,
           "A4",
           [
            5,
            5
           ],
           55
          ],
          [
           19.9541911,
           50.0451611,
           -96,
           -15,
           "A4",
           [
            5,
            5
           ],
           55
          ],
          [
           19.9524927,
           50.0450178,
           -93,
           -16,
           "A4",
           [
            4,
            5
           ],
           45
          ],
          [
           19.9530084,
           50.0457747,
           -101,
           -16,
           "A4",
           [
            4,
            6
           ],
           46
          ],
          [
           19.9538225,
           50.0470848,
           -99,
           -14,
           "A4",
           [
            5,
            7
           ],
           57
          ],
          [
           19.9531405,
           50.0469892,
           -100,
           -14,
           "A4",
           [
            5,
            7
           ],
           57
          ],
          [
           19.9523408,
           50.0468415,
           -95,
           -12,
           "A4",
           [
            4,
            7
           ],
           47
          ],
          [
           19.951052,
           50.0465479,
           -92,
           -11,
           "A4",
           [
            4,
            6
           ],
           46
          ]
         ],
         "hovertemplate": "<b>%{hovertext}</b><br><br>latitude=%{customdata[1]}<br>longitude=%{customdata[0]}<br>rsrp=%{customdata[2]}<br>rsrq=%{customdata[3]}<br>chunk=%{customdata[5]}<br>label=%{customdata[6]}<extra></extra>",
         "hovertext": [
          "A4",
          "A4",
          "A4",
          "A4",
          "A4",
          "A4",
          "A4",
          "A4",
          "A4",
          "A4",
          "A4",
          "A4",
          "A4",
          "A4",
          "A4",
          "A4",
          "A4",
          "A4",
          "A4",
          "A4",
          "A4",
          "A4",
          "A4",
          "A4",
          "A4",
          "A4",
          "A4",
          "A4",
          "A4",
          "A4",
          "A4",
          "A4",
          "A4",
          "A4",
          "A4",
          "A4",
          "A4",
          "A4",
          "A4",
          "A4",
          "A4",
          "A4",
          "A4",
          "A4",
          "A4",
          "A4",
          "A4",
          "A4",
          "A4",
          "A4",
          "A4",
          "A4",
          "A4",
          "A4",
          "A4",
          "A4",
          "A4",
          "A4",
          "A4",
          "A4",
          "A4",
          "A4",
          "A4",
          "A4",
          "A4",
          "A4",
          "A4",
          "A4",
          "A4",
          "A4",
          "A4",
          "A4",
          "A4",
          "A4",
          "A4",
          "A4",
          "A4",
          "A4",
          "A4",
          "A4",
          "A4",
          "A4",
          "A4",
          "A4",
          "A4",
          "A4",
          "A4",
          "A4",
          "A4",
          "A4",
          "A4",
          "A4",
          "A4",
          "A4",
          "A4",
          "A4",
          "A4",
          "A4",
          "A4",
          "A4",
          "A4",
          "A4",
          "A4",
          "A4",
          "A4",
          "A4",
          "A4",
          "A4",
          "A4",
          "A4",
          "A4",
          "A4",
          "A4",
          "A4",
          "A4",
          "A4",
          "A4",
          "A4",
          "A4",
          "A4",
          "A4",
          "A4",
          "A4",
          "A4",
          "A4",
          "A4",
          "A4",
          "A4",
          "A4",
          "A4",
          "A4",
          "A4",
          "A4",
          "A4",
          "A4",
          "A4",
          "A4",
          "A4",
          "A4",
          "A4",
          "A4",
          "A4",
          "A4",
          "A4",
          "A4",
          "A4",
          "A4",
          "A4",
          "A4",
          "A4",
          "A4",
          "A4",
          "A4"
         ],
         "lat": [
          50.043881,
          50.0438764,
          50.044069,
          50.0438588,
          50.0438061,
          50.0436816,
          50.0435971,
          50.0421791,
          50.0418007,
          50.0423506,
          50.0424699,
          50.0426539,
          50.0423635,
          50.0433273,
          50.0442152,
          50.0449612,
          50.04487,
          50.0446543,
          50.0446952,
          50.0448849,
          50.0445756,
          50.0439235,
          50.0438055,
          50.0437732,
          50.0436412,
          50.0435203,
          50.0433589,
          50.0432567,
          50.0436194,
          50.0439087,
          50.0440777,
          50.0443209,
          50.0444139,
          50.044571,
          50.0447841,
          50.0447945,
          50.0449784,
          50.0450607,
          50.0452455,
          50.044267,
          50.0448242,
          50.0450921,
          50.0451001,
          50.04528,
          50.045946,
          50.0469147,
          50.0473473,
          50.0473378,
          50.0473393,
          50.0470486,
          50.0465491,
          50.0461799,
          50.0459317,
          50.0459123,
          50.046435,
          50.0466263,
          50.0470735,
          50.0473061,
          50.0473144,
          50.0472931,
          50.0471157,
          50.0467281,
          50.0463486,
          50.0459292,
          50.0455916,
          50.045435,
          50.0451006,
          50.0448292,
          50.0445052,
          50.0442764,
          50.0444969,
          50.0450498,
          50.0452101,
          50.0451379,
          50.0451097,
          50.044394,
          50.0434267,
          50.0425345,
          50.0418475,
          50.0421735,
          50.0425242,
          50.042881,
          50.0432599,
          50.0439236,
          50.0441504,
          50.0440468,
          50.0436041,
          50.0433375,
          50.043165,
          50.0430665,
          50.0429553,
          50.0431456,
          50.0439442,
          50.0441666,
          50.0447623,
          50.044707,
          50.0447066,
          50.044702,
          50.0445644,
          50.0442888,
          50.0439563,
          50.0438077,
          50.0448271,
          50.0448998,
          50.0447133,
          50.0453443,
          50.0453934,
          50.0448946,
          50.0448785,
          50.044735,
          50.044439,
          50.0439012,
          50.0435834,
          50.0434433,
          50.043664,
          50.0440133,
          50.0441923,
          50.0440001,
          50.0439727,
          50.0446493,
          50.0451678,
          50.0459479,
          50.0461599,
          50.046168,
          50.046342,
          50.0465704,
          50.0467767,
          50.0470189,
          50.0472805,
          50.0476201,
          50.0471907,
          50.0468147,
          50.0463109,
          50.0460361,
          50.0455022,
          50.0455206,
          50.0455189,
          50.0455259,
          50.0455226,
          50.0455162,
          50.045518,
          50.0455155,
          50.0455234,
          50.0455249,
          50.0455322,
          50.0453692,
          50.0451611,
          50.0450178,
          50.0457747,
          50.0470848,
          50.0469892,
          50.0468415,
          50.0465479
         ],
         "legendgroup": "A4",
         "lon": [
          19.9554362,
          19.9555291,
          19.9565761,
          19.9576786,
          19.9580451,
          19.9588542,
          19.9593014,
          19.9609912,
          19.9628379,
          19.9646071,
          19.9643192,
          19.9639957,
          19.9611108,
          19.9599164,
          19.9582089,
          19.9574153,
          19.9586771,
          19.9598041,
          19.9614937,
          19.9621964,
          19.9609392,
          19.9614751,
          19.9614804,
          19.9613428,
          19.9609091,
          19.9605888,
          19.9601662,
          19.9598751,
          19.9595133,
          19.959915,
          19.9603239,
          19.9609223,
          19.9612321,
          19.9611991,
          19.9606298,
          19.9595939,
          19.958227,
          19.9571518,
          19.9569724,
          19.9578677,
          19.9562091,
          19.9559137,
          19.9559169,
          19.9557433,
          19.955392,
          19.9551673,
          19.9553623,
          19.956333,
          19.957592,
          19.9578008,
          19.9577583,
          19.9576821,
          19.9572933,
          19.9568124,
          19.9566905,
          19.9566189,
          19.9566439,
          19.956633,
          19.9571688,
          19.9576396,
          19.9578534,
          19.9578005,
          19.9577382,
          19.9577801,
          19.9578088,
          19.957776,
          19.9577941,
          19.9574917,
          19.9577754,
          19.957904,
          19.9571302,
          19.9559543,
          19.9542266,
          19.9525952,
          19.9508881,
          19.9481694,
          19.9462349,
          19.944548,
          19.9432492,
          19.9429001,
          19.942478,
          19.9420322,
          19.9414344,
          19.9414921,
          19.9429862,
          19.9440192,
          19.9445168,
          19.9448311,
          19.944119,
          19.9433193,
          19.9425382,
          19.9415962,
          19.941523,
          19.9430528,
          19.9455492,
          19.9453606,
          19.9453673,
          19.9453711,
          19.9458321,
          19.9462527,
          19.94795,
          19.9492811,
          19.9496567,
          19.9496404,
          19.9488735,
          19.9473141,
          19.9469416,
          19.9458103,
          19.9458117,
          19.9455778,
          19.9445056,
          19.9441782,
          19.9445516,
          19.944872,
          19.94535,
          19.945975,
          19.9463876,
          19.9467891,
          19.9468273,
          19.9486155,
          19.9481076,
          19.9481708,
          19.9488924,
          19.9490433,
          19.949473,
          19.9499699,
          19.9504418,
          19.9510331,
          19.9519524,
          19.9532717,
          19.953957,
          19.9540694,
          19.9548899,
          19.9552007,
          19.9553938,
          19.9553881,
          19.9553983,
          19.9554035,
          19.9553921,
          19.9553982,
          19.9553921,
          19.9553886,
          19.9553757,
          19.9553758,
          19.9553779,
          19.9552241,
          19.9541911,
          19.9524927,
          19.9530084,
          19.9538225,
          19.9531405,
          19.9523408,
          19.951052
         ],
         "marker": {
          "color": "red"
         },
         "mode": "markers",
         "name": "A4",
         "showlegend": true,
         "subplot": "mapbox",
         "type": "scattermapbox"
        },
        {
         "customdata": [
          [
           19.9578008,
           50.0470486,
           -101,
           -20,
           "A5",
           [
            6,
            7
           ],
           67
          ],
          [
           19.9566189,
           50.0466263,
           -107,
           -20,
           "A5",
           [
            6,
            6
           ],
           66
          ],
          [
           19.9566439,
           50.0470735,
           -109,
           -20,
           "A5",
           [
            6,
            7
           ],
           67
          ],
          [
           19.957776,
           50.045435,
           -106,
           -20,
           "A5",
           [
            6,
            5
           ],
           65
          ],
          [
           19.9553938,
           50.0455022,
           -102,
           -20,
           "A5",
           [
            5,
            5
           ],
           55
          ],
          [
           19.9553921,
           50.0455226,
           -104,
           -20,
           "A5",
           [
            5,
            5
           ],
           55
          ]
         ],
         "hovertemplate": "<b>%{hovertext}</b><br><br>latitude=%{customdata[1]}<br>longitude=%{customdata[0]}<br>rsrp=%{customdata[2]}<br>rsrq=%{customdata[3]}<br>chunk=%{customdata[5]}<br>label=%{customdata[6]}<extra></extra>",
         "hovertext": [
          "A5",
          "A5",
          "A5",
          "A5",
          "A5",
          "A5"
         ],
         "lat": [
          50.0470486,
          50.0466263,
          50.0470735,
          50.045435,
          50.0455022,
          50.0455226
         ],
         "legendgroup": "A5",
         "lon": [
          19.9578008,
          19.9566189,
          19.9566439,
          19.957776,
          19.9553938,
          19.9553921
         ],
         "marker": {
          "color": "magenta"
         },
         "mode": "markers",
         "name": "A5",
         "showlegend": true,
         "subplot": "mapbox",
         "type": "scattermapbox"
        }
       ],
       "layout": {
        "geo": {
         "fitbounds": "locations"
        },
        "height": 600,
        "legend": {
         "title": {
          "text": "event"
         },
         "tracegroupgap": 0
        },
        "mapbox": {
         "center": {
          "lat": 50.04499651573427,
          "lon": 19.95334823776224
         },
         "domain": {
          "x": [
           0,
           1
          ],
          "y": [
           0,
           1
          ]
         },
         "layers": [
          {
           "color": "black",
           "line": {
            "width": 1
           },
           "source": {
            "geometry": {
             "coordinates": [
              [
               [
                19.9394344,
                50.0398007
               ],
               [
                19.94215167,
                50.0398007
               ],
               [
                19.94215167,
                50.049620100000006
               ],
               [
                19.9394344,
                50.049620100000006
               ],
               [
                19.9394344,
                50.0398007
               ]
              ],
              [
               [
                19.94215167,
                50.0398007
               ],
               [
                19.94486894,
                50.0398007
               ],
               [
                19.94486894,
                50.049620100000006
               ],
               [
                19.94215167,
                50.049620100000006
               ],
               [
                19.94215167,
                50.0398007
               ]
              ],
              [
               [
                19.94486894,
                50.0398007
               ],
               [
                19.947586209999997,
                50.0398007
               ],
               [
                19.947586209999997,
                50.049620100000006
               ],
               [
                19.94486894,
                50.049620100000006
               ],
               [
                19.94486894,
                50.0398007
               ]
              ],
              [
               [
                19.947586209999997,
                50.0398007
               ],
               [
                19.95030348,
                50.0398007
               ],
               [
                19.95030348,
                50.049620100000006
               ],
               [
                19.947586209999997,
                50.049620100000006
               ],
               [
                19.947586209999997,
                50.0398007
               ]
              ],
              [
               [
                19.95030348,
                50.0398007
               ],
               [
                19.95302075,
                50.0398007
               ],
               [
                19.95302075,
                50.049620100000006
               ],
               [
                19.95030348,
                50.049620100000006
               ],
               [
                19.95030348,
                50.0398007
               ]
              ],
              [
               [
                19.95302075,
                50.0398007
               ],
               [
                19.95573802,
                50.0398007
               ],
               [
                19.95573802,
                50.049620100000006
               ],
               [
                19.95302075,
                50.049620100000006
               ],
               [
                19.95302075,
                50.0398007
               ]
              ],
              [
               [
                19.95573802,
                50.0398007
               ],
               [
                19.958455289999996,
                50.0398007
               ],
               [
                19.958455289999996,
                50.049620100000006
               ],
               [
                19.95573802,
                50.049620100000006
               ],
               [
                19.95573802,
                50.0398007
               ]
              ],
              [
               [
                19.958455289999996,
                50.0398007
               ],
               [
                19.961172559999998,
                50.0398007
               ],
               [
                19.961172559999998,
                50.049620100000006
               ],
               [
                19.958455289999996,
                50.049620100000006
               ],
               [
                19.958455289999996,
                50.0398007
               ]
              ],
              [
               [
                19.961172559999998,
                50.0398007
               ],
               [
                19.96388983,
                50.0398007
               ],
               [
                19.96388983,
                50.049620100000006
               ],
               [
                19.961172559999998,
                50.049620100000006
               ],
               [
                19.961172559999998,
                50.0398007
               ]
              ],
              [
               [
                19.96388983,
                50.0398007
               ],
               [
                19.966607099999997,
                50.0398007
               ],
               [
                19.966607099999997,
                50.049620100000006
               ],
               [
                19.96388983,
                50.049620100000006
               ],
               [
                19.96388983,
                50.0398007
               ]
              ],
              [
               [
                19.9394344,
                50.0398007
               ],
               [
                19.966607099999997,
                50.0398007
               ],
               [
                19.966607099999997,
                50.04078264
               ],
               [
                19.9394344,
                50.04078264
               ],
               [
                19.9394344,
                50.0398007
               ]
              ],
              [
               [
                19.9394344,
                50.04078264
               ],
               [
                19.966607099999997,
                50.04078264
               ],
               [
                19.966607099999997,
                50.04176458
               ],
               [
                19.9394344,
                50.04176458
               ],
               [
                19.9394344,
                50.04078264
               ]
              ],
              [
               [
                19.9394344,
                50.04176458
               ],
               [
                19.966607099999997,
                50.04176458
               ],
               [
                19.966607099999997,
                50.04274652
               ],
               [
                19.9394344,
                50.04274652
               ],
               [
                19.9394344,
                50.04176458
               ]
              ],
              [
               [
                19.9394344,
                50.04274652
               ],
               [
                19.966607099999997,
                50.04274652
               ],
               [
                19.966607099999997,
                50.043728460000004
               ],
               [
                19.9394344,
                50.043728460000004
               ],
               [
                19.9394344,
                50.04274652
               ]
              ],
              [
               [
                19.9394344,
                50.043728460000004
               ],
               [
                19.966607099999997,
                50.043728460000004
               ],
               [
                19.966607099999997,
                50.0447104
               ],
               [
                19.9394344,
                50.0447104
               ],
               [
                19.9394344,
                50.043728460000004
               ]
              ],
              [
               [
                19.9394344,
                50.0447104
               ],
               [
                19.966607099999997,
                50.0447104
               ],
               [
                19.966607099999997,
                50.04569234
               ],
               [
                19.9394344,
                50.04569234
               ],
               [
                19.9394344,
                50.0447104
               ]
              ],
              [
               [
                19.9394344,
                50.04569234
               ],
               [
                19.966607099999997,
                50.04569234
               ],
               [
                19.966607099999997,
                50.046674280000005
               ],
               [
                19.9394344,
                50.046674280000005
               ],
               [
                19.9394344,
                50.04569234
               ]
              ],
              [
               [
                19.9394344,
                50.046674280000005
               ],
               [
                19.966607099999997,
                50.046674280000005
               ],
               [
                19.966607099999997,
                50.04765622000001
               ],
               [
                19.9394344,
                50.04765622000001
               ],
               [
                19.9394344,
                50.046674280000005
               ]
              ],
              [
               [
                19.9394344,
                50.04765622000001
               ],
               [
                19.966607099999997,
                50.04765622000001
               ],
               [
                19.966607099999997,
                50.04863816
               ],
               [
                19.9394344,
                50.04863816
               ],
               [
                19.9394344,
                50.04765622000001
               ]
              ],
              [
               [
                19.9394344,
                50.04863816
               ],
               [
                19.966607099999997,
                50.04863816
               ],
               [
                19.966607099999997,
                50.049620100000006
               ],
               [
                19.9394344,
                50.049620100000006
               ],
               [
                19.9394344,
                50.04863816
               ]
              ]
             ],
             "type": "Polygon"
            },
            "type": "Feature"
           },
           "sourcetype": "geojson",
           "type": "line"
          }
         ],
         "style": "open-street-map",
         "zoom": 8
        },
        "margin": {
         "b": 0,
         "l": 0,
         "r": 30,
         "t": 30
        },
        "template": {
         "data": {
          "bar": [
           {
            "error_x": {
             "color": "#2a3f5f"
            },
            "error_y": {
             "color": "#2a3f5f"
            },
            "marker": {
             "line": {
              "color": "#E5ECF6",
              "width": 0.5
             },
             "pattern": {
              "fillmode": "overlay",
              "size": 10,
              "solidity": 0.2
             }
            },
            "type": "bar"
           }
          ],
          "barpolar": [
           {
            "marker": {
             "line": {
              "color": "#E5ECF6",
              "width": 0.5
             },
             "pattern": {
              "fillmode": "overlay",
              "size": 10,
              "solidity": 0.2
             }
            },
            "type": "barpolar"
           }
          ],
          "carpet": [
           {
            "aaxis": {
             "endlinecolor": "#2a3f5f",
             "gridcolor": "white",
             "linecolor": "white",
             "minorgridcolor": "white",
             "startlinecolor": "#2a3f5f"
            },
            "baxis": {
             "endlinecolor": "#2a3f5f",
             "gridcolor": "white",
             "linecolor": "white",
             "minorgridcolor": "white",
             "startlinecolor": "#2a3f5f"
            },
            "type": "carpet"
           }
          ],
          "choropleth": [
           {
            "colorbar": {
             "outlinewidth": 0,
             "ticks": ""
            },
            "type": "choropleth"
           }
          ],
          "contour": [
           {
            "colorbar": {
             "outlinewidth": 0,
             "ticks": ""
            },
            "colorscale": [
             [
              0,
              "#0d0887"
             ],
             [
              0.1111111111111111,
              "#46039f"
             ],
             [
              0.2222222222222222,
              "#7201a8"
             ],
             [
              0.3333333333333333,
              "#9c179e"
             ],
             [
              0.4444444444444444,
              "#bd3786"
             ],
             [
              0.5555555555555556,
              "#d8576b"
             ],
             [
              0.6666666666666666,
              "#ed7953"
             ],
             [
              0.7777777777777778,
              "#fb9f3a"
             ],
             [
              0.8888888888888888,
              "#fdca26"
             ],
             [
              1,
              "#f0f921"
             ]
            ],
            "type": "contour"
           }
          ],
          "contourcarpet": [
           {
            "colorbar": {
             "outlinewidth": 0,
             "ticks": ""
            },
            "type": "contourcarpet"
           }
          ],
          "heatmap": [
           {
            "colorbar": {
             "outlinewidth": 0,
             "ticks": ""
            },
            "colorscale": [
             [
              0,
              "#0d0887"
             ],
             [
              0.1111111111111111,
              "#46039f"
             ],
             [
              0.2222222222222222,
              "#7201a8"
             ],
             [
              0.3333333333333333,
              "#9c179e"
             ],
             [
              0.4444444444444444,
              "#bd3786"
             ],
             [
              0.5555555555555556,
              "#d8576b"
             ],
             [
              0.6666666666666666,
              "#ed7953"
             ],
             [
              0.7777777777777778,
              "#fb9f3a"
             ],
             [
              0.8888888888888888,
              "#fdca26"
             ],
             [
              1,
              "#f0f921"
             ]
            ],
            "type": "heatmap"
           }
          ],
          "heatmapgl": [
           {
            "colorbar": {
             "outlinewidth": 0,
             "ticks": ""
            },
            "colorscale": [
             [
              0,
              "#0d0887"
             ],
             [
              0.1111111111111111,
              "#46039f"
             ],
             [
              0.2222222222222222,
              "#7201a8"
             ],
             [
              0.3333333333333333,
              "#9c179e"
             ],
             [
              0.4444444444444444,
              "#bd3786"
             ],
             [
              0.5555555555555556,
              "#d8576b"
             ],
             [
              0.6666666666666666,
              "#ed7953"
             ],
             [
              0.7777777777777778,
              "#fb9f3a"
             ],
             [
              0.8888888888888888,
              "#fdca26"
             ],
             [
              1,
              "#f0f921"
             ]
            ],
            "type": "heatmapgl"
           }
          ],
          "histogram": [
           {
            "marker": {
             "pattern": {
              "fillmode": "overlay",
              "size": 10,
              "solidity": 0.2
             }
            },
            "type": "histogram"
           }
          ],
          "histogram2d": [
           {
            "colorbar": {
             "outlinewidth": 0,
             "ticks": ""
            },
            "colorscale": [
             [
              0,
              "#0d0887"
             ],
             [
              0.1111111111111111,
              "#46039f"
             ],
             [
              0.2222222222222222,
              "#7201a8"
             ],
             [
              0.3333333333333333,
              "#9c179e"
             ],
             [
              0.4444444444444444,
              "#bd3786"
             ],
             [
              0.5555555555555556,
              "#d8576b"
             ],
             [
              0.6666666666666666,
              "#ed7953"
             ],
             [
              0.7777777777777778,
              "#fb9f3a"
             ],
             [
              0.8888888888888888,
              "#fdca26"
             ],
             [
              1,
              "#f0f921"
             ]
            ],
            "type": "histogram2d"
           }
          ],
          "histogram2dcontour": [
           {
            "colorbar": {
             "outlinewidth": 0,
             "ticks": ""
            },
            "colorscale": [
             [
              0,
              "#0d0887"
             ],
             [
              0.1111111111111111,
              "#46039f"
             ],
             [
              0.2222222222222222,
              "#7201a8"
             ],
             [
              0.3333333333333333,
              "#9c179e"
             ],
             [
              0.4444444444444444,
              "#bd3786"
             ],
             [
              0.5555555555555556,
              "#d8576b"
             ],
             [
              0.6666666666666666,
              "#ed7953"
             ],
             [
              0.7777777777777778,
              "#fb9f3a"
             ],
             [
              0.8888888888888888,
              "#fdca26"
             ],
             [
              1,
              "#f0f921"
             ]
            ],
            "type": "histogram2dcontour"
           }
          ],
          "mesh3d": [
           {
            "colorbar": {
             "outlinewidth": 0,
             "ticks": ""
            },
            "type": "mesh3d"
           }
          ],
          "parcoords": [
           {
            "line": {
             "colorbar": {
              "outlinewidth": 0,
              "ticks": ""
             }
            },
            "type": "parcoords"
           }
          ],
          "pie": [
           {
            "automargin": true,
            "type": "pie"
           }
          ],
          "scatter": [
           {
            "fillpattern": {
             "fillmode": "overlay",
             "size": 10,
             "solidity": 0.2
            },
            "type": "scatter"
           }
          ],
          "scatter3d": [
           {
            "line": {
             "colorbar": {
              "outlinewidth": 0,
              "ticks": ""
             }
            },
            "marker": {
             "colorbar": {
              "outlinewidth": 0,
              "ticks": ""
             }
            },
            "type": "scatter3d"
           }
          ],
          "scattercarpet": [
           {
            "marker": {
             "colorbar": {
              "outlinewidth": 0,
              "ticks": ""
             }
            },
            "type": "scattercarpet"
           }
          ],
          "scattergeo": [
           {
            "marker": {
             "colorbar": {
              "outlinewidth": 0,
              "ticks": ""
             }
            },
            "type": "scattergeo"
           }
          ],
          "scattergl": [
           {
            "marker": {
             "colorbar": {
              "outlinewidth": 0,
              "ticks": ""
             }
            },
            "type": "scattergl"
           }
          ],
          "scattermapbox": [
           {
            "marker": {
             "colorbar": {
              "outlinewidth": 0,
              "ticks": ""
             }
            },
            "type": "scattermapbox"
           }
          ],
          "scatterpolar": [
           {
            "marker": {
             "colorbar": {
              "outlinewidth": 0,
              "ticks": ""
             }
            },
            "type": "scatterpolar"
           }
          ],
          "scatterpolargl": [
           {
            "marker": {
             "colorbar": {
              "outlinewidth": 0,
              "ticks": ""
             }
            },
            "type": "scatterpolargl"
           }
          ],
          "scatterternary": [
           {
            "marker": {
             "colorbar": {
              "outlinewidth": 0,
              "ticks": ""
             }
            },
            "type": "scatterternary"
           }
          ],
          "surface": [
           {
            "colorbar": {
             "outlinewidth": 0,
             "ticks": ""
            },
            "colorscale": [
             [
              0,
              "#0d0887"
             ],
             [
              0.1111111111111111,
              "#46039f"
             ],
             [
              0.2222222222222222,
              "#7201a8"
             ],
             [
              0.3333333333333333,
              "#9c179e"
             ],
             [
              0.4444444444444444,
              "#bd3786"
             ],
             [
              0.5555555555555556,
              "#d8576b"
             ],
             [
              0.6666666666666666,
              "#ed7953"
             ],
             [
              0.7777777777777778,
              "#fb9f3a"
             ],
             [
              0.8888888888888888,
              "#fdca26"
             ],
             [
              1,
              "#f0f921"
             ]
            ],
            "type": "surface"
           }
          ],
          "table": [
           {
            "cells": {
             "fill": {
              "color": "#EBF0F8"
             },
             "line": {
              "color": "white"
             }
            },
            "header": {
             "fill": {
              "color": "#C8D4E3"
             },
             "line": {
              "color": "white"
             }
            },
            "type": "table"
           }
          ]
         },
         "layout": {
          "annotationdefaults": {
           "arrowcolor": "#2a3f5f",
           "arrowhead": 0,
           "arrowwidth": 1
          },
          "autotypenumbers": "strict",
          "coloraxis": {
           "colorbar": {
            "outlinewidth": 0,
            "ticks": ""
           }
          },
          "colorscale": {
           "diverging": [
            [
             0,
             "#8e0152"
            ],
            [
             0.1,
             "#c51b7d"
            ],
            [
             0.2,
             "#de77ae"
            ],
            [
             0.3,
             "#f1b6da"
            ],
            [
             0.4,
             "#fde0ef"
            ],
            [
             0.5,
             "#f7f7f7"
            ],
            [
             0.6,
             "#e6f5d0"
            ],
            [
             0.7,
             "#b8e186"
            ],
            [
             0.8,
             "#7fbc41"
            ],
            [
             0.9,
             "#4d9221"
            ],
            [
             1,
             "#276419"
            ]
           ],
           "sequential": [
            [
             0,
             "#0d0887"
            ],
            [
             0.1111111111111111,
             "#46039f"
            ],
            [
             0.2222222222222222,
             "#7201a8"
            ],
            [
             0.3333333333333333,
             "#9c179e"
            ],
            [
             0.4444444444444444,
             "#bd3786"
            ],
            [
             0.5555555555555556,
             "#d8576b"
            ],
            [
             0.6666666666666666,
             "#ed7953"
            ],
            [
             0.7777777777777778,
             "#fb9f3a"
            ],
            [
             0.8888888888888888,
             "#fdca26"
            ],
            [
             1,
             "#f0f921"
            ]
           ],
           "sequentialminus": [
            [
             0,
             "#0d0887"
            ],
            [
             0.1111111111111111,
             "#46039f"
            ],
            [
             0.2222222222222222,
             "#7201a8"
            ],
            [
             0.3333333333333333,
             "#9c179e"
            ],
            [
             0.4444444444444444,
             "#bd3786"
            ],
            [
             0.5555555555555556,
             "#d8576b"
            ],
            [
             0.6666666666666666,
             "#ed7953"
            ],
            [
             0.7777777777777778,
             "#fb9f3a"
            ],
            [
             0.8888888888888888,
             "#fdca26"
            ],
            [
             1,
             "#f0f921"
            ]
           ]
          },
          "colorway": [
           "#636efa",
           "#EF553B",
           "#00cc96",
           "#ab63fa",
           "#FFA15A",
           "#19d3f3",
           "#FF6692",
           "#B6E880",
           "#FF97FF",
           "#FECB52"
          ],
          "font": {
           "color": "#2a3f5f"
          },
          "geo": {
           "bgcolor": "white",
           "lakecolor": "white",
           "landcolor": "#E5ECF6",
           "showlakes": true,
           "showland": true,
           "subunitcolor": "white"
          },
          "hoverlabel": {
           "align": "left"
          },
          "hovermode": "closest",
          "mapbox": {
           "style": "light"
          },
          "paper_bgcolor": "white",
          "plot_bgcolor": "#E5ECF6",
          "polar": {
           "angularaxis": {
            "gridcolor": "white",
            "linecolor": "white",
            "ticks": ""
           },
           "bgcolor": "#E5ECF6",
           "radialaxis": {
            "gridcolor": "white",
            "linecolor": "white",
            "ticks": ""
           }
          },
          "scene": {
           "xaxis": {
            "backgroundcolor": "#E5ECF6",
            "gridcolor": "white",
            "gridwidth": 2,
            "linecolor": "white",
            "showbackground": true,
            "ticks": "",
            "zerolinecolor": "white"
           },
           "yaxis": {
            "backgroundcolor": "#E5ECF6",
            "gridcolor": "white",
            "gridwidth": 2,
            "linecolor": "white",
            "showbackground": true,
            "ticks": "",
            "zerolinecolor": "white"
           },
           "zaxis": {
            "backgroundcolor": "#E5ECF6",
            "gridcolor": "white",
            "gridwidth": 2,
            "linecolor": "white",
            "showbackground": true,
            "ticks": "",
            "zerolinecolor": "white"
           }
          },
          "shapedefaults": {
           "line": {
            "color": "#2a3f5f"
           }
          },
          "ternary": {
           "aaxis": {
            "gridcolor": "white",
            "linecolor": "white",
            "ticks": ""
           },
           "baxis": {
            "gridcolor": "white",
            "linecolor": "white",
            "ticks": ""
           },
           "bgcolor": "#E5ECF6",
           "caxis": {
            "gridcolor": "white",
            "linecolor": "white",
            "ticks": ""
           }
          },
          "title": {
           "x": 0.05
          },
          "xaxis": {
           "automargin": true,
           "gridcolor": "white",
           "linecolor": "white",
           "ticks": "",
           "title": {
            "standoff": 15
           },
           "zerolinecolor": "white",
           "zerolinewidth": 2
          },
          "yaxis": {
           "automargin": true,
           "gridcolor": "white",
           "linecolor": "white",
           "ticks": "",
           "title": {
            "standoff": 15
           },
           "zerolinecolor": "white",
           "zerolinewidth": 2
          }
         }
        },
        "title": {
         "text": "A1-A5 Events"
        },
        "width": 1200
       }
      }
     },
     "metadata": {},
     "output_type": "display_data"
    },
    {
     "data": {
      "application/vnd.plotly.v1+json": {
       "config": {
        "plotlyServerURL": "https://plot.ly"
       },
       "data": [
        {
         "customdata": [
          [
           19.9552971,
           50.0439756,
           [
            5,
            4
           ],
           54
          ],
          [
           19.955407,
           50.0439658,
           [
            5,
            4
           ],
           54
          ],
          [
           19.9554362,
           50.043881,
           [
            5,
            4
           ],
           54
          ],
          [
           19.9555291,
           50.0438764,
           [
            5,
            4
           ],
           54
          ],
          [
           19.9565761,
           50.044069,
           [
            6,
            4
           ],
           64
          ],
          [
           19.9576786,
           50.0438588,
           [
            6,
            4
           ],
           64
          ],
          [
           19.9580451,
           50.0438061,
           [
            6,
            4
           ],
           64
          ],
          [
           19.9588542,
           50.0436816,
           [
            7,
            3
           ],
           73
          ],
          [
           19.9593014,
           50.0435971,
           [
            7,
            3
           ],
           73
          ],
          [
           19.9609912,
           50.0421791,
           [
            7,
            2
           ],
           72
          ],
          [
           19.9628379,
           50.0418007,
           [
            8,
            2
           ],
           82
          ],
          [
           19.9646071,
           50.0423506,
           [
            9,
            2
           ],
           92
          ],
          [
           19.9643192,
           50.0424699,
           [
            9,
            2
           ],
           92
          ],
          [
           19.9639957,
           50.0426539,
           [
            9,
            2
           ],
           92
          ],
          [
           19.9611108,
           50.0423635,
           [
            7,
            2
           ],
           72
          ],
          [
           19.9599164,
           50.0433273,
           [
            7,
            3
           ],
           73
          ],
          [
           19.9582089,
           50.0442152,
           [
            6,
            4
           ],
           64
          ],
          [
           19.9574153,
           50.0449612,
           [
            6,
            5
           ],
           65
          ],
          [
           19.9586771,
           50.04487,
           [
            7,
            5
           ],
           75
          ],
          [
           19.9598041,
           50.0446543,
           [
            7,
            4
           ],
           74
          ],
          [
           19.9614937,
           50.0446952,
           [
            8,
            4
           ],
           84
          ],
          [
           19.9621964,
           50.0448849,
           [
            8,
            5
           ],
           85
          ],
          [
           19.9609392,
           50.0445756,
           [
            7,
            4
           ],
           74
          ],
          [
           19.9614751,
           50.0439235,
           [
            8,
            4
           ],
           84
          ],
          [
           19.9614804,
           50.0438055,
           [
            8,
            4
           ],
           84
          ],
          [
           19.9613428,
           50.0437732,
           [
            8,
            4
           ],
           84
          ],
          [
           19.9609091,
           50.0436412,
           [
            7,
            3
           ],
           73
          ],
          [
           19.9605888,
           50.0435203,
           [
            7,
            3
           ],
           73
          ],
          [
           19.9601662,
           50.0433589,
           [
            7,
            3
           ],
           73
          ],
          [
           19.9598751,
           50.0432567,
           [
            7,
            3
           ],
           73
          ],
          [
           19.9595133,
           50.0436194,
           [
            7,
            3
           ],
           73
          ],
          [
           19.959915,
           50.0439087,
           [
            7,
            4
           ],
           74
          ],
          [
           19.9603239,
           50.0440777,
           [
            7,
            4
           ],
           74
          ],
          [
           19.9609223,
           50.0443209,
           [
            7,
            4
           ],
           74
          ],
          [
           19.9612321,
           50.0444139,
           [
            8,
            4
           ],
           84
          ],
          [
           19.9611991,
           50.044571,
           [
            8,
            4
           ],
           84
          ],
          [
           19.9606298,
           50.0447841,
           [
            7,
            5
           ],
           75
          ],
          [
           19.9595939,
           50.0447945,
           [
            7,
            5
           ],
           75
          ],
          [
           19.958227,
           50.0449784,
           [
            6,
            5
           ],
           65
          ],
          [
           19.9579305,
           50.0450376,
           [
            6,
            5
           ],
           65
          ],
          [
           19.9571518,
           50.0450607,
           [
            6,
            5
           ],
           65
          ],
          [
           19.9569724,
           50.0452455,
           [
            6,
            5
           ],
           65
          ],
          [
           19.9578677,
           50.044267,
           [
            6,
            4
           ],
           64
          ],
          [
           19.9572921,
           50.0443409,
           [
            6,
            4
           ],
           64
          ],
          [
           19.9562091,
           50.0448242,
           [
            6,
            5
           ],
           65
          ],
          [
           19.9559137,
           50.0450921,
           [
            6,
            5
           ],
           65
          ],
          [
           19.9559169,
           50.0451001,
           [
            6,
            5
           ],
           65
          ],
          [
           19.9557433,
           50.04528,
           [
            6,
            5
           ],
           65
          ],
          [
           19.955392,
           50.045946,
           [
            5,
            6
           ],
           56
          ],
          [
           19.9551673,
           50.0469147,
           [
            5,
            7
           ],
           57
          ],
          [
           19.9551112,
           50.0470795,
           [
            5,
            7
           ],
           57
          ],
          [
           19.9553623,
           50.0473473,
           [
            5,
            7
           ],
           57
          ],
          [
           19.956333,
           50.0473378,
           [
            6,
            7
           ],
           67
          ],
          [
           19.957592,
           50.0473393,
           [
            6,
            7
           ],
           67
          ],
          [
           19.9578008,
           50.0470486,
           [
            6,
            7
           ],
           67
          ],
          [
           19.9577583,
           50.0465491,
           [
            6,
            6
           ],
           66
          ],
          [
           19.9576821,
           50.0461799,
           [
            6,
            6
           ],
           66
          ],
          [
           19.9572933,
           50.0459317,
           [
            6,
            6
           ],
           66
          ],
          [
           19.9568124,
           50.0459123,
           [
            6,
            6
           ],
           66
          ],
          [
           19.9566905,
           50.046435,
           [
            6,
            6
           ],
           66
          ],
          [
           19.9566189,
           50.0466263,
           [
            6,
            6
           ],
           66
          ],
          [
           19.9566439,
           50.0470735,
           [
            6,
            7
           ],
           67
          ],
          [
           19.956633,
           50.0473061,
           [
            6,
            7
           ],
           67
          ],
          [
           19.9571688,
           50.0473144,
           [
            6,
            7
           ],
           67
          ],
          [
           19.9576396,
           50.0472931,
           [
            6,
            7
           ],
           67
          ],
          [
           19.9578534,
           50.0471157,
           [
            6,
            7
           ],
           67
          ],
          [
           19.9578005,
           50.0467281,
           [
            6,
            7
           ],
           67
          ],
          [
           19.9577382,
           50.0463486,
           [
            6,
            6
           ],
           66
          ],
          [
           19.9577801,
           50.0459292,
           [
            6,
            6
           ],
           66
          ],
          [
           19.9578088,
           50.0455916,
           [
            6,
            5
           ],
           65
          ],
          [
           19.957776,
           50.045435,
           [
            6,
            5
           ],
           65
          ],
          [
           19.9577941,
           50.0451006,
           [
            6,
            5
           ],
           65
          ],
          [
           19.9574917,
           50.0448292,
           [
            6,
            5
           ],
           65
          ],
          [
           19.9577754,
           50.0445052,
           [
            6,
            4
           ],
           64
          ],
          [
           19.957904,
           50.0442764,
           [
            6,
            4
           ],
           64
          ],
          [
           19.9571302,
           50.0444969,
           [
            6,
            4
           ],
           64
          ],
          [
           19.9559543,
           50.0450498,
           [
            6,
            5
           ],
           65
          ],
          [
           19.9542266,
           50.0452101,
           [
            5,
            5
           ],
           55
          ],
          [
           19.9525952,
           50.0451379,
           [
            4,
            5
           ],
           45
          ],
          [
           19.9508881,
           50.0451097,
           [
            4,
            5
           ],
           45
          ],
          [
           19.9495293,
           50.0449852,
           [
            3,
            5
           ],
           35
          ],
          [
           19.9481694,
           50.044394,
           [
            3,
            4
           ],
           34
          ],
          [
           19.9462349,
           50.0434267,
           [
            2,
            3
           ],
           23
          ],
          [
           19.944548,
           50.0425345,
           [
            1,
            2
           ],
           12
          ],
          [
           19.9432492,
           50.0418475,
           [
            1,
            2
           ],
           12
          ],
          [
           19.9429001,
           50.0421735,
           [
            1,
            2
           ],
           12
          ],
          [
           19.942478,
           50.0425242,
           [
            1,
            2
           ],
           12
          ],
          [
           19.9420322,
           50.042881,
           [
            0,
            3
           ],
           3
          ],
          [
           19.9414344,
           50.0432599,
           [
            0,
            3
           ],
           3
          ],
          [
           19.9414921,
           50.0439236,
           [
            0,
            4
           ],
           4
          ],
          [
           19.9429862,
           50.0441504,
           [
            1,
            4
           ],
           14
          ],
          [
           19.9440192,
           50.0440468,
           [
            1,
            4
           ],
           14
          ],
          [
           19.9445168,
           50.0436041,
           [
            1,
            3
           ],
           13
          ],
          [
           19.9448311,
           50.0433375,
           [
            1,
            3
           ],
           13
          ],
          [
           19.944119,
           50.043165,
           [
            1,
            3
           ],
           13
          ],
          [
           19.9433193,
           50.0430665,
           [
            1,
            3
           ],
           13
          ],
          [
           19.9425382,
           50.0429553,
           [
            1,
            3
           ],
           13
          ],
          [
           19.9415962,
           50.0431456,
           [
            0,
            3
           ],
           3
          ],
          [
           19.941523,
           50.0439442,
           [
            0,
            4
           ],
           4
          ],
          [
           19.9430528,
           50.0441666,
           [
            1,
            4
           ],
           14
          ],
          [
           19.9446608,
           50.0444907,
           [
            1,
            4
           ],
           14
          ],
          [
           19.9455492,
           50.0447623,
           [
            2,
            5
           ],
           25
          ],
          [
           19.9453606,
           50.044707,
           [
            2,
            4
           ],
           24
          ],
          [
           19.9453673,
           50.0447066,
           [
            2,
            4
           ],
           24
          ],
          [
           19.9453711,
           50.044702,
           [
            2,
            4
           ],
           24
          ],
          [
           19.9458321,
           50.0445644,
           [
            2,
            4
           ],
           24
          ],
          [
           19.9462527,
           50.0442888,
           [
            2,
            4
           ],
           24
          ],
          [
           19.9470109,
           50.0437851,
           [
            2,
            4
           ],
           24
          ],
          [
           19.94795,
           50.0439563,
           [
            3,
            4
           ],
           34
          ],
          [
           19.9486241,
           50.0443156,
           [
            3,
            4
           ],
           34
          ],
          [
           19.9492811,
           50.0438077,
           [
            3,
            4
           ],
           34
          ],
          [
           19.9497305,
           50.0441173,
           [
            3,
            4
           ],
           34
          ],
          [
           19.9496567,
           50.0448271,
           [
            3,
            5
           ],
           35
          ],
          [
           19.9496404,
           50.0448998,
           [
            3,
            5
           ],
           35
          ],
          [
           19.9488735,
           50.0447133,
           [
            3,
            5
           ],
           35
          ],
          [
           19.9478505,
           50.0451365,
           [
            3,
            5
           ],
           35
          ],
          [
           19.9473141,
           50.0453443,
           [
            2,
            5
           ],
           25
          ],
          [
           19.9469416,
           50.0453934,
           [
            2,
            5
           ],
           25
          ],
          [
           19.9460873,
           50.0450589,
           [
            2,
            5
           ],
           25
          ],
          [
           19.9458103,
           50.0448946,
           [
            2,
            5
           ],
           25
          ],
          [
           19.9458117,
           50.0448785,
           [
            2,
            5
           ],
           25
          ],
          [
           19.9455778,
           50.044735,
           [
            2,
            5
           ],
           25
          ],
          [
           19.9445056,
           50.044439,
           [
            1,
            4
           ],
           14
          ],
          [
           19.9441782,
           50.0439012,
           [
            1,
            4
           ],
           14
          ],
          [
           19.9445516,
           50.0435834,
           [
            1,
            3
           ],
           13
          ],
          [
           19.944872,
           50.0434433,
           [
            2,
            3
           ],
           23
          ],
          [
           19.94535,
           50.043664,
           [
            2,
            3
           ],
           23
          ],
          [
           19.945975,
           50.0440133,
           [
            2,
            4
           ],
           24
          ],
          [
           19.9463876,
           50.0441923,
           [
            2,
            4
           ],
           24
          ],
          [
           19.9467891,
           50.0440001,
           [
            2,
            4
           ],
           24
          ],
          [
           19.9468273,
           50.0439727,
           [
            2,
            4
           ],
           24
          ],
          [
           19.9473934,
           50.0440242,
           [
            2,
            4
           ],
           24
          ],
          [
           19.9486155,
           50.0446493,
           [
            3,
            4
           ],
           34
          ],
          [
           19.9481076,
           50.0451678,
           [
            3,
            5
           ],
           35
          ],
          [
           19.9481708,
           50.0459479,
           [
            3,
            6
           ],
           36
          ],
          [
           19.9488924,
           50.0461599,
           [
            3,
            6
           ],
           36
          ],
          [
           19.9490433,
           50.046168,
           [
            3,
            6
           ],
           36
          ],
          [
           19.949473,
           50.046342,
           [
            3,
            6
           ],
           36
          ],
          [
           19.9499699,
           50.0465704,
           [
            3,
            6
           ],
           36
          ],
          [
           19.9504418,
           50.0467767,
           [
            4,
            7
           ],
           47
          ],
          [
           19.9510331,
           50.0470189,
           [
            4,
            7
           ],
           47
          ],
          [
           19.9519524,
           50.0472805,
           [
            4,
            7
           ],
           47
          ],
          [
           19.9532717,
           50.0476201,
           [
            5,
            7
           ],
           57
          ],
          [
           19.953957,
           50.0471907,
           [
            5,
            7
           ],
           57
          ],
          [
           19.9540694,
           50.0468147,
           [
            5,
            7
           ],
           57
          ],
          [
           19.9548899,
           50.0463109,
           [
            5,
            6
           ],
           56
          ],
          [
           19.9552007,
           50.0460361,
           [
            5,
            6
           ],
           56
          ],
          [
           19.9553938,
           50.0455022,
           [
            5,
            5
           ],
           55
          ],
          [
           19.9553881,
           50.0455206,
           [
            5,
            5
           ],
           55
          ],
          [
           19.9553983,
           50.0455189,
           [
            5,
            5
           ],
           55
          ],
          [
           19.9554035,
           50.0455259,
           [
            5,
            5
           ],
           55
          ],
          [
           19.9553921,
           50.0455226,
           [
            5,
            5
           ],
           55
          ],
          [
           19.9553982,
           50.0455162,
           [
            5,
            5
           ],
           55
          ],
          [
           19.9553921,
           50.045518,
           [
            5,
            5
           ],
           55
          ],
          [
           19.9553886,
           50.0455155,
           [
            5,
            5
           ],
           55
          ],
          [
           19.9553757,
           50.0455234,
           [
            5,
            5
           ],
           55
          ],
          [
           19.9553758,
           50.0455249,
           [
            5,
            5
           ],
           55
          ],
          [
           19.9553779,
           50.0455322,
           [
            5,
            5
           ],
           55
          ],
          [
           19.9552241,
           50.0453692,
           [
            5,
            5
           ],
           55
          ],
          [
           19.9541911,
           50.0451611,
           [
            5,
            5
           ],
           55
          ],
          [
           19.9524927,
           50.0450178,
           [
            4,
            5
           ],
           45
          ],
          [
           19.9524956,
           50.0457554,
           [
            4,
            6
           ],
           46
          ],
          [
           19.9530084,
           50.0457747,
           [
            4,
            6
           ],
           46
          ],
          [
           19.9537649,
           50.0456242,
           [
            5,
            5
           ],
           55
          ],
          [
           19.9538225,
           50.0470848,
           [
            5,
            7
           ],
           57
          ],
          [
           19.9531405,
           50.0469892,
           [
            5,
            7
           ],
           57
          ],
          [
           19.9523408,
           50.0468415,
           [
            4,
            7
           ],
           47
          ],
          [
           19.9516901,
           50.046698,
           [
            4,
            7
           ],
           47
          ],
          [
           19.951052,
           50.0465479,
           [
            4,
            6
           ],
           46
          ],
          [
           19.9503848,
           50.0463672,
           [
            4,
            6
           ],
           46
          ],
          [
           19.9493751,
           50.0459365,
           [
            3,
            6
           ],
           36
          ],
          [
           19.9503859,
           50.0459438,
           [
            4,
            6
           ],
           46
          ],
          [
           19.9506742,
           50.0459402,
           [
            4,
            6
           ],
           46
          ],
          [
           19.9509373,
           50.0455168,
           [
            4,
            5
           ],
           45
          ],
          [
           19.9509675,
           50.0452925,
           [
            4,
            5
           ],
           45
          ],
          [
           19.9509618,
           50.0450095,
           [
            4,
            5
           ],
           45
          ],
          [
           19.951012,
           50.0446932,
           [
            4,
            4
           ],
           44
          ],
          [
           19.9510907,
           50.0436792,
           [
            4,
            3
           ],
           43
          ],
          [
           19.9514161,
           50.0435607,
           [
            4,
            3
           ],
           43
          ],
          [
           19.9521351,
           50.0436148,
           [
            4,
            3
           ],
           43
          ],
          [
           19.9538031,
           50.0437342,
           [
            5,
            4
           ],
           54
          ],
          [
           19.9550561,
           50.0438627,
           [
            5,
            4
           ],
           54
          ]
         ],
         "hovertemplate": "latitude=%{customdata[1]}<br>longitude=%{customdata[0]}<br>chunk=%{customdata[2]}<br>label=%{customdata[3]}<extra></extra>",
         "lat": [
          50.0439756,
          50.0439658,
          50.043881,
          50.0438764,
          50.044069,
          50.0438588,
          50.0438061,
          50.0436816,
          50.0435971,
          50.0421791,
          50.0418007,
          50.0423506,
          50.0424699,
          50.0426539,
          50.0423635,
          50.0433273,
          50.0442152,
          50.0449612,
          50.04487,
          50.0446543,
          50.0446952,
          50.0448849,
          50.0445756,
          50.0439235,
          50.0438055,
          50.0437732,
          50.0436412,
          50.0435203,
          50.0433589,
          50.0432567,
          50.0436194,
          50.0439087,
          50.0440777,
          50.0443209,
          50.0444139,
          50.044571,
          50.0447841,
          50.0447945,
          50.0449784,
          50.0450376,
          50.0450607,
          50.0452455,
          50.044267,
          50.0443409,
          50.0448242,
          50.0450921,
          50.0451001,
          50.04528,
          50.045946,
          50.0469147,
          50.0470795,
          50.0473473,
          50.0473378,
          50.0473393,
          50.0470486,
          50.0465491,
          50.0461799,
          50.0459317,
          50.0459123,
          50.046435,
          50.0466263,
          50.0470735,
          50.0473061,
          50.0473144,
          50.0472931,
          50.0471157,
          50.0467281,
          50.0463486,
          50.0459292,
          50.0455916,
          50.045435,
          50.0451006,
          50.0448292,
          50.0445052,
          50.0442764,
          50.0444969,
          50.0450498,
          50.0452101,
          50.0451379,
          50.0451097,
          50.0449852,
          50.044394,
          50.0434267,
          50.0425345,
          50.0418475,
          50.0421735,
          50.0425242,
          50.042881,
          50.0432599,
          50.0439236,
          50.0441504,
          50.0440468,
          50.0436041,
          50.0433375,
          50.043165,
          50.0430665,
          50.0429553,
          50.0431456,
          50.0439442,
          50.0441666,
          50.0444907,
          50.0447623,
          50.044707,
          50.0447066,
          50.044702,
          50.0445644,
          50.0442888,
          50.0437851,
          50.0439563,
          50.0443156,
          50.0438077,
          50.0441173,
          50.0448271,
          50.0448998,
          50.0447133,
          50.0451365,
          50.0453443,
          50.0453934,
          50.0450589,
          50.0448946,
          50.0448785,
          50.044735,
          50.044439,
          50.0439012,
          50.0435834,
          50.0434433,
          50.043664,
          50.0440133,
          50.0441923,
          50.0440001,
          50.0439727,
          50.0440242,
          50.0446493,
          50.0451678,
          50.0459479,
          50.0461599,
          50.046168,
          50.046342,
          50.0465704,
          50.0467767,
          50.0470189,
          50.0472805,
          50.0476201,
          50.0471907,
          50.0468147,
          50.0463109,
          50.0460361,
          50.0455022,
          50.0455206,
          50.0455189,
          50.0455259,
          50.0455226,
          50.0455162,
          50.045518,
          50.0455155,
          50.0455234,
          50.0455249,
          50.0455322,
          50.0453692,
          50.0451611,
          50.0450178,
          50.0457554,
          50.0457747,
          50.0456242,
          50.0470848,
          50.0469892,
          50.0468415,
          50.046698,
          50.0465479,
          50.0463672,
          50.0459365,
          50.0459438,
          50.0459402,
          50.0455168,
          50.0452925,
          50.0450095,
          50.0446932,
          50.0436792,
          50.0435607,
          50.0436148,
          50.0437342,
          50.0438627
         ],
         "legendgroup": "",
         "lon": [
          19.9552971,
          19.955407,
          19.9554362,
          19.9555291,
          19.9565761,
          19.9576786,
          19.9580451,
          19.9588542,
          19.9593014,
          19.9609912,
          19.9628379,
          19.9646071,
          19.9643192,
          19.9639957,
          19.9611108,
          19.9599164,
          19.9582089,
          19.9574153,
          19.9586771,
          19.9598041,
          19.9614937,
          19.9621964,
          19.9609392,
          19.9614751,
          19.9614804,
          19.9613428,
          19.9609091,
          19.9605888,
          19.9601662,
          19.9598751,
          19.9595133,
          19.959915,
          19.9603239,
          19.9609223,
          19.9612321,
          19.9611991,
          19.9606298,
          19.9595939,
          19.958227,
          19.9579305,
          19.9571518,
          19.9569724,
          19.9578677,
          19.9572921,
          19.9562091,
          19.9559137,
          19.9559169,
          19.9557433,
          19.955392,
          19.9551673,
          19.9551112,
          19.9553623,
          19.956333,
          19.957592,
          19.9578008,
          19.9577583,
          19.9576821,
          19.9572933,
          19.9568124,
          19.9566905,
          19.9566189,
          19.9566439,
          19.956633,
          19.9571688,
          19.9576396,
          19.9578534,
          19.9578005,
          19.9577382,
          19.9577801,
          19.9578088,
          19.957776,
          19.9577941,
          19.9574917,
          19.9577754,
          19.957904,
          19.9571302,
          19.9559543,
          19.9542266,
          19.9525952,
          19.9508881,
          19.9495293,
          19.9481694,
          19.9462349,
          19.944548,
          19.9432492,
          19.9429001,
          19.942478,
          19.9420322,
          19.9414344,
          19.9414921,
          19.9429862,
          19.9440192,
          19.9445168,
          19.9448311,
          19.944119,
          19.9433193,
          19.9425382,
          19.9415962,
          19.941523,
          19.9430528,
          19.9446608,
          19.9455492,
          19.9453606,
          19.9453673,
          19.9453711,
          19.9458321,
          19.9462527,
          19.9470109,
          19.94795,
          19.9486241,
          19.9492811,
          19.9497305,
          19.9496567,
          19.9496404,
          19.9488735,
          19.9478505,
          19.9473141,
          19.9469416,
          19.9460873,
          19.9458103,
          19.9458117,
          19.9455778,
          19.9445056,
          19.9441782,
          19.9445516,
          19.944872,
          19.94535,
          19.945975,
          19.9463876,
          19.9467891,
          19.9468273,
          19.9473934,
          19.9486155,
          19.9481076,
          19.9481708,
          19.9488924,
          19.9490433,
          19.949473,
          19.9499699,
          19.9504418,
          19.9510331,
          19.9519524,
          19.9532717,
          19.953957,
          19.9540694,
          19.9548899,
          19.9552007,
          19.9553938,
          19.9553881,
          19.9553983,
          19.9554035,
          19.9553921,
          19.9553982,
          19.9553921,
          19.9553886,
          19.9553757,
          19.9553758,
          19.9553779,
          19.9552241,
          19.9541911,
          19.9524927,
          19.9524956,
          19.9530084,
          19.9537649,
          19.9538225,
          19.9531405,
          19.9523408,
          19.9516901,
          19.951052,
          19.9503848,
          19.9493751,
          19.9503859,
          19.9506742,
          19.9509373,
          19.9509675,
          19.9509618,
          19.951012,
          19.9510907,
          19.9514161,
          19.9521351,
          19.9538031,
          19.9550561
         ],
         "marker": {
          "color": "#636efa"
         },
         "mode": "markers",
         "name": "",
         "showlegend": false,
         "subplot": "mapbox",
         "type": "scattermapbox"
        }
       ],
       "layout": {
        "geo": {
         "fitbounds": "locations"
        },
        "legend": {
         "tracegroupgap": 0
        },
        "mapbox": {
         "center": {
          "lat": 50.0448672945055,
          "lon": 19.953038426923076
         },
         "domain": {
          "x": [
           0,
           1
          ],
          "y": [
           0,
           1
          ]
         },
         "layers": [
          {
           "color": "black",
           "line": {
            "width": 1
           },
           "source": {
            "geometry": {
             "coordinates": [
              [
               [
                19.9394344,
                50.0398007
               ],
               [
                19.94215167,
                50.0398007
               ],
               [
                19.94215167,
                50.049620100000006
               ],
               [
                19.9394344,
                50.049620100000006
               ],
               [
                19.9394344,
                50.0398007
               ]
              ],
              [
               [
                19.94215167,
                50.0398007
               ],
               [
                19.94486894,
                50.0398007
               ],
               [
                19.94486894,
                50.049620100000006
               ],
               [
                19.94215167,
                50.049620100000006
               ],
               [
                19.94215167,
                50.0398007
               ]
              ],
              [
               [
                19.94486894,
                50.0398007
               ],
               [
                19.947586209999997,
                50.0398007
               ],
               [
                19.947586209999997,
                50.049620100000006
               ],
               [
                19.94486894,
                50.049620100000006
               ],
               [
                19.94486894,
                50.0398007
               ]
              ],
              [
               [
                19.947586209999997,
                50.0398007
               ],
               [
                19.95030348,
                50.0398007
               ],
               [
                19.95030348,
                50.049620100000006
               ],
               [
                19.947586209999997,
                50.049620100000006
               ],
               [
                19.947586209999997,
                50.0398007
               ]
              ],
              [
               [
                19.95030348,
                50.0398007
               ],
               [
                19.95302075,
                50.0398007
               ],
               [
                19.95302075,
                50.049620100000006
               ],
               [
                19.95030348,
                50.049620100000006
               ],
               [
                19.95030348,
                50.0398007
               ]
              ],
              [
               [
                19.95302075,
                50.0398007
               ],
               [
                19.95573802,
                50.0398007
               ],
               [
                19.95573802,
                50.049620100000006
               ],
               [
                19.95302075,
                50.049620100000006
               ],
               [
                19.95302075,
                50.0398007
               ]
              ],
              [
               [
                19.95573802,
                50.0398007
               ],
               [
                19.958455289999996,
                50.0398007
               ],
               [
                19.958455289999996,
                50.049620100000006
               ],
               [
                19.95573802,
                50.049620100000006
               ],
               [
                19.95573802,
                50.0398007
               ]
              ],
              [
               [
                19.958455289999996,
                50.0398007
               ],
               [
                19.961172559999998,
                50.0398007
               ],
               [
                19.961172559999998,
                50.049620100000006
               ],
               [
                19.958455289999996,
                50.049620100000006
               ],
               [
                19.958455289999996,
                50.0398007
               ]
              ],
              [
               [
                19.961172559999998,
                50.0398007
               ],
               [
                19.96388983,
                50.0398007
               ],
               [
                19.96388983,
                50.049620100000006
               ],
               [
                19.961172559999998,
                50.049620100000006
               ],
               [
                19.961172559999998,
                50.0398007
               ]
              ],
              [
               [
                19.96388983,
                50.0398007
               ],
               [
                19.966607099999997,
                50.0398007
               ],
               [
                19.966607099999997,
                50.049620100000006
               ],
               [
                19.96388983,
                50.049620100000006
               ],
               [
                19.96388983,
                50.0398007
               ]
              ],
              [
               [
                19.9394344,
                50.0398007
               ],
               [
                19.966607099999997,
                50.0398007
               ],
               [
                19.966607099999997,
                50.04078264
               ],
               [
                19.9394344,
                50.04078264
               ],
               [
                19.9394344,
                50.0398007
               ]
              ],
              [
               [
                19.9394344,
                50.04078264
               ],
               [
                19.966607099999997,
                50.04078264
               ],
               [
                19.966607099999997,
                50.04176458
               ],
               [
                19.9394344,
                50.04176458
               ],
               [
                19.9394344,
                50.04078264
               ]
              ],
              [
               [
                19.9394344,
                50.04176458
               ],
               [
                19.966607099999997,
                50.04176458
               ],
               [
                19.966607099999997,
                50.04274652
               ],
               [
                19.9394344,
                50.04274652
               ],
               [
                19.9394344,
                50.04176458
               ]
              ],
              [
               [
                19.9394344,
                50.04274652
               ],
               [
                19.966607099999997,
                50.04274652
               ],
               [
                19.966607099999997,
                50.043728460000004
               ],
               [
                19.9394344,
                50.043728460000004
               ],
               [
                19.9394344,
                50.04274652
               ]
              ],
              [
               [
                19.9394344,
                50.043728460000004
               ],
               [
                19.966607099999997,
                50.043728460000004
               ],
               [
                19.966607099999997,
                50.0447104
               ],
               [
                19.9394344,
                50.0447104
               ],
               [
                19.9394344,
                50.043728460000004
               ]
              ],
              [
               [
                19.9394344,
                50.0447104
               ],
               [
                19.966607099999997,
                50.0447104
               ],
               [
                19.966607099999997,
                50.04569234
               ],
               [
                19.9394344,
                50.04569234
               ],
               [
                19.9394344,
                50.0447104
               ]
              ],
              [
               [
                19.9394344,
                50.04569234
               ],
               [
                19.966607099999997,
                50.04569234
               ],
               [
                19.966607099999997,
                50.046674280000005
               ],
               [
                19.9394344,
                50.046674280000005
               ],
               [
                19.9394344,
                50.04569234
               ]
              ],
              [
               [
                19.9394344,
                50.046674280000005
               ],
               [
                19.966607099999997,
                50.046674280000005
               ],
               [
                19.966607099999997,
                50.04765622000001
               ],
               [
                19.9394344,
                50.04765622000001
               ],
               [
                19.9394344,
                50.046674280000005
               ]
              ],
              [
               [
                19.9394344,
                50.04765622000001
               ],
               [
                19.966607099999997,
                50.04765622000001
               ],
               [
                19.966607099999997,
                50.04863816
               ],
               [
                19.9394344,
                50.04863816
               ],
               [
                19.9394344,
                50.04765622000001
               ]
              ],
              [
               [
                19.9394344,
                50.04863816
               ],
               [
                19.966607099999997,
                50.04863816
               ],
               [
                19.966607099999997,
                50.049620100000006
               ],
               [
                19.9394344,
                50.049620100000006
               ],
               [
                19.9394344,
                50.04863816
               ]
              ]
             ],
             "type": "Polygon"
            },
            "type": "Feature"
           },
           "sourcetype": "geojson",
           "type": "line"
          }
         ],
         "style": "open-street-map",
         "zoom": 8
        },
        "margin": {
         "b": 0,
         "l": 0,
         "r": 0,
         "t": 0
        },
        "template": {
         "data": {
          "bar": [
           {
            "error_x": {
             "color": "#2a3f5f"
            },
            "error_y": {
             "color": "#2a3f5f"
            },
            "marker": {
             "line": {
              "color": "#E5ECF6",
              "width": 0.5
             },
             "pattern": {
              "fillmode": "overlay",
              "size": 10,
              "solidity": 0.2
             }
            },
            "type": "bar"
           }
          ],
          "barpolar": [
           {
            "marker": {
             "line": {
              "color": "#E5ECF6",
              "width": 0.5
             },
             "pattern": {
              "fillmode": "overlay",
              "size": 10,
              "solidity": 0.2
             }
            },
            "type": "barpolar"
           }
          ],
          "carpet": [
           {
            "aaxis": {
             "endlinecolor": "#2a3f5f",
             "gridcolor": "white",
             "linecolor": "white",
             "minorgridcolor": "white",
             "startlinecolor": "#2a3f5f"
            },
            "baxis": {
             "endlinecolor": "#2a3f5f",
             "gridcolor": "white",
             "linecolor": "white",
             "minorgridcolor": "white",
             "startlinecolor": "#2a3f5f"
            },
            "type": "carpet"
           }
          ],
          "choropleth": [
           {
            "colorbar": {
             "outlinewidth": 0,
             "ticks": ""
            },
            "type": "choropleth"
           }
          ],
          "contour": [
           {
            "colorbar": {
             "outlinewidth": 0,
             "ticks": ""
            },
            "colorscale": [
             [
              0,
              "#0d0887"
             ],
             [
              0.1111111111111111,
              "#46039f"
             ],
             [
              0.2222222222222222,
              "#7201a8"
             ],
             [
              0.3333333333333333,
              "#9c179e"
             ],
             [
              0.4444444444444444,
              "#bd3786"
             ],
             [
              0.5555555555555556,
              "#d8576b"
             ],
             [
              0.6666666666666666,
              "#ed7953"
             ],
             [
              0.7777777777777778,
              "#fb9f3a"
             ],
             [
              0.8888888888888888,
              "#fdca26"
             ],
             [
              1,
              "#f0f921"
             ]
            ],
            "type": "contour"
           }
          ],
          "contourcarpet": [
           {
            "colorbar": {
             "outlinewidth": 0,
             "ticks": ""
            },
            "type": "contourcarpet"
           }
          ],
          "heatmap": [
           {
            "colorbar": {
             "outlinewidth": 0,
             "ticks": ""
            },
            "colorscale": [
             [
              0,
              "#0d0887"
             ],
             [
              0.1111111111111111,
              "#46039f"
             ],
             [
              0.2222222222222222,
              "#7201a8"
             ],
             [
              0.3333333333333333,
              "#9c179e"
             ],
             [
              0.4444444444444444,
              "#bd3786"
             ],
             [
              0.5555555555555556,
              "#d8576b"
             ],
             [
              0.6666666666666666,
              "#ed7953"
             ],
             [
              0.7777777777777778,
              "#fb9f3a"
             ],
             [
              0.8888888888888888,
              "#fdca26"
             ],
             [
              1,
              "#f0f921"
             ]
            ],
            "type": "heatmap"
           }
          ],
          "heatmapgl": [
           {
            "colorbar": {
             "outlinewidth": 0,
             "ticks": ""
            },
            "colorscale": [
             [
              0,
              "#0d0887"
             ],
             [
              0.1111111111111111,
              "#46039f"
             ],
             [
              0.2222222222222222,
              "#7201a8"
             ],
             [
              0.3333333333333333,
              "#9c179e"
             ],
             [
              0.4444444444444444,
              "#bd3786"
             ],
             [
              0.5555555555555556,
              "#d8576b"
             ],
             [
              0.6666666666666666,
              "#ed7953"
             ],
             [
              0.7777777777777778,
              "#fb9f3a"
             ],
             [
              0.8888888888888888,
              "#fdca26"
             ],
             [
              1,
              "#f0f921"
             ]
            ],
            "type": "heatmapgl"
           }
          ],
          "histogram": [
           {
            "marker": {
             "pattern": {
              "fillmode": "overlay",
              "size": 10,
              "solidity": 0.2
             }
            },
            "type": "histogram"
           }
          ],
          "histogram2d": [
           {
            "colorbar": {
             "outlinewidth": 0,
             "ticks": ""
            },
            "colorscale": [
             [
              0,
              "#0d0887"
             ],
             [
              0.1111111111111111,
              "#46039f"
             ],
             [
              0.2222222222222222,
              "#7201a8"
             ],
             [
              0.3333333333333333,
              "#9c179e"
             ],
             [
              0.4444444444444444,
              "#bd3786"
             ],
             [
              0.5555555555555556,
              "#d8576b"
             ],
             [
              0.6666666666666666,
              "#ed7953"
             ],
             [
              0.7777777777777778,
              "#fb9f3a"
             ],
             [
              0.8888888888888888,
              "#fdca26"
             ],
             [
              1,
              "#f0f921"
             ]
            ],
            "type": "histogram2d"
           }
          ],
          "histogram2dcontour": [
           {
            "colorbar": {
             "outlinewidth": 0,
             "ticks": ""
            },
            "colorscale": [
             [
              0,
              "#0d0887"
             ],
             [
              0.1111111111111111,
              "#46039f"
             ],
             [
              0.2222222222222222,
              "#7201a8"
             ],
             [
              0.3333333333333333,
              "#9c179e"
             ],
             [
              0.4444444444444444,
              "#bd3786"
             ],
             [
              0.5555555555555556,
              "#d8576b"
             ],
             [
              0.6666666666666666,
              "#ed7953"
             ],
             [
              0.7777777777777778,
              "#fb9f3a"
             ],
             [
              0.8888888888888888,
              "#fdca26"
             ],
             [
              1,
              "#f0f921"
             ]
            ],
            "type": "histogram2dcontour"
           }
          ],
          "mesh3d": [
           {
            "colorbar": {
             "outlinewidth": 0,
             "ticks": ""
            },
            "type": "mesh3d"
           }
          ],
          "parcoords": [
           {
            "line": {
             "colorbar": {
              "outlinewidth": 0,
              "ticks": ""
             }
            },
            "type": "parcoords"
           }
          ],
          "pie": [
           {
            "automargin": true,
            "type": "pie"
           }
          ],
          "scatter": [
           {
            "fillpattern": {
             "fillmode": "overlay",
             "size": 10,
             "solidity": 0.2
            },
            "type": "scatter"
           }
          ],
          "scatter3d": [
           {
            "line": {
             "colorbar": {
              "outlinewidth": 0,
              "ticks": ""
             }
            },
            "marker": {
             "colorbar": {
              "outlinewidth": 0,
              "ticks": ""
             }
            },
            "type": "scatter3d"
           }
          ],
          "scattercarpet": [
           {
            "marker": {
             "colorbar": {
              "outlinewidth": 0,
              "ticks": ""
             }
            },
            "type": "scattercarpet"
           }
          ],
          "scattergeo": [
           {
            "marker": {
             "colorbar": {
              "outlinewidth": 0,
              "ticks": ""
             }
            },
            "type": "scattergeo"
           }
          ],
          "scattergl": [
           {
            "marker": {
             "colorbar": {
              "outlinewidth": 0,
              "ticks": ""
             }
            },
            "type": "scattergl"
           }
          ],
          "scattermapbox": [
           {
            "marker": {
             "colorbar": {
              "outlinewidth": 0,
              "ticks": ""
             }
            },
            "type": "scattermapbox"
           }
          ],
          "scatterpolar": [
           {
            "marker": {
             "colorbar": {
              "outlinewidth": 0,
              "ticks": ""
             }
            },
            "type": "scatterpolar"
           }
          ],
          "scatterpolargl": [
           {
            "marker": {
             "colorbar": {
              "outlinewidth": 0,
              "ticks": ""
             }
            },
            "type": "scatterpolargl"
           }
          ],
          "scatterternary": [
           {
            "marker": {
             "colorbar": {
              "outlinewidth": 0,
              "ticks": ""
             }
            },
            "type": "scatterternary"
           }
          ],
          "surface": [
           {
            "colorbar": {
             "outlinewidth": 0,
             "ticks": ""
            },
            "colorscale": [
             [
              0,
              "#0d0887"
             ],
             [
              0.1111111111111111,
              "#46039f"
             ],
             [
              0.2222222222222222,
              "#7201a8"
             ],
             [
              0.3333333333333333,
              "#9c179e"
             ],
             [
              0.4444444444444444,
              "#bd3786"
             ],
             [
              0.5555555555555556,
              "#d8576b"
             ],
             [
              0.6666666666666666,
              "#ed7953"
             ],
             [
              0.7777777777777778,
              "#fb9f3a"
             ],
             [
              0.8888888888888888,
              "#fdca26"
             ],
             [
              1,
              "#f0f921"
             ]
            ],
            "type": "surface"
           }
          ],
          "table": [
           {
            "cells": {
             "fill": {
              "color": "#EBF0F8"
             },
             "line": {
              "color": "white"
             }
            },
            "header": {
             "fill": {
              "color": "#C8D4E3"
             },
             "line": {
              "color": "white"
             }
            },
            "type": "table"
           }
          ]
         },
         "layout": {
          "annotationdefaults": {
           "arrowcolor": "#2a3f5f",
           "arrowhead": 0,
           "arrowwidth": 1
          },
          "autotypenumbers": "strict",
          "coloraxis": {
           "colorbar": {
            "outlinewidth": 0,
            "ticks": ""
           }
          },
          "colorscale": {
           "diverging": [
            [
             0,
             "#8e0152"
            ],
            [
             0.1,
             "#c51b7d"
            ],
            [
             0.2,
             "#de77ae"
            ],
            [
             0.3,
             "#f1b6da"
            ],
            [
             0.4,
             "#fde0ef"
            ],
            [
             0.5,
             "#f7f7f7"
            ],
            [
             0.6,
             "#e6f5d0"
            ],
            [
             0.7,
             "#b8e186"
            ],
            [
             0.8,
             "#7fbc41"
            ],
            [
             0.9,
             "#4d9221"
            ],
            [
             1,
             "#276419"
            ]
           ],
           "sequential": [
            [
             0,
             "#0d0887"
            ],
            [
             0.1111111111111111,
             "#46039f"
            ],
            [
             0.2222222222222222,
             "#7201a8"
            ],
            [
             0.3333333333333333,
             "#9c179e"
            ],
            [
             0.4444444444444444,
             "#bd3786"
            ],
            [
             0.5555555555555556,
             "#d8576b"
            ],
            [
             0.6666666666666666,
             "#ed7953"
            ],
            [
             0.7777777777777778,
             "#fb9f3a"
            ],
            [
             0.8888888888888888,
             "#fdca26"
            ],
            [
             1,
             "#f0f921"
            ]
           ],
           "sequentialminus": [
            [
             0,
             "#0d0887"
            ],
            [
             0.1111111111111111,
             "#46039f"
            ],
            [
             0.2222222222222222,
             "#7201a8"
            ],
            [
             0.3333333333333333,
             "#9c179e"
            ],
            [
             0.4444444444444444,
             "#bd3786"
            ],
            [
             0.5555555555555556,
             "#d8576b"
            ],
            [
             0.6666666666666666,
             "#ed7953"
            ],
            [
             0.7777777777777778,
             "#fb9f3a"
            ],
            [
             0.8888888888888888,
             "#fdca26"
            ],
            [
             1,
             "#f0f921"
            ]
           ]
          },
          "colorway": [
           "#636efa",
           "#EF553B",
           "#00cc96",
           "#ab63fa",
           "#FFA15A",
           "#19d3f3",
           "#FF6692",
           "#B6E880",
           "#FF97FF",
           "#FECB52"
          ],
          "font": {
           "color": "#2a3f5f"
          },
          "geo": {
           "bgcolor": "white",
           "lakecolor": "white",
           "landcolor": "#E5ECF6",
           "showlakes": true,
           "showland": true,
           "subunitcolor": "white"
          },
          "hoverlabel": {
           "align": "left"
          },
          "hovermode": "closest",
          "mapbox": {
           "style": "light"
          },
          "paper_bgcolor": "white",
          "plot_bgcolor": "#E5ECF6",
          "polar": {
           "angularaxis": {
            "gridcolor": "white",
            "linecolor": "white",
            "ticks": ""
           },
           "bgcolor": "#E5ECF6",
           "radialaxis": {
            "gridcolor": "white",
            "linecolor": "white",
            "ticks": ""
           }
          },
          "scene": {
           "xaxis": {
            "backgroundcolor": "#E5ECF6",
            "gridcolor": "white",
            "gridwidth": 2,
            "linecolor": "white",
            "showbackground": true,
            "ticks": "",
            "zerolinecolor": "white"
           },
           "yaxis": {
            "backgroundcolor": "#E5ECF6",
            "gridcolor": "white",
            "gridwidth": 2,
            "linecolor": "white",
            "showbackground": true,
            "ticks": "",
            "zerolinecolor": "white"
           },
           "zaxis": {
            "backgroundcolor": "#E5ECF6",
            "gridcolor": "white",
            "gridwidth": 2,
            "linecolor": "white",
            "showbackground": true,
            "ticks": "",
            "zerolinecolor": "white"
           }
          },
          "shapedefaults": {
           "line": {
            "color": "#2a3f5f"
           }
          },
          "ternary": {
           "aaxis": {
            "gridcolor": "white",
            "linecolor": "white",
            "ticks": ""
           },
           "baxis": {
            "gridcolor": "white",
            "linecolor": "white",
            "ticks": ""
           },
           "bgcolor": "#E5ECF6",
           "caxis": {
            "gridcolor": "white",
            "linecolor": "white",
            "ticks": ""
           }
          },
          "title": {
           "x": 0.05
          },
          "xaxis": {
           "automargin": true,
           "gridcolor": "white",
           "linecolor": "white",
           "ticks": "",
           "title": {
            "standoff": 15
           },
           "zerolinecolor": "white",
           "zerolinewidth": 2
          },
          "yaxis": {
           "automargin": true,
           "gridcolor": "white",
           "linecolor": "white",
           "ticks": "",
           "title": {
            "standoff": 15
           },
           "zerolinecolor": "white",
           "zerolinewidth": 2
          }
         }
        }
       }
      }
     },
     "metadata": {},
     "output_type": "display_data"
    }
   ],
   "source": [
    "gridlines = parser.generate_grid(PADDING, CHUNKS_COUNT)\n",
    "\n",
    "draw_events(events_df, grid=gridlines)\n",
    "draw_measurements(measurement_points_df, grid=gridlines)"
   ]
  },
  {
   "cell_type": "code",
   "execution_count": 11,
   "metadata": {},
   "outputs": [
    {
     "data": {
      "text/html": [
       "<div>\n",
       "<style scoped>\n",
       "    .dataframe tbody tr th:only-of-type {\n",
       "        vertical-align: middle;\n",
       "    }\n",
       "\n",
       "    .dataframe tbody tr th {\n",
       "        vertical-align: top;\n",
       "    }\n",
       "\n",
       "    .dataframe thead th {\n",
       "        text-align: right;\n",
       "    }\n",
       "</style>\n",
       "<table border=\"1\" class=\"dataframe\">\n",
       "  <thead>\n",
       "    <tr style=\"text-align: right;\">\n",
       "      <th></th>\n",
       "      <th>longitude</th>\n",
       "      <th>latitude</th>\n",
       "      <th>event</th>\n",
       "      <th>rsrp</th>\n",
       "      <th>rsrq</th>\n",
       "      <th>pci</th>\n",
       "      <th>mnc</th>\n",
       "      <th>ta</th>\n",
       "      <th>rssi</th>\n",
       "      <th>rssnr</th>\n",
       "      <th>cqi_table_index</th>\n",
       "      <th>cqi</th>\n",
       "      <th>level</th>\n",
       "      <th>earfcn</th>\n",
       "      <th>tac</th>\n",
       "      <th>bandwidth</th>\n",
       "      <th>mcc</th>\n",
       "      <th>dbm</th>\n",
       "      <th>chunk</th>\n",
       "      <th>label</th>\n",
       "    </tr>\n",
       "  </thead>\n",
       "  <tbody>\n",
       "    <tr>\n",
       "      <th>0</th>\n",
       "      <td>19.955436</td>\n",
       "      <td>50.043881</td>\n",
       "      <td>A4</td>\n",
       "      <td>-93</td>\n",
       "      <td>-14</td>\n",
       "      <td>19</td>\n",
       "      <td>6</td>\n",
       "      <td>2147483647</td>\n",
       "      <td>-59</td>\n",
       "      <td>2147483647</td>\n",
       "      <td>2147483647</td>\n",
       "      <td>2147483647</td>\n",
       "      <td>3</td>\n",
       "      <td>3350</td>\n",
       "      <td>22</td>\n",
       "      <td>20000</td>\n",
       "      <td>260</td>\n",
       "      <td>-93</td>\n",
       "      <td>(5, 4)</td>\n",
       "      <td>54</td>\n",
       "    </tr>\n",
       "    <tr>\n",
       "      <th>1</th>\n",
       "      <td>19.955529</td>\n",
       "      <td>50.043876</td>\n",
       "      <td>A3</td>\n",
       "      <td>-95</td>\n",
       "      <td>-15</td>\n",
       "      <td>19</td>\n",
       "      <td>6</td>\n",
       "      <td>2</td>\n",
       "      <td>-59</td>\n",
       "      <td>2147483647</td>\n",
       "      <td>2147483647</td>\n",
       "      <td>2147483647</td>\n",
       "      <td>3</td>\n",
       "      <td>3350</td>\n",
       "      <td>22</td>\n",
       "      <td>20000</td>\n",
       "      <td>260</td>\n",
       "      <td>-95</td>\n",
       "      <td>(5, 4)</td>\n",
       "      <td>54</td>\n",
       "    </tr>\n",
       "    <tr>\n",
       "      <th>2</th>\n",
       "      <td>19.955529</td>\n",
       "      <td>50.043876</td>\n",
       "      <td>A4</td>\n",
       "      <td>-95</td>\n",
       "      <td>-15</td>\n",
       "      <td>19</td>\n",
       "      <td>6</td>\n",
       "      <td>2</td>\n",
       "      <td>-59</td>\n",
       "      <td>2147483647</td>\n",
       "      <td>2147483647</td>\n",
       "      <td>2147483647</td>\n",
       "      <td>3</td>\n",
       "      <td>3350</td>\n",
       "      <td>22</td>\n",
       "      <td>20000</td>\n",
       "      <td>260</td>\n",
       "      <td>-95</td>\n",
       "      <td>(5, 4)</td>\n",
       "      <td>54</td>\n",
       "    </tr>\n",
       "    <tr>\n",
       "      <th>3</th>\n",
       "      <td>19.956576</td>\n",
       "      <td>50.044069</td>\n",
       "      <td>A4</td>\n",
       "      <td>-88</td>\n",
       "      <td>-14</td>\n",
       "      <td>214</td>\n",
       "      <td>6</td>\n",
       "      <td>2147483647</td>\n",
       "      <td>-55</td>\n",
       "      <td>2147483647</td>\n",
       "      <td>2147483647</td>\n",
       "      <td>2147483647</td>\n",
       "      <td>3</td>\n",
       "      <td>525</td>\n",
       "      <td>22</td>\n",
       "      <td>15000</td>\n",
       "      <td>260</td>\n",
       "      <td>-88</td>\n",
       "      <td>(6, 4)</td>\n",
       "      <td>64</td>\n",
       "    </tr>\n",
       "    <tr>\n",
       "      <th>4</th>\n",
       "      <td>19.957679</td>\n",
       "      <td>50.043859</td>\n",
       "      <td>A4</td>\n",
       "      <td>-90</td>\n",
       "      <td>-9</td>\n",
       "      <td>214</td>\n",
       "      <td>6</td>\n",
       "      <td>2</td>\n",
       "      <td>-61</td>\n",
       "      <td>2147483647</td>\n",
       "      <td>2147483647</td>\n",
       "      <td>2147483647</td>\n",
       "      <td>3</td>\n",
       "      <td>525</td>\n",
       "      <td>22</td>\n",
       "      <td>15000</td>\n",
       "      <td>260</td>\n",
       "      <td>-90</td>\n",
       "      <td>(6, 4)</td>\n",
       "      <td>64</td>\n",
       "    </tr>\n",
       "    <tr>\n",
       "      <th>...</th>\n",
       "      <td>...</td>\n",
       "      <td>...</td>\n",
       "      <td>...</td>\n",
       "      <td>...</td>\n",
       "      <td>...</td>\n",
       "      <td>...</td>\n",
       "      <td>...</td>\n",
       "      <td>...</td>\n",
       "      <td>...</td>\n",
       "      <td>...</td>\n",
       "      <td>...</td>\n",
       "      <td>...</td>\n",
       "      <td>...</td>\n",
       "      <td>...</td>\n",
       "      <td>...</td>\n",
       "      <td>...</td>\n",
       "      <td>...</td>\n",
       "      <td>...</td>\n",
       "      <td>...</td>\n",
       "      <td>...</td>\n",
       "    </tr>\n",
       "    <tr>\n",
       "      <th>281</th>\n",
       "      <td>19.953140</td>\n",
       "      <td>50.046989</td>\n",
       "      <td>A4</td>\n",
       "      <td>-100</td>\n",
       "      <td>-14</td>\n",
       "      <td>18</td>\n",
       "      <td>6</td>\n",
       "      <td>2147483647</td>\n",
       "      <td>-65</td>\n",
       "      <td>2147483647</td>\n",
       "      <td>2147483647</td>\n",
       "      <td>2147483647</td>\n",
       "      <td>2</td>\n",
       "      <td>3350</td>\n",
       "      <td>22</td>\n",
       "      <td>20000</td>\n",
       "      <td>260</td>\n",
       "      <td>-100</td>\n",
       "      <td>(5, 7)</td>\n",
       "      <td>57</td>\n",
       "    </tr>\n",
       "    <tr>\n",
       "      <th>282</th>\n",
       "      <td>19.952341</td>\n",
       "      <td>50.046841</td>\n",
       "      <td>A3</td>\n",
       "      <td>-95</td>\n",
       "      <td>-12</td>\n",
       "      <td>18</td>\n",
       "      <td>6</td>\n",
       "      <td>2</td>\n",
       "      <td>-61</td>\n",
       "      <td>2147483647</td>\n",
       "      <td>2147483647</td>\n",
       "      <td>2147483647</td>\n",
       "      <td>3</td>\n",
       "      <td>3350</td>\n",
       "      <td>22</td>\n",
       "      <td>20000</td>\n",
       "      <td>260</td>\n",
       "      <td>-95</td>\n",
       "      <td>(4, 7)</td>\n",
       "      <td>47</td>\n",
       "    </tr>\n",
       "    <tr>\n",
       "      <th>283</th>\n",
       "      <td>19.952341</td>\n",
       "      <td>50.046841</td>\n",
       "      <td>A4</td>\n",
       "      <td>-95</td>\n",
       "      <td>-12</td>\n",
       "      <td>18</td>\n",
       "      <td>6</td>\n",
       "      <td>2</td>\n",
       "      <td>-61</td>\n",
       "      <td>2147483647</td>\n",
       "      <td>2147483647</td>\n",
       "      <td>2147483647</td>\n",
       "      <td>3</td>\n",
       "      <td>3350</td>\n",
       "      <td>22</td>\n",
       "      <td>20000</td>\n",
       "      <td>260</td>\n",
       "      <td>-95</td>\n",
       "      <td>(4, 7)</td>\n",
       "      <td>47</td>\n",
       "    </tr>\n",
       "    <tr>\n",
       "      <th>284</th>\n",
       "      <td>19.951052</td>\n",
       "      <td>50.046548</td>\n",
       "      <td>A3</td>\n",
       "      <td>-92</td>\n",
       "      <td>-11</td>\n",
       "      <td>18</td>\n",
       "      <td>6</td>\n",
       "      <td>2</td>\n",
       "      <td>-59</td>\n",
       "      <td>2147483647</td>\n",
       "      <td>2147483647</td>\n",
       "      <td>2147483647</td>\n",
       "      <td>3</td>\n",
       "      <td>3350</td>\n",
       "      <td>22</td>\n",
       "      <td>20000</td>\n",
       "      <td>260</td>\n",
       "      <td>-92</td>\n",
       "      <td>(4, 6)</td>\n",
       "      <td>46</td>\n",
       "    </tr>\n",
       "    <tr>\n",
       "      <th>285</th>\n",
       "      <td>19.951052</td>\n",
       "      <td>50.046548</td>\n",
       "      <td>A4</td>\n",
       "      <td>-92</td>\n",
       "      <td>-11</td>\n",
       "      <td>18</td>\n",
       "      <td>6</td>\n",
       "      <td>2</td>\n",
       "      <td>-59</td>\n",
       "      <td>2147483647</td>\n",
       "      <td>2147483647</td>\n",
       "      <td>2147483647</td>\n",
       "      <td>3</td>\n",
       "      <td>3350</td>\n",
       "      <td>22</td>\n",
       "      <td>20000</td>\n",
       "      <td>260</td>\n",
       "      <td>-92</td>\n",
       "      <td>(4, 6)</td>\n",
       "      <td>46</td>\n",
       "    </tr>\n",
       "  </tbody>\n",
       "</table>\n",
       "<p>286 rows × 20 columns</p>\n",
       "</div>"
      ],
      "text/plain": [
       "     longitude   latitude event  rsrp  rsrq  pci  mnc          ta  rssi  \\\n",
       "0    19.955436  50.043881    A4   -93   -14   19    6  2147483647   -59   \n",
       "1    19.955529  50.043876    A3   -95   -15   19    6           2   -59   \n",
       "2    19.955529  50.043876    A4   -95   -15   19    6           2   -59   \n",
       "3    19.956576  50.044069    A4   -88   -14  214    6  2147483647   -55   \n",
       "4    19.957679  50.043859    A4   -90    -9  214    6           2   -61   \n",
       "..         ...        ...   ...   ...   ...  ...  ...         ...   ...   \n",
       "281  19.953140  50.046989    A4  -100   -14   18    6  2147483647   -65   \n",
       "282  19.952341  50.046841    A3   -95   -12   18    6           2   -61   \n",
       "283  19.952341  50.046841    A4   -95   -12   18    6           2   -61   \n",
       "284  19.951052  50.046548    A3   -92   -11   18    6           2   -59   \n",
       "285  19.951052  50.046548    A4   -92   -11   18    6           2   -59   \n",
       "\n",
       "          rssnr  cqi_table_index         cqi  level  earfcn  tac  bandwidth  \\\n",
       "0    2147483647       2147483647  2147483647      3    3350   22      20000   \n",
       "1    2147483647       2147483647  2147483647      3    3350   22      20000   \n",
       "2    2147483647       2147483647  2147483647      3    3350   22      20000   \n",
       "3    2147483647       2147483647  2147483647      3     525   22      15000   \n",
       "4    2147483647       2147483647  2147483647      3     525   22      15000   \n",
       "..          ...              ...         ...    ...     ...  ...        ...   \n",
       "281  2147483647       2147483647  2147483647      2    3350   22      20000   \n",
       "282  2147483647       2147483647  2147483647      3    3350   22      20000   \n",
       "283  2147483647       2147483647  2147483647      3    3350   22      20000   \n",
       "284  2147483647       2147483647  2147483647      3    3350   22      20000   \n",
       "285  2147483647       2147483647  2147483647      3    3350   22      20000   \n",
       "\n",
       "     mcc  dbm   chunk  label  \n",
       "0    260  -93  (5, 4)     54  \n",
       "1    260  -95  (5, 4)     54  \n",
       "2    260  -95  (5, 4)     54  \n",
       "3    260  -88  (6, 4)     64  \n",
       "4    260  -90  (6, 4)     64  \n",
       "..   ...  ...     ...    ...  \n",
       "281  260 -100  (5, 7)     57  \n",
       "282  260  -95  (4, 7)     47  \n",
       "283  260  -95  (4, 7)     47  \n",
       "284  260  -92  (4, 6)     46  \n",
       "285  260  -92  (4, 6)     46  \n",
       "\n",
       "[286 rows x 20 columns]"
      ]
     },
     "execution_count": 11,
     "metadata": {},
     "output_type": "execute_result"
    }
   ],
   "source": [
    "events_df"
   ]
  },
  {
   "cell_type": "code",
   "execution_count": 12,
   "metadata": {},
   "outputs": [
    {
     "data": {
      "text/html": [
       "<div>\n",
       "<style scoped>\n",
       "    .dataframe tbody tr th:only-of-type {\n",
       "        vertical-align: middle;\n",
       "    }\n",
       "\n",
       "    .dataframe tbody tr th {\n",
       "        vertical-align: top;\n",
       "    }\n",
       "\n",
       "    .dataframe thead th {\n",
       "        text-align: right;\n",
       "    }\n",
       "</style>\n",
       "<table border=\"1\" class=\"dataframe\">\n",
       "  <thead>\n",
       "    <tr style=\"text-align: right;\">\n",
       "      <th></th>\n",
       "      <th>time</th>\n",
       "      <th>latitude</th>\n",
       "      <th>longitude</th>\n",
       "      <th>accuracy</th>\n",
       "      <th>pci</th>\n",
       "      <th>mcc-mnc</th>\n",
       "      <th>lte</th>\n",
       "      <th>chunk</th>\n",
       "      <th>label</th>\n",
       "    </tr>\n",
       "  </thead>\n",
       "  <tbody>\n",
       "    <tr>\n",
       "      <th>0</th>\n",
       "      <td>2024-01-07 21:55:48</td>\n",
       "      <td>50.043976</td>\n",
       "      <td>19.955297</td>\n",
       "      <td>9.971</td>\n",
       "      <td>[19]</td>\n",
       "      <td>{260-06}</td>\n",
       "      <td>[{'signal': {'rssi': -65, 'rsrp': -103, 'rsrq'...</td>\n",
       "      <td>(5, 4)</td>\n",
       "      <td>54</td>\n",
       "    </tr>\n",
       "    <tr>\n",
       "      <th>1</th>\n",
       "      <td>2024-01-07 21:55:58</td>\n",
       "      <td>50.043966</td>\n",
       "      <td>19.955407</td>\n",
       "      <td>17.131</td>\n",
       "      <td>[19]</td>\n",
       "      <td>{260-06}</td>\n",
       "      <td>[{'signal': {'rssi': -69, 'rsrp': -105, 'rsrq'...</td>\n",
       "      <td>(5, 4)</td>\n",
       "      <td>54</td>\n",
       "    </tr>\n",
       "    <tr>\n",
       "      <th>2</th>\n",
       "      <td>2024-01-07 21:56:07</td>\n",
       "      <td>50.043881</td>\n",
       "      <td>19.955436</td>\n",
       "      <td>19.444</td>\n",
       "      <td>[19]</td>\n",
       "      <td>{260-06}</td>\n",
       "      <td>[{'signal': {'rssi': -59, 'rsrp': -93, 'rsrq':...</td>\n",
       "      <td>(5, 4)</td>\n",
       "      <td>54</td>\n",
       "    </tr>\n",
       "    <tr>\n",
       "      <th>3</th>\n",
       "      <td>2024-01-07 21:56:18</td>\n",
       "      <td>50.043876</td>\n",
       "      <td>19.955529</td>\n",
       "      <td>21.244</td>\n",
       "      <td>[19]</td>\n",
       "      <td>{260-06}</td>\n",
       "      <td>[{'signal': {'rssi': -59, 'rsrp': -95, 'rsrq':...</td>\n",
       "      <td>(5, 4)</td>\n",
       "      <td>54</td>\n",
       "    </tr>\n",
       "    <tr>\n",
       "      <th>4</th>\n",
       "      <td>2024-01-07 21:56:27</td>\n",
       "      <td>50.044069</td>\n",
       "      <td>19.956576</td>\n",
       "      <td>22.205</td>\n",
       "      <td>[214]</td>\n",
       "      <td>{260-06}</td>\n",
       "      <td>[{'signal': {'rssi': -55, 'rsrp': -88, 'rsrq':...</td>\n",
       "      <td>(6, 4)</td>\n",
       "      <td>64</td>\n",
       "    </tr>\n",
       "    <tr>\n",
       "      <th>...</th>\n",
       "      <td>...</td>\n",
       "      <td>...</td>\n",
       "      <td>...</td>\n",
       "      <td>...</td>\n",
       "      <td>...</td>\n",
       "      <td>...</td>\n",
       "      <td>...</td>\n",
       "      <td>...</td>\n",
       "      <td>...</td>\n",
       "    </tr>\n",
       "    <tr>\n",
       "      <th>190</th>\n",
       "      <td>2024-01-07 22:35:47</td>\n",
       "      <td>50.043679</td>\n",
       "      <td>19.951091</td>\n",
       "      <td>8.644</td>\n",
       "      <td>[19]</td>\n",
       "      <td>{260-06}</td>\n",
       "      <td>[{'signal': {'rssi': -51, 'rsrp': -82, 'rsrq':...</td>\n",
       "      <td>(4, 3)</td>\n",
       "      <td>43</td>\n",
       "    </tr>\n",
       "    <tr>\n",
       "      <th>191</th>\n",
       "      <td>2024-01-07 22:35:59</td>\n",
       "      <td>50.043561</td>\n",
       "      <td>19.951416</td>\n",
       "      <td>82.576</td>\n",
       "      <td>[19]</td>\n",
       "      <td>{260-06}</td>\n",
       "      <td>[{'signal': {'rssi': -63, 'rsrp': -100, 'rsrq'...</td>\n",
       "      <td>(4, 3)</td>\n",
       "      <td>43</td>\n",
       "    </tr>\n",
       "    <tr>\n",
       "      <th>192</th>\n",
       "      <td>2024-01-07 22:36:07</td>\n",
       "      <td>50.043615</td>\n",
       "      <td>19.952135</td>\n",
       "      <td>12.576</td>\n",
       "      <td>[19]</td>\n",
       "      <td>{260-06}</td>\n",
       "      <td>[{'signal': {'rssi': -65, 'rsrp': -102, 'rsrq'...</td>\n",
       "      <td>(4, 3)</td>\n",
       "      <td>43</td>\n",
       "    </tr>\n",
       "    <tr>\n",
       "      <th>193</th>\n",
       "      <td>2024-01-07 22:36:25</td>\n",
       "      <td>50.043734</td>\n",
       "      <td>19.953803</td>\n",
       "      <td>71.759</td>\n",
       "      <td>[19]</td>\n",
       "      <td>{260-06}</td>\n",
       "      <td>[{'signal': {'rssi': -57, 'rsrp': -93, 'rsrq':...</td>\n",
       "      <td>(5, 4)</td>\n",
       "      <td>54</td>\n",
       "    </tr>\n",
       "    <tr>\n",
       "      <th>194</th>\n",
       "      <td>2024-01-07 22:36:48</td>\n",
       "      <td>50.043863</td>\n",
       "      <td>19.955056</td>\n",
       "      <td>26.422</td>\n",
       "      <td>[19]</td>\n",
       "      <td>{260-06}</td>\n",
       "      <td>[{'signal': {'rssi': -67, 'rsrp': -104, 'rsrq'...</td>\n",
       "      <td>(5, 4)</td>\n",
       "      <td>54</td>\n",
       "    </tr>\n",
       "  </tbody>\n",
       "</table>\n",
       "<p>182 rows × 9 columns</p>\n",
       "</div>"
      ],
      "text/plain": [
       "                   time   latitude  longitude  accuracy    pci   mcc-mnc  \\\n",
       "0   2024-01-07 21:55:48  50.043976  19.955297     9.971   [19]  {260-06}   \n",
       "1   2024-01-07 21:55:58  50.043966  19.955407    17.131   [19]  {260-06}   \n",
       "2   2024-01-07 21:56:07  50.043881  19.955436    19.444   [19]  {260-06}   \n",
       "3   2024-01-07 21:56:18  50.043876  19.955529    21.244   [19]  {260-06}   \n",
       "4   2024-01-07 21:56:27  50.044069  19.956576    22.205  [214]  {260-06}   \n",
       "..                  ...        ...        ...       ...    ...       ...   \n",
       "190 2024-01-07 22:35:47  50.043679  19.951091     8.644   [19]  {260-06}   \n",
       "191 2024-01-07 22:35:59  50.043561  19.951416    82.576   [19]  {260-06}   \n",
       "192 2024-01-07 22:36:07  50.043615  19.952135    12.576   [19]  {260-06}   \n",
       "193 2024-01-07 22:36:25  50.043734  19.953803    71.759   [19]  {260-06}   \n",
       "194 2024-01-07 22:36:48  50.043863  19.955056    26.422   [19]  {260-06}   \n",
       "\n",
       "                                                   lte   chunk  label  \n",
       "0    [{'signal': {'rssi': -65, 'rsrp': -103, 'rsrq'...  (5, 4)     54  \n",
       "1    [{'signal': {'rssi': -69, 'rsrp': -105, 'rsrq'...  (5, 4)     54  \n",
       "2    [{'signal': {'rssi': -59, 'rsrp': -93, 'rsrq':...  (5, 4)     54  \n",
       "3    [{'signal': {'rssi': -59, 'rsrp': -95, 'rsrq':...  (5, 4)     54  \n",
       "4    [{'signal': {'rssi': -55, 'rsrp': -88, 'rsrq':...  (6, 4)     64  \n",
       "..                                                 ...     ...    ...  \n",
       "190  [{'signal': {'rssi': -51, 'rsrp': -82, 'rsrq':...  (4, 3)     43  \n",
       "191  [{'signal': {'rssi': -63, 'rsrp': -100, 'rsrq'...  (4, 3)     43  \n",
       "192  [{'signal': {'rssi': -65, 'rsrp': -102, 'rsrq'...  (4, 3)     43  \n",
       "193  [{'signal': {'rssi': -57, 'rsrp': -93, 'rsrq':...  (5, 4)     54  \n",
       "194  [{'signal': {'rssi': -67, 'rsrp': -104, 'rsrq'...  (5, 4)     54  \n",
       "\n",
       "[182 rows x 9 columns]"
      ]
     },
     "execution_count": 12,
     "metadata": {},
     "output_type": "execute_result"
    }
   ],
   "source": [
    "measurement_points_df"
   ]
  },
  {
   "cell_type": "markdown",
   "metadata": {},
   "source": [
    "### Określanie histerezy zasięgu\n",
    "\n",
    "- Na podstawie pomiarów, wyznacz fizyczne warunki brzegowe histerezy zachodzącej na pokrywającego się zasięgu cellek.\n",
    "- Wyrysuj (zmień kolory punktów pomiarowych) na mapie obszary pokrycia oraz wyznacz threshold dostępnych cellek. Użyj osobnych warstw (osobny trace na obszarze rysowania) dla każdej cellki.\n",
    "- Wykonaj zadanie w dwóch wariantach - dla danych surowych oraz dla wygenerowanych wcześniej eventów\n",
    "- Cel zadania - optymalizacja thresholdów eventowych per eNodeB - jaki threshold ustawić w eNodeB, żeby uzyskać największą liczbę eventów pomiarowych wśród dostępnych cellek?"
   ]
  },
  {
   "cell_type": "code",
   "execution_count": 13,
   "metadata": {},
   "outputs": [],
   "source": [
    "# HYSTERESIS SETTINGS\n",
    "PCI_1: int = 18\n",
    "PCI_2: int = 19"
   ]
  },
  {
   "cell_type": "code",
   "execution_count": 14,
   "metadata": {},
   "outputs": [
    {
     "name": "stdout",
     "output_type": "stream",
     "text": [
      "Empty DataFrame\n",
      "Columns: [time, latitude, longitude, accuracy, pci, mcc-mnc, lte, chunk, label]\n",
      "Index: []\n"
     ]
    }
   ],
   "source": [
    "# TODO: add PCI column to events_data\n",
    "\n",
    "hysteresis_data = measurement_points_df[\n",
    "    measurement_points_df[\"pci\"].apply(\n",
    "        lambda x: all(item in x for item in [PCI_1, PCI_2])\n",
    "    )\n",
    "]\n",
    "\n",
    "print(hysteresis_data)"
   ]
  },
  {
   "cell_type": "code",
   "execution_count": 15,
   "metadata": {},
   "outputs": [
    {
     "data": {
      "application/vnd.plotly.v1+json": {
       "config": {
        "plotlyServerURL": "https://plot.ly"
       },
       "data": [
        {
         "customdata": [],
         "hovertemplate": "latitude=%{customdata[1]}<br>longitude=%{customdata[0]}<br>chunk=%{customdata[2]}<br>label=%{customdata[3]}<extra></extra>",
         "lat": [],
         "legendgroup": "",
         "lon": [],
         "marker": {
          "color": "#636efa"
         },
         "mode": "markers",
         "name": "",
         "showlegend": false,
         "subplot": "mapbox",
         "type": "scattermapbox"
        }
       ],
       "layout": {
        "geo": {
         "fitbounds": "locations"
        },
        "legend": {
         "tracegroupgap": 0
        },
        "mapbox": {
         "center": {
          "lat": null,
          "lon": null
         },
         "domain": {
          "x": [
           0,
           1
          ],
          "y": [
           0,
           1
          ]
         },
         "layers": [
          {
           "color": "black",
           "line": {
            "width": 1
           },
           "source": {
            "geometry": {
             "coordinates": [
              [
               [
                19.9394344,
                50.0398007
               ],
               [
                19.94215167,
                50.0398007
               ],
               [
                19.94215167,
                50.049620100000006
               ],
               [
                19.9394344,
                50.049620100000006
               ],
               [
                19.9394344,
                50.0398007
               ]
              ],
              [
               [
                19.94215167,
                50.0398007
               ],
               [
                19.94486894,
                50.0398007
               ],
               [
                19.94486894,
                50.049620100000006
               ],
               [
                19.94215167,
                50.049620100000006
               ],
               [
                19.94215167,
                50.0398007
               ]
              ],
              [
               [
                19.94486894,
                50.0398007
               ],
               [
                19.947586209999997,
                50.0398007
               ],
               [
                19.947586209999997,
                50.049620100000006
               ],
               [
                19.94486894,
                50.049620100000006
               ],
               [
                19.94486894,
                50.0398007
               ]
              ],
              [
               [
                19.947586209999997,
                50.0398007
               ],
               [
                19.95030348,
                50.0398007
               ],
               [
                19.95030348,
                50.049620100000006
               ],
               [
                19.947586209999997,
                50.049620100000006
               ],
               [
                19.947586209999997,
                50.0398007
               ]
              ],
              [
               [
                19.95030348,
                50.0398007
               ],
               [
                19.95302075,
                50.0398007
               ],
               [
                19.95302075,
                50.049620100000006
               ],
               [
                19.95030348,
                50.049620100000006
               ],
               [
                19.95030348,
                50.0398007
               ]
              ],
              [
               [
                19.95302075,
                50.0398007
               ],
               [
                19.95573802,
                50.0398007
               ],
               [
                19.95573802,
                50.049620100000006
               ],
               [
                19.95302075,
                50.049620100000006
               ],
               [
                19.95302075,
                50.0398007
               ]
              ],
              [
               [
                19.95573802,
                50.0398007
               ],
               [
                19.958455289999996,
                50.0398007
               ],
               [
                19.958455289999996,
                50.049620100000006
               ],
               [
                19.95573802,
                50.049620100000006
               ],
               [
                19.95573802,
                50.0398007
               ]
              ],
              [
               [
                19.958455289999996,
                50.0398007
               ],
               [
                19.961172559999998,
                50.0398007
               ],
               [
                19.961172559999998,
                50.049620100000006
               ],
               [
                19.958455289999996,
                50.049620100000006
               ],
               [
                19.958455289999996,
                50.0398007
               ]
              ],
              [
               [
                19.961172559999998,
                50.0398007
               ],
               [
                19.96388983,
                50.0398007
               ],
               [
                19.96388983,
                50.049620100000006
               ],
               [
                19.961172559999998,
                50.049620100000006
               ],
               [
                19.961172559999998,
                50.0398007
               ]
              ],
              [
               [
                19.96388983,
                50.0398007
               ],
               [
                19.966607099999997,
                50.0398007
               ],
               [
                19.966607099999997,
                50.049620100000006
               ],
               [
                19.96388983,
                50.049620100000006
               ],
               [
                19.96388983,
                50.0398007
               ]
              ],
              [
               [
                19.9394344,
                50.0398007
               ],
               [
                19.966607099999997,
                50.0398007
               ],
               [
                19.966607099999997,
                50.04078264
               ],
               [
                19.9394344,
                50.04078264
               ],
               [
                19.9394344,
                50.0398007
               ]
              ],
              [
               [
                19.9394344,
                50.04078264
               ],
               [
                19.966607099999997,
                50.04078264
               ],
               [
                19.966607099999997,
                50.04176458
               ],
               [
                19.9394344,
                50.04176458
               ],
               [
                19.9394344,
                50.04078264
               ]
              ],
              [
               [
                19.9394344,
                50.04176458
               ],
               [
                19.966607099999997,
                50.04176458
               ],
               [
                19.966607099999997,
                50.04274652
               ],
               [
                19.9394344,
                50.04274652
               ],
               [
                19.9394344,
                50.04176458
               ]
              ],
              [
               [
                19.9394344,
                50.04274652
               ],
               [
                19.966607099999997,
                50.04274652
               ],
               [
                19.966607099999997,
                50.043728460000004
               ],
               [
                19.9394344,
                50.043728460000004
               ],
               [
                19.9394344,
                50.04274652
               ]
              ],
              [
               [
                19.9394344,
                50.043728460000004
               ],
               [
                19.966607099999997,
                50.043728460000004
               ],
               [
                19.966607099999997,
                50.0447104
               ],
               [
                19.9394344,
                50.0447104
               ],
               [
                19.9394344,
                50.043728460000004
               ]
              ],
              [
               [
                19.9394344,
                50.0447104
               ],
               [
                19.966607099999997,
                50.0447104
               ],
               [
                19.966607099999997,
                50.04569234
               ],
               [
                19.9394344,
                50.04569234
               ],
               [
                19.9394344,
                50.0447104
               ]
              ],
              [
               [
                19.9394344,
                50.04569234
               ],
               [
                19.966607099999997,
                50.04569234
               ],
               [
                19.966607099999997,
                50.046674280000005
               ],
               [
                19.9394344,
                50.046674280000005
               ],
               [
                19.9394344,
                50.04569234
               ]
              ],
              [
               [
                19.9394344,
                50.046674280000005
               ],
               [
                19.966607099999997,
                50.046674280000005
               ],
               [
                19.966607099999997,
                50.04765622000001
               ],
               [
                19.9394344,
                50.04765622000001
               ],
               [
                19.9394344,
                50.046674280000005
               ]
              ],
              [
               [
                19.9394344,
                50.04765622000001
               ],
               [
                19.966607099999997,
                50.04765622000001
               ],
               [
                19.966607099999997,
                50.04863816
               ],
               [
                19.9394344,
                50.04863816
               ],
               [
                19.9394344,
                50.04765622000001
               ]
              ],
              [
               [
                19.9394344,
                50.04863816
               ],
               [
                19.966607099999997,
                50.04863816
               ],
               [
                19.966607099999997,
                50.049620100000006
               ],
               [
                19.9394344,
                50.049620100000006
               ],
               [
                19.9394344,
                50.04863816
               ]
              ]
             ],
             "type": "Polygon"
            },
            "type": "Feature"
           },
           "sourcetype": "geojson",
           "type": "line"
          }
         ],
         "style": "open-street-map",
         "zoom": 8
        },
        "margin": {
         "b": 0,
         "l": 0,
         "r": 0,
         "t": 0
        },
        "template": {
         "data": {
          "bar": [
           {
            "error_x": {
             "color": "#2a3f5f"
            },
            "error_y": {
             "color": "#2a3f5f"
            },
            "marker": {
             "line": {
              "color": "#E5ECF6",
              "width": 0.5
             },
             "pattern": {
              "fillmode": "overlay",
              "size": 10,
              "solidity": 0.2
             }
            },
            "type": "bar"
           }
          ],
          "barpolar": [
           {
            "marker": {
             "line": {
              "color": "#E5ECF6",
              "width": 0.5
             },
             "pattern": {
              "fillmode": "overlay",
              "size": 10,
              "solidity": 0.2
             }
            },
            "type": "barpolar"
           }
          ],
          "carpet": [
           {
            "aaxis": {
             "endlinecolor": "#2a3f5f",
             "gridcolor": "white",
             "linecolor": "white",
             "minorgridcolor": "white",
             "startlinecolor": "#2a3f5f"
            },
            "baxis": {
             "endlinecolor": "#2a3f5f",
             "gridcolor": "white",
             "linecolor": "white",
             "minorgridcolor": "white",
             "startlinecolor": "#2a3f5f"
            },
            "type": "carpet"
           }
          ],
          "choropleth": [
           {
            "colorbar": {
             "outlinewidth": 0,
             "ticks": ""
            },
            "type": "choropleth"
           }
          ],
          "contour": [
           {
            "colorbar": {
             "outlinewidth": 0,
             "ticks": ""
            },
            "colorscale": [
             [
              0,
              "#0d0887"
             ],
             [
              0.1111111111111111,
              "#46039f"
             ],
             [
              0.2222222222222222,
              "#7201a8"
             ],
             [
              0.3333333333333333,
              "#9c179e"
             ],
             [
              0.4444444444444444,
              "#bd3786"
             ],
             [
              0.5555555555555556,
              "#d8576b"
             ],
             [
              0.6666666666666666,
              "#ed7953"
             ],
             [
              0.7777777777777778,
              "#fb9f3a"
             ],
             [
              0.8888888888888888,
              "#fdca26"
             ],
             [
              1,
              "#f0f921"
             ]
            ],
            "type": "contour"
           }
          ],
          "contourcarpet": [
           {
            "colorbar": {
             "outlinewidth": 0,
             "ticks": ""
            },
            "type": "contourcarpet"
           }
          ],
          "heatmap": [
           {
            "colorbar": {
             "outlinewidth": 0,
             "ticks": ""
            },
            "colorscale": [
             [
              0,
              "#0d0887"
             ],
             [
              0.1111111111111111,
              "#46039f"
             ],
             [
              0.2222222222222222,
              "#7201a8"
             ],
             [
              0.3333333333333333,
              "#9c179e"
             ],
             [
              0.4444444444444444,
              "#bd3786"
             ],
             [
              0.5555555555555556,
              "#d8576b"
             ],
             [
              0.6666666666666666,
              "#ed7953"
             ],
             [
              0.7777777777777778,
              "#fb9f3a"
             ],
             [
              0.8888888888888888,
              "#fdca26"
             ],
             [
              1,
              "#f0f921"
             ]
            ],
            "type": "heatmap"
           }
          ],
          "heatmapgl": [
           {
            "colorbar": {
             "outlinewidth": 0,
             "ticks": ""
            },
            "colorscale": [
             [
              0,
              "#0d0887"
             ],
             [
              0.1111111111111111,
              "#46039f"
             ],
             [
              0.2222222222222222,
              "#7201a8"
             ],
             [
              0.3333333333333333,
              "#9c179e"
             ],
             [
              0.4444444444444444,
              "#bd3786"
             ],
             [
              0.5555555555555556,
              "#d8576b"
             ],
             [
              0.6666666666666666,
              "#ed7953"
             ],
             [
              0.7777777777777778,
              "#fb9f3a"
             ],
             [
              0.8888888888888888,
              "#fdca26"
             ],
             [
              1,
              "#f0f921"
             ]
            ],
            "type": "heatmapgl"
           }
          ],
          "histogram": [
           {
            "marker": {
             "pattern": {
              "fillmode": "overlay",
              "size": 10,
              "solidity": 0.2
             }
            },
            "type": "histogram"
           }
          ],
          "histogram2d": [
           {
            "colorbar": {
             "outlinewidth": 0,
             "ticks": ""
            },
            "colorscale": [
             [
              0,
              "#0d0887"
             ],
             [
              0.1111111111111111,
              "#46039f"
             ],
             [
              0.2222222222222222,
              "#7201a8"
             ],
             [
              0.3333333333333333,
              "#9c179e"
             ],
             [
              0.4444444444444444,
              "#bd3786"
             ],
             [
              0.5555555555555556,
              "#d8576b"
             ],
             [
              0.6666666666666666,
              "#ed7953"
             ],
             [
              0.7777777777777778,
              "#fb9f3a"
             ],
             [
              0.8888888888888888,
              "#fdca26"
             ],
             [
              1,
              "#f0f921"
             ]
            ],
            "type": "histogram2d"
           }
          ],
          "histogram2dcontour": [
           {
            "colorbar": {
             "outlinewidth": 0,
             "ticks": ""
            },
            "colorscale": [
             [
              0,
              "#0d0887"
             ],
             [
              0.1111111111111111,
              "#46039f"
             ],
             [
              0.2222222222222222,
              "#7201a8"
             ],
             [
              0.3333333333333333,
              "#9c179e"
             ],
             [
              0.4444444444444444,
              "#bd3786"
             ],
             [
              0.5555555555555556,
              "#d8576b"
             ],
             [
              0.6666666666666666,
              "#ed7953"
             ],
             [
              0.7777777777777778,
              "#fb9f3a"
             ],
             [
              0.8888888888888888,
              "#fdca26"
             ],
             [
              1,
              "#f0f921"
             ]
            ],
            "type": "histogram2dcontour"
           }
          ],
          "mesh3d": [
           {
            "colorbar": {
             "outlinewidth": 0,
             "ticks": ""
            },
            "type": "mesh3d"
           }
          ],
          "parcoords": [
           {
            "line": {
             "colorbar": {
              "outlinewidth": 0,
              "ticks": ""
             }
            },
            "type": "parcoords"
           }
          ],
          "pie": [
           {
            "automargin": true,
            "type": "pie"
           }
          ],
          "scatter": [
           {
            "fillpattern": {
             "fillmode": "overlay",
             "size": 10,
             "solidity": 0.2
            },
            "type": "scatter"
           }
          ],
          "scatter3d": [
           {
            "line": {
             "colorbar": {
              "outlinewidth": 0,
              "ticks": ""
             }
            },
            "marker": {
             "colorbar": {
              "outlinewidth": 0,
              "ticks": ""
             }
            },
            "type": "scatter3d"
           }
          ],
          "scattercarpet": [
           {
            "marker": {
             "colorbar": {
              "outlinewidth": 0,
              "ticks": ""
             }
            },
            "type": "scattercarpet"
           }
          ],
          "scattergeo": [
           {
            "marker": {
             "colorbar": {
              "outlinewidth": 0,
              "ticks": ""
             }
            },
            "type": "scattergeo"
           }
          ],
          "scattergl": [
           {
            "marker": {
             "colorbar": {
              "outlinewidth": 0,
              "ticks": ""
             }
            },
            "type": "scattergl"
           }
          ],
          "scattermapbox": [
           {
            "marker": {
             "colorbar": {
              "outlinewidth": 0,
              "ticks": ""
             }
            },
            "type": "scattermapbox"
           }
          ],
          "scatterpolar": [
           {
            "marker": {
             "colorbar": {
              "outlinewidth": 0,
              "ticks": ""
             }
            },
            "type": "scatterpolar"
           }
          ],
          "scatterpolargl": [
           {
            "marker": {
             "colorbar": {
              "outlinewidth": 0,
              "ticks": ""
             }
            },
            "type": "scatterpolargl"
           }
          ],
          "scatterternary": [
           {
            "marker": {
             "colorbar": {
              "outlinewidth": 0,
              "ticks": ""
             }
            },
            "type": "scatterternary"
           }
          ],
          "surface": [
           {
            "colorbar": {
             "outlinewidth": 0,
             "ticks": ""
            },
            "colorscale": [
             [
              0,
              "#0d0887"
             ],
             [
              0.1111111111111111,
              "#46039f"
             ],
             [
              0.2222222222222222,
              "#7201a8"
             ],
             [
              0.3333333333333333,
              "#9c179e"
             ],
             [
              0.4444444444444444,
              "#bd3786"
             ],
             [
              0.5555555555555556,
              "#d8576b"
             ],
             [
              0.6666666666666666,
              "#ed7953"
             ],
             [
              0.7777777777777778,
              "#fb9f3a"
             ],
             [
              0.8888888888888888,
              "#fdca26"
             ],
             [
              1,
              "#f0f921"
             ]
            ],
            "type": "surface"
           }
          ],
          "table": [
           {
            "cells": {
             "fill": {
              "color": "#EBF0F8"
             },
             "line": {
              "color": "white"
             }
            },
            "header": {
             "fill": {
              "color": "#C8D4E3"
             },
             "line": {
              "color": "white"
             }
            },
            "type": "table"
           }
          ]
         },
         "layout": {
          "annotationdefaults": {
           "arrowcolor": "#2a3f5f",
           "arrowhead": 0,
           "arrowwidth": 1
          },
          "autotypenumbers": "strict",
          "coloraxis": {
           "colorbar": {
            "outlinewidth": 0,
            "ticks": ""
           }
          },
          "colorscale": {
           "diverging": [
            [
             0,
             "#8e0152"
            ],
            [
             0.1,
             "#c51b7d"
            ],
            [
             0.2,
             "#de77ae"
            ],
            [
             0.3,
             "#f1b6da"
            ],
            [
             0.4,
             "#fde0ef"
            ],
            [
             0.5,
             "#f7f7f7"
            ],
            [
             0.6,
             "#e6f5d0"
            ],
            [
             0.7,
             "#b8e186"
            ],
            [
             0.8,
             "#7fbc41"
            ],
            [
             0.9,
             "#4d9221"
            ],
            [
             1,
             "#276419"
            ]
           ],
           "sequential": [
            [
             0,
             "#0d0887"
            ],
            [
             0.1111111111111111,
             "#46039f"
            ],
            [
             0.2222222222222222,
             "#7201a8"
            ],
            [
             0.3333333333333333,
             "#9c179e"
            ],
            [
             0.4444444444444444,
             "#bd3786"
            ],
            [
             0.5555555555555556,
             "#d8576b"
            ],
            [
             0.6666666666666666,
             "#ed7953"
            ],
            [
             0.7777777777777778,
             "#fb9f3a"
            ],
            [
             0.8888888888888888,
             "#fdca26"
            ],
            [
             1,
             "#f0f921"
            ]
           ],
           "sequentialminus": [
            [
             0,
             "#0d0887"
            ],
            [
             0.1111111111111111,
             "#46039f"
            ],
            [
             0.2222222222222222,
             "#7201a8"
            ],
            [
             0.3333333333333333,
             "#9c179e"
            ],
            [
             0.4444444444444444,
             "#bd3786"
            ],
            [
             0.5555555555555556,
             "#d8576b"
            ],
            [
             0.6666666666666666,
             "#ed7953"
            ],
            [
             0.7777777777777778,
             "#fb9f3a"
            ],
            [
             0.8888888888888888,
             "#fdca26"
            ],
            [
             1,
             "#f0f921"
            ]
           ]
          },
          "colorway": [
           "#636efa",
           "#EF553B",
           "#00cc96",
           "#ab63fa",
           "#FFA15A",
           "#19d3f3",
           "#FF6692",
           "#B6E880",
           "#FF97FF",
           "#FECB52"
          ],
          "font": {
           "color": "#2a3f5f"
          },
          "geo": {
           "bgcolor": "white",
           "lakecolor": "white",
           "landcolor": "#E5ECF6",
           "showlakes": true,
           "showland": true,
           "subunitcolor": "white"
          },
          "hoverlabel": {
           "align": "left"
          },
          "hovermode": "closest",
          "mapbox": {
           "style": "light"
          },
          "paper_bgcolor": "white",
          "plot_bgcolor": "#E5ECF6",
          "polar": {
           "angularaxis": {
            "gridcolor": "white",
            "linecolor": "white",
            "ticks": ""
           },
           "bgcolor": "#E5ECF6",
           "radialaxis": {
            "gridcolor": "white",
            "linecolor": "white",
            "ticks": ""
           }
          },
          "scene": {
           "xaxis": {
            "backgroundcolor": "#E5ECF6",
            "gridcolor": "white",
            "gridwidth": 2,
            "linecolor": "white",
            "showbackground": true,
            "ticks": "",
            "zerolinecolor": "white"
           },
           "yaxis": {
            "backgroundcolor": "#E5ECF6",
            "gridcolor": "white",
            "gridwidth": 2,
            "linecolor": "white",
            "showbackground": true,
            "ticks": "",
            "zerolinecolor": "white"
           },
           "zaxis": {
            "backgroundcolor": "#E5ECF6",
            "gridcolor": "white",
            "gridwidth": 2,
            "linecolor": "white",
            "showbackground": true,
            "ticks": "",
            "zerolinecolor": "white"
           }
          },
          "shapedefaults": {
           "line": {
            "color": "#2a3f5f"
           }
          },
          "ternary": {
           "aaxis": {
            "gridcolor": "white",
            "linecolor": "white",
            "ticks": ""
           },
           "baxis": {
            "gridcolor": "white",
            "linecolor": "white",
            "ticks": ""
           },
           "bgcolor": "#E5ECF6",
           "caxis": {
            "gridcolor": "white",
            "linecolor": "white",
            "ticks": ""
           }
          },
          "title": {
           "x": 0.05
          },
          "xaxis": {
           "automargin": true,
           "gridcolor": "white",
           "linecolor": "white",
           "ticks": "",
           "title": {
            "standoff": 15
           },
           "zerolinecolor": "white",
           "zerolinewidth": 2
          },
          "yaxis": {
           "automargin": true,
           "gridcolor": "white",
           "linecolor": "white",
           "ticks": "",
           "title": {
            "standoff": 15
           },
           "zerolinecolor": "white",
           "zerolinewidth": 2
          }
         }
        }
       }
      }
     },
     "metadata": {},
     "output_type": "display_data"
    }
   ],
   "source": [
    "# Note: Not possible with the latest dataset\n",
    "draw_measurements(hysteresis_data, gridlines)"
   ]
  },
  {
   "cell_type": "markdown",
   "metadata": {},
   "source": [
    "### Data Science!! Przewidywanie chunku po rsrp i rsrq"
   ]
  },
  {
   "cell_type": "code",
   "execution_count": 17,
   "metadata": {},
   "outputs": [
    {
     "data": {
      "image/png": "[encoded data removed]",
      "text/plain": [
       "<Figure size 800x600 with 1 Axes>"
      ]
     },
     "metadata": {},
     "output_type": "display_data"
    }
   ],
   "source": [
    "classifier = Classifier(events_df)\n",
    "\n",
    "model = classifier.train()\n",
    "classifier.plot_loss_curve()"
   ]
  },
  {
   "cell_type": "code",
   "execution_count": 18,
   "metadata": {},
   "outputs": [
    {
     "name": "stdout",
     "output_type": "stream",
     "text": [
      "Accuracy: 0.5517241379310345\n",
      "Confusion matrix:\n",
      " [[0 0 0 0 0 0 0 0 0 0 0 0 0 0 0 0 0 0 0 0 0 0 0 2 1]\n",
      " [0 2 0 0 0 0 0 0 0 0 0 0 0 0 0 0 0 0 0 0 0 0 0 0 0]\n",
      " [0 0 4 0 0 0 0 0 0 0 0 0 0 0 0 0 0 0 0 0 0 0 0 0 0]\n",
      " [0 0 0 0 0 0 0 0 0 0 0 0 0 0 0 0 0 0 1 0 0 0 0 0 0]\n",
      " [0 0 0 0 6 0 0 0 0 0 0 0 0 0 0 0 0 0 0 0 0 0 0 0 0]\n",
      " [0 1 0 0 0 1 0 0 0 0 0 0 0 0 0 0 0 0 0 0 0 0 0 0 0]\n",
      " [0 0 0 1 0 0 0 0 0 0 0 0 0 0 0 0 0 0 0 0 0 0 0 0 0]\n",
      " [0 0 0 0 2 0 0 0 0 0 0 0 0 0 0 0 0 0 0 0 0 0 0 0 0]\n",
      " [0 0 0 0 0 0 0 0 1 0 0 0 0 0 0 0 0 0 0 0 0 0 0 0 0]\n",
      " [0 0 0 0 0 0 0 0 0 0 0 0 1 0 0 0 0 0 0 0 0 0 0 0 0]\n",
      " [0 0 0 0 0 0 0 0 0 0 0 0 0 0 0 0 0 0 0 0 0 0 0 0 0]\n",
      " [0 0 0 0 0 0 0 0 2 0 1 0 0 0 0 0 0 0 0 0 0 0 0 0 0]\n",
      " [0 0 0 0 0 0 0 0 0 0 0 0 5 0 1 0 0 0 0 0 0 0 0 0 0]\n",
      " [0 0 0 0 0 0 0 0 0 0 0 0 0 0 1 0 0 0 0 0 0 0 0 0 0]\n",
      " [0 0 0 0 0 0 0 0 0 0 0 1 1 0 0 0 2 0 0 0 0 0 0 0 0]\n",
      " [0 0 0 0 0 0 0 0 0 0 0 0 0 0 0 1 0 0 0 0 1 0 0 0 0]\n",
      " [0 0 0 0 0 0 0 0 0 0 0 0 0 0 0 1 2 0 0 0 0 0 0 0 0]\n",
      " [0 0 0 0 0 0 0 0 0 0 0 0 0 0 0 0 1 2 0 0 0 0 0 0 0]\n",
      " [0 0 0 0 0 0 0 0 0 0 0 0 0 0 0 1 0 1 2 0 0 0 0 0 0]\n",
      " [0 0 0 0 0 0 0 0 0 0 0 0 0 0 0 0 0 0 0 1 0 0 0 0 0]\n",
      " [0 0 0 0 0 0 0 0 0 0 0 0 0 0 0 0 0 0 0 0 3 0 0 1 0]\n",
      " [0 0 0 0 0 0 0 0 0 0 0 0 0 0 0 0 0 0 0 0 0 0 0 1 0]\n",
      " [0 0 0 0 0 0 0 0 0 0 0 0 0 0 0 1 0 0 0 0 0 0 1 0 0]\n",
      " [0 0 0 0 0 0 0 0 0 0 0 0 0 0 0 0 0 0 0 0 0 0 0 1 0]\n",
      " [0 0 0 0 0 0 0 0 0 0 0 0 0 0 0 0 0 0 0 0 0 0 0 0 0]]\n"
     ]
    },
    {
     "data": {
      "image/png": "[encoded data removed]",
      "text/plain": [
       "<Figure size 800x600 with 2 Axes>"
      ]
     },
     "metadata": {},
     "output_type": "display_data"
    }
   ],
   "source": [
    "classifier.test()\n",
    "classifier.confusion_matrix()"
   ]
  },
  {
   "cell_type": "code",
   "execution_count": 19,
   "metadata": {},
   "outputs": [
    {
     "name": "stdout",
     "output_type": "stream",
     "text": [
      "\n",
      "Compiled modules for significant speedup can not be used!\n",
      "https://pymoo.org/installation.html#installation\n",
      "\n",
      "To disable this warning:\n",
      "from pymoo.config import Config\n",
      "Config.warnings['not_compiled'] = False\n",
      "\n"
     ]
    },
    {
     "data": {
      "text/html": [
       "<style>#sk-container-id-1 {color: black;}#sk-container-id-1 pre{padding: 0;}#sk-container-id-1 div.sk-toggleable {background-color: white;}#sk-container-id-1 label.sk-toggleable__label {cursor: pointer;display: block;width: 100%;margin-bottom: 0;padding: 0.3em;box-sizing: border-box;text-align: center;}#sk-container-id-1 label.sk-toggleable__label-arrow:before {content: \"▸\";float: left;margin-right: 0.25em;color: #696969;}#sk-container-id-1 label.sk-toggleable__label-arrow:hover:before {color: black;}#sk-container-id-1 div.sk-estimator:hover label.sk-toggleable__label-arrow:before {color: black;}#sk-container-id-1 div.sk-toggleable__content {max-height: 0;max-width: 0;overflow: hidden;text-align: left;background-color: #f0f8ff;}#sk-container-id-1 div.sk-toggleable__content pre {margin: 0.2em;color: black;border-radius: 0.25em;background-color: #f0f8ff;}#sk-container-id-1 input.sk-toggleable__control:checked~div.sk-toggleable__content {max-height: 200px;max-width: 100%;overflow: auto;}#sk-container-id-1 input.sk-toggleable__control:checked~label.sk-toggleable__label-arrow:before {content: \"▾\";}#sk-container-id-1 div.sk-estimator input.sk-toggleable__control:checked~label.sk-toggleable__label {background-color: #d4ebff;}#sk-container-id-1 div.sk-label input.sk-toggleable__control:checked~label.sk-toggleable__label {background-color: #d4ebff;}#sk-container-id-1 input.sk-hidden--visually {border: 0;clip: rect(1px 1px 1px 1px);clip: rect(1px, 1px, 1px, 1px);height: 1px;margin: -1px;overflow: hidden;padding: 0;position: absolute;width: 1px;}#sk-container-id-1 div.sk-estimator {font-family: monospace;background-color: #f0f8ff;border: 1px dotted black;border-radius: 0.25em;box-sizing: border-box;margin-bottom: 0.5em;}#sk-container-id-1 div.sk-estimator:hover {background-color: #d4ebff;}#sk-container-id-1 div.sk-parallel-item::after {content: \"\";width: 100%;border-bottom: 1px solid gray;flex-grow: 1;}#sk-container-id-1 div.sk-label:hover label.sk-toggleable__label {background-color: #d4ebff;}#sk-container-id-1 div.sk-serial::before {content: \"\";position: absolute;border-left: 1px solid gray;box-sizing: border-box;top: 0;bottom: 0;left: 50%;z-index: 0;}#sk-container-id-1 div.sk-serial {display: flex;flex-direction: column;align-items: center;background-color: white;padding-right: 0.2em;padding-left: 0.2em;position: relative;}#sk-container-id-1 div.sk-item {position: relative;z-index: 1;}#sk-container-id-1 div.sk-parallel {display: flex;align-items: stretch;justify-content: center;background-color: white;position: relative;}#sk-container-id-1 div.sk-item::before, #sk-container-id-1 div.sk-parallel-item::before {content: \"\";position: absolute;border-left: 1px solid gray;box-sizing: border-box;top: 0;bottom: 0;left: 50%;z-index: -1;}#sk-container-id-1 div.sk-parallel-item {display: flex;flex-direction: column;z-index: 1;position: relative;background-color: white;}#sk-container-id-1 div.sk-parallel-item:first-child::after {align-self: flex-end;width: 50%;}#sk-container-id-1 div.sk-parallel-item:last-child::after {align-self: flex-start;width: 50%;}#sk-container-id-1 div.sk-parallel-item:only-child::after {width: 0;}#sk-container-id-1 div.sk-dashed-wrapped {border: 1px dashed gray;margin: 0 0.4em 0.5em 0.4em;box-sizing: border-box;padding-bottom: 0.4em;background-color: white;}#sk-container-id-1 div.sk-label label {font-family: monospace;font-weight: bold;display: inline-block;line-height: 1.2em;}#sk-container-id-1 div.sk-label-container {text-align: center;}#sk-container-id-1 div.sk-container {/* jupyter's `normalize.less` sets `[hidden] { display: none; }` but bootstrap.min.css set `[hidden] { display: none !important; }` so we also need the `!important` here to be able to override the default hidden behavior on the sphinx rendered scikit-learn.org. See: https://github.com/scikit-learn/scikit-learn/issues/21755 */display: inline-block !important;position: relative;}#sk-container-id-1 div.sk-text-repr-fallback {display: none;}</style><div id=\"sk-container-id-1\" class=\"sk-top-container\"><div class=\"sk-text-repr-fallback\"><pre>MLPClassifier(activation=&#x27;logistic&#x27;, hidden_layer_sizes=(400, 100),\n",
       "              learning_rate=&#x27;adaptive&#x27;, learning_rate_init=0.1, max_iter=2500,\n",
       "              random_state=42, solver=&#x27;sgd&#x27;)</pre><b>In a Jupyter environment, please rerun this cell to show the HTML representation or trust the notebook. <br />On GitHub, the HTML representation is unable to render, please try loading this page with nbviewer.org.</b></div><div class=\"sk-container\" hidden><div class=\"sk-item\"><div class=\"sk-estimator sk-toggleable\"><input class=\"sk-toggleable__control sk-hidden--visually\" id=\"sk-estimator-id-1\" type=\"checkbox\" checked><label for=\"sk-estimator-id-1\" class=\"sk-toggleable__label sk-toggleable__label-arrow\">MLPClassifier</label><div class=\"sk-toggleable__content\"><pre>MLPClassifier(activation=&#x27;logistic&#x27;, hidden_layer_sizes=(400, 100),\n",
       "              learning_rate=&#x27;adaptive&#x27;, learning_rate_init=0.1, max_iter=2500,\n",
       "              random_state=42, solver=&#x27;sgd&#x27;)</pre></div></div></div></div></div>"
      ],
      "text/plain": [
       "MLPClassifier(activation='logistic', hidden_layer_sizes=(400, 100),\n",
       "              learning_rate='adaptive', learning_rate_init=0.1, max_iter=2500,\n",
       "              random_state=42, solver='sgd')"
      ]
     },
     "execution_count": 19,
     "metadata": {},
     "output_type": "execute_result"
    }
   ],
   "source": [
    "# use pymoo and nsga2 to find optimal threshold values\n",
    "\n",
    "from pymoo.algorithms.moo.nsga2 import NSGA2\n",
    "from pymoo.operators.crossover.sbx import SBX\n",
    "from pymoo.operators.mutation.pm import PM\n",
    "from pymoo.operators.sampling.rnd import FloatRandomSampling\n",
    "from pymoo.termination import get_termination\n",
    "from pymoo.optimize import minimize\n",
    "\n",
    "algorithm = NSGA2(\n",
    "    pop_size=40,\n",
    "    n_offsprings=10,\n",
    "    sampling=FloatRandomSampling(),\n",
    "    crossover=SBX(prob=0.9, eta=15),\n",
    "    mutation=PM(eta=20),\n",
    "    eliminate_duplicates=True,\n",
    ")\n",
    "\n",
    "termination = get_termination(\"n_gen\", 40)\n",
    "\n",
    "problem = Classifier(events_df)\n",
    "problem.train()\n",
    "\n",
    "# res = minimize(problem, algorithm, termination, seed=1, save_history=True, verbose=True)\n",
    "\n",
    "# X = res.X\n",
    "# F = res.F"
   ]
  }
 ],
 "metadata": {
  "kernelspec": {
   "display_name": "Python 3",
   "language": "python",
   "name": "python3"
  },
  "language_info": {
   "codemirror_mode": {
    "name": "ipython",
    "version": 3
   },
   "file_extension": ".py",
   "mimetype": "text/x-python",
   "name": "python",
   "nbconvert_exporter": "python",
   "pygments_lexer": "ipython3",
   "version": "3.12.1"
  }
 },
 "nbformat": 4,
 "nbformat_minor": 2
}
